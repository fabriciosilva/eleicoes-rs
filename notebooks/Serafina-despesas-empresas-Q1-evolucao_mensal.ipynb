{
 "cells": [
  {
   "cell_type": "markdown",
   "id": "2a610f2e-bff5-44f3-b897-2d18d8702dcb",
   "metadata": {},
   "source": [
    "# Analisando as despesas por fornecedor do mes de Fevereiro de 2024\n",
    "\n",
    "Fonte: https://sistemas.serafinacorrea.rs.gov.br/transparencia/?AcessoIndividual=lnkDespesasPor_Fornecedor\n"
   ]
  },
  {
   "cell_type": "code",
   "execution_count": 96,
   "id": "ab6a5c76-0375-4fda-a74a-127a7d503b48",
   "metadata": {},
   "outputs": [],
   "source": [
    "import pandas as pd\n",
    "import time\n",
    "import requests\n",
    "import re\n",
    "import json"
   ]
  },
  {
   "cell_type": "code",
   "execution_count": 97,
   "id": "04ad8922-f48e-4e39-81b5-6b077d303fd3",
   "metadata": {},
   "outputs": [],
   "source": [
    "df_jan = pd.read_excel('data/despesas_por_fornecedor_jan_2024.xlsx')\n",
    "df_fev = pd.read_excel('data/despesas_por_fornecedor_fev_2024.xlsx')\n",
    "df_mar = pd.read_excel('data/despesas_por_fornecedor_mar_2024.xlsx')\n"
   ]
  },
  {
   "cell_type": "code",
   "execution_count": 100,
   "id": "4c5bc7c4-a65e-49e8-a515-897606d4bef4",
   "metadata": {},
   "outputs": [
    {
     "data": {
      "text/html": [
       "<div>\n",
       "<style scoped>\n",
       "    .dataframe tbody tr th:only-of-type {\n",
       "        vertical-align: middle;\n",
       "    }\n",
       "\n",
       "    .dataframe tbody tr th {\n",
       "        vertical-align: top;\n",
       "    }\n",
       "\n",
       "    .dataframe thead th {\n",
       "        text-align: right;\n",
       "    }\n",
       "</style>\n",
       "<table border=\"1\" class=\"dataframe\">\n",
       "  <thead>\n",
       "    <tr style=\"text-align: right;\">\n",
       "      <th></th>\n",
       "      <th>Código</th>\n",
       "      <th>CNPJ/CPF</th>\n",
       "      <th>Descrição</th>\n",
       "      <th>Município</th>\n",
       "      <th>Valor Empenhado</th>\n",
       "      <th>Valor Liquidado</th>\n",
       "      <th>Valor Pago</th>\n",
       "    </tr>\n",
       "  </thead>\n",
       "  <tbody>\n",
       "    <tr>\n",
       "      <th>0</th>\n",
       "      <td>359277.0</td>\n",
       "      <td>29.043.834/0001-66</td>\n",
       "      <td>3MED DISTRIBUIDORA DE MEDICAMENTOS LTDA.</td>\n",
       "      <td>Erechim</td>\n",
       "      <td>5507.88</td>\n",
       "      <td>0</td>\n",
       "      <td>0</td>\n",
       "    </tr>\n",
       "  </tbody>\n",
       "</table>\n",
       "</div>"
      ],
      "text/plain": [
       "     Código            CNPJ/CPF                                 Descrição  \\\n",
       "0  359277.0  29.043.834/0001-66  3MED DISTRIBUIDORA DE MEDICAMENTOS LTDA.   \n",
       "\n",
       "  Município Valor Empenhado Valor Liquidado Valor Pago  \n",
       "0   Erechim         5507.88               0          0  "
      ]
     },
     "execution_count": 100,
     "metadata": {},
     "output_type": "execute_result"
    }
   ],
   "source": [
    "df_jan.head(1)\n"
   ]
  },
  {
   "cell_type": "code",
   "execution_count": 101,
   "id": "5bc81ec5-ec52-432a-99bf-4279f4e4befc",
   "metadata": {},
   "outputs": [
    {
     "data": {
      "text/html": [
       "<div>\n",
       "<style scoped>\n",
       "    .dataframe tbody tr th:only-of-type {\n",
       "        vertical-align: middle;\n",
       "    }\n",
       "\n",
       "    .dataframe tbody tr th {\n",
       "        vertical-align: top;\n",
       "    }\n",
       "\n",
       "    .dataframe thead th {\n",
       "        text-align: right;\n",
       "    }\n",
       "</style>\n",
       "<table border=\"1\" class=\"dataframe\">\n",
       "  <thead>\n",
       "    <tr style=\"text-align: right;\">\n",
       "      <th></th>\n",
       "      <th>Código</th>\n",
       "      <th>CNPJ/CPF</th>\n",
       "      <th>Descrição</th>\n",
       "      <th>Município</th>\n",
       "      <th>Valor Empenhado</th>\n",
       "      <th>Valor Liquidado</th>\n",
       "      <th>Valor Pago</th>\n",
       "    </tr>\n",
       "  </thead>\n",
       "  <tbody>\n",
       "    <tr>\n",
       "      <th>0</th>\n",
       "      <td>359277.0</td>\n",
       "      <td>29.043.834/0001-66</td>\n",
       "      <td>3MED DISTRIBUIDORA DE MEDICAMENTOS LTDA.</td>\n",
       "      <td>Erechim</td>\n",
       "      <td>-67</td>\n",
       "      <td>5440.88</td>\n",
       "      <td>5440.88</td>\n",
       "    </tr>\n",
       "  </tbody>\n",
       "</table>\n",
       "</div>"
      ],
      "text/plain": [
       "     Código            CNPJ/CPF                                 Descrição  \\\n",
       "0  359277.0  29.043.834/0001-66  3MED DISTRIBUIDORA DE MEDICAMENTOS LTDA.   \n",
       "\n",
       "  Município Valor Empenhado Valor Liquidado Valor Pago  \n",
       "0   Erechim             -67         5440.88    5440.88  "
      ]
     },
     "execution_count": 101,
     "metadata": {},
     "output_type": "execute_result"
    }
   ],
   "source": [
    "df_fev.head(1)"
   ]
  },
  {
   "cell_type": "code",
   "execution_count": 102,
   "id": "ad25cf0f-006c-40ec-b414-600dbb12a242",
   "metadata": {},
   "outputs": [
    {
     "data": {
      "text/html": [
       "<div>\n",
       "<style scoped>\n",
       "    .dataframe tbody tr th:only-of-type {\n",
       "        vertical-align: middle;\n",
       "    }\n",
       "\n",
       "    .dataframe tbody tr th {\n",
       "        vertical-align: top;\n",
       "    }\n",
       "\n",
       "    .dataframe thead th {\n",
       "        text-align: right;\n",
       "    }\n",
       "</style>\n",
       "<table border=\"1\" class=\"dataframe\">\n",
       "  <thead>\n",
       "    <tr style=\"text-align: right;\">\n",
       "      <th></th>\n",
       "      <th>Código</th>\n",
       "      <th>CNPJ/CPF</th>\n",
       "      <th>Descrição</th>\n",
       "      <th>Município</th>\n",
       "      <th>Valor Empenhado</th>\n",
       "      <th>Valor Liquidado</th>\n",
       "      <th>Valor Pago</th>\n",
       "    </tr>\n",
       "  </thead>\n",
       "  <tbody>\n",
       "    <tr>\n",
       "      <th>0</th>\n",
       "      <td>359277.0</td>\n",
       "      <td>29.043.834/0001-66</td>\n",
       "      <td>3MED DISTRIBUIDORA DE MEDICAMENTOS LTDA.</td>\n",
       "      <td>Erechim</td>\n",
       "      <td>7250.76</td>\n",
       "      <td>0</td>\n",
       "      <td>0</td>\n",
       "    </tr>\n",
       "  </tbody>\n",
       "</table>\n",
       "</div>"
      ],
      "text/plain": [
       "     Código            CNPJ/CPF                                 Descrição  \\\n",
       "0  359277.0  29.043.834/0001-66  3MED DISTRIBUIDORA DE MEDICAMENTOS LTDA.   \n",
       "\n",
       "  Município Valor Empenhado Valor Liquidado Valor Pago  \n",
       "0   Erechim         7250.76               0          0  "
      ]
     },
     "execution_count": 102,
     "metadata": {},
     "output_type": "execute_result"
    }
   ],
   "source": [
    "df_mar.head(1)"
   ]
  },
  {
   "cell_type": "code",
   "execution_count": 25,
   "id": "72e2844b-a23b-420d-8a27-891f24d6a711",
   "metadata": {},
   "outputs": [
    {
     "name": "stdout",
     "output_type": "stream",
     "text": [
      "<class 'pandas.core.frame.DataFrame'>\n",
      "RangeIndex: 359 entries, 0 to 358\n",
      "Data columns (total 7 columns):\n",
      " #   Column           Non-Null Count  Dtype  \n",
      "---  ------           --------------  -----  \n",
      " 0   Código           358 non-null    float64\n",
      " 1   CNPJ/CPF         355 non-null    object \n",
      " 2   Descrição        358 non-null    object \n",
      " 3   Município        358 non-null    object \n",
      " 4   Valor Empenhado  359 non-null    object \n",
      " 5   Valor Liquidado  359 non-null    object \n",
      " 6   Valor Pago       359 non-null    object \n",
      "dtypes: float64(1), object(6)\n",
      "memory usage: 19.8+ KB\n"
     ]
    }
   ],
   "source": [
    "df_jan.info()"
   ]
  },
  {
   "cell_type": "code",
   "execution_count": 103,
   "id": "b808a18d-ccfc-4333-b724-739a8d631769",
   "metadata": {},
   "outputs": [],
   "source": [
    "# remove despesas sem código\n",
    "df_jan = df_jan[~df_jan['Código'].isna()]\n",
    "df_fev = df_fev[~df_fev['Código'].isna()]\n",
    "df_mar = df_mar[~df_mar['Código'].isna()]"
   ]
  },
  {
   "cell_type": "code",
   "execution_count": 104,
   "id": "6abfbb63-b9f6-4577-97e6-aee0dbcb4cbb",
   "metadata": {},
   "outputs": [],
   "source": [
    "# remover as despesas sem CNPJ/CPF\n",
    "df_jan = df_jan[~df_jan['CNPJ/CPF'].isna()]\n",
    "df_fev = df_fev[~df_fev['CNPJ/CPF'].isna()]\n",
    "df_mar = df_mar[~df_mar['CNPJ/CPF'].isna()]"
   ]
  },
  {
   "cell_type": "code",
   "execution_count": 105,
   "id": "7792a493-eced-432d-badd-45ab5c66b76a",
   "metadata": {},
   "outputs": [],
   "source": [
    "#cria novas colunas de valores no formato numérico\n",
    "df_jan['valor_empenhado'] = pd.to_numeric(df_jan['Valor Empenhado'])\n",
    "df_fev['valor_empenhado'] = pd.to_numeric(df_fev['Valor Empenhado'])\n",
    "df_mar['valor_empenhado'] = pd.to_numeric(df_mar['Valor Empenhado'])\n",
    "\n",
    "df_jan['valor_liquidado'] = pd.to_numeric(df_jan['Valor Liquidado'])\n",
    "df_fev['valor_liquidado'] = pd.to_numeric(df_fev['Valor Liquidado'])\n",
    "df_mar['valor_liquidado'] = pd.to_numeric(df_mar['Valor Liquidado'])\n",
    "\n",
    "df_jan['valor_pago'] = pd.to_numeric(df_jan['Valor Pago'])\n",
    "df_fev['valor_pago'] = pd.to_numeric(df_fev['Valor Pago'])\n",
    "df_mar['valor_pago'] = pd.to_numeric(df_mar['Valor Pago'])"
   ]
  },
  {
   "cell_type": "code",
   "execution_count": 106,
   "id": "03355710-7c18-475d-84f9-b0f0671d50dc",
   "metadata": {},
   "outputs": [
    {
     "name": "stdout",
     "output_type": "stream",
     "text": [
      "<class 'pandas.core.frame.DataFrame'>\n",
      "Index: 355 entries, 0 to 357\n",
      "Data columns (total 10 columns):\n",
      " #   Column           Non-Null Count  Dtype  \n",
      "---  ------           --------------  -----  \n",
      " 0   Código           355 non-null    float64\n",
      " 1   CNPJ/CPF         355 non-null    object \n",
      " 2   Descrição        355 non-null    object \n",
      " 3   Município        355 non-null    object \n",
      " 4   Valor Empenhado  355 non-null    object \n",
      " 5   Valor Liquidado  355 non-null    object \n",
      " 6   Valor Pago       355 non-null    object \n",
      " 7   valor_empenhado  355 non-null    float64\n",
      " 8   valor_liquidado  355 non-null    float64\n",
      " 9   valor_pago       355 non-null    float64\n",
      "dtypes: float64(4), object(6)\n",
      "memory usage: 30.5+ KB\n"
     ]
    }
   ],
   "source": [
    "df_jan.info()"
   ]
  },
  {
   "cell_type": "code",
   "execution_count": 107,
   "id": "417e0b3f-85a3-4453-9321-168b66845c11",
   "metadata": {},
   "outputs": [],
   "source": [
    "df_jan['cnpj'] = df_jan['CNPJ/CPF'].apply(lambda x: re.sub('[^0-9]', '', x))\n",
    "df_fev['cnpj'] = df_fev['CNPJ/CPF'].apply(lambda x: re.sub('[^0-9]', '', x))\n",
    "df_mar['cnpj'] = df_mar['CNPJ/CPF'].apply(lambda x: re.sub('[^0-9]', '', x))"
   ]
  },
  {
   "cell_type": "code",
   "execution_count": 108,
   "id": "452b528f-5778-430c-a920-9f4022b01391",
   "metadata": {},
   "outputs": [],
   "source": [
    "df_jan = df_jan[['Código', 'Descrição', 'CNPJ/CPF', 'valor_empenhado', 'valor_liquidado', 'valor_pago', 'cnpj']]\n",
    "df_fev = df_fev[['Código', 'Descrição', 'CNPJ/CPF', 'valor_empenhado', 'valor_liquidado', 'valor_pago', 'cnpj']]\n",
    "df_mar = df_mar[['Código', 'Descrição', 'CNPJ/CPF', 'valor_empenhado', 'valor_liquidado', 'valor_pago', 'cnpj']]"
   ]
  },
  {
   "cell_type": "code",
   "execution_count": 109,
   "id": "e4cccc51-cdb5-4ae3-959f-3e66e98b02a2",
   "metadata": {},
   "outputs": [],
   "source": [
    "#cria uma coluna com o mes informado de cada dataframe\n",
    "\n",
    "df_jan = df_jan.assign(mes = 'janeiro')\n",
    "df_fev = df_fev.assign(mes = 'fevereiro')\n",
    "df_mar = df_mar.assign(mes = 'março')\n",
    "\n",
    "df_jan = df_jan.assign(mes_int = 1)\n",
    "df_fev = df_fev.assign(mes_int = 2)\n",
    "df_mar = df_mar.assign(mes_int = 3)"
   ]
  },
  {
   "cell_type": "code",
   "execution_count": 111,
   "id": "e772f6cb-43b9-4ebc-999e-099b4841ea37",
   "metadata": {},
   "outputs": [],
   "source": [
    "df_trimestre = pd.concat([df_jan, df_fev, df_mar], ignore_index=True)"
   ]
  },
  {
   "cell_type": "code",
   "execution_count": 113,
   "id": "de87283a-c158-4af9-8863-715a123a977a",
   "metadata": {},
   "outputs": [
    {
     "data": {
      "text/plain": [
       "array(['janeiro', 'fevereiro', 'março'], dtype=object)"
      ]
     },
     "execution_count": 113,
     "metadata": {},
     "output_type": "execute_result"
    }
   ],
   "source": [
    "df_trimestre.mes.unique()"
   ]
  },
  {
   "cell_type": "markdown",
   "id": "d63c1509-bdf7-47ce-b76c-9c764f770577",
   "metadata": {},
   "source": [
    "Para plotar o mapa, preciso do municipio e uf, porém, existem municípios com o mesmo nome quando se tira o acento, exemplo:\n",
    "\n",
    "Marau/RS\n",
    "Maraú/BA\n",
    "\n",
    "Para garantir que a marcação seja feita nas coordenadas corretas, preciso buscar a UF em algum lugar. \n",
    "\n",
    "Encontrei a api https://publica.cnpj.ws/cnpj/{cnpj-sem-mascara} que retorna diversos dados, inclusive o endereço que eu preciso.\n",
    "\n",
    "Solução: criar a coluna uf no df e popular com os dados encontrados na api"
   ]
  },
  {
   "cell_type": "markdown",
   "id": "024a8356-8d4e-4f9f-b3d0-6448f89c7de4",
   "metadata": {},
   "source": [
    "a api bem legal não deixa eu fazer mais que três requisições por minuto =/"
   ]
  },
  {
   "cell_type": "code",
   "execution_count": 114,
   "id": "381dda01-1079-4cb3-ac2b-dd02d3c97e48",
   "metadata": {},
   "outputs": [],
   "source": [
    "#para cada linha do dataframe eu quero fazer uma requisição à uma api para buscar a uf passando a coluna cnpj como parametro na requisicao\n",
    "\n",
    "def get_uf_from_cnpj(cnpj):    \n",
    "    cnpj= re.sub('[^0-9]', '', cnpj) # 123\n",
    "    url = f\"https://publica.cnpj.ws/cnpj/{cnpj}\"\n",
    "    response = requests.get(url)\n",
    "    if response.status_code == 200:\n",
    "        data = response.json()\n",
    "        empresa =  {\n",
    "                        'cnpj': data['estabelecimento']['cnpj'],\n",
    "                        'razao_social': data['razao_social'],\n",
    "                        'uf': data['estabelecimento']['estado']['sigla'],\n",
    "                        'cidade': data['estabelecimento']['cidade']['nome'],\n",
    "                        'cidade_ibge_id': data['estabelecimento']['cidade']['ibge_id']\n",
    "                }\n",
    "        print(empresa['cnpj'], empresa['razao_social'], empresa['cidade'])\n",
    "        return empresa\n",
    "    else:\n",
    "        return None"
   ]
  },
  {
   "cell_type": "code",
   "execution_count": 115,
   "id": "2ba65bf9-b029-4b3d-9501-fcc9f45a1b7d",
   "metadata": {},
   "outputs": [
    {
     "name": "stdout",
     "output_type": "stream",
     "text": [
      "Total de linhas antigas: 450\n"
     ]
    }
   ],
   "source": [
    "#carregando os cnpjs que eu teinho na manga\n",
    "cnpjs_df = pd.read_csv('empresas.csv', dtype={'cnpj': str})\n",
    "\n",
    "print(f\"Total de linhas antigas: {cnpjs_df.shape[0]}\")"
   ]
  },
  {
   "cell_type": "code",
   "execution_count": 116,
   "id": "3c7db06e-bfac-4bbd-afcc-a716dae1d84d",
   "metadata": {},
   "outputs": [
    {
     "name": "stdout",
     "output_type": "stream",
     "text": [
      "Total de linhas a buscar: 81\n"
     ]
    }
   ],
   "source": [
    "# aqui, busco só os novos na api\n",
    "cnpj_novos = df_trimestre[~df_trimestre['cnpj'].isin(cnpjs_df['cnpj'])]['cnpj'].unique() \n",
    "print(f\"Total de linhas a buscar: {cnpj_novos.shape[0]}\")        "
   ]
  },
  {
   "cell_type": "code",
   "execution_count": 117,
   "id": "bc923c14-1e51-4a6b-ac18-72926f40b5c2",
   "metadata": {},
   "outputs": [],
   "source": [
    "cnpjs = []\n",
    "for i in cnpj_novos:\n",
    "    if len(i) == 14:\n",
    "         cnpjs.append(get_uf_from_cnpj(i))\n",
    "         time.sleep(21)\n",
    "    #else:\n",
    "        #print(i)"
   ]
  },
  {
   "cell_type": "code",
   "execution_count": 118,
   "id": "4e921d37-756a-4969-9fe7-20324ed0ca37",
   "metadata": {},
   "outputs": [
    {
     "name": "stdout",
     "output_type": "stream",
     "text": [
      "Total de linhas novas: 0\n"
     ]
    }
   ],
   "source": [
    "# criar um dataframe \n",
    "cnpjs_novos_df = pd.DataFrame(cnpjs)\n",
    "print(f\"Total de linhas novas: {cnpjs_novos_df.shape[0]}\")"
   ]
  },
  {
   "cell_type": "code",
   "execution_count": 119,
   "id": "6936c6cf-5217-4320-b3c9-5d86f105f610",
   "metadata": {},
   "outputs": [],
   "source": [
    "# unindo os dataframes de cnpjs que eu já tinha com os novos\n",
    "cnpjs_df_atualizado = cnpjs_df\n",
    "if cnpjs_novos_df.shape[0] > 0:\n",
    "    cnpjs_df_atualizado = pd.concat([cnpjs_df, cnpjs_novos_df], ignore_index=True)"
   ]
  },
  {
   "cell_type": "code",
   "execution_count": 120,
   "id": "d0a51b18-f97a-4c6f-bd20-b5e045d6569a",
   "metadata": {},
   "outputs": [
    {
     "name": "stdout",
     "output_type": "stream",
     "text": [
      "Total de linhas atualizado: 450\n"
     ]
    }
   ],
   "source": [
    "print(f\"Total de linhas atualizado: {cnpjs_df_atualizado.shape[0]}\")"
   ]
  },
  {
   "cell_type": "code",
   "execution_count": 121,
   "id": "6ea61e4a-aa2d-4bfa-b782-0b82c08f69b5",
   "metadata": {},
   "outputs": [],
   "source": [
    "cnpjs_df_atualizado.to_csv('empresas.csv')"
   ]
  },
  {
   "cell_type": "code",
   "execution_count": 124,
   "id": "d648d263-92de-46d9-9798-1497ca060ef6",
   "metadata": {},
   "outputs": [
    {
     "data": {
      "text/html": [
       "<div>\n",
       "<style scoped>\n",
       "    .dataframe tbody tr th:only-of-type {\n",
       "        vertical-align: middle;\n",
       "    }\n",
       "\n",
       "    .dataframe tbody tr th {\n",
       "        vertical-align: top;\n",
       "    }\n",
       "\n",
       "    .dataframe thead th {\n",
       "        text-align: right;\n",
       "    }\n",
       "</style>\n",
       "<table border=\"1\" class=\"dataframe\">\n",
       "  <thead>\n",
       "    <tr style=\"text-align: right;\">\n",
       "      <th></th>\n",
       "      <th>Código</th>\n",
       "      <th>Descrição</th>\n",
       "      <th>CNPJ/CPF</th>\n",
       "      <th>valor_empenhado</th>\n",
       "      <th>valor_liquidado</th>\n",
       "      <th>valor_pago</th>\n",
       "      <th>cnpj</th>\n",
       "      <th>mes</th>\n",
       "      <th>mes_int</th>\n",
       "    </tr>\n",
       "  </thead>\n",
       "  <tbody>\n",
       "    <tr>\n",
       "      <th>0</th>\n",
       "      <td>359277.0</td>\n",
       "      <td>3MED DISTRIBUIDORA DE MEDICAMENTOS LTDA.</td>\n",
       "      <td>29.043.834/0001-66</td>\n",
       "      <td>5507.88</td>\n",
       "      <td>0.0</td>\n",
       "      <td>0.0</td>\n",
       "      <td>29043834000166</td>\n",
       "      <td>janeiro</td>\n",
       "      <td>1</td>\n",
       "    </tr>\n",
       "    <tr>\n",
       "      <th>1</th>\n",
       "      <td>359612.0</td>\n",
       "      <td>51.140.560 IVANETE TERESINHA LUFT BALDISSERA</td>\n",
       "      <td>51.140.560/0001-82</td>\n",
       "      <td>5980.00</td>\n",
       "      <td>0.0</td>\n",
       "      <td>0.0</td>\n",
       "      <td>51140560000182</td>\n",
       "      <td>janeiro</td>\n",
       "      <td>1</td>\n",
       "    </tr>\n",
       "    <tr>\n",
       "      <th>2</th>\n",
       "      <td>359175.0</td>\n",
       "      <td>A M COMERCIO DE PRODUTOS DE LIMPEZA LTDA</td>\n",
       "      <td>45.212.009/0001-02</td>\n",
       "      <td>2352.64</td>\n",
       "      <td>0.0</td>\n",
       "      <td>0.0</td>\n",
       "      <td>45212009000102</td>\n",
       "      <td>janeiro</td>\n",
       "      <td>1</td>\n",
       "    </tr>\n",
       "    <tr>\n",
       "      <th>3</th>\n",
       "      <td>326093.0</td>\n",
       "      <td>A. ROSSATTO FONOAUDIOLOGIA</td>\n",
       "      <td>33.811.873/0001-33</td>\n",
       "      <td>4944.60</td>\n",
       "      <td>0.0</td>\n",
       "      <td>0.0</td>\n",
       "      <td>33811873000133</td>\n",
       "      <td>janeiro</td>\n",
       "      <td>1</td>\n",
       "    </tr>\n",
       "    <tr>\n",
       "      <th>4</th>\n",
       "      <td>4204.0</td>\n",
       "      <td>A.A.F. LABORATÓRIO DE ANÁLISES CLÍNICAS LTDA</td>\n",
       "      <td>04.567.872/0001-97</td>\n",
       "      <td>80000.00</td>\n",
       "      <td>0.0</td>\n",
       "      <td>0.0</td>\n",
       "      <td>04567872000197</td>\n",
       "      <td>janeiro</td>\n",
       "      <td>1</td>\n",
       "    </tr>\n",
       "  </tbody>\n",
       "</table>\n",
       "</div>"
      ],
      "text/plain": [
       "     Código                                     Descrição            CNPJ/CPF  \\\n",
       "0  359277.0      3MED DISTRIBUIDORA DE MEDICAMENTOS LTDA.  29.043.834/0001-66   \n",
       "1  359612.0  51.140.560 IVANETE TERESINHA LUFT BALDISSERA  51.140.560/0001-82   \n",
       "2  359175.0      A M COMERCIO DE PRODUTOS DE LIMPEZA LTDA  45.212.009/0001-02   \n",
       "3  326093.0                    A. ROSSATTO FONOAUDIOLOGIA  33.811.873/0001-33   \n",
       "4    4204.0  A.A.F. LABORATÓRIO DE ANÁLISES CLÍNICAS LTDA  04.567.872/0001-97   \n",
       "\n",
       "   valor_empenhado  valor_liquidado  valor_pago            cnpj      mes  \\\n",
       "0          5507.88              0.0         0.0  29043834000166  janeiro   \n",
       "1          5980.00              0.0         0.0  51140560000182  janeiro   \n",
       "2          2352.64              0.0         0.0  45212009000102  janeiro   \n",
       "3          4944.60              0.0         0.0  33811873000133  janeiro   \n",
       "4         80000.00              0.0         0.0  04567872000197  janeiro   \n",
       "\n",
       "   mes_int  \n",
       "0        1  \n",
       "1        1  \n",
       "2        1  \n",
       "3        1  \n",
       "4        1  "
      ]
     },
     "execution_count": 124,
     "metadata": {},
     "output_type": "execute_result"
    }
   ],
   "source": [
    "df_trimestre.head()"
   ]
  },
  {
   "cell_type": "code",
   "execution_count": 125,
   "id": "9f602aa3-f503-4cbe-9689-71479284ca7c",
   "metadata": {},
   "outputs": [
    {
     "data": {
      "text/html": [
       "<div>\n",
       "<style scoped>\n",
       "    .dataframe tbody tr th:only-of-type {\n",
       "        vertical-align: middle;\n",
       "    }\n",
       "\n",
       "    .dataframe tbody tr th {\n",
       "        vertical-align: top;\n",
       "    }\n",
       "\n",
       "    .dataframe thead th {\n",
       "        text-align: right;\n",
       "    }\n",
       "</style>\n",
       "<table border=\"1\" class=\"dataframe\">\n",
       "  <thead>\n",
       "    <tr style=\"text-align: right;\">\n",
       "      <th></th>\n",
       "      <th>Código</th>\n",
       "      <th>Descrição</th>\n",
       "      <th>CNPJ/CPF</th>\n",
       "      <th>valor_empenhado</th>\n",
       "      <th>valor_liquidado</th>\n",
       "      <th>valor_pago</th>\n",
       "      <th>cnpj</th>\n",
       "      <th>mes</th>\n",
       "      <th>mes_int</th>\n",
       "    </tr>\n",
       "  </thead>\n",
       "  <tbody>\n",
       "    <tr>\n",
       "      <th>1200</th>\n",
       "      <td>311738.0</td>\n",
       "      <td>WEL DISTRIBUIDORA DE MEDICAMENTOS E PRODUTOS P...</td>\n",
       "      <td>11.318.264/0001-04</td>\n",
       "      <td>1693.32</td>\n",
       "      <td>0.00</td>\n",
       "      <td>0.00</td>\n",
       "      <td>11318264000104</td>\n",
       "      <td>março</td>\n",
       "      <td>3</td>\n",
       "    </tr>\n",
       "    <tr>\n",
       "      <th>1201</th>\n",
       "      <td>326130.0</td>\n",
       "      <td>WILLIAN JURANDIR DA SILVA</td>\n",
       "      <td>05.769.326/0001-00</td>\n",
       "      <td>0.00</td>\n",
       "      <td>6551.28</td>\n",
       "      <td>6551.28</td>\n",
       "      <td>05769326000100</td>\n",
       "      <td>março</td>\n",
       "      <td>3</td>\n",
       "    </tr>\n",
       "    <tr>\n",
       "      <th>1202</th>\n",
       "      <td>323725.0</td>\n",
       "      <td>ZAFRA SUL INDUSTRIA DE UNIFIRMES PROFISSIONAIS...</td>\n",
       "      <td>15.450.716/0001-68</td>\n",
       "      <td>0.00</td>\n",
       "      <td>960.00</td>\n",
       "      <td>960.00</td>\n",
       "      <td>15450716000168</td>\n",
       "      <td>março</td>\n",
       "      <td>3</td>\n",
       "    </tr>\n",
       "    <tr>\n",
       "      <th>1203</th>\n",
       "      <td>357679.0</td>\n",
       "      <td>ZILLI, MARTINS E TREMARIN SOCIEDADE DE ADVOGADOS</td>\n",
       "      <td>28.750.316/0001-10</td>\n",
       "      <td>78736.98</td>\n",
       "      <td>8133.51</td>\n",
       "      <td>8133.51</td>\n",
       "      <td>28750316000110</td>\n",
       "      <td>março</td>\n",
       "      <td>3</td>\n",
       "    </tr>\n",
       "    <tr>\n",
       "      <th>1204</th>\n",
       "      <td>43083.0</td>\n",
       "      <td>ZILOVANO MAIQUEL ENDERLE</td>\n",
       "      <td>08.040.226/0001-28</td>\n",
       "      <td>250.00</td>\n",
       "      <td>250.00</td>\n",
       "      <td>250.00</td>\n",
       "      <td>08040226000128</td>\n",
       "      <td>março</td>\n",
       "      <td>3</td>\n",
       "    </tr>\n",
       "  </tbody>\n",
       "</table>\n",
       "</div>"
      ],
      "text/plain": [
       "        Código                                          Descrição  \\\n",
       "1200  311738.0  WEL DISTRIBUIDORA DE MEDICAMENTOS E PRODUTOS P...   \n",
       "1201  326130.0                          WILLIAN JURANDIR DA SILVA   \n",
       "1202  323725.0  ZAFRA SUL INDUSTRIA DE UNIFIRMES PROFISSIONAIS...   \n",
       "1203  357679.0   ZILLI, MARTINS E TREMARIN SOCIEDADE DE ADVOGADOS   \n",
       "1204   43083.0                           ZILOVANO MAIQUEL ENDERLE   \n",
       "\n",
       "                CNPJ/CPF  valor_empenhado  valor_liquidado  valor_pago  \\\n",
       "1200  11.318.264/0001-04          1693.32             0.00        0.00   \n",
       "1201  05.769.326/0001-00             0.00          6551.28     6551.28   \n",
       "1202  15.450.716/0001-68             0.00           960.00      960.00   \n",
       "1203  28.750.316/0001-10         78736.98          8133.51     8133.51   \n",
       "1204  08.040.226/0001-28           250.00           250.00      250.00   \n",
       "\n",
       "                cnpj    mes  mes_int  \n",
       "1200  11318264000104  março        3  \n",
       "1201  05769326000100  março        3  \n",
       "1202  15450716000168  março        3  \n",
       "1203  28750316000110  março        3  \n",
       "1204  08040226000128  março        3  "
      ]
     },
     "execution_count": 125,
     "metadata": {},
     "output_type": "execute_result"
    }
   ],
   "source": [
    "df_trimestre.tail()"
   ]
  },
  {
   "cell_type": "code",
   "execution_count": 126,
   "id": "f67ac742-8af7-4679-a3ff-9c142eaa53ce",
   "metadata": {
    "scrolled": true
   },
   "outputs": [],
   "source": [
    "cnpjs_nao_encontrados = df_trimestre[~df_trimestre['cnpj'].isin(cnpjs_df['cnpj'])]"
   ]
  },
  {
   "cell_type": "code",
   "execution_count": 127,
   "id": "fd867f2b-d0e5-46d2-b8d5-29fd80a8768d",
   "metadata": {},
   "outputs": [
    {
     "data": {
      "text/html": [
       "<div>\n",
       "<style scoped>\n",
       "    .dataframe tbody tr th:only-of-type {\n",
       "        vertical-align: middle;\n",
       "    }\n",
       "\n",
       "    .dataframe tbody tr th {\n",
       "        vertical-align: top;\n",
       "    }\n",
       "\n",
       "    .dataframe thead th {\n",
       "        text-align: right;\n",
       "    }\n",
       "</style>\n",
       "<table border=\"1\" class=\"dataframe\">\n",
       "  <thead>\n",
       "    <tr style=\"text-align: right;\">\n",
       "      <th></th>\n",
       "      <th>CNPJ/CPF</th>\n",
       "    </tr>\n",
       "  </thead>\n",
       "  <tbody>\n",
       "    <tr>\n",
       "      <th>13</th>\n",
       "      <td>008.XXX.130-03</td>\n",
       "    </tr>\n",
       "    <tr>\n",
       "      <th>15</th>\n",
       "      <td>753.XXX.730-04</td>\n",
       "    </tr>\n",
       "    <tr>\n",
       "      <th>18</th>\n",
       "      <td>577.XXX.620-72</td>\n",
       "    </tr>\n",
       "    <tr>\n",
       "      <th>27</th>\n",
       "      <td>438.XXX.470-53</td>\n",
       "    </tr>\n",
       "    <tr>\n",
       "      <th>28</th>\n",
       "      <td>905.XXX.090-72</td>\n",
       "    </tr>\n",
       "    <tr>\n",
       "      <th>...</th>\n",
       "      <td>...</td>\n",
       "    </tr>\n",
       "    <tr>\n",
       "      <th>1145</th>\n",
       "      <td>034.XXX.160-08</td>\n",
       "    </tr>\n",
       "    <tr>\n",
       "      <th>1147</th>\n",
       "      <td>687.XXX.400-53</td>\n",
       "    </tr>\n",
       "    <tr>\n",
       "      <th>1151</th>\n",
       "      <td>412.XXX.970-20</td>\n",
       "    </tr>\n",
       "    <tr>\n",
       "      <th>1188</th>\n",
       "      <td>412.XXX.340-20</td>\n",
       "    </tr>\n",
       "    <tr>\n",
       "      <th>1191</th>\n",
       "      <td>705.XXX.480-87</td>\n",
       "    </tr>\n",
       "  </tbody>\n",
       "</table>\n",
       "<p>157 rows × 1 columns</p>\n",
       "</div>"
      ],
      "text/plain": [
       "            CNPJ/CPF\n",
       "13    008.XXX.130-03\n",
       "15    753.XXX.730-04\n",
       "18    577.XXX.620-72\n",
       "27    438.XXX.470-53\n",
       "28    905.XXX.090-72\n",
       "...              ...\n",
       "1145  034.XXX.160-08\n",
       "1147  687.XXX.400-53\n",
       "1151  412.XXX.970-20\n",
       "1188  412.XXX.340-20\n",
       "1191  705.XXX.480-87\n",
       "\n",
       "[157 rows x 1 columns]"
      ]
     },
     "execution_count": 127,
     "metadata": {},
     "output_type": "execute_result"
    }
   ],
   "source": [
    "cnpjs_nao_encontrados[['CNPJ/CPF']]"
   ]
  },
  {
   "cell_type": "code",
   "execution_count": 128,
   "id": "40084b2a-711e-4601-988c-444116c8c566",
   "metadata": {},
   "outputs": [
    {
     "data": {
      "text/plain": [
       "450"
      ]
     },
     "execution_count": 128,
     "metadata": {},
     "output_type": "execute_result"
    }
   ],
   "source": [
    "df_trimestre[df_trimestre['cnpj'].str.len() == 14]['cnpj'].unique().size"
   ]
  },
  {
   "cell_type": "markdown",
   "id": "ac958d84-05f7-4a81-a7ff-45abb5ddd4b6",
   "metadata": {},
   "source": [
    "Agora, vou fazer o merge com o dataframe de empresas para pegar o endereço correto"
   ]
  },
  {
   "cell_type": "code",
   "execution_count": 129,
   "id": "79f16ede-f11c-4efe-a571-4e692d6ad50f",
   "metadata": {},
   "outputs": [],
   "source": [
    "despesas_fornecedor = pd.merge(df_trimestre, cnpjs_df, on='cnpj', how='left')"
   ]
  },
  {
   "cell_type": "code",
   "execution_count": 131,
   "id": "f2300a43-6c50-4578-a297-d4a022923dec",
   "metadata": {},
   "outputs": [
    {
     "data": {
      "text/plain": [
       "array(['janeiro', 'fevereiro', 'março'], dtype=object)"
      ]
     },
     "execution_count": 131,
     "metadata": {},
     "output_type": "execute_result"
    }
   ],
   "source": [
    "despesas_fornecedor.mes.unique()"
   ]
  },
  {
   "cell_type": "markdown",
   "id": "0ee50e09-eb26-4df5-b277-0b15688ec370",
   "metadata": {},
   "source": [
    "que coisa linda!!! S2\n",
    "Agora vou criar um novo df com as coordenadas de municipios"
   ]
  },
  {
   "cell_type": "code",
   "execution_count": 132,
   "id": "e69d3cf9-9ee7-4a89-8a90-afc67ef9c078",
   "metadata": {},
   "outputs": [],
   "source": [
    "df_municipios = pd.read_csv('https://raw.githubusercontent.com/kelvins/municipios-brasileiros/194cfcc3062dfc8a8f55bfdc9a630b3aee1f59f4/csv/municipios.csv')"
   ]
  },
  {
   "cell_type": "markdown",
   "id": "6bc6b6f2-7199-4abd-964f-7a5cb841f509",
   "metadata": {},
   "source": [
    "dá pra usar o codigo ibge para o merge. maravilha! \n",
    "só tem que tratar o codigo pq estão com tipos diferentes em cada dataframe"
   ]
  },
  {
   "cell_type": "code",
   "execution_count": 133,
   "id": "3b40dda5-5e03-4b4a-9946-5637e12b9486",
   "metadata": {
    "scrolled": true
   },
   "outputs": [
    {
     "name": "stdout",
     "output_type": "stream",
     "text": [
      "count    1.048000e+03\n",
      "mean     4.304662e+06\n",
      "std      2.237226e+05\n",
      "min      3.106200e+06\n",
      "25%      4.309407e+06\n",
      "50%      4.314902e+06\n",
      "75%      4.320404e+06\n",
      "max      5.300108e+06\n",
      "Name: cidade_ibge_id, dtype: float64\n",
      "count    5.570000e+03\n",
      "mean     3.253591e+06\n",
      "std      9.849103e+05\n",
      "min      1.100015e+06\n",
      "25%      2.512126e+06\n",
      "50%      3.146280e+06\n",
      "75%      4.119190e+06\n",
      "max      5.300108e+06\n",
      "Name: codigo_ibge, dtype: float64\n"
     ]
    }
   ],
   "source": [
    "print(despesas_fornecedor['cidade_ibge_id'].describe())\n",
    "print(df_municipios['codigo_ibge'].describe())"
   ]
  },
  {
   "cell_type": "markdown",
   "id": "14288f64-f59e-4e7a-9f02-b26a7cc6c246",
   "metadata": {},
   "source": [
    "hmm, era tudo float... to doidão. bora merja sabagaça"
   ]
  },
  {
   "cell_type": "code",
   "execution_count": 134,
   "id": "95b30f1f-493f-43c9-8b63-ed539428e536",
   "metadata": {},
   "outputs": [],
   "source": [
    "despesas_fornecedor_com_municipios = pd.merge(\n",
    "    despesas_fornecedor, \n",
    "    df_municipios, \n",
    "    left_on='cidade_ibge_id', \n",
    "    right_on='codigo_ibge', \n",
    "    suffixes=('_despesas_fornecedor', '__municipios'), how='left'\n",
    ")"
   ]
  },
  {
   "cell_type": "code",
   "execution_count": 73,
   "id": "5a44f952-e989-4dda-9be1-4753804b12a5",
   "metadata": {},
   "outputs": [],
   "source": [
    "# despesas_fornecedor_com_municipios.columns.to_list()"
   ]
  },
  {
   "cell_type": "code",
   "execution_count": 135,
   "id": "d547278d-8ee2-4481-9932-8d52430d15ee",
   "metadata": {},
   "outputs": [],
   "source": [
    "despesas_fornecedor_com_municipios.rename(columns={'nome': 'municipio'}, inplace=True)"
   ]
  },
  {
   "cell_type": "code",
   "execution_count": 136,
   "id": "3694abee-8e9c-44d0-af12-34a35e0bc056",
   "metadata": {},
   "outputs": [
    {
     "data": {
      "text/plain": [
       "285    FUNDO DE PREVIDENCIA SOCIAL DO MUNICIPIO DE SE...\n",
       "Name: razao_social, dtype: object"
      ]
     },
     "execution_count": 136,
     "metadata": {},
     "output_type": "execute_result"
    }
   ],
   "source": [
    "cnpjs_df[cnpjs_df['cnpj'] == '14373681000148']['razao_social']"
   ]
  },
  {
   "cell_type": "code",
   "execution_count": 139,
   "id": "dcca44e1-58fa-4c24-8568-050ed1018054",
   "metadata": {},
   "outputs": [
    {
     "data": {
      "text/html": [
       "<div>\n",
       "<style scoped>\n",
       "    .dataframe tbody tr th:only-of-type {\n",
       "        vertical-align: middle;\n",
       "    }\n",
       "\n",
       "    .dataframe tbody tr th {\n",
       "        vertical-align: top;\n",
       "    }\n",
       "\n",
       "    .dataframe thead th {\n",
       "        text-align: right;\n",
       "    }\n",
       "</style>\n",
       "<table border=\"1\" class=\"dataframe\">\n",
       "  <thead>\n",
       "    <tr style=\"text-align: right;\">\n",
       "      <th></th>\n",
       "      <th>Código</th>\n",
       "      <th>Descrição</th>\n",
       "      <th>CNPJ/CPF</th>\n",
       "      <th>valor_empenhado</th>\n",
       "      <th>valor_liquidado</th>\n",
       "      <th>valor_pago</th>\n",
       "      <th>cnpj</th>\n",
       "      <th>mes</th>\n",
       "      <th>mes_int</th>\n",
       "      <th>Unnamed: 0.9</th>\n",
       "      <th>...</th>\n",
       "      <th>cidade_ibge_id</th>\n",
       "      <th>codigo_ibge</th>\n",
       "      <th>municipio</th>\n",
       "      <th>latitude</th>\n",
       "      <th>longitude</th>\n",
       "      <th>capital</th>\n",
       "      <th>codigo_uf</th>\n",
       "      <th>siafi_id</th>\n",
       "      <th>ddd</th>\n",
       "      <th>fuso_horario</th>\n",
       "    </tr>\n",
       "  </thead>\n",
       "  <tbody>\n",
       "    <tr>\n",
       "      <th>0</th>\n",
       "      <td>359277.0</td>\n",
       "      <td>3MED DISTRIBUIDORA DE MEDICAMENTOS LTDA.</td>\n",
       "      <td>29.043.834/0001-66</td>\n",
       "      <td>5507.88</td>\n",
       "      <td>0.0</td>\n",
       "      <td>0.0</td>\n",
       "      <td>29043834000166</td>\n",
       "      <td>janeiro</td>\n",
       "      <td>1</td>\n",
       "      <td>0.0</td>\n",
       "      <td>...</td>\n",
       "      <td>4307005.0</td>\n",
       "      <td>4307005.0</td>\n",
       "      <td>Erechim</td>\n",
       "      <td>-27.6364</td>\n",
       "      <td>-52.2697</td>\n",
       "      <td>0.0</td>\n",
       "      <td>43.0</td>\n",
       "      <td>8637.0</td>\n",
       "      <td>54.0</td>\n",
       "      <td>America/Sao_Paulo</td>\n",
       "    </tr>\n",
       "    <tr>\n",
       "      <th>1</th>\n",
       "      <td>359612.0</td>\n",
       "      <td>51.140.560 IVANETE TERESINHA LUFT BALDISSERA</td>\n",
       "      <td>51.140.560/0001-82</td>\n",
       "      <td>5980.00</td>\n",
       "      <td>0.0</td>\n",
       "      <td>0.0</td>\n",
       "      <td>51140560000182</td>\n",
       "      <td>janeiro</td>\n",
       "      <td>1</td>\n",
       "      <td>2.0</td>\n",
       "      <td>...</td>\n",
       "      <td>4309407.0</td>\n",
       "      <td>4309407.0</td>\n",
       "      <td>Guaporé</td>\n",
       "      <td>-28.8399</td>\n",
       "      <td>-51.8895</td>\n",
       "      <td>0.0</td>\n",
       "      <td>43.0</td>\n",
       "      <td>8687.0</td>\n",
       "      <td>54.0</td>\n",
       "      <td>America/Sao_Paulo</td>\n",
       "    </tr>\n",
       "    <tr>\n",
       "      <th>2</th>\n",
       "      <td>359175.0</td>\n",
       "      <td>A M COMERCIO DE PRODUTOS DE LIMPEZA LTDA</td>\n",
       "      <td>45.212.009/0001-02</td>\n",
       "      <td>2352.64</td>\n",
       "      <td>0.0</td>\n",
       "      <td>0.0</td>\n",
       "      <td>45212009000102</td>\n",
       "      <td>janeiro</td>\n",
       "      <td>1</td>\n",
       "      <td>3.0</td>\n",
       "      <td>...</td>\n",
       "      <td>4320503.0</td>\n",
       "      <td>4320503.0</td>\n",
       "      <td>Sertão</td>\n",
       "      <td>-27.9798</td>\n",
       "      <td>-52.2588</td>\n",
       "      <td>0.0</td>\n",
       "      <td>43.0</td>\n",
       "      <td>8911.0</td>\n",
       "      <td>54.0</td>\n",
       "      <td>America/Sao_Paulo</td>\n",
       "    </tr>\n",
       "    <tr>\n",
       "      <th>3</th>\n",
       "      <td>326093.0</td>\n",
       "      <td>A. ROSSATTO FONOAUDIOLOGIA</td>\n",
       "      <td>33.811.873/0001-33</td>\n",
       "      <td>4944.60</td>\n",
       "      <td>0.0</td>\n",
       "      <td>0.0</td>\n",
       "      <td>33811873000133</td>\n",
       "      <td>janeiro</td>\n",
       "      <td>1</td>\n",
       "      <td>4.0</td>\n",
       "      <td>...</td>\n",
       "      <td>4320404.0</td>\n",
       "      <td>4320404.0</td>\n",
       "      <td>Serafina Corrêa</td>\n",
       "      <td>-28.7126</td>\n",
       "      <td>-51.9352</td>\n",
       "      <td>0.0</td>\n",
       "      <td>43.0</td>\n",
       "      <td>8909.0</td>\n",
       "      <td>54.0</td>\n",
       "      <td>America/Sao_Paulo</td>\n",
       "    </tr>\n",
       "    <tr>\n",
       "      <th>4</th>\n",
       "      <td>4204.0</td>\n",
       "      <td>A.A.F. LABORATÓRIO DE ANÁLISES CLÍNICAS LTDA</td>\n",
       "      <td>04.567.872/0001-97</td>\n",
       "      <td>80000.00</td>\n",
       "      <td>0.0</td>\n",
       "      <td>0.0</td>\n",
       "      <td>04567872000197</td>\n",
       "      <td>janeiro</td>\n",
       "      <td>1</td>\n",
       "      <td>5.0</td>\n",
       "      <td>...</td>\n",
       "      <td>4320404.0</td>\n",
       "      <td>4320404.0</td>\n",
       "      <td>Serafina Corrêa</td>\n",
       "      <td>-28.7126</td>\n",
       "      <td>-51.9352</td>\n",
       "      <td>0.0</td>\n",
       "      <td>43.0</td>\n",
       "      <td>8909.0</td>\n",
       "      <td>54.0</td>\n",
       "      <td>America/Sao_Paulo</td>\n",
       "    </tr>\n",
       "  </tbody>\n",
       "</table>\n",
       "<p>5 rows × 32 columns</p>\n",
       "</div>"
      ],
      "text/plain": [
       "     Código                                     Descrição            CNPJ/CPF  \\\n",
       "0  359277.0      3MED DISTRIBUIDORA DE MEDICAMENTOS LTDA.  29.043.834/0001-66   \n",
       "1  359612.0  51.140.560 IVANETE TERESINHA LUFT BALDISSERA  51.140.560/0001-82   \n",
       "2  359175.0      A M COMERCIO DE PRODUTOS DE LIMPEZA LTDA  45.212.009/0001-02   \n",
       "3  326093.0                    A. ROSSATTO FONOAUDIOLOGIA  33.811.873/0001-33   \n",
       "4    4204.0  A.A.F. LABORATÓRIO DE ANÁLISES CLÍNICAS LTDA  04.567.872/0001-97   \n",
       "\n",
       "   valor_empenhado  valor_liquidado  valor_pago            cnpj      mes  \\\n",
       "0          5507.88              0.0         0.0  29043834000166  janeiro   \n",
       "1          5980.00              0.0         0.0  51140560000182  janeiro   \n",
       "2          2352.64              0.0         0.0  45212009000102  janeiro   \n",
       "3          4944.60              0.0         0.0  33811873000133  janeiro   \n",
       "4         80000.00              0.0         0.0  04567872000197  janeiro   \n",
       "\n",
       "   mes_int  Unnamed: 0.9  ...  cidade_ibge_id  codigo_ibge        municipio  \\\n",
       "0        1           0.0  ...       4307005.0    4307005.0          Erechim   \n",
       "1        1           2.0  ...       4309407.0    4309407.0          Guaporé   \n",
       "2        1           3.0  ...       4320503.0    4320503.0           Sertão   \n",
       "3        1           4.0  ...       4320404.0    4320404.0  Serafina Corrêa   \n",
       "4        1           5.0  ...       4320404.0    4320404.0  Serafina Corrêa   \n",
       "\n",
       "   latitude  longitude  capital  codigo_uf  siafi_id   ddd       fuso_horario  \n",
       "0  -27.6364   -52.2697      0.0       43.0    8637.0  54.0  America/Sao_Paulo  \n",
       "1  -28.8399   -51.8895      0.0       43.0    8687.0  54.0  America/Sao_Paulo  \n",
       "2  -27.9798   -52.2588      0.0       43.0    8911.0  54.0  America/Sao_Paulo  \n",
       "3  -28.7126   -51.9352      0.0       43.0    8909.0  54.0  America/Sao_Paulo  \n",
       "4  -28.7126   -51.9352      0.0       43.0    8909.0  54.0  America/Sao_Paulo  \n",
       "\n",
       "[5 rows x 32 columns]"
      ]
     },
     "execution_count": 139,
     "metadata": {},
     "output_type": "execute_result"
    }
   ],
   "source": [
    "despesas_fornecedor_com_municipios.head()"
   ]
  },
  {
   "cell_type": "code",
   "execution_count": 140,
   "id": "b325fff8-6f7d-4a04-9cf4-aec6c46bfdbd",
   "metadata": {},
   "outputs": [],
   "source": [
    "dados_agrupados = despesas_fornecedor_com_municipios.groupby(['municipio', 'uf', 'latitude', 'longitude']).agg(\n",
    "    {'valor_empenhado': 'sum', 'valor_liquidado': 'sum', 'valor_pago': 'sum', 'cnpj':'count'}\n",
    "    ).sort_values(by='valor_empenhado', ascending=False)"
   ]
  },
  {
   "cell_type": "code",
   "execution_count": 141,
   "id": "90274370-2e12-4a4f-aa27-4d6f0da10514",
   "metadata": {},
   "outputs": [],
   "source": [
    "dados_agrupados.reset_index(inplace=True)"
   ]
  },
  {
   "cell_type": "code",
   "execution_count": 142,
   "id": "f72230b6-ed5a-44c5-99b9-3fab5ef76d85",
   "metadata": {},
   "outputs": [],
   "source": [
    "dados_agrupados.to_excel('dados_agrupados-q1.xlsx')"
   ]
  },
  {
   "cell_type": "code",
   "execution_count": 143,
   "id": "1e6a731b-a01e-4c2e-b8e7-2b983dd588b1",
   "metadata": {},
   "outputs": [
    {
     "name": "stdout",
     "output_type": "stream",
     "text": [
      "15110359.94 75.65\n"
     ]
    },
    {
     "data": {
      "text/html": [
       "<div style=\"width:100%;\"><div style=\"position:relative;width:100%;height:0;padding-bottom:60%;\"><span style=\"color:#565656\">Make this Notebook Trusted to load map: File -> Trust Notebook</span><iframe srcdoc=\"&lt;!DOCTYPE html&gt;\n",
       "&lt;html&gt;\n",
       "&lt;head&gt;\n",
       "    \n",
       "    &lt;meta http-equiv=&quot;content-type&quot; content=&quot;text/html; charset=UTF-8&quot; /&gt;\n",
       "    \n",
       "        &lt;script&gt;\n",
       "            L_NO_TOUCH = false;\n",
       "            L_DISABLE_3D = false;\n",
       "        &lt;/script&gt;\n",
       "    \n",
       "    &lt;style&gt;html, body {width: 100%;height: 100%;margin: 0;padding: 0;}&lt;/style&gt;\n",
       "    &lt;style&gt;#map {position:absolute;top:0;bottom:0;right:0;left:0;}&lt;/style&gt;\n",
       "    &lt;script src=&quot;https://cdn.jsdelivr.net/npm/leaflet@1.9.3/dist/leaflet.js&quot;&gt;&lt;/script&gt;\n",
       "    &lt;script src=&quot;https://code.jquery.com/jquery-3.7.1.min.js&quot;&gt;&lt;/script&gt;\n",
       "    &lt;script src=&quot;https://cdn.jsdelivr.net/npm/bootstrap@5.2.2/dist/js/bootstrap.bundle.min.js&quot;&gt;&lt;/script&gt;\n",
       "    &lt;script src=&quot;https://cdnjs.cloudflare.com/ajax/libs/Leaflet.awesome-markers/2.0.2/leaflet.awesome-markers.js&quot;&gt;&lt;/script&gt;\n",
       "    &lt;link rel=&quot;stylesheet&quot; href=&quot;https://cdn.jsdelivr.net/npm/leaflet@1.9.3/dist/leaflet.css&quot;/&gt;\n",
       "    &lt;link rel=&quot;stylesheet&quot; href=&quot;https://cdn.jsdelivr.net/npm/bootstrap@5.2.2/dist/css/bootstrap.min.css&quot;/&gt;\n",
       "    &lt;link rel=&quot;stylesheet&quot; href=&quot;https://netdna.bootstrapcdn.com/bootstrap/3.0.0/css/bootstrap.min.css&quot;/&gt;\n",
       "    &lt;link rel=&quot;stylesheet&quot; href=&quot;https://cdn.jsdelivr.net/npm/@fortawesome/fontawesome-free@6.2.0/css/all.min.css&quot;/&gt;\n",
       "    &lt;link rel=&quot;stylesheet&quot; href=&quot;https://cdnjs.cloudflare.com/ajax/libs/Leaflet.awesome-markers/2.0.2/leaflet.awesome-markers.css&quot;/&gt;\n",
       "    &lt;link rel=&quot;stylesheet&quot; href=&quot;https://cdn.jsdelivr.net/gh/python-visualization/folium/folium/templates/leaflet.awesome.rotate.min.css&quot;/&gt;\n",
       "    \n",
       "            &lt;meta name=&quot;viewport&quot; content=&quot;width=device-width,\n",
       "                initial-scale=1.0, maximum-scale=1.0, user-scalable=no&quot; /&gt;\n",
       "            &lt;style&gt;\n",
       "                #map_552b229ba55be69b8cadab1bd94bf1f2 {\n",
       "                    position: relative;\n",
       "                    width: 100.0%;\n",
       "                    height: 100.0%;\n",
       "                    left: 0.0%;\n",
       "                    top: 0.0%;\n",
       "                }\n",
       "                .leaflet-container { font-size: 1rem; }\n",
       "            &lt;/style&gt;\n",
       "        \n",
       "&lt;/head&gt;\n",
       "&lt;body&gt;\n",
       "    \n",
       "    \n",
       "            &lt;div class=&quot;folium-map&quot; id=&quot;map_552b229ba55be69b8cadab1bd94bf1f2&quot; &gt;&lt;/div&gt;\n",
       "        \n",
       "&lt;/body&gt;\n",
       "&lt;script&gt;\n",
       "    \n",
       "    \n",
       "            var map_552b229ba55be69b8cadab1bd94bf1f2 = L.map(\n",
       "                &quot;map_552b229ba55be69b8cadab1bd94bf1f2&quot;,\n",
       "                {\n",
       "                    center: [-28.710129, -51.932609],\n",
       "                    crs: L.CRS.EPSG3857,\n",
       "                    zoom: 4,\n",
       "                    zoomControl: true,\n",
       "                    preferCanvas: false,\n",
       "                }\n",
       "            );\n",
       "\n",
       "            \n",
       "\n",
       "        \n",
       "    \n",
       "            var tile_layer_23f0d490a5415852185226d7074039bc = L.tileLayer(\n",
       "                &quot;https://{s}.basemaps.cartocdn.com/dark_all/{z}/{x}/{y}{r}.png&quot;,\n",
       "                {&quot;attribution&quot;: &quot;\\u0026copy; \\u003ca href=\\&quot;https://www.openstreetmap.org/copyright\\&quot;\\u003eOpenStreetMap\\u003c/a\\u003e contributors \\u0026copy; \\u003ca href=\\&quot;https://carto.com/attributions\\&quot;\\u003eCARTO\\u003c/a\\u003e&quot;, &quot;detectRetina&quot;: false, &quot;maxNativeZoom&quot;: 20, &quot;maxZoom&quot;: 20, &quot;minZoom&quot;: 0, &quot;noWrap&quot;: false, &quot;opacity&quot;: 1, &quot;subdomains&quot;: &quot;abcd&quot;, &quot;tms&quot;: false}\n",
       "            );\n",
       "        \n",
       "    \n",
       "            tile_layer_23f0d490a5415852185226d7074039bc.addTo(map_552b229ba55be69b8cadab1bd94bf1f2);\n",
       "        \n",
       "    \n",
       "            var circle_marker_83529143dc1f9001d826b66570369a0b = L.circleMarker(\n",
       "                [-28.7126, -51.9352],\n",
       "                {&quot;bubblingMouseEvents&quot;: true, &quot;color&quot;: &quot;red&quot;, &quot;dashArray&quot;: null, &quot;dashOffset&quot;: null, &quot;fill&quot;: true, &quot;fillColor&quot;: &quot;#E8710A&quot;, &quot;fillOpacity&quot;: 0.6, &quot;fillRule&quot;: &quot;evenodd&quot;, &quot;lineCap&quot;: &quot;round&quot;, &quot;lineJoin&quot;: &quot;round&quot;, &quot;opacity&quot;: 1, &quot;radius&quot;: 10.0, &quot;stroke&quot;: true, &quot;weight&quot;: 5}\n",
       "            ).addTo(map_552b229ba55be69b8cadab1bd94bf1f2);\n",
       "        \n",
       "    \n",
       "        var popup_5e0da490756b5ec501440e73297638df = L.popup({&quot;maxWidth&quot;: &quot;100%&quot;});\n",
       "\n",
       "        \n",
       "            \n",
       "                var html_1454b35983f89d9774329f9a4d48f834 = $(`&lt;div id=&quot;html_1454b35983f89d9774329f9a4d48f834&quot; style=&quot;width: 100.0%; height: 100.0%;&quot;&gt;Valor Empenhado R$15110359.94&lt;/div&gt;`)[0];\n",
       "                popup_5e0da490756b5ec501440e73297638df.setContent(html_1454b35983f89d9774329f9a4d48f834);\n",
       "            \n",
       "        \n",
       "\n",
       "        circle_marker_83529143dc1f9001d826b66570369a0b.bindPopup(popup_5e0da490756b5ec501440e73297638df)\n",
       "        ;\n",
       "\n",
       "        \n",
       "    \n",
       "    \n",
       "            circle_marker_83529143dc1f9001d826b66570369a0b.bindTooltip(\n",
       "                `&lt;div&gt;\n",
       "                     Serafina Corrêa\n",
       "                 &lt;/div&gt;`,\n",
       "                {&quot;sticky&quot;: true}\n",
       "            );\n",
       "        \n",
       "    \n",
       "            var circle_marker_6ad6c2a40552477e35b4ef6695a9efdf = L.circleMarker(\n",
       "                [-23.5329, -46.6395],\n",
       "                {&quot;bubblingMouseEvents&quot;: true, &quot;color&quot;: &quot;red&quot;, &quot;dashArray&quot;: null, &quot;dashOffset&quot;: null, &quot;fill&quot;: true, &quot;fillColor&quot;: &quot;#E8710A&quot;, &quot;fillOpacity&quot;: 0.6, &quot;fillRule&quot;: &quot;evenodd&quot;, &quot;lineCap&quot;: &quot;round&quot;, &quot;lineJoin&quot;: &quot;round&quot;, &quot;opacity&quot;: 1, &quot;radius&quot;: 3.883074985174708, &quot;stroke&quot;: true, &quot;weight&quot;: 5}\n",
       "            ).addTo(map_552b229ba55be69b8cadab1bd94bf1f2);\n",
       "        \n",
       "    \n",
       "        var popup_8a4e4feeadb6267dc1bb70900cd0c61d = L.popup({&quot;maxWidth&quot;: &quot;100%&quot;});\n",
       "\n",
       "        \n",
       "            \n",
       "                var html_0b28083d6def1a5c76be0dfaca458a2f = $(`&lt;div id=&quot;html_0b28083d6def1a5c76be0dfaca458a2f&quot; style=&quot;width: 100.0%; height: 100.0%;&quot;&gt;Valor Empenhado R$5867466.07&lt;/div&gt;`)[0];\n",
       "                popup_8a4e4feeadb6267dc1bb70900cd0c61d.setContent(html_0b28083d6def1a5c76be0dfaca458a2f);\n",
       "            \n",
       "        \n",
       "\n",
       "        circle_marker_6ad6c2a40552477e35b4ef6695a9efdf.bindPopup(popup_8a4e4feeadb6267dc1bb70900cd0c61d)\n",
       "        ;\n",
       "\n",
       "        \n",
       "    \n",
       "    \n",
       "            circle_marker_6ad6c2a40552477e35b4ef6695a9efdf.bindTooltip(\n",
       "                `&lt;div&gt;\n",
       "                     São Paulo\n",
       "                 &lt;/div&gt;`,\n",
       "                {&quot;sticky&quot;: true}\n",
       "            );\n",
       "        \n",
       "    \n",
       "            var circle_marker_0b47c65463a841a30cb765741f721b23 = L.circleMarker(\n",
       "                [-28.8399, -51.8895],\n",
       "                {&quot;bubblingMouseEvents&quot;: true, &quot;color&quot;: &quot;red&quot;, &quot;dashArray&quot;: null, &quot;dashOffset&quot;: null, &quot;fill&quot;: true, &quot;fillColor&quot;: &quot;#E8710A&quot;, &quot;fillOpacity&quot;: 0.6, &quot;fillRule&quot;: &quot;evenodd&quot;, &quot;lineCap&quot;: &quot;round&quot;, &quot;lineJoin&quot;: &quot;round&quot;, &quot;opacity&quot;: 1, &quot;radius&quot;: 2.7852138511003597, &quot;stroke&quot;: true, &quot;weight&quot;: 5}\n",
       "            ).addTo(map_552b229ba55be69b8cadab1bd94bf1f2);\n",
       "        \n",
       "    \n",
       "        var popup_06af0de35bb46d5a95e3579c8940e22e = L.popup({&quot;maxWidth&quot;: &quot;100%&quot;});\n",
       "\n",
       "        \n",
       "            \n",
       "                var html_b5ba1e0976b48ff44d44b874a08070a6 = $(`&lt;div id=&quot;html_b5ba1e0976b48ff44d44b874a08070a6&quot; style=&quot;width: 100.0%; height: 100.0%;&quot;&gt;Valor Empenhado R$4208558.38&lt;/div&gt;`)[0];\n",
       "                popup_06af0de35bb46d5a95e3579c8940e22e.setContent(html_b5ba1e0976b48ff44d44b874a08070a6);\n",
       "            \n",
       "        \n",
       "\n",
       "        circle_marker_0b47c65463a841a30cb765741f721b23.bindPopup(popup_06af0de35bb46d5a95e3579c8940e22e)\n",
       "        ;\n",
       "\n",
       "        \n",
       "    \n",
       "    \n",
       "            circle_marker_0b47c65463a841a30cb765741f721b23.bindTooltip(\n",
       "                `&lt;div&gt;\n",
       "                     Guaporé\n",
       "                 &lt;/div&gt;`,\n",
       "                {&quot;sticky&quot;: true}\n",
       "            );\n",
       "        \n",
       "    \n",
       "            var circle_marker_60ff08870d625108c3e4fa231633d004 = L.circleMarker(\n",
       "                [-15.7795, -47.9297],\n",
       "                {&quot;bubblingMouseEvents&quot;: true, &quot;color&quot;: &quot;red&quot;, &quot;dashArray&quot;: null, &quot;dashOffset&quot;: null, &quot;fill&quot;: true, &quot;fillColor&quot;: &quot;#E8710A&quot;, &quot;fillOpacity&quot;: 0.6, &quot;fillRule&quot;: &quot;evenodd&quot;, &quot;lineCap&quot;: &quot;round&quot;, &quot;lineJoin&quot;: &quot;round&quot;, &quot;opacity&quot;: 1, &quot;radius&quot;: 2.5442509015440433, &quot;stroke&quot;: true, &quot;weight&quot;: 5}\n",
       "            ).addTo(map_552b229ba55be69b8cadab1bd94bf1f2);\n",
       "        \n",
       "    \n",
       "        var popup_79bbc3a4250f69bc6dc1b08f37633013 = L.popup({&quot;maxWidth&quot;: &quot;100%&quot;});\n",
       "\n",
       "        \n",
       "            \n",
       "                var html_d5ff40ccff6af49ff21d8a16e25e8f26 = $(`&lt;div id=&quot;html_d5ff40ccff6af49ff21d8a16e25e8f26&quot; style=&quot;width: 100.0%; height: 100.0%;&quot;&gt;Valor Empenhado R$3844454.69&lt;/div&gt;`)[0];\n",
       "                popup_79bbc3a4250f69bc6dc1b08f37633013.setContent(html_d5ff40ccff6af49ff21d8a16e25e8f26);\n",
       "            \n",
       "        \n",
       "\n",
       "        circle_marker_60ff08870d625108c3e4fa231633d004.bindPopup(popup_79bbc3a4250f69bc6dc1b08f37633013)\n",
       "        ;\n",
       "\n",
       "        \n",
       "    \n",
       "    \n",
       "            circle_marker_60ff08870d625108c3e4fa231633d004.bindTooltip(\n",
       "                `&lt;div&gt;\n",
       "                     Brasília\n",
       "                 &lt;/div&gt;`,\n",
       "                {&quot;sticky&quot;: true}\n",
       "            );\n",
       "        \n",
       "    \n",
       "            var circle_marker_c096b6b09ac3c5ff12fa19e5544a9b03 = L.circleMarker(\n",
       "                [-28.2576, -52.4091],\n",
       "                {&quot;bubblingMouseEvents&quot;: true, &quot;color&quot;: &quot;red&quot;, &quot;dashArray&quot;: null, &quot;dashOffset&quot;: null, &quot;fill&quot;: true, &quot;fillColor&quot;: &quot;#E8710A&quot;, &quot;fillOpacity&quot;: 0.6, &quot;fillRule&quot;: &quot;evenodd&quot;, &quot;lineCap&quot;: &quot;round&quot;, &quot;lineJoin&quot;: &quot;round&quot;, &quot;opacity&quot;: 1, &quot;radius&quot;: 1.2889959191799372, &quot;stroke&quot;: true, &quot;weight&quot;: 5}\n",
       "            ).addTo(map_552b229ba55be69b8cadab1bd94bf1f2);\n",
       "        \n",
       "    \n",
       "        var popup_16edd7d5f722e66970c02b9836a1ca18 = L.popup({&quot;maxWidth&quot;: &quot;100%&quot;});\n",
       "\n",
       "        \n",
       "            \n",
       "                var html_a6da21c172721261ce2a1056ffdec84c = $(`&lt;div id=&quot;html_a6da21c172721261ce2a1056ffdec84c&quot; style=&quot;width: 100.0%; height: 100.0%;&quot;&gt;Valor Empenhado R$1947719.23&lt;/div&gt;`)[0];\n",
       "                popup_16edd7d5f722e66970c02b9836a1ca18.setContent(html_a6da21c172721261ce2a1056ffdec84c);\n",
       "            \n",
       "        \n",
       "\n",
       "        circle_marker_c096b6b09ac3c5ff12fa19e5544a9b03.bindPopup(popup_16edd7d5f722e66970c02b9836a1ca18)\n",
       "        ;\n",
       "\n",
       "        \n",
       "    \n",
       "    \n",
       "            circle_marker_c096b6b09ac3c5ff12fa19e5544a9b03.bindTooltip(\n",
       "                `&lt;div&gt;\n",
       "                     Passo Fundo\n",
       "                 &lt;/div&gt;`,\n",
       "                {&quot;sticky&quot;: true}\n",
       "            );\n",
       "        \n",
       "    \n",
       "            var circle_marker_5ef6a95cdf56cda3f167eba50ebe57d4 = L.circleMarker(\n",
       "                [-29.1629, -51.1792],\n",
       "                {&quot;bubblingMouseEvents&quot;: true, &quot;color&quot;: &quot;red&quot;, &quot;dashArray&quot;: null, &quot;dashOffset&quot;: null, &quot;fill&quot;: true, &quot;fillColor&quot;: &quot;#E8710A&quot;, &quot;fillOpacity&quot;: 0.6, &quot;fillRule&quot;: &quot;evenodd&quot;, &quot;lineCap&quot;: &quot;round&quot;, &quot;lineJoin&quot;: &quot;round&quot;, &quot;opacity&quot;: 1, &quot;radius&quot;: 1.085058447654689, &quot;stroke&quot;: true, &quot;weight&quot;: 5}\n",
       "            ).addTo(map_552b229ba55be69b8cadab1bd94bf1f2);\n",
       "        \n",
       "    \n",
       "        var popup_ee6e45250715f33447c063ba3c204417 = L.popup({&quot;maxWidth&quot;: &quot;100%&quot;});\n",
       "\n",
       "        \n",
       "            \n",
       "                var html_5f2e34e9352d09e62004de64b7fbec10 = $(`&lt;div id=&quot;html_5f2e34e9352d09e62004de64b7fbec10&quot; style=&quot;width: 100.0%; height: 100.0%;&quot;&gt;Valor Empenhado R$1639562.3699999999&lt;/div&gt;`)[0];\n",
       "                popup_ee6e45250715f33447c063ba3c204417.setContent(html_5f2e34e9352d09e62004de64b7fbec10);\n",
       "            \n",
       "        \n",
       "\n",
       "        circle_marker_5ef6a95cdf56cda3f167eba50ebe57d4.bindPopup(popup_ee6e45250715f33447c063ba3c204417)\n",
       "        ;\n",
       "\n",
       "        \n",
       "    \n",
       "    \n",
       "            circle_marker_5ef6a95cdf56cda3f167eba50ebe57d4.bindTooltip(\n",
       "                `&lt;div&gt;\n",
       "                     Caxias do Sul\n",
       "                 &lt;/div&gt;`,\n",
       "                {&quot;sticky&quot;: true}\n",
       "            );\n",
       "        \n",
       "    \n",
       "            var circle_marker_e2d7535c72a492babd3e74644026aad0 = L.circleMarker(\n",
       "                [-30.0318, -51.2065],\n",
       "                {&quot;bubblingMouseEvents&quot;: true, &quot;color&quot;: &quot;red&quot;, &quot;dashArray&quot;: null, &quot;dashOffset&quot;: null, &quot;fill&quot;: true, &quot;fillColor&quot;: &quot;#E8710A&quot;, &quot;fillOpacity&quot;: 0.6, &quot;fillRule&quot;: &quot;evenodd&quot;, &quot;lineCap&quot;: &quot;round&quot;, &quot;lineJoin&quot;: &quot;round&quot;, &quot;opacity&quot;: 1, &quot;radius&quot;: 0.9706381818989284, &quot;stroke&quot;: true, &quot;weight&quot;: 5}\n",
       "            ).addTo(map_552b229ba55be69b8cadab1bd94bf1f2);\n",
       "        \n",
       "    \n",
       "        var popup_32aacbe69d050cd411b8517b1ac5e08b = L.popup({&quot;maxWidth&quot;: &quot;100%&quot;});\n",
       "\n",
       "        \n",
       "            \n",
       "                var html_7964331bc96e3b5f785e2715ada215be = $(`&lt;div id=&quot;html_7964331bc96e3b5f785e2715ada215be&quot; style=&quot;width: 100.0%; height: 100.0%;&quot;&gt;Valor Empenhado R$1466669.23&lt;/div&gt;`)[0];\n",
       "                popup_32aacbe69d050cd411b8517b1ac5e08b.setContent(html_7964331bc96e3b5f785e2715ada215be);\n",
       "            \n",
       "        \n",
       "\n",
       "        circle_marker_e2d7535c72a492babd3e74644026aad0.bindPopup(popup_32aacbe69d050cd411b8517b1ac5e08b)\n",
       "        ;\n",
       "\n",
       "        \n",
       "    \n",
       "    \n",
       "            circle_marker_e2d7535c72a492babd3e74644026aad0.bindTooltip(\n",
       "                `&lt;div&gt;\n",
       "                     Porto Alegre\n",
       "                 &lt;/div&gt;`,\n",
       "                {&quot;sticky&quot;: true}\n",
       "            );\n",
       "        \n",
       "    \n",
       "            var circle_marker_23ece9a9d849f7925d65ce2e4e33bb6f = L.circleMarker(\n",
       "                [-28.5964, -51.7896],\n",
       "                {&quot;bubblingMouseEvents&quot;: true, &quot;color&quot;: &quot;red&quot;, &quot;dashArray&quot;: null, &quot;dashOffset&quot;: null, &quot;fill&quot;: true, &quot;fillColor&quot;: &quot;#E8710A&quot;, &quot;fillOpacity&quot;: 0.6, &quot;fillRule&quot;: &quot;evenodd&quot;, &quot;lineCap&quot;: &quot;round&quot;, &quot;lineJoin&quot;: &quot;round&quot;, &quot;opacity&quot;: 1, &quot;radius&quot;: 0.6413447090923501, &quot;stroke&quot;: true, &quot;weight&quot;: 5}\n",
       "            ).addTo(map_552b229ba55be69b8cadab1bd94bf1f2);\n",
       "        \n",
       "    \n",
       "        var popup_5dbd85fe8952a6d2c6a5ef607b242ef6 = L.popup({&quot;maxWidth&quot;: &quot;100%&quot;});\n",
       "\n",
       "        \n",
       "            \n",
       "                var html_f1b29527ae8273fe71d6a7498c6b9142 = $(`&lt;div id=&quot;html_f1b29527ae8273fe71d6a7498c6b9142&quot; style=&quot;width: 100.0%; height: 100.0%;&quot;&gt;Valor Empenhado R$969094.94&lt;/div&gt;`)[0];\n",
       "                popup_5dbd85fe8952a6d2c6a5ef607b242ef6.setContent(html_f1b29527ae8273fe71d6a7498c6b9142);\n",
       "            \n",
       "        \n",
       "\n",
       "        circle_marker_23ece9a9d849f7925d65ce2e4e33bb6f.bindPopup(popup_5dbd85fe8952a6d2c6a5ef607b242ef6)\n",
       "        ;\n",
       "\n",
       "        \n",
       "    \n",
       "    \n",
       "            circle_marker_23ece9a9d849f7925d65ce2e4e33bb6f.bindTooltip(\n",
       "                `&lt;div&gt;\n",
       "                     Paraí\n",
       "                 &lt;/div&gt;`,\n",
       "                {&quot;sticky&quot;: true}\n",
       "            );\n",
       "        \n",
       "    \n",
       "            var circle_marker_3dffb51fe630d0047bd177b4b5102f5b = L.circleMarker(\n",
       "                [-28.6537, -51.7458],\n",
       "                {&quot;bubblingMouseEvents&quot;: true, &quot;color&quot;: &quot;red&quot;, &quot;dashArray&quot;: null, &quot;dashOffset&quot;: null, &quot;fill&quot;: true, &quot;fillColor&quot;: &quot;#E8710A&quot;, &quot;fillOpacity&quot;: 0.6, &quot;fillRule&quot;: &quot;evenodd&quot;, &quot;lineCap&quot;: &quot;round&quot;, &quot;lineJoin&quot;: &quot;round&quot;, &quot;opacity&quot;: 1, &quot;radius&quot;: 0.451672648904484, &quot;stroke&quot;: true, &quot;weight&quot;: 5}\n",
       "            ).addTo(map_552b229ba55be69b8cadab1bd94bf1f2);\n",
       "        \n",
       "    \n",
       "        var popup_128c487c64250cb40386f704ec5aedf6 = L.popup({&quot;maxWidth&quot;: &quot;100%&quot;});\n",
       "\n",
       "        \n",
       "            \n",
       "                var html_fadf9ede0632c6693f7e7057f6355acf = $(`&lt;div id=&quot;html_fadf9ede0632c6693f7e7057f6355acf&quot; style=&quot;width: 100.0%; height: 100.0%;&quot;&gt;Valor Empenhado R$682493.63&lt;/div&gt;`)[0];\n",
       "                popup_128c487c64250cb40386f704ec5aedf6.setContent(html_fadf9ede0632c6693f7e7057f6355acf);\n",
       "            \n",
       "        \n",
       "\n",
       "        circle_marker_3dffb51fe630d0047bd177b4b5102f5b.bindPopup(popup_128c487c64250cb40386f704ec5aedf6)\n",
       "        ;\n",
       "\n",
       "        \n",
       "    \n",
       "    \n",
       "            circle_marker_3dffb51fe630d0047bd177b4b5102f5b.bindTooltip(\n",
       "                `&lt;div&gt;\n",
       "                     Nova Araçá\n",
       "                 &lt;/div&gt;`,\n",
       "                {&quot;sticky&quot;: true}\n",
       "            );\n",
       "        \n",
       "    \n",
       "            var circle_marker_2438a32dca62876bd77bf09e39a4dcaa = L.circleMarker(\n",
       "                [-28.7291, -51.7072],\n",
       "                {&quot;bubblingMouseEvents&quot;: true, &quot;color&quot;: &quot;red&quot;, &quot;dashArray&quot;: null, &quot;dashOffset&quot;: null, &quot;fill&quot;: true, &quot;fillColor&quot;: &quot;#E8710A&quot;, &quot;fillOpacity&quot;: 0.6, &quot;fillRule&quot;: &quot;evenodd&quot;, &quot;lineCap&quot;: &quot;round&quot;, &quot;lineJoin&quot;: &quot;round&quot;, &quot;opacity&quot;: 1, &quot;radius&quot;: 0.4473679930089078, &quot;stroke&quot;: true, &quot;weight&quot;: 5}\n",
       "            ).addTo(map_552b229ba55be69b8cadab1bd94bf1f2);\n",
       "        \n",
       "    \n",
       "        var popup_53f2feda57dee0689d7238062308c9ec = L.popup({&quot;maxWidth&quot;: &quot;100%&quot;});\n",
       "\n",
       "        \n",
       "            \n",
       "                var html_ba9d6273dad7e12f33aa83b21764fdcf = $(`&lt;div id=&quot;html_ba9d6273dad7e12f33aa83b21764fdcf&quot; style=&quot;width: 100.0%; height: 100.0%;&quot;&gt;Valor Empenhado R$675989.14&lt;/div&gt;`)[0];\n",
       "                popup_53f2feda57dee0689d7238062308c9ec.setContent(html_ba9d6273dad7e12f33aa83b21764fdcf);\n",
       "            \n",
       "        \n",
       "\n",
       "        circle_marker_2438a32dca62876bd77bf09e39a4dcaa.bindPopup(popup_53f2feda57dee0689d7238062308c9ec)\n",
       "        ;\n",
       "\n",
       "        \n",
       "    \n",
       "    \n",
       "            circle_marker_2438a32dca62876bd77bf09e39a4dcaa.bindTooltip(\n",
       "                `&lt;div&gt;\n",
       "                     Nova Bassano\n",
       "                 &lt;/div&gt;`,\n",
       "                {&quot;sticky&quot;: true}\n",
       "            );\n",
       "        \n",
       "    \n",
       "            var circle_marker_921c1211ebddabaddf628a222288a56e = L.circleMarker(\n",
       "                [-28.5605, -51.9815],\n",
       "                {&quot;bubblingMouseEvents&quot;: true, &quot;color&quot;: &quot;red&quot;, &quot;dashArray&quot;: null, &quot;dashOffset&quot;: null, &quot;fill&quot;: true, &quot;fillColor&quot;: &quot;#E8710A&quot;, &quot;fillOpacity&quot;: 0.6, &quot;fillRule&quot;: &quot;evenodd&quot;, &quot;lineCap&quot;: &quot;round&quot;, &quot;lineJoin&quot;: &quot;round&quot;, &quot;opacity&quot;: 1, &quot;radius&quot;: 0.25668354131873844, &quot;stroke&quot;: true, &quot;weight&quot;: 5}\n",
       "            ).addTo(map_552b229ba55be69b8cadab1bd94bf1f2);\n",
       "        \n",
       "    \n",
       "        var popup_66c5d7dcc22b2c4e0108be3e0b5fd852 = L.popup({&quot;maxWidth&quot;: &quot;100%&quot;});\n",
       "\n",
       "        \n",
       "            \n",
       "                var html_a58bac769bf0f93476ffc5d71e071cdb = $(`&lt;div id=&quot;html_a58bac769bf0f93476ffc5d71e071cdb&quot; style=&quot;width: 100.0%; height: 100.0%;&quot;&gt;Valor Empenhado R$387858.07&lt;/div&gt;`)[0];\n",
       "                popup_66c5d7dcc22b2c4e0108be3e0b5fd852.setContent(html_a58bac769bf0f93476ffc5d71e071cdb);\n",
       "            \n",
       "        \n",
       "\n",
       "        circle_marker_921c1211ebddabaddf628a222288a56e.bindPopup(popup_66c5d7dcc22b2c4e0108be3e0b5fd852)\n",
       "        ;\n",
       "\n",
       "        \n",
       "    \n",
       "    \n",
       "            circle_marker_921c1211ebddabaddf628a222288a56e.bindTooltip(\n",
       "                `&lt;div&gt;\n",
       "                     Casca\n",
       "                 &lt;/div&gt;`,\n",
       "                {&quot;sticky&quot;: true}\n",
       "            );\n",
       "        \n",
       "    \n",
       "            var circle_marker_e34cee7c4aa3fbc60ac0ec4795847b74 = L.circleMarker(\n",
       "                [-29.722, -52.4343],\n",
       "                {&quot;bubblingMouseEvents&quot;: true, &quot;color&quot;: &quot;red&quot;, &quot;dashArray&quot;: null, &quot;dashOffset&quot;: null, &quot;fill&quot;: true, &quot;fillColor&quot;: &quot;#E8710A&quot;, &quot;fillOpacity&quot;: 0.6, &quot;fillRule&quot;: &quot;evenodd&quot;, &quot;lineCap&quot;: &quot;round&quot;, &quot;lineJoin&quot;: &quot;round&quot;, &quot;opacity&quot;: 1, &quot;radius&quot;: 0.2498032220931992, &quot;stroke&quot;: true, &quot;weight&quot;: 5}\n",
       "            ).addTo(map_552b229ba55be69b8cadab1bd94bf1f2);\n",
       "        \n",
       "    \n",
       "        var popup_75f75939d9c145fcf682f4cb71bb5115 = L.popup({&quot;maxWidth&quot;: &quot;100%&quot;});\n",
       "\n",
       "        \n",
       "            \n",
       "                var html_46d481383e4a05007b1595d5c2d97c73 = $(`&lt;div id=&quot;html_46d481383e4a05007b1595d5c2d97c73&quot; style=&quot;width: 100.0%; height: 100.0%;&quot;&gt;Valor Empenhado R$377461.66&lt;/div&gt;`)[0];\n",
       "                popup_75f75939d9c145fcf682f4cb71bb5115.setContent(html_46d481383e4a05007b1595d5c2d97c73);\n",
       "            \n",
       "        \n",
       "\n",
       "        circle_marker_e34cee7c4aa3fbc60ac0ec4795847b74.bindPopup(popup_75f75939d9c145fcf682f4cb71bb5115)\n",
       "        ;\n",
       "\n",
       "        \n",
       "    \n",
       "    \n",
       "            circle_marker_e34cee7c4aa3fbc60ac0ec4795847b74.bindTooltip(\n",
       "                `&lt;div&gt;\n",
       "                     Santa Cruz do Sul\n",
       "                 &lt;/div&gt;`,\n",
       "                {&quot;sticky&quot;: true}\n",
       "            );\n",
       "        \n",
       "    \n",
       "            var circle_marker_2ea6b4f451c15c300a85697b02e12142 = L.circleMarker(\n",
       "                [-28.4498, -52.1986],\n",
       "                {&quot;bubblingMouseEvents&quot;: true, &quot;color&quot;: &quot;red&quot;, &quot;dashArray&quot;: null, &quot;dashOffset&quot;: null, &quot;fill&quot;: true, &quot;fillColor&quot;: &quot;#E8710A&quot;, &quot;fillOpacity&quot;: 0.6, &quot;fillRule&quot;: &quot;evenodd&quot;, &quot;lineCap&quot;: &quot;round&quot;, &quot;lineJoin&quot;: &quot;round&quot;, &quot;opacity&quot;: 1, &quot;radius&quot;: 0.2228982375915527, &quot;stroke&quot;: true, &quot;weight&quot;: 5}\n",
       "            ).addTo(map_552b229ba55be69b8cadab1bd94bf1f2);\n",
       "        \n",
       "    \n",
       "        var popup_be0b92b489573dce36ecb5b399ee7530 = L.popup({&quot;maxWidth&quot;: &quot;100%&quot;});\n",
       "\n",
       "        \n",
       "            \n",
       "                var html_4863798a1c5b4702b4e3ef1db3c41b8a = $(`&lt;div id=&quot;html_4863798a1c5b4702b4e3ef1db3c41b8a&quot; style=&quot;width: 100.0%; height: 100.0%;&quot;&gt;Valor Empenhado R$336807.26&lt;/div&gt;`)[0];\n",
       "                popup_be0b92b489573dce36ecb5b399ee7530.setContent(html_4863798a1c5b4702b4e3ef1db3c41b8a);\n",
       "            \n",
       "        \n",
       "\n",
       "        circle_marker_2ea6b4f451c15c300a85697b02e12142.bindPopup(popup_be0b92b489573dce36ecb5b399ee7530)\n",
       "        ;\n",
       "\n",
       "        \n",
       "    \n",
       "    \n",
       "            circle_marker_2ea6b4f451c15c300a85697b02e12142.bindTooltip(\n",
       "                `&lt;div&gt;\n",
       "                     Marau\n",
       "                 &lt;/div&gt;`,\n",
       "                {&quot;sticky&quot;: true}\n",
       "            );\n",
       "        \n",
       "    \n",
       "            var circle_marker_394924939afc81c0b00a5954839ff453 = L.circleMarker(\n",
       "                [-28.5359, -52.1486],\n",
       "                {&quot;bubblingMouseEvents&quot;: true, &quot;color&quot;: &quot;red&quot;, &quot;dashArray&quot;: null, &quot;dashOffset&quot;: null, &quot;fill&quot;: true, &quot;fillColor&quot;: &quot;#E8710A&quot;, &quot;fillOpacity&quot;: 0.6, &quot;fillRule&quot;: &quot;evenodd&quot;, &quot;lineCap&quot;: &quot;round&quot;, &quot;lineJoin&quot;: &quot;round&quot;, &quot;opacity&quot;: 1, &quot;radius&quot;: 0.20712706463827626, &quot;stroke&quot;: true, &quot;weight&quot;: 5}\n",
       "            ).addTo(map_552b229ba55be69b8cadab1bd94bf1f2);\n",
       "        \n",
       "    \n",
       "        var popup_f7c6a0e1134d552842093140f4ad5970 = L.popup({&quot;maxWidth&quot;: &quot;100%&quot;});\n",
       "\n",
       "        \n",
       "            \n",
       "                var html_ec60ea68a7c8312ff087358b6c98e578 = $(`&lt;div id=&quot;html_ec60ea68a7c8312ff087358b6c98e578&quot; style=&quot;width: 100.0%; height: 100.0%;&quot;&gt;Valor Empenhado R$312976.45&lt;/div&gt;`)[0];\n",
       "                popup_f7c6a0e1134d552842093140f4ad5970.setContent(html_ec60ea68a7c8312ff087358b6c98e578);\n",
       "            \n",
       "        \n",
       "\n",
       "        circle_marker_394924939afc81c0b00a5954839ff453.bindPopup(popup_f7c6a0e1134d552842093140f4ad5970)\n",
       "        ;\n",
       "\n",
       "        \n",
       "    \n",
       "    \n",
       "            circle_marker_394924939afc81c0b00a5954839ff453.bindTooltip(\n",
       "                `&lt;div&gt;\n",
       "                     Vila Maria\n",
       "                 &lt;/div&gt;`,\n",
       "                {&quot;sticky&quot;: true}\n",
       "            );\n",
       "        \n",
       "    \n",
       "            var circle_marker_00ee4fe40736696253b195c108372e62 = L.circleMarker(\n",
       "                [-28.7799, -51.6113],\n",
       "                {&quot;bubblingMouseEvents&quot;: true, &quot;color&quot;: &quot;red&quot;, &quot;dashArray&quot;: null, &quot;dashOffset&quot;: null, &quot;fill&quot;: true, &quot;fillColor&quot;: &quot;#E8710A&quot;, &quot;fillOpacity&quot;: 0.6, &quot;fillRule&quot;: &quot;evenodd&quot;, &quot;lineCap&quot;: &quot;round&quot;, &quot;lineJoin&quot;: &quot;round&quot;, &quot;opacity&quot;: 1, &quot;radius&quot;: 0.2032485336017747, &quot;stroke&quot;: true, &quot;weight&quot;: 5}\n",
       "            ).addTo(map_552b229ba55be69b8cadab1bd94bf1f2);\n",
       "        \n",
       "    \n",
       "        var popup_05c99d271b593ec872e262e7f866c50b = L.popup({&quot;maxWidth&quot;: &quot;100%&quot;});\n",
       "\n",
       "        \n",
       "            \n",
       "                var html_b996cbbd783089545ec7e6fe05dfd4d6 = $(`&lt;div id=&quot;html_b996cbbd783089545ec7e6fe05dfd4d6&quot; style=&quot;width: 100.0%; height: 100.0%;&quot;&gt;Valor Empenhado R$307115.85&lt;/div&gt;`)[0];\n",
       "                popup_05c99d271b593ec872e262e7f866c50b.setContent(html_b996cbbd783089545ec7e6fe05dfd4d6);\n",
       "            \n",
       "        \n",
       "\n",
       "        circle_marker_00ee4fe40736696253b195c108372e62.bindPopup(popup_05c99d271b593ec872e262e7f866c50b)\n",
       "        ;\n",
       "\n",
       "        \n",
       "    \n",
       "    \n",
       "            circle_marker_00ee4fe40736696253b195c108372e62.bindTooltip(\n",
       "                `&lt;div&gt;\n",
       "                     Nova Prata\n",
       "                 &lt;/div&gt;`,\n",
       "                {&quot;sticky&quot;: true}\n",
       "            );\n",
       "        \n",
       "    \n",
       "            var circle_marker_a291ac729b8a9da961cddb4c87e3af0c = L.circleMarker(\n",
       "                [-28.5312, -51.886],\n",
       "                {&quot;bubblingMouseEvents&quot;: true, &quot;color&quot;: &quot;red&quot;, &quot;dashArray&quot;: null, &quot;dashOffset&quot;: null, &quot;fill&quot;: true, &quot;fillColor&quot;: &quot;#E8710A&quot;, &quot;fillOpacity&quot;: 0.6, &quot;fillRule&quot;: &quot;evenodd&quot;, &quot;lineCap&quot;: &quot;round&quot;, &quot;lineJoin&quot;: &quot;round&quot;, &quot;opacity&quot;: 1, &quot;radius&quot;: 0.19959316071725558, &quot;stroke&quot;: true, &quot;weight&quot;: 5}\n",
       "            ).addTo(map_552b229ba55be69b8cadab1bd94bf1f2);\n",
       "        \n",
       "    \n",
       "        var popup_63c3034594ea87a923f5bd1607080d09 = L.popup({&quot;maxWidth&quot;: &quot;100%&quot;});\n",
       "\n",
       "        \n",
       "            \n",
       "                var html_6423577e5206edc42a8ef3463940efa4 = $(`&lt;div id=&quot;html_6423577e5206edc42a8ef3463940efa4&quot; style=&quot;width: 100.0%; height: 100.0%;&quot;&gt;Valor Empenhado R$301592.45&lt;/div&gt;`)[0];\n",
       "                popup_63c3034594ea87a923f5bd1607080d09.setContent(html_6423577e5206edc42a8ef3463940efa4);\n",
       "            \n",
       "        \n",
       "\n",
       "        circle_marker_a291ac729b8a9da961cddb4c87e3af0c.bindPopup(popup_63c3034594ea87a923f5bd1607080d09)\n",
       "        ;\n",
       "\n",
       "        \n",
       "    \n",
       "    \n",
       "            circle_marker_a291ac729b8a9da961cddb4c87e3af0c.bindTooltip(\n",
       "                `&lt;div&gt;\n",
       "                     São Domingos do Sul\n",
       "                 &lt;/div&gt;`,\n",
       "                {&quot;sticky&quot;: true}\n",
       "            );\n",
       "        \n",
       "    \n",
       "            var circle_marker_0eb7c2a3517114246ed73c18d9246aba = L.circleMarker(\n",
       "                [-29.1662, -51.5165],\n",
       "                {&quot;bubblingMouseEvents&quot;: true, &quot;color&quot;: &quot;red&quot;, &quot;dashArray&quot;: null, &quot;dashOffset&quot;: null, &quot;fill&quot;: true, &quot;fillColor&quot;: &quot;#E8710A&quot;, &quot;fillOpacity&quot;: 0.6, &quot;fillRule&quot;: &quot;evenodd&quot;, &quot;lineCap&quot;: &quot;round&quot;, &quot;lineJoin&quot;: &quot;round&quot;, &quot;opacity&quot;: 1, &quot;radius&quot;: 0.1626848010081221, &quot;stroke&quot;: true, &quot;weight&quot;: 5}\n",
       "            ).addTo(map_552b229ba55be69b8cadab1bd94bf1f2);\n",
       "        \n",
       "    \n",
       "        var popup_b89c1382d911cba080ed68a8f8ac7d05 = L.popup({&quot;maxWidth&quot;: &quot;100%&quot;});\n",
       "\n",
       "        \n",
       "            \n",
       "                var html_a0e5c195c422aa484aa2c2b4a1ff750d = $(`&lt;div id=&quot;html_a0e5c195c422aa484aa2c2b4a1ff750d&quot; style=&quot;width: 100.0%; height: 100.0%;&quot;&gt;Valor Empenhado R$245822.58999999997&lt;/div&gt;`)[0];\n",
       "                popup_b89c1382d911cba080ed68a8f8ac7d05.setContent(html_a0e5c195c422aa484aa2c2b4a1ff750d);\n",
       "            \n",
       "        \n",
       "\n",
       "        circle_marker_0eb7c2a3517114246ed73c18d9246aba.bindPopup(popup_b89c1382d911cba080ed68a8f8ac7d05)\n",
       "        ;\n",
       "\n",
       "        \n",
       "    \n",
       "    \n",
       "            circle_marker_0eb7c2a3517114246ed73c18d9246aba.bindTooltip(\n",
       "                `&lt;div&gt;\n",
       "                     Bento Gonçalves\n",
       "                 &lt;/div&gt;`,\n",
       "                {&quot;sticky&quot;: true}\n",
       "            );\n",
       "        \n",
       "    \n",
       "            var circle_marker_02e1310d7d4b7717e2c7d23d5ceb62f0 = L.circleMarker(\n",
       "                [-29.9128, -51.1857],\n",
       "                {&quot;bubblingMouseEvents&quot;: true, &quot;color&quot;: &quot;red&quot;, &quot;dashArray&quot;: null, &quot;dashOffset&quot;: null, &quot;fill&quot;: true, &quot;fillColor&quot;: &quot;#E8710A&quot;, &quot;fillOpacity&quot;: 0.6, &quot;fillRule&quot;: &quot;evenodd&quot;, &quot;lineCap&quot;: &quot;round&quot;, &quot;lineJoin&quot;: &quot;round&quot;, &quot;opacity&quot;: 1, &quot;radius&quot;: 0.1185517755442694, &quot;stroke&quot;: true, &quot;weight&quot;: 5}\n",
       "            ).addTo(map_552b229ba55be69b8cadab1bd94bf1f2);\n",
       "        \n",
       "    \n",
       "        var popup_f1d98b8cc4231d728dffd861a4178f40 = L.popup({&quot;maxWidth&quot;: &quot;100%&quot;});\n",
       "\n",
       "        \n",
       "            \n",
       "                var html_adb1a60317ea8dcccf8992692d9b72bd = $(`&lt;div id=&quot;html_adb1a60317ea8dcccf8992692d9b72bd&quot; style=&quot;width: 100.0%; height: 100.0%;&quot;&gt;Valor Empenhado R$179136.0&lt;/div&gt;`)[0];\n",
       "                popup_f1d98b8cc4231d728dffd861a4178f40.setContent(html_adb1a60317ea8dcccf8992692d9b72bd);\n",
       "            \n",
       "        \n",
       "\n",
       "        circle_marker_02e1310d7d4b7717e2c7d23d5ceb62f0.bindPopup(popup_f1d98b8cc4231d728dffd861a4178f40)\n",
       "        ;\n",
       "\n",
       "        \n",
       "    \n",
       "    \n",
       "            circle_marker_02e1310d7d4b7717e2c7d23d5ceb62f0.bindTooltip(\n",
       "                `&lt;div&gt;\n",
       "                     Canoas\n",
       "                 &lt;/div&gt;`,\n",
       "                {&quot;sticky&quot;: true}\n",
       "            );\n",
       "        \n",
       "    \n",
       "            var circle_marker_9b92a96f0575df19f837037310cf5483 = L.circleMarker(\n",
       "                [-28.6294, -52.9498],\n",
       "                {&quot;bubblingMouseEvents&quot;: true, &quot;color&quot;: &quot;red&quot;, &quot;dashArray&quot;: null, &quot;dashOffset&quot;: null, &quot;fill&quot;: true, &quot;fillColor&quot;: &quot;#E8710A&quot;, &quot;fillOpacity&quot;: 0.6, &quot;fillRule&quot;: &quot;evenodd&quot;, &quot;lineCap&quot;: &quot;round&quot;, &quot;lineJoin&quot;: &quot;round&quot;, &quot;opacity&quot;: 1, &quot;radius&quot;: 0.10382432359185746, &quot;stroke&quot;: true, &quot;weight&quot;: 5}\n",
       "            ).addTo(map_552b229ba55be69b8cadab1bd94bf1f2);\n",
       "        \n",
       "    \n",
       "        var popup_426b3c75605b35bb8e81e69fa4bb057e = L.popup({&quot;maxWidth&quot;: &quot;100%&quot;});\n",
       "\n",
       "        \n",
       "            \n",
       "                var html_e523d8fc5aa3b99b63be5152725a73bc = $(`&lt;div id=&quot;html_e523d8fc5aa3b99b63be5152725a73bc&quot; style=&quot;width: 100.0%; height: 100.0%;&quot;&gt;Valor Empenhado R$156882.28999999998&lt;/div&gt;`)[0];\n",
       "                popup_426b3c75605b35bb8e81e69fa4bb057e.setContent(html_e523d8fc5aa3b99b63be5152725a73bc);\n",
       "            \n",
       "        \n",
       "\n",
       "        circle_marker_9b92a96f0575df19f837037310cf5483.bindPopup(popup_426b3c75605b35bb8e81e69fa4bb057e)\n",
       "        ;\n",
       "\n",
       "        \n",
       "    \n",
       "    \n",
       "            circle_marker_9b92a96f0575df19f837037310cf5483.bindTooltip(\n",
       "                `&lt;div&gt;\n",
       "                     Selbach\n",
       "                 &lt;/div&gt;`,\n",
       "                {&quot;sticky&quot;: true}\n",
       "            );\n",
       "        \n",
       "    \n",
       "            var circle_marker_76d90defbcb312e7572c76e5dfb4df77 = L.circleMarker(\n",
       "                [-26.8747, -52.4036],\n",
       "                {&quot;bubblingMouseEvents&quot;: true, &quot;color&quot;: &quot;red&quot;, &quot;dashArray&quot;: null, &quot;dashOffset&quot;: null, &quot;fill&quot;: true, &quot;fillColor&quot;: &quot;#E8710A&quot;, &quot;fillOpacity&quot;: 0.6, &quot;fillRule&quot;: &quot;evenodd&quot;, &quot;lineCap&quot;: &quot;round&quot;, &quot;lineJoin&quot;: &quot;round&quot;, &quot;opacity&quot;: 1, &quot;radius&quot;: 0.0643862888682452, &quot;stroke&quot;: true, &quot;weight&quot;: 5}\n",
       "            ).addTo(map_552b229ba55be69b8cadab1bd94bf1f2);\n",
       "        \n",
       "    \n",
       "        var popup_329a541db0f8e5e219ec176a0ae03f11 = L.popup({&quot;maxWidth&quot;: &quot;100%&quot;});\n",
       "\n",
       "        \n",
       "            \n",
       "                var html_be11abf3174183b4a1b1c3867f72128f = $(`&lt;div id=&quot;html_be11abf3174183b4a1b1c3867f72128f&quot; style=&quot;width: 100.0%; height: 100.0%;&quot;&gt;Valor Empenhado R$97290.0&lt;/div&gt;`)[0];\n",
       "                popup_329a541db0f8e5e219ec176a0ae03f11.setContent(html_be11abf3174183b4a1b1c3867f72128f);\n",
       "            \n",
       "        \n",
       "\n",
       "        circle_marker_76d90defbcb312e7572c76e5dfb4df77.bindPopup(popup_329a541db0f8e5e219ec176a0ae03f11)\n",
       "        ;\n",
       "\n",
       "        \n",
       "    \n",
       "    \n",
       "            circle_marker_76d90defbcb312e7572c76e5dfb4df77.bindTooltip(\n",
       "                `&lt;div&gt;\n",
       "                     Xanxerê\n",
       "                 &lt;/div&gt;`,\n",
       "                {&quot;sticky&quot;: true}\n",
       "            );\n",
       "        \n",
       "    \n",
       "            var circle_marker_06594f190ca69348c48e3b5f19ed7aba = L.circleMarker(\n",
       "                [-29.4591, -51.9644],\n",
       "                {&quot;bubblingMouseEvents&quot;: true, &quot;color&quot;: &quot;red&quot;, &quot;dashArray&quot;: null, &quot;dashOffset&quot;: null, &quot;fill&quot;: true, &quot;fillColor&quot;: &quot;#E8710A&quot;, &quot;fillOpacity&quot;: 0.6, &quot;fillRule&quot;: &quot;evenodd&quot;, &quot;lineCap&quot;: &quot;round&quot;, &quot;lineJoin&quot;: &quot;round&quot;, &quot;opacity&quot;: 1, &quot;radius&quot;: 0.06150672146066695, &quot;stroke&quot;: true, &quot;weight&quot;: 5}\n",
       "            ).addTo(map_552b229ba55be69b8cadab1bd94bf1f2);\n",
       "        \n",
       "    \n",
       "        var popup_66eb8b9926ac72633d88620c0dd2ef11 = L.popup({&quot;maxWidth&quot;: &quot;100%&quot;});\n",
       "\n",
       "        \n",
       "            \n",
       "                var html_0c3abd0e39ab688427af8c4b469db7ed = $(`&lt;div id=&quot;html_0c3abd0e39ab688427af8c4b469db7ed&quot; style=&quot;width: 100.0%; height: 100.0%;&quot;&gt;Valor Empenhado R$92938.87000000001&lt;/div&gt;`)[0];\n",
       "                popup_66eb8b9926ac72633d88620c0dd2ef11.setContent(html_0c3abd0e39ab688427af8c4b469db7ed);\n",
       "            \n",
       "        \n",
       "\n",
       "        circle_marker_06594f190ca69348c48e3b5f19ed7aba.bindPopup(popup_66eb8b9926ac72633d88620c0dd2ef11)\n",
       "        ;\n",
       "\n",
       "        \n",
       "    \n",
       "    \n",
       "            circle_marker_06594f190ca69348c48e3b5f19ed7aba.bindTooltip(\n",
       "                `&lt;div&gt;\n",
       "                     Lajeado\n",
       "                 &lt;/div&gt;`,\n",
       "                {&quot;sticky&quot;: true}\n",
       "            );\n",
       "        \n",
       "    \n",
       "            var circle_marker_b5968f8f9f6df3bd7faedbcc8cf453f4 = L.circleMarker(\n",
       "                [-20.121, -40.3074],\n",
       "                {&quot;bubblingMouseEvents&quot;: true, &quot;color&quot;: &quot;red&quot;, &quot;dashArray&quot;: null, &quot;dashOffset&quot;: null, &quot;fill&quot;: true, &quot;fillColor&quot;: &quot;#E8710A&quot;, &quot;fillOpacity&quot;: 0.6, &quot;fillRule&quot;: &quot;evenodd&quot;, &quot;lineCap&quot;: &quot;round&quot;, &quot;lineJoin&quot;: &quot;round&quot;, &quot;opacity&quot;: 1, &quot;radius&quot;: 0.05982938881600196, &quot;stroke&quot;: true, &quot;weight&quot;: 5}\n",
       "            ).addTo(map_552b229ba55be69b8cadab1bd94bf1f2);\n",
       "        \n",
       "    \n",
       "        var popup_1972aad57becf228c459806260b123ec = L.popup({&quot;maxWidth&quot;: &quot;100%&quot;});\n",
       "\n",
       "        \n",
       "            \n",
       "                var html_98a4152da87ef6b899eec3233cf13dbd = $(`&lt;div id=&quot;html_98a4152da87ef6b899eec3233cf13dbd&quot; style=&quot;width: 100.0%; height: 100.0%;&quot;&gt;Valor Empenhado R$90404.36&lt;/div&gt;`)[0];\n",
       "                popup_1972aad57becf228c459806260b123ec.setContent(html_98a4152da87ef6b899eec3233cf13dbd);\n",
       "            \n",
       "        \n",
       "\n",
       "        circle_marker_b5968f8f9f6df3bd7faedbcc8cf453f4.bindPopup(popup_1972aad57becf228c459806260b123ec)\n",
       "        ;\n",
       "\n",
       "        \n",
       "    \n",
       "    \n",
       "            circle_marker_b5968f8f9f6df3bd7faedbcc8cf453f4.bindTooltip(\n",
       "                `&lt;div&gt;\n",
       "                     Serra\n",
       "                 &lt;/div&gt;`,\n",
       "                {&quot;sticky&quot;: true}\n",
       "            );\n",
       "        \n",
       "    \n",
       "            var circle_marker_338086042c2f79104ed067b581f6f5df = L.circleMarker(\n",
       "                [-27.6364, -52.2697],\n",
       "                {&quot;bubblingMouseEvents&quot;: true, &quot;color&quot;: &quot;red&quot;, &quot;dashArray&quot;: null, &quot;dashOffset&quot;: null, &quot;fill&quot;: true, &quot;fillColor&quot;: &quot;#E8710A&quot;, &quot;fillOpacity&quot;: 0.6, &quot;fillRule&quot;: &quot;evenodd&quot;, &quot;lineCap&quot;: &quot;round&quot;, &quot;lineJoin&quot;: &quot;round&quot;, &quot;opacity&quot;: 1, &quot;radius&quot;: 0.055574612605819904, &quot;stroke&quot;: true, &quot;weight&quot;: 5}\n",
       "            ).addTo(map_552b229ba55be69b8cadab1bd94bf1f2);\n",
       "        \n",
       "    \n",
       "        var popup_9e58e113a5191b74fceb8e9ba9cfa7e3 = L.popup({&quot;maxWidth&quot;: &quot;100%&quot;});\n",
       "\n",
       "        \n",
       "            \n",
       "                var html_3dd06e067ec9606b23debe70ac1e2cb7 = $(`&lt;div id=&quot;html_3dd06e067ec9606b23debe70ac1e2cb7&quot; style=&quot;width: 100.0%; height: 100.0%;&quot;&gt;Valor Empenhado R$83975.24&lt;/div&gt;`)[0];\n",
       "                popup_9e58e113a5191b74fceb8e9ba9cfa7e3.setContent(html_3dd06e067ec9606b23debe70ac1e2cb7);\n",
       "            \n",
       "        \n",
       "\n",
       "        circle_marker_338086042c2f79104ed067b581f6f5df.bindPopup(popup_9e58e113a5191b74fceb8e9ba9cfa7e3)\n",
       "        ;\n",
       "\n",
       "        \n",
       "    \n",
       "    \n",
       "            circle_marker_338086042c2f79104ed067b581f6f5df.bindTooltip(\n",
       "                `&lt;div&gt;\n",
       "                     Erechim\n",
       "                 &lt;/div&gt;`,\n",
       "                {&quot;sticky&quot;: true}\n",
       "            );\n",
       "        \n",
       "    \n",
       "            var circle_marker_a5ebd97efb545639a66d9722860071df = L.circleMarker(\n",
       "                [-26.2292, -52.6706],\n",
       "                {&quot;bubblingMouseEvents&quot;: true, &quot;color&quot;: &quot;red&quot;, &quot;dashArray&quot;: null, &quot;dashOffset&quot;: null, &quot;fill&quot;: true, &quot;fillColor&quot;: &quot;#E8710A&quot;, &quot;fillOpacity&quot;: 0.6, &quot;fillRule&quot;: &quot;evenodd&quot;, &quot;lineCap&quot;: &quot;round&quot;, &quot;lineJoin&quot;: &quot;round&quot;, &quot;opacity&quot;: 1, &quot;radius&quot;: 0.052973020045742204, &quot;stroke&quot;: true, &quot;weight&quot;: 5}\n",
       "            ).addTo(map_552b229ba55be69b8cadab1bd94bf1f2);\n",
       "        \n",
       "    \n",
       "        var popup_0de573557d97e025c1fee86254e28eac = L.popup({&quot;maxWidth&quot;: &quot;100%&quot;});\n",
       "\n",
       "        \n",
       "            \n",
       "                var html_98ffce873cc0277c353f68f6449afaa1 = $(`&lt;div id=&quot;html_98ffce873cc0277c353f68f6449afaa1&quot; style=&quot;width: 100.0%; height: 100.0%;&quot;&gt;Valor Empenhado R$80044.14&lt;/div&gt;`)[0];\n",
       "                popup_0de573557d97e025c1fee86254e28eac.setContent(html_98ffce873cc0277c353f68f6449afaa1);\n",
       "            \n",
       "        \n",
       "\n",
       "        circle_marker_a5ebd97efb545639a66d9722860071df.bindPopup(popup_0de573557d97e025c1fee86254e28eac)\n",
       "        ;\n",
       "\n",
       "        \n",
       "    \n",
       "    \n",
       "            circle_marker_a5ebd97efb545639a66d9722860071df.bindTooltip(\n",
       "                `&lt;div&gt;\n",
       "                     Pato Branco\n",
       "                 &lt;/div&gt;`,\n",
       "                {&quot;sticky&quot;: true}\n",
       "            );\n",
       "        \n",
       "    \n",
       "            var circle_marker_18d062019333d6ba065fe4987766476f = L.circleMarker(\n",
       "                [-24.7246, -53.7412],\n",
       "                {&quot;bubblingMouseEvents&quot;: true, &quot;color&quot;: &quot;red&quot;, &quot;dashArray&quot;: null, &quot;dashOffset&quot;: null, &quot;fill&quot;: true, &quot;fillColor&quot;: &quot;#E8710A&quot;, &quot;fillOpacity&quot;: 0.6, &quot;fillRule&quot;: &quot;evenodd&quot;, &quot;lineCap&quot;: &quot;round&quot;, &quot;lineJoin&quot;: &quot;round&quot;, &quot;opacity&quot;: 1, &quot;radius&quot;: 0.04931953990236979, &quot;stroke&quot;: true, &quot;weight&quot;: 5}\n",
       "            ).addTo(map_552b229ba55be69b8cadab1bd94bf1f2);\n",
       "        \n",
       "    \n",
       "        var popup_f17c7b681b280129c25e5bd8f5549baa = L.popup({&quot;maxWidth&quot;: &quot;100%&quot;});\n",
       "\n",
       "        \n",
       "            \n",
       "                var html_0b96b290dd6a066ce11ca436e70ac46e = $(`&lt;div id=&quot;html_0b96b290dd6a066ce11ca436e70ac46e&quot; style=&quot;width: 100.0%; height: 100.0%;&quot;&gt;Valor Empenhado R$74523.6&lt;/div&gt;`)[0];\n",
       "                popup_f17c7b681b280129c25e5bd8f5549baa.setContent(html_0b96b290dd6a066ce11ca436e70ac46e);\n",
       "            \n",
       "        \n",
       "\n",
       "        circle_marker_18d062019333d6ba065fe4987766476f.bindPopup(popup_f17c7b681b280129c25e5bd8f5549baa)\n",
       "        ;\n",
       "\n",
       "        \n",
       "    \n",
       "    \n",
       "            circle_marker_18d062019333d6ba065fe4987766476f.bindTooltip(\n",
       "                `&lt;div&gt;\n",
       "                     Toledo\n",
       "                 &lt;/div&gt;`,\n",
       "                {&quot;sticky&quot;: true}\n",
       "            );\n",
       "        \n",
       "    \n",
       "            var circle_marker_6bf00aba5e28c2d007dfed38903858c8 = L.circleMarker(\n",
       "                [-27.7051, -52.4169],\n",
       "                {&quot;bubblingMouseEvents&quot;: true, &quot;color&quot;: &quot;red&quot;, &quot;dashArray&quot;: null, &quot;dashOffset&quot;: null, &quot;fill&quot;: true, &quot;fillColor&quot;: &quot;#E8710A&quot;, &quot;fillOpacity&quot;: 0.6, &quot;fillRule&quot;: &quot;evenodd&quot;, &quot;lineCap&quot;: &quot;round&quot;, &quot;lineJoin&quot;: &quot;round&quot;, &quot;opacity&quot;: 1, &quot;radius&quot;: 0.04094762814763234, &quot;stroke&quot;: true, &quot;weight&quot;: 5}\n",
       "            ).addTo(map_552b229ba55be69b8cadab1bd94bf1f2);\n",
       "        \n",
       "    \n",
       "        var popup_09f41e358e54a55cad87e9612cb5d0f5 = L.popup({&quot;maxWidth&quot;: &quot;100%&quot;});\n",
       "\n",
       "        \n",
       "            \n",
       "                var html_c6d4f510d5034eb215f3cf968d2134fe = $(`&lt;div id=&quot;html_c6d4f510d5034eb215f3cf968d2134fe&quot; style=&quot;width: 100.0%; height: 100.0%;&quot;&gt;Valor Empenhado R$61873.34&lt;/div&gt;`)[0];\n",
       "                popup_09f41e358e54a55cad87e9612cb5d0f5.setContent(html_c6d4f510d5034eb215f3cf968d2134fe);\n",
       "            \n",
       "        \n",
       "\n",
       "        circle_marker_6bf00aba5e28c2d007dfed38903858c8.bindPopup(popup_09f41e358e54a55cad87e9612cb5d0f5)\n",
       "        ;\n",
       "\n",
       "        \n",
       "    \n",
       "    \n",
       "            circle_marker_6bf00aba5e28c2d007dfed38903858c8.bindTooltip(\n",
       "                `&lt;div&gt;\n",
       "                     Paulo Bento\n",
       "                 &lt;/div&gt;`,\n",
       "                {&quot;sticky&quot;: true}\n",
       "            );\n",
       "        \n",
       "    \n",
       "            var circle_marker_c678ef16e3e6d633b86cfa4a8dcd1622 = L.circleMarker(\n",
       "                [-29.4856, -51.3548],\n",
       "                {&quot;bubblingMouseEvents&quot;: true, &quot;color&quot;: &quot;red&quot;, &quot;dashArray&quot;: null, &quot;dashOffset&quot;: null, &quot;fill&quot;: true, &quot;fillColor&quot;: &quot;#E8710A&quot;, &quot;fillOpacity&quot;: 0.6, &quot;fillRule&quot;: &quot;evenodd&quot;, &quot;lineCap&quot;: &quot;round&quot;, &quot;lineJoin&quot;: &quot;round&quot;, &quot;opacity&quot;: 1, &quot;radius&quot;: 0.04008161303932513, &quot;stroke&quot;: true, &quot;weight&quot;: 5}\n",
       "            ).addTo(map_552b229ba55be69b8cadab1bd94bf1f2);\n",
       "        \n",
       "    \n",
       "        var popup_46a3d62a1fae2a4849a0ba92894f0025 = L.popup({&quot;maxWidth&quot;: &quot;100%&quot;});\n",
       "\n",
       "        \n",
       "            \n",
       "                var html_de6b5bb359ca9f55694d0091916dd250 = $(`&lt;div id=&quot;html_de6b5bb359ca9f55694d0091916dd250&quot; style=&quot;width: 100.0%; height: 100.0%;&quot;&gt;Valor Empenhado R$60564.759999999995&lt;/div&gt;`)[0];\n",
       "                popup_46a3d62a1fae2a4849a0ba92894f0025.setContent(html_de6b5bb359ca9f55694d0091916dd250);\n",
       "            \n",
       "        \n",
       "\n",
       "        circle_marker_c678ef16e3e6d633b86cfa4a8dcd1622.bindPopup(popup_46a3d62a1fae2a4849a0ba92894f0025)\n",
       "        ;\n",
       "\n",
       "        \n",
       "    \n",
       "    \n",
       "            circle_marker_c678ef16e3e6d633b86cfa4a8dcd1622.bindTooltip(\n",
       "                `&lt;div&gt;\n",
       "                     Bom Princípio\n",
       "                 &lt;/div&gt;`,\n",
       "                {&quot;sticky&quot;: true}\n",
       "            );\n",
       "        \n",
       "    \n",
       "            var circle_marker_8429176b7d5603ce0f9cdc18a6deb668 = L.circleMarker(\n",
       "                [-27.5003, -52.1448],\n",
       "                {&quot;bubblingMouseEvents&quot;: true, &quot;color&quot;: &quot;red&quot;, &quot;dashArray&quot;: null, &quot;dashOffset&quot;: null, &quot;fill&quot;: true, &quot;fillColor&quot;: &quot;#E8710A&quot;, &quot;fillOpacity&quot;: 0.6, &quot;fillRule&quot;: &quot;evenodd&quot;, &quot;lineCap&quot;: &quot;round&quot;, &quot;lineJoin&quot;: &quot;round&quot;, &quot;opacity&quot;: 1, &quot;radius&quot;: 0.037926879457247396, &quot;stroke&quot;: true, &quot;weight&quot;: 5}\n",
       "            ).addTo(map_552b229ba55be69b8cadab1bd94bf1f2);\n",
       "        \n",
       "    \n",
       "        var popup_b68999da5a6bdae5c122eded48cb6c52 = L.popup({&quot;maxWidth&quot;: &quot;100%&quot;});\n",
       "\n",
       "        \n",
       "            \n",
       "                var html_fdb19a3df6a5a5bc96c50406820ae74b = $(`&lt;div id=&quot;html_fdb19a3df6a5a5bc96c50406820ae74b&quot; style=&quot;width: 100.0%; height: 100.0%;&quot;&gt;Valor Empenhado R$57308.88&lt;/div&gt;`)[0];\n",
       "                popup_b68999da5a6bdae5c122eded48cb6c52.setContent(html_fdb19a3df6a5a5bc96c50406820ae74b);\n",
       "            \n",
       "        \n",
       "\n",
       "        circle_marker_8429176b7d5603ce0f9cdc18a6deb668.bindPopup(popup_b68999da5a6bdae5c122eded48cb6c52)\n",
       "        ;\n",
       "\n",
       "        \n",
       "    \n",
       "    \n",
       "            circle_marker_8429176b7d5603ce0f9cdc18a6deb668.bindTooltip(\n",
       "                `&lt;div&gt;\n",
       "                     Três Arroios\n",
       "                 &lt;/div&gt;`,\n",
       "                {&quot;sticky&quot;: true}\n",
       "            );\n",
       "        \n",
       "    \n",
       "            var circle_marker_166f6dfd77e0316c9610b384ada23e95 = L.circleMarker(\n",
       "                [-28.5632, -52.7495],\n",
       "                {&quot;bubblingMouseEvents&quot;: true, &quot;color&quot;: &quot;red&quot;, &quot;dashArray&quot;: null, &quot;dashOffset&quot;: null, &quot;fill&quot;: true, &quot;fillColor&quot;: &quot;#E8710A&quot;, &quot;fillOpacity&quot;: 0.6, &quot;fillRule&quot;: &quot;evenodd&quot;, &quot;lineCap&quot;: &quot;round&quot;, &quot;lineJoin&quot;: &quot;round&quot;, &quot;opacity&quot;: 1, &quot;radius&quot;: 0.034512745035245006, &quot;stroke&quot;: true, &quot;weight&quot;: 5}\n",
       "            ).addTo(map_552b229ba55be69b8cadab1bd94bf1f2);\n",
       "        \n",
       "    \n",
       "        var popup_2efcd13bae200eeaefd2ca5a0456b579 = L.popup({&quot;maxWidth&quot;: &quot;100%&quot;});\n",
       "\n",
       "        \n",
       "            \n",
       "                var html_75b194a9524376eb5cdf1e37ac1d7ff1 = $(`&lt;div id=&quot;html_75b194a9524376eb5cdf1e37ac1d7ff1&quot; style=&quot;width: 100.0%; height: 100.0%;&quot;&gt;Valor Empenhado R$52150.0&lt;/div&gt;`)[0];\n",
       "                popup_2efcd13bae200eeaefd2ca5a0456b579.setContent(html_75b194a9524376eb5cdf1e37ac1d7ff1);\n",
       "            \n",
       "        \n",
       "\n",
       "        circle_marker_166f6dfd77e0316c9610b384ada23e95.bindPopup(popup_2efcd13bae200eeaefd2ca5a0456b579)\n",
       "        ;\n",
       "\n",
       "        \n",
       "    \n",
       "    \n",
       "            circle_marker_166f6dfd77e0316c9610b384ada23e95.bindTooltip(\n",
       "                `&lt;div&gt;\n",
       "                     Victor Graeff\n",
       "                 &lt;/div&gt;`,\n",
       "                {&quot;sticky&quot;: true}\n",
       "            );\n",
       "        \n",
       "    \n",
       "            var circle_marker_ba27924d586b4aa932396339f672cb58 = L.circleMarker(\n",
       "                [-27.6208, -52.3798],\n",
       "                {&quot;bubblingMouseEvents&quot;: true, &quot;color&quot;: &quot;red&quot;, &quot;dashArray&quot;: null, &quot;dashOffset&quot;: null, &quot;fill&quot;: true, &quot;fillColor&quot;: &quot;#E8710A&quot;, &quot;fillOpacity&quot;: 0.6, &quot;fillRule&quot;: &quot;evenodd&quot;, &quot;lineCap&quot;: &quot;round&quot;, &quot;lineJoin&quot;: &quot;round&quot;, &quot;opacity&quot;: 1, &quot;radius&quot;: 0.0317348959193622, &quot;stroke&quot;: true, &quot;weight&quot;: 5}\n",
       "            ).addTo(map_552b229ba55be69b8cadab1bd94bf1f2);\n",
       "        \n",
       "    \n",
       "        var popup_8ba143d71dd508079f54b0c49b8c885f = L.popup({&quot;maxWidth&quot;: &quot;100%&quot;});\n",
       "\n",
       "        \n",
       "            \n",
       "                var html_f20310d60b42e72a85a0275d9cf01fb0 = $(`&lt;div id=&quot;html_f20310d60b42e72a85a0275d9cf01fb0&quot; style=&quot;width: 100.0%; height: 100.0%;&quot;&gt;Valor Empenhado R$47952.57&lt;/div&gt;`)[0];\n",
       "                popup_8ba143d71dd508079f54b0c49b8c885f.setContent(html_f20310d60b42e72a85a0275d9cf01fb0);\n",
       "            \n",
       "        \n",
       "\n",
       "        circle_marker_ba27924d586b4aa932396339f672cb58.bindPopup(popup_8ba143d71dd508079f54b0c49b8c885f)\n",
       "        ;\n",
       "\n",
       "        \n",
       "    \n",
       "    \n",
       "            circle_marker_ba27924d586b4aa932396339f672cb58.bindTooltip(\n",
       "                `&lt;div&gt;\n",
       "                     Barão de Cotegipe\n",
       "                 &lt;/div&gt;`,\n",
       "                {&quot;sticky&quot;: true}\n",
       "            );\n",
       "        \n",
       "    \n",
       "            var circle_marker_0a9481aec5c5790725bfb70d9166251c = L.circleMarker(\n",
       "                [-27.0704, -52.867],\n",
       "                {&quot;bubblingMouseEvents&quot;: true, &quot;color&quot;: &quot;red&quot;, &quot;dashArray&quot;: null, &quot;dashOffset&quot;: null, &quot;fill&quot;: true, &quot;fillColor&quot;: &quot;#E8710A&quot;, &quot;fillOpacity&quot;: 0.6, &quot;fillRule&quot;: &quot;evenodd&quot;, &quot;lineCap&quot;: &quot;round&quot;, &quot;lineJoin&quot;: &quot;round&quot;, &quot;opacity&quot;: 1, &quot;radius&quot;: 0.028386517707267803, &quot;stroke&quot;: true, &quot;weight&quot;: 5}\n",
       "            ).addTo(map_552b229ba55be69b8cadab1bd94bf1f2);\n",
       "        \n",
       "    \n",
       "        var popup_c96aa852a97085be3558d158cc467da7 = L.popup({&quot;maxWidth&quot;: &quot;100%&quot;});\n",
       "\n",
       "        \n",
       "            \n",
       "                var html_0743895602e3c409448fcc80b73e1aea = $(`&lt;div id=&quot;html_0743895602e3c409448fcc80b73e1aea&quot; style=&quot;width: 100.0%; height: 100.0%;&quot;&gt;Valor Empenhado R$42893.05&lt;/div&gt;`)[0];\n",
       "                popup_c96aa852a97085be3558d158cc467da7.setContent(html_0743895602e3c409448fcc80b73e1aea);\n",
       "            \n",
       "        \n",
       "\n",
       "        circle_marker_0a9481aec5c5790725bfb70d9166251c.bindPopup(popup_c96aa852a97085be3558d158cc467da7)\n",
       "        ;\n",
       "\n",
       "        \n",
       "    \n",
       "    \n",
       "            circle_marker_0a9481aec5c5790725bfb70d9166251c.bindTooltip(\n",
       "                `&lt;div&gt;\n",
       "                     Planalto Alegre\n",
       "                 &lt;/div&gt;`,\n",
       "                {&quot;sticky&quot;: true}\n",
       "            );\n",
       "        \n",
       "    \n",
       "            var circle_marker_47de1cbae251b2b48f6ba0259c0936ed = L.circleMarker(\n",
       "                [-29.4527, -51.3032],\n",
       "                {&quot;bubblingMouseEvents&quot;: true, &quot;color&quot;: &quot;red&quot;, &quot;dashArray&quot;: null, &quot;dashOffset&quot;: null, &quot;fill&quot;: true, &quot;fillColor&quot;: &quot;#E8710A&quot;, &quot;fillOpacity&quot;: 0.6, &quot;fillRule&quot;: &quot;evenodd&quot;, &quot;lineCap&quot;: &quot;round&quot;, &quot;lineJoin&quot;: &quot;round&quot;, &quot;opacity&quot;: 1, &quot;radius&quot;: 0.02335312999830499, &quot;stroke&quot;: true, &quot;weight&quot;: 5}\n",
       "            ).addTo(map_552b229ba55be69b8cadab1bd94bf1f2);\n",
       "        \n",
       "    \n",
       "        var popup_fb975031ccf4518754cbbcd6f48fc8fb = L.popup({&quot;maxWidth&quot;: &quot;100%&quot;});\n",
       "\n",
       "        \n",
       "            \n",
       "                var html_ebea12bab66d41fc5b34ab97b7b1ff7b = $(`&lt;div id=&quot;html_ebea12bab66d41fc5b34ab97b7b1ff7b&quot; style=&quot;width: 100.0%; height: 100.0%;&quot;&gt;Valor Empenhado R$35287.42&lt;/div&gt;`)[0];\n",
       "                popup_fb975031ccf4518754cbbcd6f48fc8fb.setContent(html_ebea12bab66d41fc5b34ab97b7b1ff7b);\n",
       "            \n",
       "        \n",
       "\n",
       "        circle_marker_47de1cbae251b2b48f6ba0259c0936ed.bindPopup(popup_fb975031ccf4518754cbbcd6f48fc8fb)\n",
       "        ;\n",
       "\n",
       "        \n",
       "    \n",
       "    \n",
       "            circle_marker_47de1cbae251b2b48f6ba0259c0936ed.bindTooltip(\n",
       "                `&lt;div&gt;\n",
       "                     Feliz\n",
       "                 &lt;/div&gt;`,\n",
       "                {&quot;sticky&quot;: true}\n",
       "            );\n",
       "        \n",
       "    \n",
       "            var circle_marker_e609cba024882d28de7dfd2a93bc48d5 = L.circleMarker(\n",
       "                [-29.4482, -51.8044],\n",
       "                {&quot;bubblingMouseEvents&quot;: true, &quot;color&quot;: &quot;red&quot;, &quot;dashArray&quot;: null, &quot;dashOffset&quot;: null, &quot;fill&quot;: true, &quot;fillColor&quot;: &quot;#E8710A&quot;, &quot;fillOpacity&quot;: 0.6, &quot;fillRule&quot;: &quot;evenodd&quot;, &quot;lineCap&quot;: &quot;round&quot;, &quot;lineJoin&quot;: &quot;round&quot;, &quot;opacity&quot;: 1, &quot;radius&quot;: 0.022944516303825387, &quot;stroke&quot;: true, &quot;weight&quot;: 5}\n",
       "            ).addTo(map_552b229ba55be69b8cadab1bd94bf1f2);\n",
       "        \n",
       "    \n",
       "        var popup_6281d87e6b47e1fd2d4595f1ba5cf555 = L.popup({&quot;maxWidth&quot;: &quot;100%&quot;});\n",
       "\n",
       "        \n",
       "            \n",
       "                var html_da601f379da3fbea9c62b3e5348873b2 = $(`&lt;div id=&quot;html_da601f379da3fbea9c62b3e5348873b2&quot; style=&quot;width: 100.0%; height: 100.0%;&quot;&gt;Valor Empenhado R$34669.99&lt;/div&gt;`)[0];\n",
       "                popup_6281d87e6b47e1fd2d4595f1ba5cf555.setContent(html_da601f379da3fbea9c62b3e5348873b2);\n",
       "            \n",
       "        \n",
       "\n",
       "        circle_marker_e609cba024882d28de7dfd2a93bc48d5.bindPopup(popup_6281d87e6b47e1fd2d4595f1ba5cf555)\n",
       "        ;\n",
       "\n",
       "        \n",
       "    \n",
       "    \n",
       "            circle_marker_e609cba024882d28de7dfd2a93bc48d5.bindTooltip(\n",
       "                `&lt;div&gt;\n",
       "                     Teutônia\n",
       "                 &lt;/div&gt;`,\n",
       "                {&quot;sticky&quot;: true}\n",
       "            );\n",
       "        \n",
       "    \n",
       "            var circle_marker_8910524a56d6c61d774caa295539e0aa = L.circleMarker(\n",
       "                [-27.7707, -51.5966],\n",
       "                {&quot;bubblingMouseEvents&quot;: true, &quot;color&quot;: &quot;red&quot;, &quot;dashArray&quot;: null, &quot;dashOffset&quot;: null, &quot;fill&quot;: true, &quot;fillColor&quot;: &quot;#E8710A&quot;, &quot;fillOpacity&quot;: 0.6, &quot;fillRule&quot;: &quot;evenodd&quot;, &quot;lineCap&quot;: &quot;round&quot;, &quot;lineJoin&quot;: &quot;round&quot;, &quot;opacity&quot;: 1, &quot;radius&quot;: 0.022898197089539354, &quot;stroke&quot;: true, &quot;weight&quot;: 5}\n",
       "            ).addTo(map_552b229ba55be69b8cadab1bd94bf1f2);\n",
       "        \n",
       "    \n",
       "        var popup_9ff7cfe4c49fff3cc596646b24b9f0eb = L.popup({&quot;maxWidth&quot;: &quot;100%&quot;});\n",
       "\n",
       "        \n",
       "            \n",
       "                var html_d292bfefcbdb043c89b0065999171bf3 = $(`&lt;div id=&quot;html_d292bfefcbdb043c89b0065999171bf3&quot; style=&quot;width: 100.0%; height: 100.0%;&quot;&gt;Valor Empenhado R$34600.0&lt;/div&gt;`)[0];\n",
       "                popup_9ff7cfe4c49fff3cc596646b24b9f0eb.setContent(html_d292bfefcbdb043c89b0065999171bf3);\n",
       "            \n",
       "        \n",
       "\n",
       "        circle_marker_8910524a56d6c61d774caa295539e0aa.bindPopup(popup_9ff7cfe4c49fff3cc596646b24b9f0eb)\n",
       "        ;\n",
       "\n",
       "        \n",
       "    \n",
       "    \n",
       "            circle_marker_8910524a56d6c61d774caa295539e0aa.bindTooltip(\n",
       "                `&lt;div&gt;\n",
       "                     São José do Ouro\n",
       "                 &lt;/div&gt;`,\n",
       "                {&quot;sticky&quot;: true}\n",
       "            );\n",
       "        \n",
       "    \n",
       "            var circle_marker_ad50f8f30d39e25042f86788dd99c542 = L.circleMarker(\n",
       "                [-29.0451, -51.7684],\n",
       "                {&quot;bubblingMouseEvents&quot;: true, &quot;color&quot;: &quot;red&quot;, &quot;dashArray&quot;: null, &quot;dashOffset&quot;: null, &quot;fill&quot;: true, &quot;fillColor&quot;: &quot;#E8710A&quot;, &quot;fillOpacity&quot;: 0.6, &quot;fillRule&quot;: &quot;evenodd&quot;, &quot;lineCap&quot;: &quot;round&quot;, &quot;lineJoin&quot;: &quot;round&quot;, &quot;opacity&quot;: 1, &quot;radius&quot;: 0.021474855747215246, &quot;stroke&quot;: true, &quot;weight&quot;: 5}\n",
       "            ).addTo(map_552b229ba55be69b8cadab1bd94bf1f2);\n",
       "        \n",
       "    \n",
       "        var popup_8cf062ce7f1cc285289e3226ff00458d = L.popup({&quot;maxWidth&quot;: &quot;100%&quot;});\n",
       "\n",
       "        \n",
       "            \n",
       "                var html_26e89edfa6c0afb49a410666368fd5ef = $(`&lt;div id=&quot;html_26e89edfa6c0afb49a410666368fd5ef&quot; style=&quot;width: 100.0%; height: 100.0%;&quot;&gt;Valor Empenhado R$32449.28&lt;/div&gt;`)[0];\n",
       "                popup_8cf062ce7f1cc285289e3226ff00458d.setContent(html_26e89edfa6c0afb49a410666368fd5ef);\n",
       "            \n",
       "        \n",
       "\n",
       "        circle_marker_ad50f8f30d39e25042f86788dd99c542.bindPopup(popup_8cf062ce7f1cc285289e3226ff00458d)\n",
       "        ;\n",
       "\n",
       "        \n",
       "    \n",
       "    \n",
       "            circle_marker_ad50f8f30d39e25042f86788dd99c542.bindTooltip(\n",
       "                `&lt;div&gt;\n",
       "                     São Valentim do Sul\n",
       "                 &lt;/div&gt;`,\n",
       "                {&quot;sticky&quot;: true}\n",
       "            );\n",
       "        \n",
       "    \n",
       "            var circle_marker_8ff28cad947601d0665a5325201f3455 = L.circleMarker(\n",
       "                [-26.9155, -49.0709],\n",
       "                {&quot;bubblingMouseEvents&quot;: true, &quot;color&quot;: &quot;red&quot;, &quot;dashArray&quot;: null, &quot;dashOffset&quot;: null, &quot;fill&quot;: true, &quot;fillColor&quot;: &quot;#E8710A&quot;, &quot;fillOpacity&quot;: 0.6, &quot;fillRule&quot;: &quot;evenodd&quot;, &quot;lineCap&quot;: &quot;round&quot;, &quot;lineJoin&quot;: &quot;round&quot;, &quot;opacity&quot;: 1, &quot;radius&quot;: 0.019787655700278444, &quot;stroke&quot;: true, &quot;weight&quot;: 5}\n",
       "            ).addTo(map_552b229ba55be69b8cadab1bd94bf1f2);\n",
       "        \n",
       "    \n",
       "        var popup_d19e40da01fa9aa86306f678385b5bf9 = L.popup({&quot;maxWidth&quot;: &quot;100%&quot;});\n",
       "\n",
       "        \n",
       "            \n",
       "                var html_91febd2a715d08654042fe9381ad7ee3 = $(`&lt;div id=&quot;html_91febd2a715d08654042fe9381ad7ee3&quot; style=&quot;width: 100.0%; height: 100.0%;&quot;&gt;Valor Empenhado R$29899.86&lt;/div&gt;`)[0];\n",
       "                popup_d19e40da01fa9aa86306f678385b5bf9.setContent(html_91febd2a715d08654042fe9381ad7ee3);\n",
       "            \n",
       "        \n",
       "\n",
       "        circle_marker_8ff28cad947601d0665a5325201f3455.bindPopup(popup_d19e40da01fa9aa86306f678385b5bf9)\n",
       "        ;\n",
       "\n",
       "        \n",
       "    \n",
       "    \n",
       "            circle_marker_8ff28cad947601d0665a5325201f3455.bindTooltip(\n",
       "                `&lt;div&gt;\n",
       "                     Blumenau\n",
       "                 &lt;/div&gt;`,\n",
       "                {&quot;sticky&quot;: true}\n",
       "            );\n",
       "        \n",
       "    \n",
       "            var circle_marker_f6b7536ce513df9427baf60ba56da25e = L.circleMarker(\n",
       "                [-28.2958, -52.7933],\n",
       "                {&quot;bubblingMouseEvents&quot;: true, &quot;color&quot;: &quot;red&quot;, &quot;dashArray&quot;: null, &quot;dashOffset&quot;: null, &quot;fill&quot;: true, &quot;fillColor&quot;: &quot;#E8710A&quot;, &quot;fillOpacity&quot;: 0.6, &quot;fillRule&quot;: &quot;evenodd&quot;, &quot;lineCap&quot;: &quot;round&quot;, &quot;lineJoin&quot;: &quot;round&quot;, &quot;opacity&quot;: 1, &quot;radius&quot;: 0.019356256314301934, &quot;stroke&quot;: true, &quot;weight&quot;: 5}\n",
       "            ).addTo(map_552b229ba55be69b8cadab1bd94bf1f2);\n",
       "        \n",
       "    \n",
       "        var popup_45590151ce904346a949f16d7014cdb9 = L.popup({&quot;maxWidth&quot;: &quot;100%&quot;});\n",
       "\n",
       "        \n",
       "            \n",
       "                var html_7a9fd0107c55c973c5e0ce4b57d3ee89 = $(`&lt;div id=&quot;html_7a9fd0107c55c973c5e0ce4b57d3ee89&quot; style=&quot;width: 100.0%; height: 100.0%;&quot;&gt;Valor Empenhado R$29248.0&lt;/div&gt;`)[0];\n",
       "                popup_45590151ce904346a949f16d7014cdb9.setContent(html_7a9fd0107c55c973c5e0ce4b57d3ee89);\n",
       "            \n",
       "        \n",
       "\n",
       "        circle_marker_f6b7536ce513df9427baf60ba56da25e.bindPopup(popup_45590151ce904346a949f16d7014cdb9)\n",
       "        ;\n",
       "\n",
       "        \n",
       "    \n",
       "    \n",
       "            circle_marker_f6b7536ce513df9427baf60ba56da25e.bindTooltip(\n",
       "                `&lt;div&gt;\n",
       "                     Carazinho\n",
       "                 &lt;/div&gt;`,\n",
       "                {&quot;sticky&quot;: true}\n",
       "            );\n",
       "        \n",
       "    \n",
       "            var circle_marker_b07c3a86ef3f29158a8080c71d7e79bd = L.circleMarker(\n",
       "                [-28.0566, -51.8599],\n",
       "                {&quot;bubblingMouseEvents&quot;: true, &quot;color&quot;: &quot;red&quot;, &quot;dashArray&quot;: null, &quot;dashOffset&quot;: null, &quot;fill&quot;: true, &quot;fillColor&quot;: &quot;#E8710A&quot;, &quot;fillOpacity&quot;: 0.6, &quot;fillRule&quot;: &quot;evenodd&quot;, &quot;lineCap&quot;: &quot;round&quot;, &quot;lineJoin&quot;: &quot;round&quot;, &quot;opacity&quot;: 1, &quot;radius&quot;: 0.018481459151793046, &quot;stroke&quot;: true, &quot;weight&quot;: 5}\n",
       "            ).addTo(map_552b229ba55be69b8cadab1bd94bf1f2);\n",
       "        \n",
       "    \n",
       "        var popup_8c1afbf21c959dc4616ee082d8be0e65 = L.popup({&quot;maxWidth&quot;: &quot;100%&quot;});\n",
       "\n",
       "        \n",
       "            \n",
       "                var html_6bb74857744d06e8b36e452087a0ef3a = $(`&lt;div id=&quot;html_6bb74857744d06e8b36e452087a0ef3a&quot; style=&quot;width: 100.0%; height: 100.0%;&quot;&gt;Valor Empenhado R$27926.15&lt;/div&gt;`)[0];\n",
       "                popup_8c1afbf21c959dc4616ee082d8be0e65.setContent(html_6bb74857744d06e8b36e452087a0ef3a);\n",
       "            \n",
       "        \n",
       "\n",
       "        circle_marker_b07c3a86ef3f29158a8080c71d7e79bd.bindPopup(popup_8c1afbf21c959dc4616ee082d8be0e65)\n",
       "        ;\n",
       "\n",
       "        \n",
       "    \n",
       "    \n",
       "            circle_marker_b07c3a86ef3f29158a8080c71d7e79bd.bindTooltip(\n",
       "                `&lt;div&gt;\n",
       "                     Ibiaçá\n",
       "                 &lt;/div&gt;`,\n",
       "                {&quot;sticky&quot;: true}\n",
       "            );\n",
       "        \n",
       "    \n",
       "            var circle_marker_0f2aba20038857384286646b93e0e7aa = L.circleMarker(\n",
       "                [-28.1463, -54.7428],\n",
       "                {&quot;bubblingMouseEvents&quot;: true, &quot;color&quot;: &quot;red&quot;, &quot;dashArray&quot;: null, &quot;dashOffset&quot;: null, &quot;fill&quot;: true, &quot;fillColor&quot;: &quot;#E8710A&quot;, &quot;fillOpacity&quot;: 0.6, &quot;fillRule&quot;: &quot;evenodd&quot;, &quot;lineCap&quot;: &quot;round&quot;, &quot;lineJoin&quot;: &quot;round&quot;, &quot;opacity&quot;: 1, &quot;radius&quot;: 0.017646171306227667, &quot;stroke&quot;: true, &quot;weight&quot;: 5}\n",
       "            ).addTo(map_552b229ba55be69b8cadab1bd94bf1f2);\n",
       "        \n",
       "    \n",
       "        var popup_e1ad66a5f41fa9833ac7ab3437e52ea4 = L.popup({&quot;maxWidth&quot;: &quot;100%&quot;});\n",
       "\n",
       "        \n",
       "            \n",
       "                var html_2dbdc72bd1530afcb26d0bf13d1c5945 = $(`&lt;div id=&quot;html_2dbdc72bd1530afcb26d0bf13d1c5945&quot; style=&quot;width: 100.0%; height: 100.0%;&quot;&gt;Valor Empenhado R$26664.0&lt;/div&gt;`)[0];\n",
       "                popup_e1ad66a5f41fa9833ac7ab3437e52ea4.setContent(html_2dbdc72bd1530afcb26d0bf13d1c5945);\n",
       "            \n",
       "        \n",
       "\n",
       "        circle_marker_0f2aba20038857384286646b93e0e7aa.bindPopup(popup_e1ad66a5f41fa9833ac7ab3437e52ea4)\n",
       "        ;\n",
       "\n",
       "        \n",
       "    \n",
       "    \n",
       "            circle_marker_0f2aba20038857384286646b93e0e7aa.bindTooltip(\n",
       "                `&lt;div&gt;\n",
       "                     Cerro Largo\n",
       "                 &lt;/div&gt;`,\n",
       "                {&quot;sticky&quot;: true}\n",
       "            );\n",
       "        \n",
       "    \n",
       "            var circle_marker_0afb4a7efdca7bedbd933be16092334e = L.circleMarker(\n",
       "                [-29.8268, -50.5175],\n",
       "                {&quot;bubblingMouseEvents&quot;: true, &quot;color&quot;: &quot;red&quot;, &quot;dashArray&quot;: null, &quot;dashOffset&quot;: null, &quot;fill&quot;: true, &quot;fillColor&quot;: &quot;#E8710A&quot;, &quot;fillOpacity&quot;: 0.6, &quot;fillRule&quot;: &quot;evenodd&quot;, &quot;lineCap&quot;: &quot;round&quot;, &quot;lineJoin&quot;: &quot;round&quot;, &quot;opacity&quot;: 1, &quot;radius&quot;: 0.01707496717646026, &quot;stroke&quot;: true, &quot;weight&quot;: 5}\n",
       "            ).addTo(map_552b229ba55be69b8cadab1bd94bf1f2);\n",
       "        \n",
       "    \n",
       "        var popup_df5b857406562c96dea086ed637c942d = L.popup({&quot;maxWidth&quot;: &quot;100%&quot;});\n",
       "\n",
       "        \n",
       "            \n",
       "                var html_390fcab6adf0d6c58c5f91115ccdc373 = $(`&lt;div id=&quot;html_390fcab6adf0d6c58c5f91115ccdc373&quot; style=&quot;width: 100.0%; height: 100.0%;&quot;&gt;Valor Empenhado R$25800.89&lt;/div&gt;`)[0];\n",
       "                popup_df5b857406562c96dea086ed637c942d.setContent(html_390fcab6adf0d6c58c5f91115ccdc373);\n",
       "            \n",
       "        \n",
       "\n",
       "        circle_marker_0afb4a7efdca7bedbd933be16092334e.bindPopup(popup_df5b857406562c96dea086ed637c942d)\n",
       "        ;\n",
       "\n",
       "        \n",
       "    \n",
       "    \n",
       "            circle_marker_0afb4a7efdca7bedbd933be16092334e.bindTooltip(\n",
       "                `&lt;div&gt;\n",
       "                     Santo Antônio da Patrulha\n",
       "                 &lt;/div&gt;`,\n",
       "                {&quot;sticky&quot;: true}\n",
       "            );\n",
       "        \n",
       "    \n",
       "            var circle_marker_bca8f35beacee8bcbfd66e762af9f7ea = L.circleMarker(\n",
       "                [-31.7649, -52.3371],\n",
       "                {&quot;bubblingMouseEvents&quot;: true, &quot;color&quot;: &quot;red&quot;, &quot;dashArray&quot;: null, &quot;dashOffset&quot;: null, &quot;fill&quot;: true, &quot;fillColor&quot;: &quot;#E8710A&quot;, &quot;fillOpacity&quot;: 0.6, &quot;fillRule&quot;: &quot;evenodd&quot;, &quot;lineCap&quot;: &quot;round&quot;, &quot;lineJoin&quot;: &quot;round&quot;, &quot;opacity&quot;: 1, &quot;radius&quot;: 0.014559547282366062, &quot;stroke&quot;: true, &quot;weight&quot;: 5}\n",
       "            ).addTo(map_552b229ba55be69b8cadab1bd94bf1f2);\n",
       "        \n",
       "    \n",
       "        var popup_03f83235c3c39bd1c8bd49ce27843423 = L.popup({&quot;maxWidth&quot;: &quot;100%&quot;});\n",
       "\n",
       "        \n",
       "            \n",
       "                var html_772a71ffbc98cf6442c9c9336c5934e5 = $(`&lt;div id=&quot;html_772a71ffbc98cf6442c9c9336c5934e5&quot; style=&quot;width: 100.0%; height: 100.0%;&quot;&gt;Valor Empenhado R$22000.0&lt;/div&gt;`)[0];\n",
       "                popup_03f83235c3c39bd1c8bd49ce27843423.setContent(html_772a71ffbc98cf6442c9c9336c5934e5);\n",
       "            \n",
       "        \n",
       "\n",
       "        circle_marker_bca8f35beacee8bcbfd66e762af9f7ea.bindPopup(popup_03f83235c3c39bd1c8bd49ce27843423)\n",
       "        ;\n",
       "\n",
       "        \n",
       "    \n",
       "    \n",
       "            circle_marker_bca8f35beacee8bcbfd66e762af9f7ea.bindTooltip(\n",
       "                `&lt;div&gt;\n",
       "                     Pelotas\n",
       "                 &lt;/div&gt;`,\n",
       "                {&quot;sticky&quot;: true}\n",
       "            );\n",
       "        \n",
       "    \n",
       "            var circle_marker_db88da94673ee2742e6574edd394a514 = L.circleMarker(\n",
       "                [-29.6143, -52.1932],\n",
       "                {&quot;bubblingMouseEvents&quot;: true, &quot;color&quot;: &quot;red&quot;, &quot;dashArray&quot;: null, &quot;dashOffset&quot;: null, &quot;fill&quot;: true, &quot;fillColor&quot;: &quot;#E8710A&quot;, &quot;fillOpacity&quot;: 0.6, &quot;fillRule&quot;: &quot;evenodd&quot;, &quot;lineCap&quot;: &quot;round&quot;, &quot;lineJoin&quot;: &quot;round&quot;, &quot;opacity&quot;: 1, &quot;radius&quot;: 0.0138840239963205, &quot;stroke&quot;: true, &quot;weight&quot;: 5}\n",
       "            ).addTo(map_552b229ba55be69b8cadab1bd94bf1f2);\n",
       "        \n",
       "    \n",
       "        var popup_d89942d4c5a65829299615958063bac7 = L.popup({&quot;maxWidth&quot;: &quot;100%&quot;});\n",
       "\n",
       "        \n",
       "            \n",
       "                var html_e59d5b09af2e542231061bd86cd6faa5 = $(`&lt;div id=&quot;html_e59d5b09af2e542231061bd86cd6faa5&quot; style=&quot;width: 100.0%; height: 100.0%;&quot;&gt;Valor Empenhado R$20979.26&lt;/div&gt;`)[0];\n",
       "                popup_d89942d4c5a65829299615958063bac7.setContent(html_e59d5b09af2e542231061bd86cd6faa5);\n",
       "            \n",
       "        \n",
       "\n",
       "        circle_marker_db88da94673ee2742e6574edd394a514.bindPopup(popup_d89942d4c5a65829299615958063bac7)\n",
       "        ;\n",
       "\n",
       "        \n",
       "    \n",
       "    \n",
       "            circle_marker_db88da94673ee2742e6574edd394a514.bindTooltip(\n",
       "                `&lt;div&gt;\n",
       "                     Venâncio Aires\n",
       "                 &lt;/div&gt;`,\n",
       "                {&quot;sticky&quot;: true}\n",
       "            );\n",
       "        \n",
       "    \n",
       "            var circle_marker_60038d84d5d5da2a4eb2c86a51af82b1 = L.circleMarker(\n",
       "                [-28.0652, -52.0097],\n",
       "                {&quot;bubblingMouseEvents&quot;: true, &quot;color&quot;: &quot;red&quot;, &quot;dashArray&quot;: null, &quot;dashOffset&quot;: null, &quot;fill&quot;: true, &quot;fillColor&quot;: &quot;#E8710A&quot;, &quot;fillOpacity&quot;: 0.6, &quot;fillRule&quot;: &quot;evenodd&quot;, &quot;lineCap&quot;: &quot;round&quot;, &quot;lineJoin&quot;: &quot;round&quot;, &quot;opacity&quot;: 1, &quot;radius&quot;: 0.01270651399188311, &quot;stroke&quot;: true, &quot;weight&quot;: 5}\n",
       "            ).addTo(map_552b229ba55be69b8cadab1bd94bf1f2);\n",
       "        \n",
       "    \n",
       "        var popup_2749cc79b5ed791d28bfa74cac1f4e26 = L.popup({&quot;maxWidth&quot;: &quot;100%&quot;});\n",
       "\n",
       "        \n",
       "            \n",
       "                var html_91225ca1c854c46908a7da16c9d0fcf3 = $(`&lt;div id=&quot;html_91225ca1c854c46908a7da16c9d0fcf3&quot; style=&quot;width: 100.0%; height: 100.0%;&quot;&gt;Valor Empenhado R$19200.0&lt;/div&gt;`)[0];\n",
       "                popup_2749cc79b5ed791d28bfa74cac1f4e26.setContent(html_91225ca1c854c46908a7da16c9d0fcf3);\n",
       "            \n",
       "        \n",
       "\n",
       "        circle_marker_60038d84d5d5da2a4eb2c86a51af82b1.bindPopup(popup_2749cc79b5ed791d28bfa74cac1f4e26)\n",
       "        ;\n",
       "\n",
       "        \n",
       "    \n",
       "    \n",
       "            circle_marker_60038d84d5d5da2a4eb2c86a51af82b1.bindTooltip(\n",
       "                `&lt;div&gt;\n",
       "                     Tapejara\n",
       "                 &lt;/div&gt;`,\n",
       "                {&quot;sticky&quot;: true}\n",
       "            );\n",
       "        \n",
       "    \n",
       "            var circle_marker_4f5476775a0ed3dc7966dbe19339efa9 = L.circleMarker(\n",
       "                [-26.9101, -48.6705],\n",
       "                {&quot;bubblingMouseEvents&quot;: true, &quot;color&quot;: &quot;red&quot;, &quot;dashArray&quot;: null, &quot;dashOffset&quot;: null, &quot;fill&quot;: true, &quot;fillColor&quot;: &quot;#E8710A&quot;, &quot;fillOpacity&quot;: 0.6, &quot;fillRule&quot;: &quot;evenodd&quot;, &quot;lineCap&quot;: &quot;round&quot;, &quot;lineJoin&quot;: &quot;round&quot;, &quot;opacity&quot;: 1, &quot;radius&quot;: 0.010979209010159422, &quot;stroke&quot;: true, &quot;weight&quot;: 5}\n",
       "            ).addTo(map_552b229ba55be69b8cadab1bd94bf1f2);\n",
       "        \n",
       "    \n",
       "        var popup_06db6717a55e5f4ee4e6cae6441932e9 = L.popup({&quot;maxWidth&quot;: &quot;100%&quot;});\n",
       "\n",
       "        \n",
       "            \n",
       "                var html_158270d0a0f414eb2ea017384bddaa7b = $(`&lt;div id=&quot;html_158270d0a0f414eb2ea017384bddaa7b&quot; style=&quot;width: 100.0%; height: 100.0%;&quot;&gt;Valor Empenhado R$16589.98&lt;/div&gt;`)[0];\n",
       "                popup_06db6717a55e5f4ee4e6cae6441932e9.setContent(html_158270d0a0f414eb2ea017384bddaa7b);\n",
       "            \n",
       "        \n",
       "\n",
       "        circle_marker_4f5476775a0ed3dc7966dbe19339efa9.bindPopup(popup_06db6717a55e5f4ee4e6cae6441932e9)\n",
       "        ;\n",
       "\n",
       "        \n",
       "    \n",
       "    \n",
       "            circle_marker_4f5476775a0ed3dc7966dbe19339efa9.bindTooltip(\n",
       "                `&lt;div&gt;\n",
       "                     Itajaí\n",
       "                 &lt;/div&gt;`,\n",
       "                {&quot;sticky&quot;: true}\n",
       "            );\n",
       "        \n",
       "    \n",
       "            var circle_marker_892f8ba0e397e01da42454db1282ff7e = L.circleMarker(\n",
       "                [-28.5079, -50.9418],\n",
       "                {&quot;bubblingMouseEvents&quot;: true, &quot;color&quot;: &quot;red&quot;, &quot;dashArray&quot;: null, &quot;dashOffset&quot;: null, &quot;fill&quot;: true, &quot;fillColor&quot;: &quot;#E8710A&quot;, &quot;fillOpacity&quot;: 0.6, &quot;fillRule&quot;: &quot;evenodd&quot;, &quot;lineCap&quot;: &quot;round&quot;, &quot;lineJoin&quot;: &quot;round&quot;, &quot;opacity&quot;: 1, &quot;radius&quot;: 0.010562289755752833, &quot;stroke&quot;: true, &quot;weight&quot;: 5}\n",
       "            ).addTo(map_552b229ba55be69b8cadab1bd94bf1f2);\n",
       "        \n",
       "    \n",
       "        var popup_aff388497aa652cc12d0ec5fdef669cd = L.popup({&quot;maxWidth&quot;: &quot;100%&quot;});\n",
       "\n",
       "        \n",
       "            \n",
       "                var html_ca116619f5b6744aeae8bae070ee6e0a = $(`&lt;div id=&quot;html_ca116619f5b6744aeae8bae070ee6e0a&quot; style=&quot;width: 100.0%; height: 100.0%;&quot;&gt;Valor Empenhado R$15960.0&lt;/div&gt;`)[0];\n",
       "                popup_aff388497aa652cc12d0ec5fdef669cd.setContent(html_ca116619f5b6744aeae8bae070ee6e0a);\n",
       "            \n",
       "        \n",
       "\n",
       "        circle_marker_892f8ba0e397e01da42454db1282ff7e.bindPopup(popup_aff388497aa652cc12d0ec5fdef669cd)\n",
       "        ;\n",
       "\n",
       "        \n",
       "    \n",
       "    \n",
       "            circle_marker_892f8ba0e397e01da42454db1282ff7e.bindTooltip(\n",
       "                `&lt;div&gt;\n",
       "                     Vacaria\n",
       "                 &lt;/div&gt;`,\n",
       "                {&quot;sticky&quot;: true}\n",
       "            );\n",
       "        \n",
       "    \n",
       "            var circle_marker_bb641689c3dcbe17b59b892fb1a1856e = L.circleMarker(\n",
       "                [-29.4014, -51.9557],\n",
       "                {&quot;bubblingMouseEvents&quot;: true, &quot;color&quot;: &quot;red&quot;, &quot;dashArray&quot;: null, &quot;dashOffset&quot;: null, &quot;fill&quot;: true, &quot;fillColor&quot;: &quot;#E8710A&quot;, &quot;fillOpacity&quot;: 0.6, &quot;fillRule&quot;: &quot;evenodd&quot;, &quot;lineCap&quot;: &quot;round&quot;, &quot;lineJoin&quot;: &quot;round&quot;, &quot;opacity&quot;: 1, &quot;radius&quot;: 0.010249921286785708, &quot;stroke&quot;: true, &quot;weight&quot;: 5}\n",
       "            ).addTo(map_552b229ba55be69b8cadab1bd94bf1f2);\n",
       "        \n",
       "    \n",
       "        var popup_a0c1585172715937122f7cbd4f10308f = L.popup({&quot;maxWidth&quot;: &quot;100%&quot;});\n",
       "\n",
       "        \n",
       "            \n",
       "                var html_139b09247626c400903ea10062651a77 = $(`&lt;div id=&quot;html_139b09247626c400903ea10062651a77&quot; style=&quot;width: 100.0%; height: 100.0%;&quot;&gt;Valor Empenhado R$15488.0&lt;/div&gt;`)[0];\n",
       "                popup_a0c1585172715937122f7cbd4f10308f.setContent(html_139b09247626c400903ea10062651a77);\n",
       "            \n",
       "        \n",
       "\n",
       "        circle_marker_bb641689c3dcbe17b59b892fb1a1856e.bindPopup(popup_a0c1585172715937122f7cbd4f10308f)\n",
       "        ;\n",
       "\n",
       "        \n",
       "    \n",
       "    \n",
       "            circle_marker_bb641689c3dcbe17b59b892fb1a1856e.bindTooltip(\n",
       "                `&lt;div&gt;\n",
       "                     Arroio do Meio\n",
       "                 &lt;/div&gt;`,\n",
       "                {&quot;sticky&quot;: true}\n",
       "            );\n",
       "        \n",
       "    \n",
       "            var circle_marker_4f628243eb67f5a56681c28e95a56f9f = L.circleMarker(\n",
       "                [-29.9413, -50.9869],\n",
       "                {&quot;bubblingMouseEvents&quot;: true, &quot;color&quot;: &quot;red&quot;, &quot;dashArray&quot;: null, &quot;dashOffset&quot;: null, &quot;fill&quot;: true, &quot;fillColor&quot;: &quot;#E8710A&quot;, &quot;fillOpacity&quot;: 0.6, &quot;fillRule&quot;: &quot;evenodd&quot;, &quot;lineCap&quot;: &quot;round&quot;, &quot;lineJoin&quot;: &quot;round&quot;, &quot;opacity&quot;: 1, &quot;radius&quot;: 0.009397525973163548, &quot;stroke&quot;: true, &quot;weight&quot;: 5}\n",
       "            ).addTo(map_552b229ba55be69b8cadab1bd94bf1f2);\n",
       "        \n",
       "    \n",
       "        var popup_e58009caf18231c92dc96164f4c7b2a0 = L.popup({&quot;maxWidth&quot;: &quot;100%&quot;});\n",
       "\n",
       "        \n",
       "            \n",
       "                var html_75e166566b4b3fcebb0c4c711db14be8 = $(`&lt;div id=&quot;html_75e166566b4b3fcebb0c4c711db14be8&quot; style=&quot;width: 100.0%; height: 100.0%;&quot;&gt;Valor Empenhado R$14200.0&lt;/div&gt;`)[0];\n",
       "                popup_e58009caf18231c92dc96164f4c7b2a0.setContent(html_75e166566b4b3fcebb0c4c711db14be8);\n",
       "            \n",
       "        \n",
       "\n",
       "        circle_marker_4f628243eb67f5a56681c28e95a56f9f.bindPopup(popup_e58009caf18231c92dc96164f4c7b2a0)\n",
       "        ;\n",
       "\n",
       "        \n",
       "    \n",
       "    \n",
       "            circle_marker_4f628243eb67f5a56681c28e95a56f9f.bindTooltip(\n",
       "                `&lt;div&gt;\n",
       "                     Gravataí\n",
       "                 &lt;/div&gt;`,\n",
       "                {&quot;sticky&quot;: true}\n",
       "            );\n",
       "        \n",
       "    \n",
       "            var circle_marker_b07c13026010f5dbd57bd509ae8b773f = L.circleMarker(\n",
       "                [-27.7291, -52.5372],\n",
       "                {&quot;bubblingMouseEvents&quot;: true, &quot;color&quot;: &quot;red&quot;, &quot;dashArray&quot;: null, &quot;dashOffset&quot;: null, &quot;fill&quot;: true, &quot;fillColor&quot;: &quot;#E8710A&quot;, &quot;fillOpacity&quot;: 0.6, &quot;fillRule&quot;: &quot;evenodd&quot;, &quot;lineCap&quot;: &quot;round&quot;, &quot;lineJoin&quot;: &quot;round&quot;, &quot;opacity&quot;: 1, &quot;radius&quot;: 0.00930004318613207, &quot;stroke&quot;: true, &quot;weight&quot;: 5}\n",
       "            ).addTo(map_552b229ba55be69b8cadab1bd94bf1f2);\n",
       "        \n",
       "    \n",
       "        var popup_05640287a1bbcfb24bcc57dcaa3fb22f = L.popup({&quot;maxWidth&quot;: &quot;100%&quot;});\n",
       "\n",
       "        \n",
       "            \n",
       "                var html_ea8735db656714d6a611a89fbea470a1 = $(`&lt;div id=&quot;html_ea8735db656714d6a611a89fbea470a1&quot; style=&quot;width: 100.0%; height: 100.0%;&quot;&gt;Valor Empenhado R$14052.7&lt;/div&gt;`)[0];\n",
       "                popup_05640287a1bbcfb24bcc57dcaa3fb22f.setContent(html_ea8735db656714d6a611a89fbea470a1);\n",
       "            \n",
       "        \n",
       "\n",
       "        circle_marker_b07c13026010f5dbd57bd509ae8b773f.bindPopup(popup_05640287a1bbcfb24bcc57dcaa3fb22f)\n",
       "        ;\n",
       "\n",
       "        \n",
       "    \n",
       "    \n",
       "            circle_marker_b07c13026010f5dbd57bd509ae8b773f.bindTooltip(\n",
       "                `&lt;div&gt;\n",
       "                     Jacutinga\n",
       "                 &lt;/div&gt;`,\n",
       "                {&quot;sticky&quot;: true}\n",
       "            );\n",
       "        \n",
       "    \n",
       "            var circle_marker_928571a934c61e14cd57f5de943aa19c = L.circleMarker(\n",
       "                [-27.815, -50.3259],\n",
       "                {&quot;bubblingMouseEvents&quot;: true, &quot;color&quot;: &quot;red&quot;, &quot;dashArray&quot;: null, &quot;dashOffset&quot;: null, &quot;fill&quot;: true, &quot;fillColor&quot;: &quot;#E8710A&quot;, &quot;fillOpacity&quot;: 0.6, &quot;fillRule&quot;: &quot;evenodd&quot;, &quot;lineCap&quot;: &quot;round&quot;, &quot;lineJoin&quot;: &quot;round&quot;, &quot;opacity&quot;: 1, &quot;radius&quot;: 0.007792071166241193, &quot;stroke&quot;: true, &quot;weight&quot;: 5}\n",
       "            ).addTo(map_552b229ba55be69b8cadab1bd94bf1f2);\n",
       "        \n",
       "    \n",
       "        var popup_15e9ea267bba7b8b796fc7b52d0cf101 = L.popup({&quot;maxWidth&quot;: &quot;100%&quot;});\n",
       "\n",
       "        \n",
       "            \n",
       "                var html_da841f97718ab30ce1a2ba9fc755bdff = $(`&lt;div id=&quot;html_da841f97718ab30ce1a2ba9fc755bdff&quot; style=&quot;width: 100.0%; height: 100.0%;&quot;&gt;Valor Empenhado R$11774.1&lt;/div&gt;`)[0];\n",
       "                popup_15e9ea267bba7b8b796fc7b52d0cf101.setContent(html_da841f97718ab30ce1a2ba9fc755bdff);\n",
       "            \n",
       "        \n",
       "\n",
       "        circle_marker_928571a934c61e14cd57f5de943aa19c.bindPopup(popup_15e9ea267bba7b8b796fc7b52d0cf101)\n",
       "        ;\n",
       "\n",
       "        \n",
       "    \n",
       "    \n",
       "            circle_marker_928571a934c61e14cd57f5de943aa19c.bindTooltip(\n",
       "                `&lt;div&gt;\n",
       "                     Lages\n",
       "                 &lt;/div&gt;`,\n",
       "                {&quot;sticky&quot;: true}\n",
       "            );\n",
       "        \n",
       "    \n",
       "            var circle_marker_b1fcef8d1f46dad6e3b00fe28b2663b9 = L.circleMarker(\n",
       "                [-27.9798, -52.2588],\n",
       "                {&quot;bubblingMouseEvents&quot;: true, &quot;color&quot;: &quot;red&quot;, &quot;dashArray&quot;: null, &quot;dashOffset&quot;: null, &quot;fill&quot;: true, &quot;fillColor&quot;: &quot;#E8710A&quot;, &quot;fillOpacity&quot;: 0.6, &quot;fillRule&quot;: &quot;evenodd&quot;, &quot;lineCap&quot;: &quot;round&quot;, &quot;lineJoin&quot;: &quot;round&quot;, &quot;opacity&quot;: 1, &quot;radius&quot;: 0.007256253354345972, &quot;stroke&quot;: true, &quot;weight&quot;: 5}\n",
       "            ).addTo(map_552b229ba55be69b8cadab1bd94bf1f2);\n",
       "        \n",
       "    \n",
       "        var popup_bd2cba888caf41a3e5fdebf34cda43c8 = L.popup({&quot;maxWidth&quot;: &quot;100%&quot;});\n",
       "\n",
       "        \n",
       "            \n",
       "                var html_af6cb5a14c6dd4ad2b1ae316a255d825 = $(`&lt;div id=&quot;html_af6cb5a14c6dd4ad2b1ae316a255d825&quot; style=&quot;width: 100.0%; height: 100.0%;&quot;&gt;Valor Empenhado R$10964.46&lt;/div&gt;`)[0];\n",
       "                popup_bd2cba888caf41a3e5fdebf34cda43c8.setContent(html_af6cb5a14c6dd4ad2b1ae316a255d825);\n",
       "            \n",
       "        \n",
       "\n",
       "        circle_marker_b1fcef8d1f46dad6e3b00fe28b2663b9.bindPopup(popup_bd2cba888caf41a3e5fdebf34cda43c8)\n",
       "        ;\n",
       "\n",
       "        \n",
       "    \n",
       "    \n",
       "            circle_marker_b1fcef8d1f46dad6e3b00fe28b2663b9.bindTooltip(\n",
       "                `&lt;div&gt;\n",
       "                     Sertão\n",
       "                 &lt;/div&gt;`,\n",
       "                {&quot;sticky&quot;: true}\n",
       "            );\n",
       "        \n",
       "    \n",
       "            var circle_marker_4d1475e3f25b1c68915c654baf5ad6af = L.circleMarker(\n",
       "                [-16.6864, -49.2643],\n",
       "                {&quot;bubblingMouseEvents&quot;: true, &quot;color&quot;: &quot;red&quot;, &quot;dashArray&quot;: null, &quot;dashOffset&quot;: null, &quot;fill&quot;: true, &quot;fillColor&quot;: &quot;#E8710A&quot;, &quot;fillOpacity&quot;: 0.6, &quot;fillRule&quot;: &quot;evenodd&quot;, &quot;lineCap&quot;: &quot;round&quot;, &quot;lineJoin&quot;: &quot;round&quot;, &quot;opacity&quot;: 1, &quot;radius&quot;: 0.006971554643191379, &quot;stroke&quot;: true, &quot;weight&quot;: 5}\n",
       "            ).addTo(map_552b229ba55be69b8cadab1bd94bf1f2);\n",
       "        \n",
       "    \n",
       "        var popup_c24e67c85bf19168d6b0e30fc7dbbe7b = L.popup({&quot;maxWidth&quot;: &quot;100%&quot;});\n",
       "\n",
       "        \n",
       "            \n",
       "                var html_94975b3c601a710e1c7b267b8816b440 = $(`&lt;div id=&quot;html_94975b3c601a710e1c7b267b8816b440&quot; style=&quot;width: 100.0%; height: 100.0%;&quot;&gt;Valor Empenhado R$10534.27&lt;/div&gt;`)[0];\n",
       "                popup_c24e67c85bf19168d6b0e30fc7dbbe7b.setContent(html_94975b3c601a710e1c7b267b8816b440);\n",
       "            \n",
       "        \n",
       "\n",
       "        circle_marker_4d1475e3f25b1c68915c654baf5ad6af.bindPopup(popup_c24e67c85bf19168d6b0e30fc7dbbe7b)\n",
       "        ;\n",
       "\n",
       "        \n",
       "    \n",
       "    \n",
       "            circle_marker_4d1475e3f25b1c68915c654baf5ad6af.bindTooltip(\n",
       "                `&lt;div&gt;\n",
       "                     Goiânia\n",
       "                 &lt;/div&gt;`,\n",
       "                {&quot;sticky&quot;: true}\n",
       "            );\n",
       "        \n",
       "    \n",
       "            var circle_marker_62f138280d99756c552f776a47d8e2b2 = L.circleMarker(\n",
       "                [-29.4193, -51.5134],\n",
       "                {&quot;bubblingMouseEvents&quot;: true, &quot;color&quot;: &quot;red&quot;, &quot;dashArray&quot;: null, &quot;dashOffset&quot;: null, &quot;fill&quot;: true, &quot;fillColor&quot;: &quot;#E8710A&quot;, &quot;fillOpacity&quot;: 0.6, &quot;fillRule&quot;: &quot;evenodd&quot;, &quot;lineCap&quot;: &quot;round&quot;, &quot;lineJoin&quot;: &quot;round&quot;, &quot;opacity&quot;: 1, &quot;radius&quot;: 0.006514338532692823, &quot;stroke&quot;: true, &quot;weight&quot;: 5}\n",
       "            ).addTo(map_552b229ba55be69b8cadab1bd94bf1f2);\n",
       "        \n",
       "    \n",
       "        var popup_b52dde54416d459d4c9dc91c02d75c84 = L.popup({&quot;maxWidth&quot;: &quot;100%&quot;});\n",
       "\n",
       "        \n",
       "            \n",
       "                var html_47b238173d7ef11a33350fa79a480917 = $(`&lt;div id=&quot;html_47b238173d7ef11a33350fa79a480917&quot; style=&quot;width: 100.0%; height: 100.0%;&quot;&gt;Valor Empenhado R$9843.4&lt;/div&gt;`)[0];\n",
       "                popup_b52dde54416d459d4c9dc91c02d75c84.setContent(html_47b238173d7ef11a33350fa79a480917);\n",
       "            \n",
       "        \n",
       "\n",
       "        circle_marker_62f138280d99756c552f776a47d8e2b2.bindPopup(popup_b52dde54416d459d4c9dc91c02d75c84)\n",
       "        ;\n",
       "\n",
       "        \n",
       "    \n",
       "    \n",
       "            circle_marker_62f138280d99756c552f776a47d8e2b2.bindTooltip(\n",
       "                `&lt;div&gt;\n",
       "                     São Pedro da Serra\n",
       "                 &lt;/div&gt;`,\n",
       "                {&quot;sticky&quot;: true}\n",
       "            );\n",
       "        \n",
       "    \n",
       "            var circle_marker_1ea89d4053746ea89ad91151a04804f5 = L.circleMarker(\n",
       "                [-29.9914, -51.0809],\n",
       "                {&quot;bubblingMouseEvents&quot;: true, &quot;color&quot;: &quot;red&quot;, &quot;dashArray&quot;: null, &quot;dashOffset&quot;: null, &quot;fill&quot;: true, &quot;fillColor&quot;: &quot;#E8710A&quot;, &quot;fillOpacity&quot;: 0.6, &quot;fillRule&quot;: &quot;evenodd&quot;, &quot;lineCap&quot;: &quot;round&quot;, &quot;lineJoin&quot;: &quot;round&quot;, &quot;opacity&quot;: 1, &quot;radius&quot;: 0.006276382586290661, &quot;stroke&quot;: true, &quot;weight&quot;: 5}\n",
       "            ).addTo(map_552b229ba55be69b8cadab1bd94bf1f2);\n",
       "        \n",
       "    \n",
       "        var popup_e8a918fbf3acd82c3ce0409405bb7483 = L.popup({&quot;maxWidth&quot;: &quot;100%&quot;});\n",
       "\n",
       "        \n",
       "            \n",
       "                var html_364e03e8a396829ffe1e9a3914f18e3a = $(`&lt;div id=&quot;html_364e03e8a396829ffe1e9a3914f18e3a&quot; style=&quot;width: 100.0%; height: 100.0%;&quot;&gt;Valor Empenhado R$9483.84&lt;/div&gt;`)[0];\n",
       "                popup_e8a918fbf3acd82c3ce0409405bb7483.setContent(html_364e03e8a396829ffe1e9a3914f18e3a);\n",
       "            \n",
       "        \n",
       "\n",
       "        circle_marker_1ea89d4053746ea89ad91151a04804f5.bindPopup(popup_e8a918fbf3acd82c3ce0409405bb7483)\n",
       "        ;\n",
       "\n",
       "        \n",
       "    \n",
       "    \n",
       "            circle_marker_1ea89d4053746ea89ad91151a04804f5.bindTooltip(\n",
       "                `&lt;div&gt;\n",
       "                     Alvorada\n",
       "                 &lt;/div&gt;`,\n",
       "                {&quot;sticky&quot;: true}\n",
       "            );\n",
       "        \n",
       "    \n",
       "            var circle_marker_bd169673e7ab49579273050b6f2dfe38 = L.circleMarker(\n",
       "                [-29.7545, -51.1498],\n",
       "                {&quot;bubblingMouseEvents&quot;: true, &quot;color&quot;: &quot;red&quot;, &quot;dashArray&quot;: null, &quot;dashOffset&quot;: null, &quot;fill&quot;: true, &quot;fillColor&quot;: &quot;#E8710A&quot;, &quot;fillOpacity&quot;: 0.6, &quot;fillRule&quot;: &quot;evenodd&quot;, &quot;lineCap&quot;: &quot;round&quot;, &quot;lineJoin&quot;: &quot;round&quot;, &quot;opacity&quot;: 1, &quot;radius&quot;: 0.00578411105672179, &quot;stroke&quot;: true, &quot;weight&quot;: 5}\n",
       "            ).addTo(map_552b229ba55be69b8cadab1bd94bf1f2);\n",
       "        \n",
       "    \n",
       "        var popup_d4deb54d9078951e10fdf09d41aa230a = L.popup({&quot;maxWidth&quot;: &quot;100%&quot;});\n",
       "\n",
       "        \n",
       "            \n",
       "                var html_15435131f3aeba0108da13c7a3a2dd13 = $(`&lt;div id=&quot;html_15435131f3aeba0108da13c7a3a2dd13&quot; style=&quot;width: 100.0%; height: 100.0%;&quot;&gt;Valor Empenhado R$8740.0&lt;/div&gt;`)[0];\n",
       "                popup_d4deb54d9078951e10fdf09d41aa230a.setContent(html_15435131f3aeba0108da13c7a3a2dd13);\n",
       "            \n",
       "        \n",
       "\n",
       "        circle_marker_bd169673e7ab49579273050b6f2dfe38.bindPopup(popup_d4deb54d9078951e10fdf09d41aa230a)\n",
       "        ;\n",
       "\n",
       "        \n",
       "    \n",
       "    \n",
       "            circle_marker_bd169673e7ab49579273050b6f2dfe38.bindTooltip(\n",
       "                `&lt;div&gt;\n",
       "                     São Leopoldo\n",
       "                 &lt;/div&gt;`,\n",
       "                {&quot;sticky&quot;: true}\n",
       "            );\n",
       "        \n",
       "    \n",
       "            var circle_marker_16acf7f7a558fc4e9c5d92e0725f4503 = L.circleMarker(\n",
       "                [-19.9102, -43.9266],\n",
       "                {&quot;bubblingMouseEvents&quot;: true, &quot;color&quot;: &quot;red&quot;, &quot;dashArray&quot;: null, &quot;dashOffset&quot;: null, &quot;fill&quot;: true, &quot;fillColor&quot;: &quot;#E8710A&quot;, &quot;fillOpacity&quot;: 0.6, &quot;fillRule&quot;: &quot;evenodd&quot;, &quot;lineCap&quot;: &quot;round&quot;, &quot;lineJoin&quot;: &quot;round&quot;, &quot;opacity&quot;: 1, &quot;radius&quot;: 0.005426740350700077, &quot;stroke&quot;: true, &quot;weight&quot;: 5}\n",
       "            ).addTo(map_552b229ba55be69b8cadab1bd94bf1f2);\n",
       "        \n",
       "    \n",
       "        var popup_f043b7882ea56c872f6641fc0fb87369 = L.popup({&quot;maxWidth&quot;: &quot;100%&quot;});\n",
       "\n",
       "        \n",
       "            \n",
       "                var html_986b7ca5e51336960b58bb95fe731fe2 = $(`&lt;div id=&quot;html_986b7ca5e51336960b58bb95fe731fe2&quot; style=&quot;width: 100.0%; height: 100.0%;&quot;&gt;Valor Empenhado R$8200.0&lt;/div&gt;`)[0];\n",
       "                popup_f043b7882ea56c872f6641fc0fb87369.setContent(html_986b7ca5e51336960b58bb95fe731fe2);\n",
       "            \n",
       "        \n",
       "\n",
       "        circle_marker_16acf7f7a558fc4e9c5d92e0725f4503.bindPopup(popup_f043b7882ea56c872f6641fc0fb87369)\n",
       "        ;\n",
       "\n",
       "        \n",
       "    \n",
       "    \n",
       "            circle_marker_16acf7f7a558fc4e9c5d92e0725f4503.bindTooltip(\n",
       "                `&lt;div&gt;\n",
       "                     Belo Horizonte\n",
       "                 &lt;/div&gt;`,\n",
       "                {&quot;sticky&quot;: true}\n",
       "            );\n",
       "        \n",
       "    \n",
       "            var circle_marker_ccbb859e126f2e29e2e84c286fd7b07f = L.circleMarker(\n",
       "                [-27.9007, -53.3134],\n",
       "                {&quot;bubblingMouseEvents&quot;: true, &quot;color&quot;: &quot;red&quot;, &quot;dashArray&quot;: null, &quot;dashOffset&quot;: null, &quot;fill&quot;: true, &quot;fillColor&quot;: &quot;#E8710A&quot;, &quot;fillOpacity&quot;: 0.6, &quot;fillRule&quot;: &quot;evenodd&quot;, &quot;lineCap&quot;: &quot;round&quot;, &quot;lineJoin&quot;: &quot;round&quot;, &quot;opacity&quot;: 1, &quot;radius&quot;: 0.005085914584771963, &quot;stroke&quot;: true, &quot;weight&quot;: 5}\n",
       "            ).addTo(map_552b229ba55be69b8cadab1bd94bf1f2);\n",
       "        \n",
       "    \n",
       "        var popup_6035f2f67c4d1bcd13230115233d8bbd = L.popup({&quot;maxWidth&quot;: &quot;100%&quot;});\n",
       "\n",
       "        \n",
       "            \n",
       "                var html_136712cd28aed73634ab0ae2851e9725 = $(`&lt;div id=&quot;html_136712cd28aed73634ab0ae2851e9725&quot; style=&quot;width: 100.0%; height: 100.0%;&quot;&gt;Valor Empenhado R$7685.0&lt;/div&gt;`)[0];\n",
       "                popup_6035f2f67c4d1bcd13230115233d8bbd.setContent(html_136712cd28aed73634ab0ae2851e9725);\n",
       "            \n",
       "        \n",
       "\n",
       "        circle_marker_ccbb859e126f2e29e2e84c286fd7b07f.bindPopup(popup_6035f2f67c4d1bcd13230115233d8bbd)\n",
       "        ;\n",
       "\n",
       "        \n",
       "    \n",
       "    \n",
       "            circle_marker_ccbb859e126f2e29e2e84c286fd7b07f.bindTooltip(\n",
       "                `&lt;div&gt;\n",
       "                     Palmeira das Missões\n",
       "                 &lt;/div&gt;`,\n",
       "                {&quot;sticky&quot;: true}\n",
       "            );\n",
       "        \n",
       "    \n",
       "            var circle_marker_e0c57a2048f64a6e4f2ae5e12ae9db6b = L.circleMarker(\n",
       "                [-27.947, -51.8079],\n",
       "                {&quot;bubblingMouseEvents&quot;: true, &quot;color&quot;: &quot;red&quot;, &quot;dashArray&quot;: null, &quot;dashOffset&quot;: null, &quot;fill&quot;: true, &quot;fillColor&quot;: &quot;#E8710A&quot;, &quot;fillOpacity&quot;: 0.6, &quot;fillRule&quot;: &quot;evenodd&quot;, &quot;lineCap&quot;: &quot;round&quot;, &quot;lineJoin&quot;: &quot;round&quot;, &quot;opacity&quot;: 1, &quot;radius&quot;: 0.005016425836378853, &quot;stroke&quot;: true, &quot;weight&quot;: 5}\n",
       "            ).addTo(map_552b229ba55be69b8cadab1bd94bf1f2);\n",
       "        \n",
       "    \n",
       "        var popup_c6f76d52a73513165781957294c26483 = L.popup({&quot;maxWidth&quot;: &quot;100%&quot;});\n",
       "\n",
       "        \n",
       "            \n",
       "                var html_9f400dd6a8748fd1f8a8cd0a2a929694 = $(`&lt;div id=&quot;html_9f400dd6a8748fd1f8a8cd0a2a929694&quot; style=&quot;width: 100.0%; height: 100.0%;&quot;&gt;Valor Empenhado R$7580.0&lt;/div&gt;`)[0];\n",
       "                popup_c6f76d52a73513165781957294c26483.setContent(html_9f400dd6a8748fd1f8a8cd0a2a929694);\n",
       "            \n",
       "        \n",
       "\n",
       "        circle_marker_e0c57a2048f64a6e4f2ae5e12ae9db6b.bindPopup(popup_c6f76d52a73513165781957294c26483)\n",
       "        ;\n",
       "\n",
       "        \n",
       "    \n",
       "    \n",
       "            circle_marker_e0c57a2048f64a6e4f2ae5e12ae9db6b.bindTooltip(\n",
       "                `&lt;div&gt;\n",
       "                     Sananduva\n",
       "                 &lt;/div&gt;`,\n",
       "                {&quot;sticky&quot;: true}\n",
       "            );\n",
       "        \n",
       "    \n",
       "            var circle_marker_d4cbf2478ed367a66aa359e541cac994 = L.circleMarker(\n",
       "                [-29.3948, -51.8556],\n",
       "                {&quot;bubblingMouseEvents&quot;: true, &quot;color&quot;: &quot;red&quot;, &quot;dashArray&quot;: null, &quot;dashOffset&quot;: null, &quot;fill&quot;: true, &quot;fillColor&quot;: &quot;#E8710A&quot;, &quot;fillOpacity&quot;: 0.6, &quot;fillRule&quot;: &quot;evenodd&quot;, &quot;lineCap&quot;: &quot;round&quot;, &quot;lineJoin&quot;: &quot;round&quot;, &quot;opacity&quot;: 1, &quot;radius&quot;: 0.004963482028079339, &quot;stroke&quot;: true, &quot;weight&quot;: 5}\n",
       "            ).addTo(map_552b229ba55be69b8cadab1bd94bf1f2);\n",
       "        \n",
       "    \n",
       "        var popup_eb7fbf52b15350ac73edf5db4d5cfa2f = L.popup({&quot;maxWidth&quot;: &quot;100%&quot;});\n",
       "\n",
       "        \n",
       "            \n",
       "                var html_71c368b8c3fc3ee8847b70ba5d5d367c = $(`&lt;div id=&quot;html_71c368b8c3fc3ee8847b70ba5d5d367c&quot; style=&quot;width: 100.0%; height: 100.0%;&quot;&gt;Valor Empenhado R$7500.0&lt;/div&gt;`)[0];\n",
       "                popup_eb7fbf52b15350ac73edf5db4d5cfa2f.setContent(html_71c368b8c3fc3ee8847b70ba5d5d367c);\n",
       "            \n",
       "        \n",
       "\n",
       "        circle_marker_d4cbf2478ed367a66aa359e541cac994.bindPopup(popup_eb7fbf52b15350ac73edf5db4d5cfa2f)\n",
       "        ;\n",
       "\n",
       "        \n",
       "    \n",
       "    \n",
       "            circle_marker_d4cbf2478ed367a66aa359e541cac994.bindTooltip(\n",
       "                `&lt;div&gt;\n",
       "                     Colinas\n",
       "                 &lt;/div&gt;`,\n",
       "                {&quot;sticky&quot;: true}\n",
       "            );\n",
       "        \n",
       "    \n",
       "            var circle_marker_1945f434184e6f0711771f9145dcb544 = L.circleMarker(\n",
       "                [-27.2335, -52.026],\n",
       "                {&quot;bubblingMouseEvents&quot;: true, &quot;color&quot;: &quot;red&quot;, &quot;dashArray&quot;: null, &quot;dashOffset&quot;: null, &quot;fill&quot;: true, &quot;fillColor&quot;: &quot;#E8710A&quot;, &quot;fillOpacity&quot;: 0.6, &quot;fillRule&quot;: &quot;evenodd&quot;, &quot;lineCap&quot;: &quot;round&quot;, &quot;lineJoin&quot;: &quot;round&quot;, &quot;opacity&quot;: 1, &quot;radius&quot;: 0.004905323254662324, &quot;stroke&quot;: true, &quot;weight&quot;: 5}\n",
       "            ).addTo(map_552b229ba55be69b8cadab1bd94bf1f2);\n",
       "        \n",
       "    \n",
       "        var popup_bda2b35b21ba6d9ae8b58db68b401181 = L.popup({&quot;maxWidth&quot;: &quot;100%&quot;});\n",
       "\n",
       "        \n",
       "            \n",
       "                var html_649b1c1b2c3a8b9a1b3446a70ff68dfe = $(`&lt;div id=&quot;html_649b1c1b2c3a8b9a1b3446a70ff68dfe&quot; style=&quot;width: 100.0%; height: 100.0%;&quot;&gt;Valor Empenhado R$7412.12&lt;/div&gt;`)[0];\n",
       "                popup_bda2b35b21ba6d9ae8b58db68b401181.setContent(html_649b1c1b2c3a8b9a1b3446a70ff68dfe);\n",
       "            \n",
       "        \n",
       "\n",
       "        circle_marker_1945f434184e6f0711771f9145dcb544.bindPopup(popup_bda2b35b21ba6d9ae8b58db68b401181)\n",
       "        ;\n",
       "\n",
       "        \n",
       "    \n",
       "    \n",
       "            circle_marker_1945f434184e6f0711771f9145dcb544.bindTooltip(\n",
       "                `&lt;div&gt;\n",
       "                     Concórdia\n",
       "                 &lt;/div&gt;`,\n",
       "                {&quot;sticky&quot;: true}\n",
       "            );\n",
       "        \n",
       "    \n",
       "            var circle_marker_c454c4e0f98742eaeae00c42a44821cd = L.circleMarker(\n",
       "                [-26.8992, -49.2354],\n",
       "                {&quot;bubblingMouseEvents&quot;: true, &quot;color&quot;: &quot;red&quot;, &quot;dashArray&quot;: null, &quot;dashOffset&quot;: null, &quot;fill&quot;: true, &quot;fillColor&quot;: &quot;#E8710A&quot;, &quot;fillOpacity&quot;: 0.6, &quot;fillRule&quot;: &quot;evenodd&quot;, &quot;lineCap&quot;: &quot;round&quot;, &quot;lineJoin&quot;: &quot;round&quot;, &quot;opacity&quot;: 1, &quot;radius&quot;: 0.004738470842806409, &quot;stroke&quot;: true, &quot;weight&quot;: 5}\n",
       "            ).addTo(map_552b229ba55be69b8cadab1bd94bf1f2);\n",
       "        \n",
       "    \n",
       "        var popup_527a20d7af652f4861188235702b9226 = L.popup({&quot;maxWidth&quot;: &quot;100%&quot;});\n",
       "\n",
       "        \n",
       "            \n",
       "                var html_f2da782784b88aebadc32aa455319e8a = $(`&lt;div id=&quot;html_f2da782784b88aebadc32aa455319e8a&quot; style=&quot;width: 100.0%; height: 100.0%;&quot;&gt;Valor Empenhado R$7160.0&lt;/div&gt;`)[0];\n",
       "                popup_527a20d7af652f4861188235702b9226.setContent(html_f2da782784b88aebadc32aa455319e8a);\n",
       "            \n",
       "        \n",
       "\n",
       "        circle_marker_c454c4e0f98742eaeae00c42a44821cd.bindPopup(popup_527a20d7af652f4861188235702b9226)\n",
       "        ;\n",
       "\n",
       "        \n",
       "    \n",
       "    \n",
       "            circle_marker_c454c4e0f98742eaeae00c42a44821cd.bindTooltip(\n",
       "                `&lt;div&gt;\n",
       "                     Indaial\n",
       "                 &lt;/div&gt;`,\n",
       "                {&quot;sticky&quot;: true}\n",
       "            );\n",
       "        \n",
       "    \n",
       "            var circle_marker_9a27410614af3c0c434b1ef287b739b4 = L.circleMarker(\n",
       "                [-29.9472, -51.1016],\n",
       "                {&quot;bubblingMouseEvents&quot;: true, &quot;color&quot;: &quot;red&quot;, &quot;dashArray&quot;: null, &quot;dashOffset&quot;: null, &quot;fill&quot;: true, &quot;fillColor&quot;: &quot;#E8710A&quot;, &quot;fillOpacity&quot;: 0.6, &quot;fillRule&quot;: &quot;evenodd&quot;, &quot;lineCap&quot;: &quot;round&quot;, &quot;lineJoin&quot;: &quot;round&quot;, &quot;opacity&quot;: 1, &quot;radius&quot;: 0.004231732417619696, &quot;stroke&quot;: true, &quot;weight&quot;: 5}\n",
       "            ).addTo(map_552b229ba55be69b8cadab1bd94bf1f2);\n",
       "        \n",
       "    \n",
       "        var popup_731c2a213ac12ca70c7229ab9fa90480 = L.popup({&quot;maxWidth&quot;: &quot;100%&quot;});\n",
       "\n",
       "        \n",
       "            \n",
       "                var html_f36c2467e671b5332a7b21ad9703857d = $(`&lt;div id=&quot;html_f36c2467e671b5332a7b21ad9703857d&quot; style=&quot;width: 100.0%; height: 100.0%;&quot;&gt;Valor Empenhado R$6394.3&lt;/div&gt;`)[0];\n",
       "                popup_731c2a213ac12ca70c7229ab9fa90480.setContent(html_f36c2467e671b5332a7b21ad9703857d);\n",
       "            \n",
       "        \n",
       "\n",
       "        circle_marker_9a27410614af3c0c434b1ef287b739b4.bindPopup(popup_731c2a213ac12ca70c7229ab9fa90480)\n",
       "        ;\n",
       "\n",
       "        \n",
       "    \n",
       "    \n",
       "            circle_marker_9a27410614af3c0c434b1ef287b739b4.bindTooltip(\n",
       "                `&lt;div&gt;\n",
       "                     Cachoeirinha\n",
       "                 &lt;/div&gt;`,\n",
       "                {&quot;sticky&quot;: true}\n",
       "            );\n",
       "        \n",
       "    \n",
       "            var circle_marker_56dc219edc396c729e1acd93685fe89a = L.circleMarker(\n",
       "                [-27.0861, -48.616],\n",
       "                {&quot;bubblingMouseEvents&quot;: true, &quot;color&quot;: &quot;red&quot;, &quot;dashArray&quot;: null, &quot;dashOffset&quot;: null, &quot;fill&quot;: true, &quot;fillColor&quot;: &quot;#E8710A&quot;, &quot;fillOpacity&quot;: 0.6, &quot;fillRule&quot;: &quot;evenodd&quot;, &quot;lineCap&quot;: &quot;round&quot;, &quot;lineJoin&quot;: &quot;round&quot;, &quot;opacity&quot;: 1, &quot;radius&quot;: 0.004104746693413314, &quot;stroke&quot;: true, &quot;weight&quot;: 5}\n",
       "            ).addTo(map_552b229ba55be69b8cadab1bd94bf1f2);\n",
       "        \n",
       "    \n",
       "        var popup_211d197f269c4def614cb59af6bce28a = L.popup({&quot;maxWidth&quot;: &quot;100%&quot;});\n",
       "\n",
       "        \n",
       "            \n",
       "                var html_cea8ebca1b188841409ce11455114fa3 = $(`&lt;div id=&quot;html_cea8ebca1b188841409ce11455114fa3&quot; style=&quot;width: 100.0%; height: 100.0%;&quot;&gt;Valor Empenhado R$6202.42&lt;/div&gt;`)[0];\n",
       "                popup_211d197f269c4def614cb59af6bce28a.setContent(html_cea8ebca1b188841409ce11455114fa3);\n",
       "            \n",
       "        \n",
       "\n",
       "        circle_marker_56dc219edc396c729e1acd93685fe89a.bindPopup(popup_211d197f269c4def614cb59af6bce28a)\n",
       "        ;\n",
       "\n",
       "        \n",
       "    \n",
       "    \n",
       "            circle_marker_56dc219edc396c729e1acd93685fe89a.bindTooltip(\n",
       "                `&lt;div&gt;\n",
       "                     Itapema\n",
       "                 &lt;/div&gt;`,\n",
       "                {&quot;sticky&quot;: true}\n",
       "            );\n",
       "        \n",
       "    \n",
       "            var circle_marker_6b9df263c536309f105b8ab04e56048f = L.circleMarker(\n",
       "                [-27.4555, -53.9296],\n",
       "                {&quot;bubblingMouseEvents&quot;: true, &quot;color&quot;: &quot;red&quot;, &quot;dashArray&quot;: null, &quot;dashOffset&quot;: null, &quot;fill&quot;: true, &quot;fillColor&quot;: &quot;#E8710A&quot;, &quot;fillOpacity&quot;: 0.6, &quot;fillRule&quot;: &quot;evenodd&quot;, &quot;lineCap&quot;: &quot;round&quot;, &quot;lineJoin&quot;: &quot;round&quot;, &quot;opacity&quot;: 1, &quot;radius&quot;: 0.00407666662108646, &quot;stroke&quot;: true, &quot;weight&quot;: 5}\n",
       "            ).addTo(map_552b229ba55be69b8cadab1bd94bf1f2);\n",
       "        \n",
       "    \n",
       "        var popup_07a1973b8ffbc313bf2c54c3e7d0b595 = L.popup({&quot;maxWidth&quot;: &quot;100%&quot;});\n",
       "\n",
       "        \n",
       "            \n",
       "                var html_dfa4dfa868d32fe09dde3377151c6900 = $(`&lt;div id=&quot;html_dfa4dfa868d32fe09dde3377151c6900&quot; style=&quot;width: 100.0%; height: 100.0%;&quot;&gt;Valor Empenhado R$6159.99&lt;/div&gt;`)[0];\n",
       "                popup_07a1973b8ffbc313bf2c54c3e7d0b595.setContent(html_dfa4dfa868d32fe09dde3377151c6900);\n",
       "            \n",
       "        \n",
       "\n",
       "        circle_marker_6b9df263c536309f105b8ab04e56048f.bindPopup(popup_07a1973b8ffbc313bf2c54c3e7d0b595)\n",
       "        ;\n",
       "\n",
       "        \n",
       "    \n",
       "    \n",
       "            circle_marker_6b9df263c536309f105b8ab04e56048f.bindTooltip(\n",
       "                `&lt;div&gt;\n",
       "                     Três Passos\n",
       "                 &lt;/div&gt;`,\n",
       "                {&quot;sticky&quot;: true}\n",
       "            );\n",
       "        \n",
       "    \n",
       "            var circle_marker_ef211072c9c17cb0be37bd772485ac78 = L.circleMarker(\n",
       "                [-25.4195, -49.2646],\n",
       "                {&quot;bubblingMouseEvents&quot;: true, &quot;color&quot;: &quot;red&quot;, &quot;dashArray&quot;: null, &quot;dashOffset&quot;: null, &quot;fill&quot;: true, &quot;fillColor&quot;: &quot;#E8710A&quot;, &quot;fillOpacity&quot;: 0.6, &quot;fillRule&quot;: &quot;evenodd&quot;, &quot;lineCap&quot;: &quot;round&quot;, &quot;lineJoin&quot;: &quot;round&quot;, &quot;opacity&quot;: 1, &quot;radius&quot;: 0.003878133957939324, &quot;stroke&quot;: true, &quot;weight&quot;: 5}\n",
       "            ).addTo(map_552b229ba55be69b8cadab1bd94bf1f2);\n",
       "        \n",
       "    \n",
       "        var popup_f51c0b9b4516b8be51fd5a783547abc0 = L.popup({&quot;maxWidth&quot;: &quot;100%&quot;});\n",
       "\n",
       "        \n",
       "            \n",
       "                var html_0309c717fbaacb252e62e32aa4cd3304 = $(`&lt;div id=&quot;html_0309c717fbaacb252e62e32aa4cd3304&quot; style=&quot;width: 100.0%; height: 100.0%;&quot;&gt;Valor Empenhado R$5860.0&lt;/div&gt;`)[0];\n",
       "                popup_f51c0b9b4516b8be51fd5a783547abc0.setContent(html_0309c717fbaacb252e62e32aa4cd3304);\n",
       "            \n",
       "        \n",
       "\n",
       "        circle_marker_ef211072c9c17cb0be37bd772485ac78.bindPopup(popup_f51c0b9b4516b8be51fd5a783547abc0)\n",
       "        ;\n",
       "\n",
       "        \n",
       "    \n",
       "    \n",
       "            circle_marker_ef211072c9c17cb0be37bd772485ac78.bindTooltip(\n",
       "                `&lt;div&gt;\n",
       "                     Curitiba\n",
       "                 &lt;/div&gt;`,\n",
       "                {&quot;sticky&quot;: true}\n",
       "            );\n",
       "        \n",
       "    \n",
       "            var circle_marker_3f204035fee2efe10cf985e3b2278e3f = L.circleMarker(\n",
       "                [-28.8737, -52.1781],\n",
       "                {&quot;bubblingMouseEvents&quot;: true, &quot;color&quot;: &quot;red&quot;, &quot;dashArray&quot;: null, &quot;dashOffset&quot;: null, &quot;fill&quot;: true, &quot;fillColor&quot;: &quot;#E8710A&quot;, &quot;fillOpacity&quot;: 0.6, &quot;fillRule&quot;: &quot;evenodd&quot;, &quot;lineCap&quot;: &quot;round&quot;, &quot;lineJoin&quot;: &quot;round&quot;, &quot;opacity&quot;: 1, &quot;radius&quot;: 0.0035522648178558216, &quot;stroke&quot;: true, &quot;weight&quot;: 5}\n",
       "            ).addTo(map_552b229ba55be69b8cadab1bd94bf1f2);\n",
       "        \n",
       "    \n",
       "        var popup_b0811899981ecf6bcd7b8695a1853366 = L.popup({&quot;maxWidth&quot;: &quot;100%&quot;});\n",
       "\n",
       "        \n",
       "            \n",
       "                var html_bc07c0e1f473d64867e5e5763baab649 = $(`&lt;div id=&quot;html_bc07c0e1f473d64867e5e5763baab649&quot; style=&quot;width: 100.0%; height: 100.0%;&quot;&gt;Valor Empenhado R$5367.6&lt;/div&gt;`)[0];\n",
       "                popup_b0811899981ecf6bcd7b8695a1853366.setContent(html_bc07c0e1f473d64867e5e5763baab649);\n",
       "            \n",
       "        \n",
       "\n",
       "        circle_marker_3f204035fee2efe10cf985e3b2278e3f.bindPopup(popup_b0811899981ecf6bcd7b8695a1853366)\n",
       "        ;\n",
       "\n",
       "        \n",
       "    \n",
       "    \n",
       "            circle_marker_3f204035fee2efe10cf985e3b2278e3f.bindTooltip(\n",
       "                `&lt;div&gt;\n",
       "                     Arvorezinha\n",
       "                 &lt;/div&gt;`,\n",
       "                {&quot;sticky&quot;: true}\n",
       "            );\n",
       "        \n",
       "    \n",
       "            var circle_marker_27db0bfc428100a0889375f4a95dd2eb = L.circleMarker(\n",
       "                [-29.2351, -51.8703],\n",
       "                {&quot;bubblingMouseEvents&quot;: true, &quot;color&quot;: &quot;red&quot;, &quot;dashArray&quot;: null, &quot;dashOffset&quot;: null, &quot;fill&quot;: true, &quot;fillColor&quot;: &quot;#E8710A&quot;, &quot;fillOpacity&quot;: 0.6, &quot;fillRule&quot;: &quot;evenodd&quot;, &quot;lineCap&quot;: &quot;round&quot;, &quot;lineJoin&quot;: &quot;round&quot;, &quot;opacity&quot;: 1, &quot;radius&quot;: 0.0030811112498224185, &quot;stroke&quot;: true, &quot;weight&quot;: 5}\n",
       "            ).addTo(map_552b229ba55be69b8cadab1bd94bf1f2);\n",
       "        \n",
       "    \n",
       "        var popup_2f82c8fce1b4b42257e49fd1210fed0f = L.popup({&quot;maxWidth&quot;: &quot;100%&quot;});\n",
       "\n",
       "        \n",
       "            \n",
       "                var html_af98d62dca3cce203110683a33e844e2 = $(`&lt;div id=&quot;html_af98d62dca3cce203110683a33e844e2&quot; style=&quot;width: 100.0%; height: 100.0%;&quot;&gt;Valor Empenhado R$4655.67&lt;/div&gt;`)[0];\n",
       "                popup_2f82c8fce1b4b42257e49fd1210fed0f.setContent(html_af98d62dca3cce203110683a33e844e2);\n",
       "            \n",
       "        \n",
       "\n",
       "        circle_marker_27db0bfc428100a0889375f4a95dd2eb.bindPopup(popup_2f82c8fce1b4b42257e49fd1210fed0f)\n",
       "        ;\n",
       "\n",
       "        \n",
       "    \n",
       "    \n",
       "            circle_marker_27db0bfc428100a0889375f4a95dd2eb.bindTooltip(\n",
       "                `&lt;div&gt;\n",
       "                     Encantado\n",
       "                 &lt;/div&gt;`,\n",
       "                {&quot;sticky&quot;: true}\n",
       "            );\n",
       "        \n",
       "    \n",
       "            var circle_marker_771041e92d0ffb29186a383ee892cd25 = L.circleMarker(\n",
       "                [-27.78, -54.2357],\n",
       "                {&quot;bubblingMouseEvents&quot;: true, &quot;color&quot;: &quot;red&quot;, &quot;dashArray&quot;: null, &quot;dashOffset&quot;: null, &quot;fill&quot;: true, &quot;fillColor&quot;: &quot;#E8710A&quot;, &quot;fillOpacity&quot;: 0.6, &quot;fillRule&quot;: &quot;evenodd&quot;, &quot;lineCap&quot;: &quot;round&quot;, &quot;lineJoin&quot;: &quot;round&quot;, &quot;opacity&quot;: 1, &quot;radius&quot;: 0.0029608824791502618, &quot;stroke&quot;: true, &quot;weight&quot;: 5}\n",
       "            ).addTo(map_552b229ba55be69b8cadab1bd94bf1f2);\n",
       "        \n",
       "    \n",
       "        var popup_740228a54008ee6f0ca662406d32c6da = L.popup({&quot;maxWidth&quot;: &quot;100%&quot;});\n",
       "\n",
       "        \n",
       "            \n",
       "                var html_d0b3d4a5f0ccb9dcb38c6765474a1774 = $(`&lt;div id=&quot;html_d0b3d4a5f0ccb9dcb38c6765474a1774&quot; style=&quot;width: 100.0%; height: 100.0%;&quot;&gt;Valor Empenhado R$4474.0&lt;/div&gt;`)[0];\n",
       "                popup_740228a54008ee6f0ca662406d32c6da.setContent(html_d0b3d4a5f0ccb9dcb38c6765474a1774);\n",
       "            \n",
       "        \n",
       "\n",
       "        circle_marker_771041e92d0ffb29186a383ee892cd25.bindPopup(popup_740228a54008ee6f0ca662406d32c6da)\n",
       "        ;\n",
       "\n",
       "        \n",
       "    \n",
       "    \n",
       "            circle_marker_771041e92d0ffb29186a383ee892cd25.bindTooltip(\n",
       "                `&lt;div&gt;\n",
       "                     Três de Maio\n",
       "                 &lt;/div&gt;`,\n",
       "                {&quot;sticky&quot;: true}\n",
       "            );\n",
       "        \n",
       "    \n",
       "            var circle_marker_1bc1eba7ac4e3c514119df5dba022296 = L.circleMarker(\n",
       "                [-22.9129, -43.2003],\n",
       "                {&quot;bubblingMouseEvents&quot;: true, &quot;color&quot;: &quot;red&quot;, &quot;dashArray&quot;: null, &quot;dashOffset&quot;: null, &quot;fill&quot;: true, &quot;fillColor&quot;: &quot;#E8710A&quot;, &quot;fillOpacity&quot;: 0.6, &quot;fillRule&quot;: &quot;evenodd&quot;, &quot;lineCap&quot;: &quot;round&quot;, &quot;lineJoin&quot;: &quot;round&quot;, &quot;opacity&quot;: 1, &quot;radius&quot;: 0.0027001342232751604, &quot;stroke&quot;: true, &quot;weight&quot;: 5}\n",
       "            ).addTo(map_552b229ba55be69b8cadab1bd94bf1f2);\n",
       "        \n",
       "    \n",
       "        var popup_fdb845325822fe16b83cada134d73862 = L.popup({&quot;maxWidth&quot;: &quot;100%&quot;});\n",
       "\n",
       "        \n",
       "            \n",
       "                var html_48325577f5a8720a4cd4534512d5beaa = $(`&lt;div id=&quot;html_48325577f5a8720a4cd4534512d5beaa&quot; style=&quot;width: 100.0%; height: 100.0%;&quot;&gt;Valor Empenhado R$4080.0&lt;/div&gt;`)[0];\n",
       "                popup_fdb845325822fe16b83cada134d73862.setContent(html_48325577f5a8720a4cd4534512d5beaa);\n",
       "            \n",
       "        \n",
       "\n",
       "        circle_marker_1bc1eba7ac4e3c514119df5dba022296.bindPopup(popup_fdb845325822fe16b83cada134d73862)\n",
       "        ;\n",
       "\n",
       "        \n",
       "    \n",
       "    \n",
       "            circle_marker_1bc1eba7ac4e3c514119df5dba022296.bindTooltip(\n",
       "                `&lt;div&gt;\n",
       "                     Rio de Janeiro\n",
       "                 &lt;/div&gt;`,\n",
       "                {&quot;sticky&quot;: true}\n",
       "            );\n",
       "        \n",
       "    \n",
       "            var circle_marker_887980f574c305860bdf3ff7362a5e01 = L.circleMarker(\n",
       "                [-29.6505, -50.7753],\n",
       "                {&quot;bubblingMouseEvents&quot;: true, &quot;color&quot;: &quot;red&quot;, &quot;dashArray&quot;: null, &quot;dashOffset&quot;: null, &quot;fill&quot;: true, &quot;fillColor&quot;: &quot;#E8710A&quot;, &quot;fillOpacity&quot;: 0.6, &quot;fillRule&quot;: &quot;evenodd&quot;, &quot;lineCap&quot;: &quot;round&quot;, &quot;lineJoin&quot;: &quot;round&quot;, &quot;opacity&quot;: 1, &quot;radius&quot;: 0.0025507598861341223, &quot;stroke&quot;: true, &quot;weight&quot;: 5}\n",
       "            ).addTo(map_552b229ba55be69b8cadab1bd94bf1f2);\n",
       "        \n",
       "    \n",
       "        var popup_a1f8ac1d2b1fd3bb9a92f980f42c49ca = L.popup({&quot;maxWidth&quot;: &quot;100%&quot;});\n",
       "\n",
       "        \n",
       "            \n",
       "                var html_e214ec9d776271636ef284966465ed57 = $(`&lt;div id=&quot;html_e214ec9d776271636ef284966465ed57&quot; style=&quot;width: 100.0%; height: 100.0%;&quot;&gt;Valor Empenhado R$3854.29&lt;/div&gt;`)[0];\n",
       "                popup_a1f8ac1d2b1fd3bb9a92f980f42c49ca.setContent(html_e214ec9d776271636ef284966465ed57);\n",
       "            \n",
       "        \n",
       "\n",
       "        circle_marker_887980f574c305860bdf3ff7362a5e01.bindPopup(popup_a1f8ac1d2b1fd3bb9a92f980f42c49ca)\n",
       "        ;\n",
       "\n",
       "        \n",
       "    \n",
       "    \n",
       "            circle_marker_887980f574c305860bdf3ff7362a5e01.bindTooltip(\n",
       "                `&lt;div&gt;\n",
       "                     Taquara\n",
       "                 &lt;/div&gt;`,\n",
       "                {&quot;sticky&quot;: true}\n",
       "            );\n",
       "        \n",
       "    \n",
       "            var circle_marker_2882397786d1c3644574bf364083c51e = L.circleMarker(\n",
       "                [-29.3334, -49.7333],\n",
       "                {&quot;bubblingMouseEvents&quot;: true, &quot;color&quot;: &quot;red&quot;, &quot;dashArray&quot;: null, &quot;dashOffset&quot;: null, &quot;fill&quot;: true, &quot;fillColor&quot;: &quot;#E8710A&quot;, &quot;fillOpacity&quot;: 0.6, &quot;fillRule&quot;: &quot;evenodd&quot;, &quot;lineCap&quot;: &quot;round&quot;, &quot;lineJoin&quot;: &quot;round&quot;, &quot;opacity&quot;: 1, &quot;radius&quot;: 0.0025035869529392565, &quot;stroke&quot;: true, &quot;weight&quot;: 5}\n",
       "            ).addTo(map_552b229ba55be69b8cadab1bd94bf1f2);\n",
       "        \n",
       "    \n",
       "        var popup_85b4ba0fa7a06188bd9a90be2d255e79 = L.popup({&quot;maxWidth&quot;: &quot;100%&quot;});\n",
       "\n",
       "        \n",
       "            \n",
       "                var html_12cd07ac68a7c20fabd393983250dda3 = $(`&lt;div id=&quot;html_12cd07ac68a7c20fabd393983250dda3&quot; style=&quot;width: 100.0%; height: 100.0%;&quot;&gt;Valor Empenhado R$3783.01&lt;/div&gt;`)[0];\n",
       "                popup_85b4ba0fa7a06188bd9a90be2d255e79.setContent(html_12cd07ac68a7c20fabd393983250dda3);\n",
       "            \n",
       "        \n",
       "\n",
       "        circle_marker_2882397786d1c3644574bf364083c51e.bindPopup(popup_85b4ba0fa7a06188bd9a90be2d255e79)\n",
       "        ;\n",
       "\n",
       "        \n",
       "    \n",
       "    \n",
       "            circle_marker_2882397786d1c3644574bf364083c51e.bindTooltip(\n",
       "                `&lt;div&gt;\n",
       "                     Torres\n",
       "                 &lt;/div&gt;`,\n",
       "                {&quot;sticky&quot;: true}\n",
       "            );\n",
       "        \n",
       "    \n",
       "            var circle_marker_0e7f6500783f2e803820de8ff8392167 = L.circleMarker(\n",
       "                [-27.1004, -52.6152],\n",
       "                {&quot;bubblingMouseEvents&quot;: true, &quot;color&quot;: &quot;red&quot;, &quot;dashArray&quot;: null, &quot;dashOffset&quot;: null, &quot;fill&quot;: true, &quot;fillColor&quot;: &quot;#E8710A&quot;, &quot;fillOpacity&quot;: 0.6, &quot;fillRule&quot;: &quot;evenodd&quot;, &quot;lineCap&quot;: &quot;round&quot;, &quot;lineJoin&quot;: &quot;round&quot;, &quot;opacity&quot;: 1, &quot;radius&quot;: 0.0024278045093345407, &quot;stroke&quot;: true, &quot;weight&quot;: 5}\n",
       "            ).addTo(map_552b229ba55be69b8cadab1bd94bf1f2);\n",
       "        \n",
       "    \n",
       "        var popup_c34317d58bf89afe07af80f9f72d82b0 = L.popup({&quot;maxWidth&quot;: &quot;100%&quot;});\n",
       "\n",
       "        \n",
       "            \n",
       "                var html_4bcb5304e1f8d4f6a58818fd4cd913fe = $(`&lt;div id=&quot;html_4bcb5304e1f8d4f6a58818fd4cd913fe&quot; style=&quot;width: 100.0%; height: 100.0%;&quot;&gt;Valor Empenhado R$3668.5&lt;/div&gt;`)[0];\n",
       "                popup_c34317d58bf89afe07af80f9f72d82b0.setContent(html_4bcb5304e1f8d4f6a58818fd4cd913fe);\n",
       "            \n",
       "        \n",
       "\n",
       "        circle_marker_0e7f6500783f2e803820de8ff8392167.bindPopup(popup_c34317d58bf89afe07af80f9f72d82b0)\n",
       "        ;\n",
       "\n",
       "        \n",
       "    \n",
       "    \n",
       "            circle_marker_0e7f6500783f2e803820de8ff8392167.bindTooltip(\n",
       "                `&lt;div&gt;\n",
       "                     Chapecó\n",
       "                 &lt;/div&gt;`,\n",
       "                {&quot;sticky&quot;: true}\n",
       "            );\n",
       "        \n",
       "    \n",
       "            var circle_marker_7d365f03548283f185f1f76086cb890d = L.circleMarker(\n",
       "                [-28.4713, -49.0144],\n",
       "                {&quot;bubblingMouseEvents&quot;: true, &quot;color&quot;: &quot;red&quot;, &quot;dashArray&quot;: null, &quot;dashOffset&quot;: null, &quot;fill&quot;: true, &quot;fillColor&quot;: &quot;#E8710A&quot;, &quot;fillOpacity&quot;: 0.6, &quot;fillRule&quot;: &quot;evenodd&quot;, &quot;lineCap&quot;: &quot;round&quot;, &quot;lineJoin&quot;: &quot;round&quot;, &quot;opacity&quot;: 1, &quot;radius&quot;: 0.0023991883809486537, &quot;stroke&quot;: true, &quot;weight&quot;: 5}\n",
       "            ).addTo(map_552b229ba55be69b8cadab1bd94bf1f2);\n",
       "        \n",
       "    \n",
       "        var popup_307fb7a467962621e517412b15b79864 = L.popup({&quot;maxWidth&quot;: &quot;100%&quot;});\n",
       "\n",
       "        \n",
       "            \n",
       "                var html_36798f6a0b1d3d6ccc8af2d8fdbb1c20 = $(`&lt;div id=&quot;html_36798f6a0b1d3d6ccc8af2d8fdbb1c20&quot; style=&quot;width: 100.0%; height: 100.0%;&quot;&gt;Valor Empenhado R$3625.2599999999998&lt;/div&gt;`)[0];\n",
       "                popup_307fb7a467962621e517412b15b79864.setContent(html_36798f6a0b1d3d6ccc8af2d8fdbb1c20);\n",
       "            \n",
       "        \n",
       "\n",
       "        circle_marker_7d365f03548283f185f1f76086cb890d.bindPopup(popup_307fb7a467962621e517412b15b79864)\n",
       "        ;\n",
       "\n",
       "        \n",
       "    \n",
       "    \n",
       "            circle_marker_7d365f03548283f185f1f76086cb890d.bindTooltip(\n",
       "                `&lt;div&gt;\n",
       "                     Tubarão\n",
       "                 &lt;/div&gt;`,\n",
       "                {&quot;sticky&quot;: true}\n",
       "            );\n",
       "        \n",
       "    \n",
       "            var circle_marker_718f658de1dc40fdee82b8260c6f7d1d = L.circleMarker(\n",
       "                [-29.7184, -52.5152],\n",
       "                {&quot;bubblingMouseEvents&quot;: true, &quot;color&quot;: &quot;red&quot;, &quot;dashArray&quot;: null, &quot;dashOffset&quot;: null, &quot;fill&quot;: true, &quot;fillColor&quot;: &quot;#E8710A&quot;, &quot;fillOpacity&quot;: 0.6, &quot;fillRule&quot;: &quot;evenodd&quot;, &quot;lineCap&quot;: &quot;round&quot;, &quot;lineJoin&quot;: &quot;round&quot;, &quot;opacity&quot;: 1, &quot;radius&quot;: 0.0023626174453657655, &quot;stroke&quot;: true, &quot;weight&quot;: 5}\n",
       "            ).addTo(map_552b229ba55be69b8cadab1bd94bf1f2);\n",
       "        \n",
       "    \n",
       "        var popup_d83d84c72f93b51215dbd620079ce6fb = L.popup({&quot;maxWidth&quot;: &quot;100%&quot;});\n",
       "\n",
       "        \n",
       "            \n",
       "                var html_eeaf8bf13386d6528a2e5b0269c3f9f2 = $(`&lt;div id=&quot;html_eeaf8bf13386d6528a2e5b0269c3f9f2&quot; style=&quot;width: 100.0%; height: 100.0%;&quot;&gt;Valor Empenhado R$3570.0&lt;/div&gt;`)[0];\n",
       "                popup_d83d84c72f93b51215dbd620079ce6fb.setContent(html_eeaf8bf13386d6528a2e5b0269c3f9f2);\n",
       "            \n",
       "        \n",
       "\n",
       "        circle_marker_718f658de1dc40fdee82b8260c6f7d1d.bindPopup(popup_d83d84c72f93b51215dbd620079ce6fb)\n",
       "        ;\n",
       "\n",
       "        \n",
       "    \n",
       "    \n",
       "            circle_marker_718f658de1dc40fdee82b8260c6f7d1d.bindTooltip(\n",
       "                `&lt;div&gt;\n",
       "                     Vera Cruz\n",
       "                 &lt;/div&gt;`,\n",
       "                {&quot;sticky&quot;: true}\n",
       "            );\n",
       "        \n",
       "    \n",
       "            var circle_marker_86c1034e7e604c65f068ddce12fbf2fa = L.circleMarker(\n",
       "                [-19.7472, -47.9381],\n",
       "                {&quot;bubblingMouseEvents&quot;: true, &quot;color&quot;: &quot;red&quot;, &quot;dashArray&quot;: null, &quot;dashOffset&quot;: null, &quot;fill&quot;: true, &quot;fillColor&quot;: &quot;#E8710A&quot;, &quot;fillOpacity&quot;: 0.6, &quot;fillRule&quot;: &quot;evenodd&quot;, &quot;lineCap&quot;: &quot;round&quot;, &quot;lineJoin&quot;: &quot;round&quot;, &quot;opacity&quot;: 1, &quot;radius&quot;: 0.00212242462306295, &quot;stroke&quot;: true, &quot;weight&quot;: 5}\n",
       "            ).addTo(map_552b229ba55be69b8cadab1bd94bf1f2);\n",
       "        \n",
       "    \n",
       "        var popup_a7074405f80d5ef90c0a3e0f41330467 = L.popup({&quot;maxWidth&quot;: &quot;100%&quot;});\n",
       "\n",
       "        \n",
       "            \n",
       "                var html_b3043de0c720e3b52f7efc98c4f7f172 = $(`&lt;div id=&quot;html_b3043de0c720e3b52f7efc98c4f7f172&quot; style=&quot;width: 100.0%; height: 100.0%;&quot;&gt;Valor Empenhado R$3207.06&lt;/div&gt;`)[0];\n",
       "                popup_a7074405f80d5ef90c0a3e0f41330467.setContent(html_b3043de0c720e3b52f7efc98c4f7f172);\n",
       "            \n",
       "        \n",
       "\n",
       "        circle_marker_86c1034e7e604c65f068ddce12fbf2fa.bindPopup(popup_a7074405f80d5ef90c0a3e0f41330467)\n",
       "        ;\n",
       "\n",
       "        \n",
       "    \n",
       "    \n",
       "            circle_marker_86c1034e7e604c65f068ddce12fbf2fa.bindTooltip(\n",
       "                `&lt;div&gt;\n",
       "                     Uberaba\n",
       "                 &lt;/div&gt;`,\n",
       "                {&quot;sticky&quot;: true}\n",
       "            );\n",
       "        \n",
       "    \n",
       "            var circle_marker_82e9c28b366e75fb5ad8982a395f0ec6 = L.circleMarker(\n",
       "                [-27.8702, -54.4796],\n",
       "                {&quot;bubblingMouseEvents&quot;: true, &quot;color&quot;: &quot;red&quot;, &quot;dashArray&quot;: null, &quot;dashOffset&quot;: null, &quot;fill&quot;: true, &quot;fillColor&quot;: &quot;#E8710A&quot;, &quot;fillOpacity&quot;: 0.6, &quot;fillRule&quot;: &quot;evenodd&quot;, &quot;lineCap&quot;: &quot;round&quot;, &quot;lineJoin&quot;: &quot;round&quot;, &quot;opacity&quot;: 1, &quot;radius&quot;: 0.0020648085236810053, &quot;stroke&quot;: true, &quot;weight&quot;: 5}\n",
       "            ).addTo(map_552b229ba55be69b8cadab1bd94bf1f2);\n",
       "        \n",
       "    \n",
       "        var popup_b6dc55a2fa5bbaac86623f0c108c5b37 = L.popup({&quot;maxWidth&quot;: &quot;100%&quot;});\n",
       "\n",
       "        \n",
       "            \n",
       "                var html_1444bb3fbf0b9c97cb80b3fec02e4bba = $(`&lt;div id=&quot;html_1444bb3fbf0b9c97cb80b3fec02e4bba&quot; style=&quot;width: 100.0%; height: 100.0%;&quot;&gt;Valor Empenhado R$3120.0&lt;/div&gt;`)[0];\n",
       "                popup_b6dc55a2fa5bbaac86623f0c108c5b37.setContent(html_1444bb3fbf0b9c97cb80b3fec02e4bba);\n",
       "            \n",
       "        \n",
       "\n",
       "        circle_marker_82e9c28b366e75fb5ad8982a395f0ec6.bindPopup(popup_b6dc55a2fa5bbaac86623f0c108c5b37)\n",
       "        ;\n",
       "\n",
       "        \n",
       "    \n",
       "    \n",
       "            circle_marker_82e9c28b366e75fb5ad8982a395f0ec6.bindTooltip(\n",
       "                `&lt;div&gt;\n",
       "                     Santa Rosa\n",
       "                 &lt;/div&gt;`,\n",
       "                {&quot;sticky&quot;: true}\n",
       "            );\n",
       "        \n",
       "    \n",
       "            var circle_marker_5d97c9e5692686a8a205881dff875874 = L.circleMarker(\n",
       "                [-29.6868, -53.8149],\n",
       "                {&quot;bubblingMouseEvents&quot;: true, &quot;color&quot;: &quot;red&quot;, &quot;dashArray&quot;: null, &quot;dashOffset&quot;: null, &quot;fill&quot;: true, &quot;fillColor&quot;: &quot;#E8710A&quot;, &quot;fillOpacity&quot;: 0.6, &quot;fillRule&quot;: &quot;evenodd&quot;, &quot;lineCap&quot;: &quot;round&quot;, &quot;lineJoin&quot;: &quot;round&quot;, &quot;opacity&quot;: 1, &quot;radius&quot;: 0.0018530332904829533, &quot;stroke&quot;: true, &quot;weight&quot;: 5}\n",
       "            ).addTo(map_552b229ba55be69b8cadab1bd94bf1f2);\n",
       "        \n",
       "    \n",
       "        var popup_adc649a56bdfa3f0cd87ce082750bd8c = L.popup({&quot;maxWidth&quot;: &quot;100%&quot;});\n",
       "\n",
       "        \n",
       "            \n",
       "                var html_c0dc07ad512433628ad97f415f156c98 = $(`&lt;div id=&quot;html_c0dc07ad512433628ad97f415f156c98&quot; style=&quot;width: 100.0%; height: 100.0%;&quot;&gt;Valor Empenhado R$2800.0&lt;/div&gt;`)[0];\n",
       "                popup_adc649a56bdfa3f0cd87ce082750bd8c.setContent(html_c0dc07ad512433628ad97f415f156c98);\n",
       "            \n",
       "        \n",
       "\n",
       "        circle_marker_5d97c9e5692686a8a205881dff875874.bindPopup(popup_adc649a56bdfa3f0cd87ce082750bd8c)\n",
       "        ;\n",
       "\n",
       "        \n",
       "    \n",
       "    \n",
       "            circle_marker_5d97c9e5692686a8a205881dff875874.bindTooltip(\n",
       "                `&lt;div&gt;\n",
       "                     Santa Maria\n",
       "                 &lt;/div&gt;`,\n",
       "                {&quot;sticky&quot;: true}\n",
       "            );\n",
       "        \n",
       "    \n",
       "            var circle_marker_c65a5050c0e726493baf40e16689a783 = L.circleMarker(\n",
       "                [-30.0847, -51.6187],\n",
       "                {&quot;bubblingMouseEvents&quot;: true, &quot;color&quot;: &quot;red&quot;, &quot;dashArray&quot;: null, &quot;dashOffset&quot;: null, &quot;fill&quot;: true, &quot;fillColor&quot;: &quot;#E8710A&quot;, &quot;fillOpacity&quot;: 0.6, &quot;fillRule&quot;: &quot;evenodd&quot;, &quot;lineCap&quot;: &quot;round&quot;, &quot;lineJoin&quot;: &quot;round&quot;, &quot;opacity&quot;: 1, &quot;radius&quot;: 0.0015113471876699715, &quot;stroke&quot;: true, &quot;weight&quot;: 5}\n",
       "            ).addTo(map_552b229ba55be69b8cadab1bd94bf1f2);\n",
       "        \n",
       "    \n",
       "        var popup_fa4015934d59c342234d4a7e266676ef = L.popup({&quot;maxWidth&quot;: &quot;100%&quot;});\n",
       "\n",
       "        \n",
       "            \n",
       "                var html_68763f2ee937915c48690e0e748003bd = $(`&lt;div id=&quot;html_68763f2ee937915c48690e0e748003bd&quot; style=&quot;width: 100.0%; height: 100.0%;&quot;&gt;Valor Empenhado R$2283.7&lt;/div&gt;`)[0];\n",
       "                popup_fa4015934d59c342234d4a7e266676ef.setContent(html_68763f2ee937915c48690e0e748003bd);\n",
       "            \n",
       "        \n",
       "\n",
       "        circle_marker_c65a5050c0e726493baf40e16689a783.bindPopup(popup_fa4015934d59c342234d4a7e266676ef)\n",
       "        ;\n",
       "\n",
       "        \n",
       "    \n",
       "    \n",
       "            circle_marker_c65a5050c0e726493baf40e16689a783.bindTooltip(\n",
       "                `&lt;div&gt;\n",
       "                     Eldorado do Sul\n",
       "                 &lt;/div&gt;`,\n",
       "                {&quot;sticky&quot;: true}\n",
       "            );\n",
       "        \n",
       "    \n",
       "            var circle_marker_2c5e3422b0921eb4064b0f1af809b575 = L.circleMarker(\n",
       "                [-29.0261, -51.1875],\n",
       "                {&quot;bubblingMouseEvents&quot;: true, &quot;color&quot;: &quot;red&quot;, &quot;dashArray&quot;: null, &quot;dashOffset&quot;: null, &quot;fill&quot;: true, &quot;fillColor&quot;: &quot;#E8710A&quot;, &quot;fillOpacity&quot;: 0.6, &quot;fillRule&quot;: &quot;evenodd&quot;, &quot;lineCap&quot;: &quot;round&quot;, &quot;lineJoin&quot;: &quot;round&quot;, &quot;opacity&quot;: 1, &quot;radius&quot;: 0.0015049277509136556, &quot;stroke&quot;: true, &quot;weight&quot;: 5}\n",
       "            ).addTo(map_552b229ba55be69b8cadab1bd94bf1f2);\n",
       "        \n",
       "    \n",
       "        var popup_56a1eb83b235f62cf6dc73a585f4b65e = L.popup({&quot;maxWidth&quot;: &quot;100%&quot;});\n",
       "\n",
       "        \n",
       "            \n",
       "                var html_c0e3e38db2b651611abcea6c1a30a090 = $(`&lt;div id=&quot;html_c0e3e38db2b651611abcea6c1a30a090&quot; style=&quot;width: 100.0%; height: 100.0%;&quot;&gt;Valor Empenhado R$2274.0&lt;/div&gt;`)[0];\n",
       "                popup_56a1eb83b235f62cf6dc73a585f4b65e.setContent(html_c0e3e38db2b651611abcea6c1a30a090);\n",
       "            \n",
       "        \n",
       "\n",
       "        circle_marker_2c5e3422b0921eb4064b0f1af809b575.bindPopup(popup_56a1eb83b235f62cf6dc73a585f4b65e)\n",
       "        ;\n",
       "\n",
       "        \n",
       "    \n",
       "    \n",
       "            circle_marker_2c5e3422b0921eb4064b0f1af809b575.bindTooltip(\n",
       "                `&lt;div&gt;\n",
       "                     Flores da Cunha\n",
       "                 &lt;/div&gt;`,\n",
       "                {&quot;sticky&quot;: true}\n",
       "            );\n",
       "        \n",
       "    \n",
       "            var circle_marker_a111137cc3ef5324ab66530d6cdd4c10 = L.circleMarker(\n",
       "                [-28.9817, -52.3445],\n",
       "                {&quot;bubblingMouseEvents&quot;: true, &quot;color&quot;: &quot;red&quot;, &quot;dashArray&quot;: null, &quot;dashOffset&quot;: null, &quot;fill&quot;: true, &quot;fillColor&quot;: &quot;#E8710A&quot;, &quot;fillOpacity&quot;: 0.6, &quot;fillRule&quot;: &quot;evenodd&quot;, &quot;lineCap&quot;: &quot;round&quot;, &quot;lineJoin&quot;: &quot;round&quot;, &quot;opacity&quot;: 1, &quot;radius&quot;: 0.0014601703789724548, &quot;stroke&quot;: true, &quot;weight&quot;: 5}\n",
       "            ).addTo(map_552b229ba55be69b8cadab1bd94bf1f2);\n",
       "        \n",
       "    \n",
       "        var popup_9826fe601dcb6fb10257561a17776d0c = L.popup({&quot;maxWidth&quot;: &quot;100%&quot;});\n",
       "\n",
       "        \n",
       "            \n",
       "                var html_436fdce60cfa74a6d9275df2283ab68a = $(`&lt;div id=&quot;html_436fdce60cfa74a6d9275df2283ab68a&quot; style=&quot;width: 100.0%; height: 100.0%;&quot;&gt;Valor Empenhado R$2206.37&lt;/div&gt;`)[0];\n",
       "                popup_9826fe601dcb6fb10257561a17776d0c.setContent(html_436fdce60cfa74a6d9275df2283ab68a);\n",
       "            \n",
       "        \n",
       "\n",
       "        circle_marker_a111137cc3ef5324ab66530d6cdd4c10.bindPopup(popup_9826fe601dcb6fb10257561a17776d0c)\n",
       "        ;\n",
       "\n",
       "        \n",
       "    \n",
       "    \n",
       "            circle_marker_a111137cc3ef5324ab66530d6cdd4c10.bindTooltip(\n",
       "                `&lt;div&gt;\n",
       "                     Fontoura Xavier\n",
       "                 &lt;/div&gt;`,\n",
       "                {&quot;sticky&quot;: true}\n",
       "            );\n",
       "        \n",
       "    \n",
       "            var circle_marker_9dc8e88b43214df5ddbf273269e668f3 = L.circleMarker(\n",
       "                [-26.8246, -49.269],\n",
       "                {&quot;bubblingMouseEvents&quot;: true, &quot;color&quot;: &quot;red&quot;, &quot;dashArray&quot;: null, &quot;dashOffset&quot;: null, &quot;fill&quot;: true, &quot;fillColor&quot;: &quot;#E8710A&quot;, &quot;fillOpacity&quot;: 0.6, &quot;fillRule&quot;: &quot;evenodd&quot;, &quot;lineCap&quot;: &quot;round&quot;, &quot;lineJoin&quot;: &quot;round&quot;, &quot;opacity&quot;: 1, &quot;radius&quot;: 0.001236998991037933, &quot;stroke&quot;: true, &quot;weight&quot;: 5}\n",
       "            ).addTo(map_552b229ba55be69b8cadab1bd94bf1f2);\n",
       "        \n",
       "    \n",
       "        var popup_89e8f5b788f8bbeedd93e2cdfdbaeba3 = L.popup({&quot;maxWidth&quot;: &quot;100%&quot;});\n",
       "\n",
       "        \n",
       "            \n",
       "                var html_6e9ad5f7a6bf83117e37b2b8ecfadd30 = $(`&lt;div id=&quot;html_6e9ad5f7a6bf83117e37b2b8ecfadd30&quot; style=&quot;width: 100.0%; height: 100.0%;&quot;&gt;Valor Empenhado R$1869.15&lt;/div&gt;`)[0];\n",
       "                popup_89e8f5b788f8bbeedd93e2cdfdbaeba3.setContent(html_6e9ad5f7a6bf83117e37b2b8ecfadd30);\n",
       "            \n",
       "        \n",
       "\n",
       "        circle_marker_9dc8e88b43214df5ddbf273269e668f3.bindPopup(popup_89e8f5b788f8bbeedd93e2cdfdbaeba3)\n",
       "        ;\n",
       "\n",
       "        \n",
       "    \n",
       "    \n",
       "            circle_marker_9dc8e88b43214df5ddbf273269e668f3.bindTooltip(\n",
       "                `&lt;div&gt;\n",
       "                     Timbó\n",
       "                 &lt;/div&gt;`,\n",
       "                {&quot;sticky&quot;: true}\n",
       "            );\n",
       "        \n",
       "    \n",
       "            var circle_marker_67d8d41adcc309486d94fcee11e8d5d3 = L.circleMarker(\n",
       "                [-23.4205, -51.9333],\n",
       "                {&quot;bubblingMouseEvents&quot;: true, &quot;color&quot;: &quot;red&quot;, &quot;dashArray&quot;: null, &quot;dashOffset&quot;: null, &quot;fill&quot;: true, &quot;fillColor&quot;: &quot;#E8710A&quot;, &quot;fillOpacity&quot;: 0.6, &quot;fillRule&quot;: &quot;evenodd&quot;, &quot;lineCap&quot;: &quot;round&quot;, &quot;lineJoin&quot;: &quot;round&quot;, &quot;opacity&quot;: 1, &quot;radius&quot;: 0.001217707590888798, &quot;stroke&quot;: true, &quot;weight&quot;: 5}\n",
       "            ).addTo(map_552b229ba55be69b8cadab1bd94bf1f2);\n",
       "        \n",
       "    \n",
       "        var popup_661f65533ab9be1cdf89f0b0bc6ac520 = L.popup({&quot;maxWidth&quot;: &quot;100%&quot;});\n",
       "\n",
       "        \n",
       "            \n",
       "                var html_e42c0c0d319633ce46de0cec21b97b7f = $(`&lt;div id=&quot;html_e42c0c0d319633ce46de0cec21b97b7f&quot; style=&quot;width: 100.0%; height: 100.0%;&quot;&gt;Valor Empenhado R$1840.0&lt;/div&gt;`)[0];\n",
       "                popup_661f65533ab9be1cdf89f0b0bc6ac520.setContent(html_e42c0c0d319633ce46de0cec21b97b7f);\n",
       "            \n",
       "        \n",
       "\n",
       "        circle_marker_67d8d41adcc309486d94fcee11e8d5d3.bindPopup(popup_661f65533ab9be1cdf89f0b0bc6ac520)\n",
       "        ;\n",
       "\n",
       "        \n",
       "    \n",
       "    \n",
       "            circle_marker_67d8d41adcc309486d94fcee11e8d5d3.bindTooltip(\n",
       "                `&lt;div&gt;\n",
       "                     Maringá\n",
       "                 &lt;/div&gt;`,\n",
       "                {&quot;sticky&quot;: true}\n",
       "            );\n",
       "        \n",
       "    \n",
       "            var circle_marker_41bdc9a78cf93e6bc88019f4b08a33c5 = L.circleMarker(\n",
       "                [-27.664, -53.6407],\n",
       "                {&quot;bubblingMouseEvents&quot;: true, &quot;color&quot;: &quot;red&quot;, &quot;dashArray&quot;: null, &quot;dashOffset&quot;: null, &quot;fill&quot;: true, &quot;fillColor&quot;: &quot;#E8710A&quot;, &quot;fillOpacity&quot;: 0.6, &quot;fillRule&quot;: &quot;evenodd&quot;, &quot;lineCap&quot;: &quot;round&quot;, &quot;lineJoin&quot;: &quot;round&quot;, &quot;opacity&quot;: 1, &quot;radius&quot;: 0.0011932012256221608, &quot;stroke&quot;: true, &quot;weight&quot;: 5}\n",
       "            ).addTo(map_552b229ba55be69b8cadab1bd94bf1f2);\n",
       "        \n",
       "    \n",
       "        var popup_07b55e343707ddc8b1b622c3d61c8ab8 = L.popup({&quot;maxWidth&quot;: &quot;100%&quot;});\n",
       "\n",
       "        \n",
       "            \n",
       "                var html_ee8205e7b04cb885e6103265d70bd17e = $(`&lt;div id=&quot;html_ee8205e7b04cb885e6103265d70bd17e&quot; style=&quot;width: 100.0%; height: 100.0%;&quot;&gt;Valor Empenhado R$1802.97&lt;/div&gt;`)[0];\n",
       "                popup_07b55e343707ddc8b1b622c3d61c8ab8.setContent(html_ee8205e7b04cb885e6103265d70bd17e);\n",
       "            \n",
       "        \n",
       "\n",
       "        circle_marker_41bdc9a78cf93e6bc88019f4b08a33c5.bindPopup(popup_07b55e343707ddc8b1b622c3d61c8ab8)\n",
       "        ;\n",
       "\n",
       "        \n",
       "    \n",
       "    \n",
       "            circle_marker_41bdc9a78cf93e6bc88019f4b08a33c5.bindTooltip(\n",
       "                `&lt;div&gt;\n",
       "                     Redentora\n",
       "                 &lt;/div&gt;`,\n",
       "                {&quot;sticky&quot;: true}\n",
       "            );\n",
       "        \n",
       "    \n",
       "            var circle_marker_b63189eb431cc3ae251d02cb8792666c = L.circleMarker(\n",
       "                [-27.3978, -52.2975],\n",
       "                {&quot;bubblingMouseEvents&quot;: true, &quot;color&quot;: &quot;red&quot;, &quot;dashArray&quot;: null, &quot;dashOffset&quot;: null, &quot;fill&quot;: true, &quot;fillColor&quot;: &quot;#E8710A&quot;, &quot;fillOpacity&quot;: 0.6, &quot;fillRule&quot;: &quot;evenodd&quot;, &quot;lineCap&quot;: &quot;round&quot;, &quot;lineJoin&quot;: &quot;round&quot;, &quot;opacity&quot;: 1, &quot;radius&quot;: 0.0008872058675790883, &quot;stroke&quot;: true, &quot;weight&quot;: 5}\n",
       "            ).addTo(map_552b229ba55be69b8cadab1bd94bf1f2);\n",
       "        \n",
       "    \n",
       "        var popup_5bc50ec0ae24feae30c3d3100021e63a = L.popup({&quot;maxWidth&quot;: &quot;100%&quot;});\n",
       "\n",
       "        \n",
       "            \n",
       "                var html_1da7a3aeefd3c17c2ab60de98131de5b = $(`&lt;div id=&quot;html_1da7a3aeefd3c17c2ab60de98131de5b&quot; style=&quot;width: 100.0%; height: 100.0%;&quot;&gt;Valor Empenhado R$1340.6&lt;/div&gt;`)[0];\n",
       "                popup_5bc50ec0ae24feae30c3d3100021e63a.setContent(html_1da7a3aeefd3c17c2ab60de98131de5b);\n",
       "            \n",
       "        \n",
       "\n",
       "        circle_marker_b63189eb431cc3ae251d02cb8792666c.bindPopup(popup_5bc50ec0ae24feae30c3d3100021e63a)\n",
       "        ;\n",
       "\n",
       "        \n",
       "    \n",
       "    \n",
       "            circle_marker_b63189eb431cc3ae251d02cb8792666c.bindTooltip(\n",
       "                `&lt;div&gt;\n",
       "                     Aratiba\n",
       "                 &lt;/div&gt;`,\n",
       "                {&quot;sticky&quot;: true}\n",
       "            );\n",
       "        \n",
       "    \n",
       "            var circle_marker_bc614d7d7a1e9dec2b7585e3d9f7488b = L.circleMarker(\n",
       "                [-28.9312, -51.5516],\n",
       "                {&quot;bubblingMouseEvents&quot;: true, &quot;color&quot;: &quot;red&quot;, &quot;dashArray&quot;: null, &quot;dashOffset&quot;: null, &quot;fill&quot;: true, &quot;fillColor&quot;: &quot;#E8710A&quot;, &quot;fillOpacity&quot;: 0.6, &quot;fillRule&quot;: &quot;evenodd&quot;, &quot;lineCap&quot;: &quot;round&quot;, &quot;lineJoin&quot;: &quot;round&quot;, &quot;opacity&quot;: 1, &quot;radius&quot;: 0.0008702638489232441, &quot;stroke&quot;: true, &quot;weight&quot;: 5}\n",
       "            ).addTo(map_552b229ba55be69b8cadab1bd94bf1f2);\n",
       "        \n",
       "    \n",
       "        var popup_cc1667f88a7a21e6d2d99c9da9fd6246 = L.popup({&quot;maxWidth&quot;: &quot;100%&quot;});\n",
       "\n",
       "        \n",
       "            \n",
       "                var html_dc8981cc2eb4dc2b1256773b5ebc76b4 = $(`&lt;div id=&quot;html_dc8981cc2eb4dc2b1256773b5ebc76b4&quot; style=&quot;width: 100.0%; height: 100.0%;&quot;&gt;Valor Empenhado R$1315.0&lt;/div&gt;`)[0];\n",
       "                popup_cc1667f88a7a21e6d2d99c9da9fd6246.setContent(html_dc8981cc2eb4dc2b1256773b5ebc76b4);\n",
       "            \n",
       "        \n",
       "\n",
       "        circle_marker_bc614d7d7a1e9dec2b7585e3d9f7488b.bindPopup(popup_cc1667f88a7a21e6d2d99c9da9fd6246)\n",
       "        ;\n",
       "\n",
       "        \n",
       "    \n",
       "    \n",
       "            circle_marker_bc614d7d7a1e9dec2b7585e3d9f7488b.bindTooltip(\n",
       "                `&lt;div&gt;\n",
       "                     Veranópolis\n",
       "                 &lt;/div&gt;`,\n",
       "                {&quot;sticky&quot;: true}\n",
       "            );\n",
       "        \n",
       "    \n",
       "            var circle_marker_464564d8bf8b800ba7c28abd2ad96eca = L.circleMarker(\n",
       "                [-25.0916, -50.1668],\n",
       "                {&quot;bubblingMouseEvents&quot;: true, &quot;color&quot;: &quot;red&quot;, &quot;dashArray&quot;: null, &quot;dashOffset&quot;: null, &quot;fill&quot;: true, &quot;fillColor&quot;: &quot;#E8710A&quot;, &quot;fillOpacity&quot;: 0.6, &quot;fillRule&quot;: &quot;evenodd&quot;, &quot;lineCap&quot;: &quot;round&quot;, &quot;lineJoin&quot;: &quot;round&quot;, &quot;opacity&quot;: 1, &quot;radius&quot;: 0.0008636458728858051, &quot;stroke&quot;: true, &quot;weight&quot;: 5}\n",
       "            ).addTo(map_552b229ba55be69b8cadab1bd94bf1f2);\n",
       "        \n",
       "    \n",
       "        var popup_7fa701d6b2c33fcfe0c18cc026d23b95 = L.popup({&quot;maxWidth&quot;: &quot;100%&quot;});\n",
       "\n",
       "        \n",
       "            \n",
       "                var html_9442fb678307792df9427c125bb6ad77 = $(`&lt;div id=&quot;html_9442fb678307792df9427c125bb6ad77&quot; style=&quot;width: 100.0%; height: 100.0%;&quot;&gt;Valor Empenhado R$1305.0&lt;/div&gt;`)[0];\n",
       "                popup_7fa701d6b2c33fcfe0c18cc026d23b95.setContent(html_9442fb678307792df9427c125bb6ad77);\n",
       "            \n",
       "        \n",
       "\n",
       "        circle_marker_464564d8bf8b800ba7c28abd2ad96eca.bindPopup(popup_7fa701d6b2c33fcfe0c18cc026d23b95)\n",
       "        ;\n",
       "\n",
       "        \n",
       "    \n",
       "    \n",
       "            circle_marker_464564d8bf8b800ba7c28abd2ad96eca.bindTooltip(\n",
       "                `&lt;div&gt;\n",
       "                     Ponta Grossa\n",
       "                 &lt;/div&gt;`,\n",
       "                {&quot;sticky&quot;: true}\n",
       "            );\n",
       "        \n",
       "    \n",
       "            var circle_marker_b414a1ae97d510a1073c3f71f76489fa = L.circleMarker(\n",
       "                [-29.5456, -51.4185],\n",
       "                {&quot;bubblingMouseEvents&quot;: true, &quot;color&quot;: &quot;red&quot;, &quot;dashArray&quot;: null, &quot;dashOffset&quot;: null, &quot;fill&quot;: true, &quot;fillColor&quot;: &quot;#E8710A&quot;, &quot;fillOpacity&quot;: 0.6, &quot;fillRule&quot;: &quot;evenodd&quot;, &quot;lineCap&quot;: &quot;round&quot;, &quot;lineJoin&quot;: &quot;round&quot;, &quot;opacity&quot;: 1, &quot;radius&quot;: 0.0005120460419687395, &quot;stroke&quot;: true, &quot;weight&quot;: 5}\n",
       "            ).addTo(map_552b229ba55be69b8cadab1bd94bf1f2);\n",
       "        \n",
       "    \n",
       "        var popup_a3a04cd47b86cf027d784ec78e9b6025 = L.popup({&quot;maxWidth&quot;: &quot;100%&quot;});\n",
       "\n",
       "        \n",
       "            \n",
       "                var html_a14b209561b33bbb3a6bb4d03f5dea74 = $(`&lt;div id=&quot;html_a14b209561b33bbb3a6bb4d03f5dea74&quot; style=&quot;width: 100.0%; height: 100.0%;&quot;&gt;Valor Empenhado R$773.72&lt;/div&gt;`)[0];\n",
       "                popup_a3a04cd47b86cf027d784ec78e9b6025.setContent(html_a14b209561b33bbb3a6bb4d03f5dea74);\n",
       "            \n",
       "        \n",
       "\n",
       "        circle_marker_b414a1ae97d510a1073c3f71f76489fa.bindPopup(popup_a3a04cd47b86cf027d784ec78e9b6025)\n",
       "        ;\n",
       "\n",
       "        \n",
       "    \n",
       "    \n",
       "            circle_marker_b414a1ae97d510a1073c3f71f76489fa.bindTooltip(\n",
       "                `&lt;div&gt;\n",
       "                     Harmonia\n",
       "                 &lt;/div&gt;`,\n",
       "                {&quot;sticky&quot;: true}\n",
       "            );\n",
       "        \n",
       "    \n",
       "            var circle_marker_43c8b3adfbac254054825c5e5201478c = L.circleMarker(\n",
       "                [-27.2156, -49.643],\n",
       "                {&quot;bubblingMouseEvents&quot;: true, &quot;color&quot;: &quot;red&quot;, &quot;dashArray&quot;: null, &quot;dashOffset&quot;: null, &quot;fill&quot;: true, &quot;fillColor&quot;: &quot;#E8710A&quot;, &quot;fillOpacity&quot;: 0.6, &quot;fillRule&quot;: &quot;evenodd&quot;, &quot;lineCap&quot;: &quot;round&quot;, &quot;lineJoin&quot;: &quot;round&quot;, &quot;opacity&quot;: 1, &quot;radius&quot;: 0.00047649427469561656, &quot;stroke&quot;: true, &quot;weight&quot;: 5}\n",
       "            ).addTo(map_552b229ba55be69b8cadab1bd94bf1f2);\n",
       "        \n",
       "    \n",
       "        var popup_2c49b4254387efdf6fb347e5d8460724 = L.popup({&quot;maxWidth&quot;: &quot;100%&quot;});\n",
       "\n",
       "        \n",
       "            \n",
       "                var html_cd7b106297f57ba6bab26cfa9c594772 = $(`&lt;div id=&quot;html_cd7b106297f57ba6bab26cfa9c594772&quot; style=&quot;width: 100.0%; height: 100.0%;&quot;&gt;Valor Empenhado R$720.0&lt;/div&gt;`)[0];\n",
       "                popup_2c49b4254387efdf6fb347e5d8460724.setContent(html_cd7b106297f57ba6bab26cfa9c594772);\n",
       "            \n",
       "        \n",
       "\n",
       "        circle_marker_43c8b3adfbac254054825c5e5201478c.bindPopup(popup_2c49b4254387efdf6fb347e5d8460724)\n",
       "        ;\n",
       "\n",
       "        \n",
       "    \n",
       "    \n",
       "            circle_marker_43c8b3adfbac254054825c5e5201478c.bindTooltip(\n",
       "                `&lt;div&gt;\n",
       "                     Rio do Sul\n",
       "                 &lt;/div&gt;`,\n",
       "                {&quot;sticky&quot;: true}\n",
       "            );\n",
       "        \n",
       "    \n",
       "            var circle_marker_615b2d5f75389d7309136548e0ce1c60 = L.circleMarker(\n",
       "                [-27.7758, -52.8056],\n",
       "                {&quot;bubblingMouseEvents&quot;: true, &quot;color&quot;: &quot;red&quot;, &quot;dashArray&quot;: null, &quot;dashOffset&quot;: null, &quot;fill&quot;: true, &quot;fillColor&quot;: &quot;#E8710A&quot;, &quot;fillOpacity&quot;: 0.6, &quot;fillRule&quot;: &quot;evenodd&quot;, &quot;lineCap&quot;: &quot;round&quot;, &quot;lineJoin&quot;: &quot;round&quot;, &quot;opacity&quot;: 1, &quot;radius&quot;: 0.00039707856224634717, &quot;stroke&quot;: true, &quot;weight&quot;: 5}\n",
       "            ).addTo(map_552b229ba55be69b8cadab1bd94bf1f2);\n",
       "        \n",
       "    \n",
       "        var popup_429d5c7fb442278c4cb9ec1e285d47b5 = L.popup({&quot;maxWidth&quot;: &quot;100%&quot;});\n",
       "\n",
       "        \n",
       "            \n",
       "                var html_c543c3b3bd12a40e2f75eb740c67a6e2 = $(`&lt;div id=&quot;html_c543c3b3bd12a40e2f75eb740c67a6e2&quot; style=&quot;width: 100.0%; height: 100.0%;&quot;&gt;Valor Empenhado R$600.0&lt;/div&gt;`)[0];\n",
       "                popup_429d5c7fb442278c4cb9ec1e285d47b5.setContent(html_c543c3b3bd12a40e2f75eb740c67a6e2);\n",
       "            \n",
       "        \n",
       "\n",
       "        circle_marker_615b2d5f75389d7309136548e0ce1c60.bindPopup(popup_429d5c7fb442278c4cb9ec1e285d47b5)\n",
       "        ;\n",
       "\n",
       "        \n",
       "    \n",
       "    \n",
       "            circle_marker_615b2d5f75389d7309136548e0ce1c60.bindTooltip(\n",
       "                `&lt;div&gt;\n",
       "                     Ronda Alta\n",
       "                 &lt;/div&gt;`,\n",
       "                {&quot;sticky&quot;: true}\n",
       "            );\n",
       "        \n",
       "    \n",
       "            var circle_marker_ab514650b042b2ffb4f8fb57fa015915 = L.circleMarker(\n",
       "                [-30.0819, -51.0194],\n",
       "                {&quot;bubblingMouseEvents&quot;: true, &quot;color&quot;: &quot;red&quot;, &quot;dashArray&quot;: null, &quot;dashOffset&quot;: null, &quot;fill&quot;: true, &quot;fillColor&quot;: &quot;#E8710A&quot;, &quot;fillOpacity&quot;: 0.6, &quot;fillRule&quot;: &quot;evenodd&quot;, &quot;lineCap&quot;: &quot;round&quot;, &quot;lineJoin&quot;: &quot;round&quot;, &quot;opacity&quot;: 1, &quot;radius&quot;: 0.00039707856224634717, &quot;stroke&quot;: true, &quot;weight&quot;: 5}\n",
       "            ).addTo(map_552b229ba55be69b8cadab1bd94bf1f2);\n",
       "        \n",
       "    \n",
       "        var popup_70a6ae98a83afbb0314c8f1b1a35eb84 = L.popup({&quot;maxWidth&quot;: &quot;100%&quot;});\n",
       "\n",
       "        \n",
       "            \n",
       "                var html_28e6402ecfc6eca23dbfbe2988ada3aa = $(`&lt;div id=&quot;html_28e6402ecfc6eca23dbfbe2988ada3aa&quot; style=&quot;width: 100.0%; height: 100.0%;&quot;&gt;Valor Empenhado R$600.0&lt;/div&gt;`)[0];\n",
       "                popup_70a6ae98a83afbb0314c8f1b1a35eb84.setContent(html_28e6402ecfc6eca23dbfbe2988ada3aa);\n",
       "            \n",
       "        \n",
       "\n",
       "        circle_marker_ab514650b042b2ffb4f8fb57fa015915.bindPopup(popup_70a6ae98a83afbb0314c8f1b1a35eb84)\n",
       "        ;\n",
       "\n",
       "        \n",
       "    \n",
       "    \n",
       "            circle_marker_ab514650b042b2ffb4f8fb57fa015915.bindTooltip(\n",
       "                `&lt;div&gt;\n",
       "                     Viamão\n",
       "                 &lt;/div&gt;`,\n",
       "                {&quot;sticky&quot;: true}\n",
       "            );\n",
       "        \n",
       "    \n",
       "            var circle_marker_c628f94cb19e9a46584439e841ce3fb4 = L.circleMarker(\n",
       "                [-26.7242, -53.5163],\n",
       "                {&quot;bubblingMouseEvents&quot;: true, &quot;color&quot;: &quot;red&quot;, &quot;dashArray&quot;: null, &quot;dashOffset&quot;: null, &quot;fill&quot;: true, &quot;fillColor&quot;: &quot;#E8710A&quot;, &quot;fillOpacity&quot;: 0.6, &quot;fillRule&quot;: &quot;evenodd&quot;, &quot;lineCap&quot;: &quot;round&quot;, &quot;lineJoin&quot;: &quot;round&quot;, &quot;opacity&quot;: 1, &quot;radius&quot;: 0.0003420897993512655, &quot;stroke&quot;: true, &quot;weight&quot;: 5}\n",
       "            ).addTo(map_552b229ba55be69b8cadab1bd94bf1f2);\n",
       "        \n",
       "    \n",
       "        var popup_bece9e652e3ac8fc1881739b71bb4f1e = L.popup({&quot;maxWidth&quot;: &quot;100%&quot;});\n",
       "\n",
       "        \n",
       "            \n",
       "                var html_dc865125a5b6519a769c178085664d6b = $(`&lt;div id=&quot;html_dc865125a5b6519a769c178085664d6b&quot; style=&quot;width: 100.0%; height: 100.0%;&quot;&gt;Valor Empenhado R$516.91&lt;/div&gt;`)[0];\n",
       "                popup_bece9e652e3ac8fc1881739b71bb4f1e.setContent(html_dc865125a5b6519a769c178085664d6b);\n",
       "            \n",
       "        \n",
       "\n",
       "        circle_marker_c628f94cb19e9a46584439e841ce3fb4.bindPopup(popup_bece9e652e3ac8fc1881739b71bb4f1e)\n",
       "        ;\n",
       "\n",
       "        \n",
       "    \n",
       "    \n",
       "            circle_marker_c628f94cb19e9a46584439e841ce3fb4.bindTooltip(\n",
       "                `&lt;div&gt;\n",
       "                     São Miguel do Oeste\n",
       "                 &lt;/div&gt;`,\n",
       "                {&quot;sticky&quot;: true}\n",
       "            );\n",
       "        \n",
       "    \n",
       "            var circle_marker_7223516d9ce0716065a94e0eaa19b676 = L.circleMarker(\n",
       "                [-22.4836, -47.211],\n",
       "                {&quot;bubblingMouseEvents&quot;: true, &quot;color&quot;: &quot;red&quot;, &quot;dashArray&quot;: null, &quot;dashOffset&quot;: null, &quot;fill&quot;: true, &quot;fillColor&quot;: &quot;#E8710A&quot;, &quot;fillOpacity&quot;: 0.6, &quot;fillRule&quot;: &quot;evenodd&quot;, &quot;lineCap&quot;: &quot;round&quot;, &quot;lineJoin&quot;: &quot;round&quot;, &quot;opacity&quot;: 1, &quot;radius&quot;: 0.0003176628497970777, &quot;stroke&quot;: true, &quot;weight&quot;: 5}\n",
       "            ).addTo(map_552b229ba55be69b8cadab1bd94bf1f2);\n",
       "        \n",
       "    \n",
       "        var popup_101094ece96268682b08f77bb7c881d0 = L.popup({&quot;maxWidth&quot;: &quot;100%&quot;});\n",
       "\n",
       "        \n",
       "            \n",
       "                var html_af4781a5f53bbee7f473ef3151ee433c = $(`&lt;div id=&quot;html_af4781a5f53bbee7f473ef3151ee433c&quot; style=&quot;width: 100.0%; height: 100.0%;&quot;&gt;Valor Empenhado R$480.0&lt;/div&gt;`)[0];\n",
       "                popup_101094ece96268682b08f77bb7c881d0.setContent(html_af4781a5f53bbee7f473ef3151ee433c);\n",
       "            \n",
       "        \n",
       "\n",
       "        circle_marker_7223516d9ce0716065a94e0eaa19b676.bindPopup(popup_101094ece96268682b08f77bb7c881d0)\n",
       "        ;\n",
       "\n",
       "        \n",
       "    \n",
       "    \n",
       "            circle_marker_7223516d9ce0716065a94e0eaa19b676.bindTooltip(\n",
       "                `&lt;div&gt;\n",
       "                     Engenheiro Coelho\n",
       "                 &lt;/div&gt;`,\n",
       "                {&quot;sticky&quot;: true}\n",
       "            );\n",
       "        \n",
       "    \n",
       "            var circle_marker_4da31018a277afa955aa9bb0e1fdcaae = L.circleMarker(\n",
       "                [-23.5057, -46.879],\n",
       "                {&quot;bubblingMouseEvents&quot;: true, &quot;color&quot;: &quot;red&quot;, &quot;dashArray&quot;: null, &quot;dashOffset&quot;: null, &quot;fill&quot;: true, &quot;fillColor&quot;: &quot;#E8710A&quot;, &quot;fillOpacity&quot;: 0.6, &quot;fillRule&quot;: &quot;evenodd&quot;, &quot;lineCap&quot;: &quot;round&quot;, &quot;lineJoin&quot;: &quot;round&quot;, &quot;opacity&quot;: 1, &quot;radius&quot;: 0.00021722844545290164, &quot;stroke&quot;: true, &quot;weight&quot;: 5}\n",
       "            ).addTo(map_552b229ba55be69b8cadab1bd94bf1f2);\n",
       "        \n",
       "    \n",
       "        var popup_78f9c1d6d20939cacaea26e6e69cda6f = L.popup({&quot;maxWidth&quot;: &quot;100%&quot;});\n",
       "\n",
       "        \n",
       "            \n",
       "                var html_71908772ebed2d99d62c35ec828055be = $(`&lt;div id=&quot;html_71908772ebed2d99d62c35ec828055be&quot; style=&quot;width: 100.0%; height: 100.0%;&quot;&gt;Valor Empenhado R$328.24&lt;/div&gt;`)[0];\n",
       "                popup_78f9c1d6d20939cacaea26e6e69cda6f.setContent(html_71908772ebed2d99d62c35ec828055be);\n",
       "            \n",
       "        \n",
       "\n",
       "        circle_marker_4da31018a277afa955aa9bb0e1fdcaae.bindPopup(popup_78f9c1d6d20939cacaea26e6e69cda6f)\n",
       "        ;\n",
       "\n",
       "        \n",
       "    \n",
       "    \n",
       "            circle_marker_4da31018a277afa955aa9bb0e1fdcaae.bindTooltip(\n",
       "                `&lt;div&gt;\n",
       "                     Barueri\n",
       "                 &lt;/div&gt;`,\n",
       "                {&quot;sticky&quot;: true}\n",
       "            );\n",
       "        \n",
       "    \n",
       "            var circle_marker_cc09b978bb7183f960e3fdc63f83d31f = L.circleMarker(\n",
       "                [-22.7858, -43.3049],\n",
       "                {&quot;bubblingMouseEvents&quot;: true, &quot;color&quot;: &quot;red&quot;, &quot;dashArray&quot;: null, &quot;dashOffset&quot;: null, &quot;fill&quot;: true, &quot;fillColor&quot;: &quot;#E8710A&quot;, &quot;fillOpacity&quot;: 0.6, &quot;fillRule&quot;: &quot;evenodd&quot;, &quot;lineCap&quot;: &quot;round&quot;, &quot;lineJoin&quot;: &quot;round&quot;, &quot;opacity&quot;: 1, &quot;radius&quot;: 0.00011924269224257805, &quot;stroke&quot;: true, &quot;weight&quot;: 5}\n",
       "            ).addTo(map_552b229ba55be69b8cadab1bd94bf1f2);\n",
       "        \n",
       "    \n",
       "        var popup_85fd2b4b91ee9dbfa0d167ad2119349e = L.popup({&quot;maxWidth&quot;: &quot;100%&quot;});\n",
       "\n",
       "        \n",
       "            \n",
       "                var html_c2d053518634ae8b5b801c276fc15326 = $(`&lt;div id=&quot;html_c2d053518634ae8b5b801c276fc15326&quot; style=&quot;width: 100.0%; height: 100.0%;&quot;&gt;Valor Empenhado R$180.18&lt;/div&gt;`)[0];\n",
       "                popup_85fd2b4b91ee9dbfa0d167ad2119349e.setContent(html_c2d053518634ae8b5b801c276fc15326);\n",
       "            \n",
       "        \n",
       "\n",
       "        circle_marker_cc09b978bb7183f960e3fdc63f83d31f.bindPopup(popup_85fd2b4b91ee9dbfa0d167ad2119349e)\n",
       "        ;\n",
       "\n",
       "        \n",
       "    \n",
       "    \n",
       "            circle_marker_cc09b978bb7183f960e3fdc63f83d31f.bindTooltip(\n",
       "                `&lt;div&gt;\n",
       "                     Duque de Caxias\n",
       "                 &lt;/div&gt;`,\n",
       "                {&quot;sticky&quot;: true}\n",
       "            );\n",
       "        \n",
       "    \n",
       "            var circle_marker_5f60fa7a99dd4607982fe44c2735995d = L.circleMarker(\n",
       "                [-27.4002, -51.2276],\n",
       "                {&quot;bubblingMouseEvents&quot;: true, &quot;color&quot;: &quot;red&quot;, &quot;dashArray&quot;: null, &quot;dashOffset&quot;: null, &quot;fill&quot;: true, &quot;fillColor&quot;: &quot;#E8710A&quot;, &quot;fillOpacity&quot;: 0.6, &quot;fillRule&quot;: &quot;evenodd&quot;, &quot;lineCap&quot;: &quot;round&quot;, &quot;lineJoin&quot;: &quot;round&quot;, &quot;opacity&quot;: 1, &quot;radius&quot;: 6.9733613506496e-05, &quot;stroke&quot;: true, &quot;weight&quot;: 5}\n",
       "            ).addTo(map_552b229ba55be69b8cadab1bd94bf1f2);\n",
       "        \n",
       "    \n",
       "        var popup_88a1ed7035436c1004c07e4a93e75724 = L.popup({&quot;maxWidth&quot;: &quot;100%&quot;});\n",
       "\n",
       "        \n",
       "            \n",
       "                var html_5eac4bece7d97730f7d3f395f185ead2 = $(`&lt;div id=&quot;html_5eac4bece7d97730f7d3f395f185ead2&quot; style=&quot;width: 100.0%; height: 100.0%;&quot;&gt;Valor Empenhado R$105.37&lt;/div&gt;`)[0];\n",
       "                popup_88a1ed7035436c1004c07e4a93e75724.setContent(html_5eac4bece7d97730f7d3f395f185ead2);\n",
       "            \n",
       "        \n",
       "\n",
       "        circle_marker_5f60fa7a99dd4607982fe44c2735995d.bindPopup(popup_88a1ed7035436c1004c07e4a93e75724)\n",
       "        ;\n",
       "\n",
       "        \n",
       "    \n",
       "    \n",
       "            circle_marker_5f60fa7a99dd4607982fe44c2735995d.bindTooltip(\n",
       "                `&lt;div&gt;\n",
       "                     Campos Novos\n",
       "                 &lt;/div&gt;`,\n",
       "                {&quot;sticky&quot;: true}\n",
       "            );\n",
       "        \n",
       "    \n",
       "            var circle_marker_6734d131b198c89ca7a7256fb0d75ab9 = L.circleMarker(\n",
       "                [-27.5945, -48.5477],\n",
       "                {&quot;bubblingMouseEvents&quot;: true, &quot;color&quot;: &quot;red&quot;, &quot;dashArray&quot;: null, &quot;dashOffset&quot;: null, &quot;fill&quot;: true, &quot;fillColor&quot;: &quot;#E8710A&quot;, &quot;fillOpacity&quot;: 0.6, &quot;fillRule&quot;: &quot;evenodd&quot;, &quot;lineCap&quot;: &quot;round&quot;, &quot;lineJoin&quot;: &quot;round&quot;, &quot;opacity&quot;: 1, &quot;radius&quot;: 5.0064988723226935e-05, &quot;stroke&quot;: true, &quot;weight&quot;: 5}\n",
       "            ).addTo(map_552b229ba55be69b8cadab1bd94bf1f2);\n",
       "        \n",
       "    \n",
       "        var popup_20fe8dbc9946f17a45dbda8a2555431f = L.popup({&quot;maxWidth&quot;: &quot;100%&quot;});\n",
       "\n",
       "        \n",
       "            \n",
       "                var html_61ba7ce68c6cff98db9be8aedbb4cafa = $(`&lt;div id=&quot;html_61ba7ce68c6cff98db9be8aedbb4cafa&quot; style=&quot;width: 100.0%; height: 100.0%;&quot;&gt;Valor Empenhado R$75.65&lt;/div&gt;`)[0];\n",
       "                popup_20fe8dbc9946f17a45dbda8a2555431f.setContent(html_61ba7ce68c6cff98db9be8aedbb4cafa);\n",
       "            \n",
       "        \n",
       "\n",
       "        circle_marker_6734d131b198c89ca7a7256fb0d75ab9.bindPopup(popup_20fe8dbc9946f17a45dbda8a2555431f)\n",
       "        ;\n",
       "\n",
       "        \n",
       "    \n",
       "    \n",
       "            circle_marker_6734d131b198c89ca7a7256fb0d75ab9.bindTooltip(\n",
       "                `&lt;div&gt;\n",
       "                     Florianópolis\n",
       "                 &lt;/div&gt;`,\n",
       "                {&quot;sticky&quot;: true}\n",
       "            );\n",
       "        \n",
       "    \n",
       "            tile_layer_23f0d490a5415852185226d7074039bc.addTo(map_552b229ba55be69b8cadab1bd94bf1f2);\n",
       "        \n",
       "&lt;/script&gt;\n",
       "&lt;/html&gt;\" style=\"position:absolute;width:100%;height:100%;left:0;top:0;border:none !important;\" allowfullscreen webkitallowfullscreen mozallowfullscreen></iframe></div></div>"
      ],
      "text/plain": [
       "<folium.folium.Map at 0x18d0ebd8bf0>"
      ]
     },
     "execution_count": 143,
     "metadata": {},
     "output_type": "execute_result"
    }
   ],
   "source": [
    "import folium\n",
    "import math\n",
    "mapa = folium.Map(location=(-28.710129, -51.932609), zoom_start=4,  tiles='cartodbdark_matter')\n",
    "\n",
    "#mapa\n",
    "valor_empenhado_min = dados_agrupados['valor_empenhado'].min()\n",
    "valor_empenhado_max = dados_agrupados['valor_empenhado'].max()\n",
    "\n",
    "print(valor_empenhado_max, valor_empenhado_min)\n",
    "\n",
    "for index, a in dados_agrupados.iterrows():    \n",
    "    municipio = a['municipio']\n",
    "    latitude = a['latitude']\n",
    "    longitude = a['longitude']\n",
    "    valor_empenhado = a['valor_empenhado']\n",
    "        \n",
    "    \n",
    "    radius = valor_empenhado / valor_empenhado_max \n",
    "    if not math.isnan(latitude) and not math.isnan(longitude) and valor_empenhado > 0:\n",
    "        folium.CircleMarker(\n",
    "          location=[latitude, longitude],\n",
    "          radius=radius*10,\n",
    "          color=\"red\",\n",
    "          weight=5,\n",
    "          fill_opacity=0.6,\n",
    "          opacity=1,\n",
    "          fill_color=\"#E8710A\",\n",
    "          fill=False,  # gets overridden by fill_color\n",
    "          popup=\"Valor Empenhado R${}\".format(valor_empenhado),\n",
    "          tooltip=municipio,\n",
    "          zoom_control=False,\n",
    "          scrollWheelZoom=False,\n",
    "        ).add_to(mapa)\n",
    "\n",
    "\n",
    "mapa.save('index.html')\n",
    "\n",
    "mapa\n"
   ]
  },
  {
   "cell_type": "code",
   "execution_count": 144,
   "id": "06eeaffc-3c7b-4530-a502-902c76daf1a0",
   "metadata": {},
   "outputs": [
    {
     "data": {
      "application/vnd.plotly.v1+json": {
       "config": {
        "plotlyServerURL": "https://plot.ly"
       },
       "data": [
        {
         "orientation": "h",
         "type": "bar",
         "x": [
          15110359.94,
          5867466.07,
          4208558.38,
          3844454.69,
          1947719.23
         ],
         "y": [
          "Serafina Corrêa",
          "São Paulo",
          "Guaporé",
          "Brasília",
          "Passo Fundo"
         ]
        }
       ],
       "layout": {
        "autosize": true,
        "bargap": 0.2,
        "barmode": "group",
        "template": {
         "data": {
          "bar": [
           {
            "error_x": {
             "color": "#2a3f5f"
            },
            "error_y": {
             "color": "#2a3f5f"
            },
            "marker": {
             "line": {
              "color": "#E5ECF6",
              "width": 0.5
             },
             "pattern": {
              "fillmode": "overlay",
              "size": 10,
              "solidity": 0.2
             }
            },
            "type": "bar"
           }
          ],
          "barpolar": [
           {
            "marker": {
             "line": {
              "color": "#E5ECF6",
              "width": 0.5
             },
             "pattern": {
              "fillmode": "overlay",
              "size": 10,
              "solidity": 0.2
             }
            },
            "type": "barpolar"
           }
          ],
          "carpet": [
           {
            "aaxis": {
             "endlinecolor": "#2a3f5f",
             "gridcolor": "white",
             "linecolor": "white",
             "minorgridcolor": "white",
             "startlinecolor": "#2a3f5f"
            },
            "baxis": {
             "endlinecolor": "#2a3f5f",
             "gridcolor": "white",
             "linecolor": "white",
             "minorgridcolor": "white",
             "startlinecolor": "#2a3f5f"
            },
            "type": "carpet"
           }
          ],
          "choropleth": [
           {
            "colorbar": {
             "outlinewidth": 0,
             "ticks": ""
            },
            "type": "choropleth"
           }
          ],
          "contour": [
           {
            "colorbar": {
             "outlinewidth": 0,
             "ticks": ""
            },
            "colorscale": [
             [
              0,
              "#0d0887"
             ],
             [
              0.1111111111111111,
              "#46039f"
             ],
             [
              0.2222222222222222,
              "#7201a8"
             ],
             [
              0.3333333333333333,
              "#9c179e"
             ],
             [
              0.4444444444444444,
              "#bd3786"
             ],
             [
              0.5555555555555556,
              "#d8576b"
             ],
             [
              0.6666666666666666,
              "#ed7953"
             ],
             [
              0.7777777777777778,
              "#fb9f3a"
             ],
             [
              0.8888888888888888,
              "#fdca26"
             ],
             [
              1,
              "#f0f921"
             ]
            ],
            "type": "contour"
           }
          ],
          "contourcarpet": [
           {
            "colorbar": {
             "outlinewidth": 0,
             "ticks": ""
            },
            "type": "contourcarpet"
           }
          ],
          "heatmap": [
           {
            "colorbar": {
             "outlinewidth": 0,
             "ticks": ""
            },
            "colorscale": [
             [
              0,
              "#0d0887"
             ],
             [
              0.1111111111111111,
              "#46039f"
             ],
             [
              0.2222222222222222,
              "#7201a8"
             ],
             [
              0.3333333333333333,
              "#9c179e"
             ],
             [
              0.4444444444444444,
              "#bd3786"
             ],
             [
              0.5555555555555556,
              "#d8576b"
             ],
             [
              0.6666666666666666,
              "#ed7953"
             ],
             [
              0.7777777777777778,
              "#fb9f3a"
             ],
             [
              0.8888888888888888,
              "#fdca26"
             ],
             [
              1,
              "#f0f921"
             ]
            ],
            "type": "heatmap"
           }
          ],
          "heatmapgl": [
           {
            "colorbar": {
             "outlinewidth": 0,
             "ticks": ""
            },
            "colorscale": [
             [
              0,
              "#0d0887"
             ],
             [
              0.1111111111111111,
              "#46039f"
             ],
             [
              0.2222222222222222,
              "#7201a8"
             ],
             [
              0.3333333333333333,
              "#9c179e"
             ],
             [
              0.4444444444444444,
              "#bd3786"
             ],
             [
              0.5555555555555556,
              "#d8576b"
             ],
             [
              0.6666666666666666,
              "#ed7953"
             ],
             [
              0.7777777777777778,
              "#fb9f3a"
             ],
             [
              0.8888888888888888,
              "#fdca26"
             ],
             [
              1,
              "#f0f921"
             ]
            ],
            "type": "heatmapgl"
           }
          ],
          "histogram": [
           {
            "marker": {
             "pattern": {
              "fillmode": "overlay",
              "size": 10,
              "solidity": 0.2
             }
            },
            "type": "histogram"
           }
          ],
          "histogram2d": [
           {
            "colorbar": {
             "outlinewidth": 0,
             "ticks": ""
            },
            "colorscale": [
             [
              0,
              "#0d0887"
             ],
             [
              0.1111111111111111,
              "#46039f"
             ],
             [
              0.2222222222222222,
              "#7201a8"
             ],
             [
              0.3333333333333333,
              "#9c179e"
             ],
             [
              0.4444444444444444,
              "#bd3786"
             ],
             [
              0.5555555555555556,
              "#d8576b"
             ],
             [
              0.6666666666666666,
              "#ed7953"
             ],
             [
              0.7777777777777778,
              "#fb9f3a"
             ],
             [
              0.8888888888888888,
              "#fdca26"
             ],
             [
              1,
              "#f0f921"
             ]
            ],
            "type": "histogram2d"
           }
          ],
          "histogram2dcontour": [
           {
            "colorbar": {
             "outlinewidth": 0,
             "ticks": ""
            },
            "colorscale": [
             [
              0,
              "#0d0887"
             ],
             [
              0.1111111111111111,
              "#46039f"
             ],
             [
              0.2222222222222222,
              "#7201a8"
             ],
             [
              0.3333333333333333,
              "#9c179e"
             ],
             [
              0.4444444444444444,
              "#bd3786"
             ],
             [
              0.5555555555555556,
              "#d8576b"
             ],
             [
              0.6666666666666666,
              "#ed7953"
             ],
             [
              0.7777777777777778,
              "#fb9f3a"
             ],
             [
              0.8888888888888888,
              "#fdca26"
             ],
             [
              1,
              "#f0f921"
             ]
            ],
            "type": "histogram2dcontour"
           }
          ],
          "mesh3d": [
           {
            "colorbar": {
             "outlinewidth": 0,
             "ticks": ""
            },
            "type": "mesh3d"
           }
          ],
          "parcoords": [
           {
            "line": {
             "colorbar": {
              "outlinewidth": 0,
              "ticks": ""
             }
            },
            "type": "parcoords"
           }
          ],
          "pie": [
           {
            "automargin": true,
            "type": "pie"
           }
          ],
          "scatter": [
           {
            "fillpattern": {
             "fillmode": "overlay",
             "size": 10,
             "solidity": 0.2
            },
            "type": "scatter"
           }
          ],
          "scatter3d": [
           {
            "line": {
             "colorbar": {
              "outlinewidth": 0,
              "ticks": ""
             }
            },
            "marker": {
             "colorbar": {
              "outlinewidth": 0,
              "ticks": ""
             }
            },
            "type": "scatter3d"
           }
          ],
          "scattercarpet": [
           {
            "marker": {
             "colorbar": {
              "outlinewidth": 0,
              "ticks": ""
             }
            },
            "type": "scattercarpet"
           }
          ],
          "scattergeo": [
           {
            "marker": {
             "colorbar": {
              "outlinewidth": 0,
              "ticks": ""
             }
            },
            "type": "scattergeo"
           }
          ],
          "scattergl": [
           {
            "marker": {
             "colorbar": {
              "outlinewidth": 0,
              "ticks": ""
             }
            },
            "type": "scattergl"
           }
          ],
          "scattermapbox": [
           {
            "marker": {
             "colorbar": {
              "outlinewidth": 0,
              "ticks": ""
             }
            },
            "type": "scattermapbox"
           }
          ],
          "scatterpolar": [
           {
            "marker": {
             "colorbar": {
              "outlinewidth": 0,
              "ticks": ""
             }
            },
            "type": "scatterpolar"
           }
          ],
          "scatterpolargl": [
           {
            "marker": {
             "colorbar": {
              "outlinewidth": 0,
              "ticks": ""
             }
            },
            "type": "scatterpolargl"
           }
          ],
          "scatterternary": [
           {
            "marker": {
             "colorbar": {
              "outlinewidth": 0,
              "ticks": ""
             }
            },
            "type": "scatterternary"
           }
          ],
          "surface": [
           {
            "colorbar": {
             "outlinewidth": 0,
             "ticks": ""
            },
            "colorscale": [
             [
              0,
              "#0d0887"
             ],
             [
              0.1111111111111111,
              "#46039f"
             ],
             [
              0.2222222222222222,
              "#7201a8"
             ],
             [
              0.3333333333333333,
              "#9c179e"
             ],
             [
              0.4444444444444444,
              "#bd3786"
             ],
             [
              0.5555555555555556,
              "#d8576b"
             ],
             [
              0.6666666666666666,
              "#ed7953"
             ],
             [
              0.7777777777777778,
              "#fb9f3a"
             ],
             [
              0.8888888888888888,
              "#fdca26"
             ],
             [
              1,
              "#f0f921"
             ]
            ],
            "type": "surface"
           }
          ],
          "table": [
           {
            "cells": {
             "fill": {
              "color": "#EBF0F8"
             },
             "line": {
              "color": "white"
             }
            },
            "header": {
             "fill": {
              "color": "#C8D4E3"
             },
             "line": {
              "color": "white"
             }
            },
            "type": "table"
           }
          ]
         },
         "layout": {
          "annotationdefaults": {
           "arrowcolor": "#2a3f5f",
           "arrowhead": 0,
           "arrowwidth": 1
          },
          "autotypenumbers": "strict",
          "coloraxis": {
           "colorbar": {
            "outlinewidth": 0,
            "ticks": ""
           }
          },
          "colorscale": {
           "diverging": [
            [
             0,
             "#8e0152"
            ],
            [
             0.1,
             "#c51b7d"
            ],
            [
             0.2,
             "#de77ae"
            ],
            [
             0.3,
             "#f1b6da"
            ],
            [
             0.4,
             "#fde0ef"
            ],
            [
             0.5,
             "#f7f7f7"
            ],
            [
             0.6,
             "#e6f5d0"
            ],
            [
             0.7,
             "#b8e186"
            ],
            [
             0.8,
             "#7fbc41"
            ],
            [
             0.9,
             "#4d9221"
            ],
            [
             1,
             "#276419"
            ]
           ],
           "sequential": [
            [
             0,
             "#0d0887"
            ],
            [
             0.1111111111111111,
             "#46039f"
            ],
            [
             0.2222222222222222,
             "#7201a8"
            ],
            [
             0.3333333333333333,
             "#9c179e"
            ],
            [
             0.4444444444444444,
             "#bd3786"
            ],
            [
             0.5555555555555556,
             "#d8576b"
            ],
            [
             0.6666666666666666,
             "#ed7953"
            ],
            [
             0.7777777777777778,
             "#fb9f3a"
            ],
            [
             0.8888888888888888,
             "#fdca26"
            ],
            [
             1,
             "#f0f921"
            ]
           ],
           "sequentialminus": [
            [
             0,
             "#0d0887"
            ],
            [
             0.1111111111111111,
             "#46039f"
            ],
            [
             0.2222222222222222,
             "#7201a8"
            ],
            [
             0.3333333333333333,
             "#9c179e"
            ],
            [
             0.4444444444444444,
             "#bd3786"
            ],
            [
             0.5555555555555556,
             "#d8576b"
            ],
            [
             0.6666666666666666,
             "#ed7953"
            ],
            [
             0.7777777777777778,
             "#fb9f3a"
            ],
            [
             0.8888888888888888,
             "#fdca26"
            ],
            [
             1,
             "#f0f921"
            ]
           ]
          },
          "colorway": [
           "#636efa",
           "#EF553B",
           "#00cc96",
           "#ab63fa",
           "#FFA15A",
           "#19d3f3",
           "#FF6692",
           "#B6E880",
           "#FF97FF",
           "#FECB52"
          ],
          "font": {
           "color": "#2a3f5f"
          },
          "geo": {
           "bgcolor": "white",
           "lakecolor": "white",
           "landcolor": "#E5ECF6",
           "showlakes": true,
           "showland": true,
           "subunitcolor": "white"
          },
          "hoverlabel": {
           "align": "left"
          },
          "hovermode": "closest",
          "mapbox": {
           "style": "light"
          },
          "paper_bgcolor": "white",
          "plot_bgcolor": "#E5ECF6",
          "polar": {
           "angularaxis": {
            "gridcolor": "white",
            "linecolor": "white",
            "ticks": ""
           },
           "bgcolor": "#E5ECF6",
           "radialaxis": {
            "gridcolor": "white",
            "linecolor": "white",
            "ticks": ""
           }
          },
          "scene": {
           "xaxis": {
            "backgroundcolor": "#E5ECF6",
            "gridcolor": "white",
            "gridwidth": 2,
            "linecolor": "white",
            "showbackground": true,
            "ticks": "",
            "zerolinecolor": "white"
           },
           "yaxis": {
            "backgroundcolor": "#E5ECF6",
            "gridcolor": "white",
            "gridwidth": 2,
            "linecolor": "white",
            "showbackground": true,
            "ticks": "",
            "zerolinecolor": "white"
           },
           "zaxis": {
            "backgroundcolor": "#E5ECF6",
            "gridcolor": "white",
            "gridwidth": 2,
            "linecolor": "white",
            "showbackground": true,
            "ticks": "",
            "zerolinecolor": "white"
           }
          },
          "shapedefaults": {
           "line": {
            "color": "#2a3f5f"
           }
          },
          "ternary": {
           "aaxis": {
            "gridcolor": "white",
            "linecolor": "white",
            "ticks": ""
           },
           "baxis": {
            "gridcolor": "white",
            "linecolor": "white",
            "ticks": ""
           },
           "bgcolor": "#E5ECF6",
           "caxis": {
            "gridcolor": "white",
            "linecolor": "white",
            "ticks": ""
           }
          },
          "title": {
           "x": 0.05
          },
          "xaxis": {
           "automargin": true,
           "gridcolor": "white",
           "linecolor": "white",
           "ticks": "",
           "title": {
            "standoff": 15
           },
           "zerolinecolor": "white",
           "zerolinewidth": 2
          },
          "yaxis": {
           "automargin": true,
           "gridcolor": "white",
           "linecolor": "white",
           "ticks": "",
           "title": {
            "standoff": 15
           },
           "zerolinecolor": "white",
           "zerolinewidth": 2
          }
         }
        },
        "title": {
         "text": "Valores Empenhados por Cidade"
        },
        "xaxis": {
         "autorange": true,
         "range": [
          0,
          15905642.042105263
         ],
         "showgrid": true,
         "title": {
          "text": "Cidade"
         },
         "type": "linear"
        },
        "yaxis": {
         "autorange": true,
         "range": [
          -0.5,
          4.5
         ],
         "showgrid": true,
         "title": {
          "text": "Valor Empenhado (R$)"
         },
         "type": "category"
        }
       }
      },
      "image/png": "[encoded data removed]",
      "text/html": [
       "<div>                            <div id=\"4e3ed2b6-92ef-434c-9a32-1af7bedf8a4d\" class=\"plotly-graph-div\" style=\"height:525px; width:100%;\"></div>            <script type=\"text/javascript\">                require([\"plotly\"], function(Plotly) {                    window.PLOTLYENV=window.PLOTLYENV || {};                                    if (document.getElementById(\"4e3ed2b6-92ef-434c-9a32-1af7bedf8a4d\")) {                    Plotly.newPlot(                        \"4e3ed2b6-92ef-434c-9a32-1af7bedf8a4d\",                        [{\"orientation\":\"h\",\"x\":[15110359.94,5867466.07,4208558.38,3844454.69,1947719.23],\"y\":[\"Serafina Corr\\u00eaa\",\"S\\u00e3o Paulo\",\"Guapor\\u00e9\",\"Bras\\u00edlia\",\"Passo Fundo\"],\"type\":\"bar\"}],                        {\"template\":{\"data\":{\"histogram2dcontour\":[{\"type\":\"histogram2dcontour\",\"colorbar\":{\"outlinewidth\":0,\"ticks\":\"\"},\"colorscale\":[[0.0,\"#0d0887\"],[0.1111111111111111,\"#46039f\"],[0.2222222222222222,\"#7201a8\"],[0.3333333333333333,\"#9c179e\"],[0.4444444444444444,\"#bd3786\"],[0.5555555555555556,\"#d8576b\"],[0.6666666666666666,\"#ed7953\"],[0.7777777777777778,\"#fb9f3a\"],[0.8888888888888888,\"#fdca26\"],[1.0,\"#f0f921\"]]}],\"choropleth\":[{\"type\":\"choropleth\",\"colorbar\":{\"outlinewidth\":0,\"ticks\":\"\"}}],\"histogram2d\":[{\"type\":\"histogram2d\",\"colorbar\":{\"outlinewidth\":0,\"ticks\":\"\"},\"colorscale\":[[0.0,\"#0d0887\"],[0.1111111111111111,\"#46039f\"],[0.2222222222222222,\"#7201a8\"],[0.3333333333333333,\"#9c179e\"],[0.4444444444444444,\"#bd3786\"],[0.5555555555555556,\"#d8576b\"],[0.6666666666666666,\"#ed7953\"],[0.7777777777777778,\"#fb9f3a\"],[0.8888888888888888,\"#fdca26\"],[1.0,\"#f0f921\"]]}],\"heatmap\":[{\"type\":\"heatmap\",\"colorbar\":{\"outlinewidth\":0,\"ticks\":\"\"},\"colorscale\":[[0.0,\"#0d0887\"],[0.1111111111111111,\"#46039f\"],[0.2222222222222222,\"#7201a8\"],[0.3333333333333333,\"#9c179e\"],[0.4444444444444444,\"#bd3786\"],[0.5555555555555556,\"#d8576b\"],[0.6666666666666666,\"#ed7953\"],[0.7777777777777778,\"#fb9f3a\"],[0.8888888888888888,\"#fdca26\"],[1.0,\"#f0f921\"]]}],\"heatmapgl\":[{\"type\":\"heatmapgl\",\"colorbar\":{\"outlinewidth\":0,\"ticks\":\"\"},\"colorscale\":[[0.0,\"#0d0887\"],[0.1111111111111111,\"#46039f\"],[0.2222222222222222,\"#7201a8\"],[0.3333333333333333,\"#9c179e\"],[0.4444444444444444,\"#bd3786\"],[0.5555555555555556,\"#d8576b\"],[0.6666666666666666,\"#ed7953\"],[0.7777777777777778,\"#fb9f3a\"],[0.8888888888888888,\"#fdca26\"],[1.0,\"#f0f921\"]]}],\"contourcarpet\":[{\"type\":\"contourcarpet\",\"colorbar\":{\"outlinewidth\":0,\"ticks\":\"\"}}],\"contour\":[{\"type\":\"contour\",\"colorbar\":{\"outlinewidth\":0,\"ticks\":\"\"},\"colorscale\":[[0.0,\"#0d0887\"],[0.1111111111111111,\"#46039f\"],[0.2222222222222222,\"#7201a8\"],[0.3333333333333333,\"#9c179e\"],[0.4444444444444444,\"#bd3786\"],[0.5555555555555556,\"#d8576b\"],[0.6666666666666666,\"#ed7953\"],[0.7777777777777778,\"#fb9f3a\"],[0.8888888888888888,\"#fdca26\"],[1.0,\"#f0f921\"]]}],\"surface\":[{\"type\":\"surface\",\"colorbar\":{\"outlinewidth\":0,\"ticks\":\"\"},\"colorscale\":[[0.0,\"#0d0887\"],[0.1111111111111111,\"#46039f\"],[0.2222222222222222,\"#7201a8\"],[0.3333333333333333,\"#9c179e\"],[0.4444444444444444,\"#bd3786\"],[0.5555555555555556,\"#d8576b\"],[0.6666666666666666,\"#ed7953\"],[0.7777777777777778,\"#fb9f3a\"],[0.8888888888888888,\"#fdca26\"],[1.0,\"#f0f921\"]]}],\"mesh3d\":[{\"type\":\"mesh3d\",\"colorbar\":{\"outlinewidth\":0,\"ticks\":\"\"}}],\"scatter\":[{\"fillpattern\":{\"fillmode\":\"overlay\",\"size\":10,\"solidity\":0.2},\"type\":\"scatter\"}],\"parcoords\":[{\"type\":\"parcoords\",\"line\":{\"colorbar\":{\"outlinewidth\":0,\"ticks\":\"\"}}}],\"scatterpolargl\":[{\"type\":\"scatterpolargl\",\"marker\":{\"colorbar\":{\"outlinewidth\":0,\"ticks\":\"\"}}}],\"bar\":[{\"error_x\":{\"color\":\"#2a3f5f\"},\"error_y\":{\"color\":\"#2a3f5f\"},\"marker\":{\"line\":{\"color\":\"#E5ECF6\",\"width\":0.5},\"pattern\":{\"fillmode\":\"overlay\",\"size\":10,\"solidity\":0.2}},\"type\":\"bar\"}],\"scattergeo\":[{\"type\":\"scattergeo\",\"marker\":{\"colorbar\":{\"outlinewidth\":0,\"ticks\":\"\"}}}],\"scatterpolar\":[{\"type\":\"scatterpolar\",\"marker\":{\"colorbar\":{\"outlinewidth\":0,\"ticks\":\"\"}}}],\"histogram\":[{\"marker\":{\"pattern\":{\"fillmode\":\"overlay\",\"size\":10,\"solidity\":0.2}},\"type\":\"histogram\"}],\"scattergl\":[{\"type\":\"scattergl\",\"marker\":{\"colorbar\":{\"outlinewidth\":0,\"ticks\":\"\"}}}],\"scatter3d\":[{\"type\":\"scatter3d\",\"line\":{\"colorbar\":{\"outlinewidth\":0,\"ticks\":\"\"}},\"marker\":{\"colorbar\":{\"outlinewidth\":0,\"ticks\":\"\"}}}],\"scattermapbox\":[{\"type\":\"scattermapbox\",\"marker\":{\"colorbar\":{\"outlinewidth\":0,\"ticks\":\"\"}}}],\"scatterternary\":[{\"type\":\"scatterternary\",\"marker\":{\"colorbar\":{\"outlinewidth\":0,\"ticks\":\"\"}}}],\"scattercarpet\":[{\"type\":\"scattercarpet\",\"marker\":{\"colorbar\":{\"outlinewidth\":0,\"ticks\":\"\"}}}],\"carpet\":[{\"aaxis\":{\"endlinecolor\":\"#2a3f5f\",\"gridcolor\":\"white\",\"linecolor\":\"white\",\"minorgridcolor\":\"white\",\"startlinecolor\":\"#2a3f5f\"},\"baxis\":{\"endlinecolor\":\"#2a3f5f\",\"gridcolor\":\"white\",\"linecolor\":\"white\",\"minorgridcolor\":\"white\",\"startlinecolor\":\"#2a3f5f\"},\"type\":\"carpet\"}],\"table\":[{\"cells\":{\"fill\":{\"color\":\"#EBF0F8\"},\"line\":{\"color\":\"white\"}},\"header\":{\"fill\":{\"color\":\"#C8D4E3\"},\"line\":{\"color\":\"white\"}},\"type\":\"table\"}],\"barpolar\":[{\"marker\":{\"line\":{\"color\":\"#E5ECF6\",\"width\":0.5},\"pattern\":{\"fillmode\":\"overlay\",\"size\":10,\"solidity\":0.2}},\"type\":\"barpolar\"}],\"pie\":[{\"automargin\":true,\"type\":\"pie\"}]},\"layout\":{\"autotypenumbers\":\"strict\",\"colorway\":[\"#636efa\",\"#EF553B\",\"#00cc96\",\"#ab63fa\",\"#FFA15A\",\"#19d3f3\",\"#FF6692\",\"#B6E880\",\"#FF97FF\",\"#FECB52\"],\"font\":{\"color\":\"#2a3f5f\"},\"hovermode\":\"closest\",\"hoverlabel\":{\"align\":\"left\"},\"paper_bgcolor\":\"white\",\"plot_bgcolor\":\"#E5ECF6\",\"polar\":{\"bgcolor\":\"#E5ECF6\",\"angularaxis\":{\"gridcolor\":\"white\",\"linecolor\":\"white\",\"ticks\":\"\"},\"radialaxis\":{\"gridcolor\":\"white\",\"linecolor\":\"white\",\"ticks\":\"\"}},\"ternary\":{\"bgcolor\":\"#E5ECF6\",\"aaxis\":{\"gridcolor\":\"white\",\"linecolor\":\"white\",\"ticks\":\"\"},\"baxis\":{\"gridcolor\":\"white\",\"linecolor\":\"white\",\"ticks\":\"\"},\"caxis\":{\"gridcolor\":\"white\",\"linecolor\":\"white\",\"ticks\":\"\"}},\"coloraxis\":{\"colorbar\":{\"outlinewidth\":0,\"ticks\":\"\"}},\"colorscale\":{\"sequential\":[[0.0,\"#0d0887\"],[0.1111111111111111,\"#46039f\"],[0.2222222222222222,\"#7201a8\"],[0.3333333333333333,\"#9c179e\"],[0.4444444444444444,\"#bd3786\"],[0.5555555555555556,\"#d8576b\"],[0.6666666666666666,\"#ed7953\"],[0.7777777777777778,\"#fb9f3a\"],[0.8888888888888888,\"#fdca26\"],[1.0,\"#f0f921\"]],\"sequentialminus\":[[0.0,\"#0d0887\"],[0.1111111111111111,\"#46039f\"],[0.2222222222222222,\"#7201a8\"],[0.3333333333333333,\"#9c179e\"],[0.4444444444444444,\"#bd3786\"],[0.5555555555555556,\"#d8576b\"],[0.6666666666666666,\"#ed7953\"],[0.7777777777777778,\"#fb9f3a\"],[0.8888888888888888,\"#fdca26\"],[1.0,\"#f0f921\"]],\"diverging\":[[0,\"#8e0152\"],[0.1,\"#c51b7d\"],[0.2,\"#de77ae\"],[0.3,\"#f1b6da\"],[0.4,\"#fde0ef\"],[0.5,\"#f7f7f7\"],[0.6,\"#e6f5d0\"],[0.7,\"#b8e186\"],[0.8,\"#7fbc41\"],[0.9,\"#4d9221\"],[1,\"#276419\"]]},\"xaxis\":{\"gridcolor\":\"white\",\"linecolor\":\"white\",\"ticks\":\"\",\"title\":{\"standoff\":15},\"zerolinecolor\":\"white\",\"automargin\":true,\"zerolinewidth\":2},\"yaxis\":{\"gridcolor\":\"white\",\"linecolor\":\"white\",\"ticks\":\"\",\"title\":{\"standoff\":15},\"zerolinecolor\":\"white\",\"automargin\":true,\"zerolinewidth\":2},\"scene\":{\"xaxis\":{\"backgroundcolor\":\"#E5ECF6\",\"gridcolor\":\"white\",\"linecolor\":\"white\",\"showbackground\":true,\"ticks\":\"\",\"zerolinecolor\":\"white\",\"gridwidth\":2},\"yaxis\":{\"backgroundcolor\":\"#E5ECF6\",\"gridcolor\":\"white\",\"linecolor\":\"white\",\"showbackground\":true,\"ticks\":\"\",\"zerolinecolor\":\"white\",\"gridwidth\":2},\"zaxis\":{\"backgroundcolor\":\"#E5ECF6\",\"gridcolor\":\"white\",\"linecolor\":\"white\",\"showbackground\":true,\"ticks\":\"\",\"zerolinecolor\":\"white\",\"gridwidth\":2}},\"shapedefaults\":{\"line\":{\"color\":\"#2a3f5f\"}},\"annotationdefaults\":{\"arrowcolor\":\"#2a3f5f\",\"arrowhead\":0,\"arrowwidth\":1},\"geo\":{\"bgcolor\":\"white\",\"landcolor\":\"#E5ECF6\",\"subunitcolor\":\"white\",\"showland\":true,\"showlakes\":true,\"lakecolor\":\"white\"},\"title\":{\"x\":0.05},\"mapbox\":{\"style\":\"light\"}}},\"xaxis\":{\"title\":{\"text\":\"Cidade\"},\"showgrid\":true},\"yaxis\":{\"title\":{\"text\":\"Valor Empenhado (R$)\"},\"showgrid\":true},\"title\":{\"text\":\"Valores Empenhados por Cidade\"},\"bargap\":0.2,\"barmode\":\"group\"},                        {\"responsive\": true}                    ).then(function(){\n",
       "                            \n",
       "var gd = document.getElementById('4e3ed2b6-92ef-434c-9a32-1af7bedf8a4d');\n",
       "var x = new MutationObserver(function (mutations, observer) {{\n",
       "        var display = window.getComputedStyle(gd).display;\n",
       "        if (!display || display === 'none') {{\n",
       "            console.log([gd, 'removed!']);\n",
       "            Plotly.purge(gd);\n",
       "            observer.disconnect();\n",
       "        }}\n",
       "}});\n",
       "\n",
       "// Listen for the removal of the full notebook cells\n",
       "var notebookContainer = gd.closest('#notebook-container');\n",
       "if (notebookContainer) {{\n",
       "    x.observe(notebookContainer, {childList: true});\n",
       "}}\n",
       "\n",
       "// Listen for the clearing of the current output cell\n",
       "var outputEl = gd.closest('.output');\n",
       "if (outputEl) {{\n",
       "    x.observe(outputEl, {childList: true});\n",
       "}}\n",
       "\n",
       "                        })                };                });            </script>        </div>"
      ]
     },
     "metadata": {},
     "output_type": "display_data"
    },
    {
     "data": {
      "text/html": [
       "<div>\n",
       "<style scoped>\n",
       "    .dataframe tbody tr th:only-of-type {\n",
       "        vertical-align: middle;\n",
       "    }\n",
       "\n",
       "    .dataframe tbody tr th {\n",
       "        vertical-align: top;\n",
       "    }\n",
       "\n",
       "    .dataframe thead th {\n",
       "        text-align: right;\n",
       "    }\n",
       "</style>\n",
       "<table border=\"1\" class=\"dataframe\">\n",
       "  <thead>\n",
       "    <tr style=\"text-align: right;\">\n",
       "      <th></th>\n",
       "      <th>municipio</th>\n",
       "      <th>uf</th>\n",
       "      <th>latitude</th>\n",
       "      <th>longitude</th>\n",
       "      <th>valor_empenhado</th>\n",
       "      <th>valor_liquidado</th>\n",
       "      <th>valor_pago</th>\n",
       "      <th>cnpj</th>\n",
       "    </tr>\n",
       "  </thead>\n",
       "  <tbody>\n",
       "    <tr>\n",
       "      <th>0</th>\n",
       "      <td>Serafina Corrêa</td>\n",
       "      <td>RS</td>\n",
       "      <td>-28.7126</td>\n",
       "      <td>-51.9352</td>\n",
       "      <td>15110359.94</td>\n",
       "      <td>5727055.23</td>\n",
       "      <td>5700582.94</td>\n",
       "      <td>391</td>\n",
       "    </tr>\n",
       "    <tr>\n",
       "      <th>1</th>\n",
       "      <td>São Paulo</td>\n",
       "      <td>SP</td>\n",
       "      <td>-23.5329</td>\n",
       "      <td>-46.6395</td>\n",
       "      <td>5867466.07</td>\n",
       "      <td>2126801.54</td>\n",
       "      <td>2126801.54</td>\n",
       "      <td>12</td>\n",
       "    </tr>\n",
       "    <tr>\n",
       "      <th>2</th>\n",
       "      <td>Guaporé</td>\n",
       "      <td>RS</td>\n",
       "      <td>-28.8399</td>\n",
       "      <td>-51.8895</td>\n",
       "      <td>4208558.38</td>\n",
       "      <td>975744.38</td>\n",
       "      <td>897088.38</td>\n",
       "      <td>57</td>\n",
       "    </tr>\n",
       "    <tr>\n",
       "      <th>3</th>\n",
       "      <td>Brasília</td>\n",
       "      <td>DF</td>\n",
       "      <td>-15.7795</td>\n",
       "      <td>-47.9297</td>\n",
       "      <td>3844454.69</td>\n",
       "      <td>1016795.93</td>\n",
       "      <td>949211.30</td>\n",
       "      <td>22</td>\n",
       "    </tr>\n",
       "    <tr>\n",
       "      <th>4</th>\n",
       "      <td>Passo Fundo</td>\n",
       "      <td>RS</td>\n",
       "      <td>-28.2576</td>\n",
       "      <td>-52.4091</td>\n",
       "      <td>1947719.23</td>\n",
       "      <td>597011.47</td>\n",
       "      <td>451679.69</td>\n",
       "      <td>62</td>\n",
       "    </tr>\n",
       "  </tbody>\n",
       "</table>\n",
       "</div>"
      ],
      "text/plain": [
       "         municipio  uf  latitude  longitude  valor_empenhado  valor_liquidado  \\\n",
       "0  Serafina Corrêa  RS  -28.7126   -51.9352      15110359.94       5727055.23   \n",
       "1        São Paulo  SP  -23.5329   -46.6395       5867466.07       2126801.54   \n",
       "2          Guaporé  RS  -28.8399   -51.8895       4208558.38        975744.38   \n",
       "3         Brasília  DF  -15.7795   -47.9297       3844454.69       1016795.93   \n",
       "4      Passo Fundo  RS  -28.2576   -52.4091       1947719.23        597011.47   \n",
       "\n",
       "   valor_pago  cnpj  \n",
       "0  5700582.94   391  \n",
       "1  2126801.54    12  \n",
       "2   897088.38    57  \n",
       "3   949211.30    22  \n",
       "4   451679.69    62  "
      ]
     },
     "execution_count": 144,
     "metadata": {},
     "output_type": "execute_result"
    }
   ],
   "source": [
    "import plotly.graph_objects as go\n",
    "import pandas as pd\n",
    "\n",
    "df = dados_agrupados[0:5]\n",
    "\n",
    "fig = go.Figure(data=[go.Bar(x=df[\"valor_empenhado\"], y=df[\"municipio\"], orientation='h')])\n",
    "\n",
    "fig.update_layout(title=\"Valores Empenhados por Cidade\",\n",
    "                  xaxis_title=\"Cidade\",\n",
    "                  yaxis_title=\"Valor Empenhado (R$)\",\n",
    "                  bargap=0.2,\n",
    "                  barmode='group',\n",
    "                  xaxis_showgrid=True,\n",
    "                  yaxis_showgrid=True)\n",
    "\n",
    "fig.show()\n",
    "\n",
    "\n",
    "dados_agrupados[0:5]"
   ]
  },
  {
   "cell_type": "code",
   "execution_count": 145,
   "id": "e7e61fb1-6e54-4e74-983d-9eaef265b99d",
   "metadata": {},
   "outputs": [
    {
     "data": {
      "text/plain": [
       "9"
      ]
     },
     "execution_count": 145,
     "metadata": {},
     "output_type": "execute_result"
    }
   ],
   "source": [
    "# quantos estados?\n",
    "dados_agrupados.uf.unique().size"
   ]
  },
  {
   "cell_type": "code",
   "execution_count": 146,
   "id": "934cdb51-0ed3-46d0-951f-1760666f7704",
   "metadata": {},
   "outputs": [
    {
     "data": {
      "text/plain": [
       "95"
      ]
     },
     "execution_count": 146,
     "metadata": {},
     "output_type": "execute_result"
    }
   ],
   "source": [
    "# quantos municipios?\n",
    "dados_agrupados.municipio.unique().size"
   ]
  },
  {
   "cell_type": "code",
   "execution_count": 147,
   "id": "576e30e3-ab88-42a7-b457-1bf0764455fa",
   "metadata": {},
   "outputs": [
    {
     "data": {
      "text/plain": [
       "1048"
      ]
     },
     "execution_count": 147,
     "metadata": {},
     "output_type": "execute_result"
    }
   ],
   "source": [
    "# quantas empresas?\n",
    "dados_agrupados.cnpj.sum()"
   ]
  },
  {
   "cell_type": "code",
   "execution_count": 148,
   "id": "60eac28d-2b06-434d-9f49-9af0b35a151d",
   "metadata": {},
   "outputs": [],
   "source": [
    "despesas_fornecedor_com_municipios.to_csv('despesas_fornecedor_com_municipios_Q1.csv')"
   ]
  },
  {
   "cell_type": "code",
   "execution_count": 149,
   "id": "ecbb59ec-8145-4eb1-82dc-9c1c7950b1a1",
   "metadata": {},
   "outputs": [
    {
     "data": {
      "text/plain": [
       "array(['janeiro', 'fevereiro', 'março'], dtype=object)"
      ]
     },
     "execution_count": 149,
     "metadata": {},
     "output_type": "execute_result"
    }
   ],
   "source": [
    "despesas_fornecedor_com_municipios.mes.unique()"
   ]
  },
  {
   "cell_type": "code",
   "execution_count": 150,
   "id": "48e9600c-6ce0-4721-81f8-bc1900f74162",
   "metadata": {},
   "outputs": [
    {
     "data": {
      "application/vnd.plotly.v1+json": {
       "config": {
        "plotlyServerURL": "https://plot.ly"
       },
       "data": [
        {
         "orientation": "h",
         "type": "bar",
         "x": [
          5702736.82,
          4488532.98,
          2716029.1,
          2329243.67,
          2300020
         ],
         "y": [
          "TRACADO CONSTRUCOES E SERVICOS LTDA 00472805000138 São Paulo/SP",
          "HOSPITAL NOSSA SENHORA DO ROSARIO 90397167000120 Serafina Corrêa/RS",
          "RPPS- DIVERSOS FUNCIONARIOS 14373681000148 Serafina Corrêa/RS",
          "BAGGIO & MARCOLINA SISTEMAS DE LIMPEZA E SEGURANCA 08145249000105 Guaporé/RS",
          "CAIXA ECONOMICA FEDERAL 00360305000104 Brasília/DF"
         ]
        }
       ],
       "layout": {
        "autosize": true,
        "bargap": 0.2,
        "barmode": "group",
        "template": {
         "data": {
          "bar": [
           {
            "error_x": {
             "color": "#2a3f5f"
            },
            "error_y": {
             "color": "#2a3f5f"
            },
            "marker": {
             "line": {
              "color": "#E5ECF6",
              "width": 0.5
             },
             "pattern": {
              "fillmode": "overlay",
              "size": 10,
              "solidity": 0.2
             }
            },
            "type": "bar"
           }
          ],
          "barpolar": [
           {
            "marker": {
             "line": {
              "color": "#E5ECF6",
              "width": 0.5
             },
             "pattern": {
              "fillmode": "overlay",
              "size": 10,
              "solidity": 0.2
             }
            },
            "type": "barpolar"
           }
          ],
          "carpet": [
           {
            "aaxis": {
             "endlinecolor": "#2a3f5f",
             "gridcolor": "white",
             "linecolor": "white",
             "minorgridcolor": "white",
             "startlinecolor": "#2a3f5f"
            },
            "baxis": {
             "endlinecolor": "#2a3f5f",
             "gridcolor": "white",
             "linecolor": "white",
             "minorgridcolor": "white",
             "startlinecolor": "#2a3f5f"
            },
            "type": "carpet"
           }
          ],
          "choropleth": [
           {
            "colorbar": {
             "outlinewidth": 0,
             "ticks": ""
            },
            "type": "choropleth"
           }
          ],
          "contour": [
           {
            "colorbar": {
             "outlinewidth": 0,
             "ticks": ""
            },
            "colorscale": [
             [
              0,
              "#0d0887"
             ],
             [
              0.1111111111111111,
              "#46039f"
             ],
             [
              0.2222222222222222,
              "#7201a8"
             ],
             [
              0.3333333333333333,
              "#9c179e"
             ],
             [
              0.4444444444444444,
              "#bd3786"
             ],
             [
              0.5555555555555556,
              "#d8576b"
             ],
             [
              0.6666666666666666,
              "#ed7953"
             ],
             [
              0.7777777777777778,
              "#fb9f3a"
             ],
             [
              0.8888888888888888,
              "#fdca26"
             ],
             [
              1,
              "#f0f921"
             ]
            ],
            "type": "contour"
           }
          ],
          "contourcarpet": [
           {
            "colorbar": {
             "outlinewidth": 0,
             "ticks": ""
            },
            "type": "contourcarpet"
           }
          ],
          "heatmap": [
           {
            "colorbar": {
             "outlinewidth": 0,
             "ticks": ""
            },
            "colorscale": [
             [
              0,
              "#0d0887"
             ],
             [
              0.1111111111111111,
              "#46039f"
             ],
             [
              0.2222222222222222,
              "#7201a8"
             ],
             [
              0.3333333333333333,
              "#9c179e"
             ],
             [
              0.4444444444444444,
              "#bd3786"
             ],
             [
              0.5555555555555556,
              "#d8576b"
             ],
             [
              0.6666666666666666,
              "#ed7953"
             ],
             [
              0.7777777777777778,
              "#fb9f3a"
             ],
             [
              0.8888888888888888,
              "#fdca26"
             ],
             [
              1,
              "#f0f921"
             ]
            ],
            "type": "heatmap"
           }
          ],
          "heatmapgl": [
           {
            "colorbar": {
             "outlinewidth": 0,
             "ticks": ""
            },
            "colorscale": [
             [
              0,
              "#0d0887"
             ],
             [
              0.1111111111111111,
              "#46039f"
             ],
             [
              0.2222222222222222,
              "#7201a8"
             ],
             [
              0.3333333333333333,
              "#9c179e"
             ],
             [
              0.4444444444444444,
              "#bd3786"
             ],
             [
              0.5555555555555556,
              "#d8576b"
             ],
             [
              0.6666666666666666,
              "#ed7953"
             ],
             [
              0.7777777777777778,
              "#fb9f3a"
             ],
             [
              0.8888888888888888,
              "#fdca26"
             ],
             [
              1,
              "#f0f921"
             ]
            ],
            "type": "heatmapgl"
           }
          ],
          "histogram": [
           {
            "marker": {
             "pattern": {
              "fillmode": "overlay",
              "size": 10,
              "solidity": 0.2
             }
            },
            "type": "histogram"
           }
          ],
          "histogram2d": [
           {
            "colorbar": {
             "outlinewidth": 0,
             "ticks": ""
            },
            "colorscale": [
             [
              0,
              "#0d0887"
             ],
             [
              0.1111111111111111,
              "#46039f"
             ],
             [
              0.2222222222222222,
              "#7201a8"
             ],
             [
              0.3333333333333333,
              "#9c179e"
             ],
             [
              0.4444444444444444,
              "#bd3786"
             ],
             [
              0.5555555555555556,
              "#d8576b"
             ],
             [
              0.6666666666666666,
              "#ed7953"
             ],
             [
              0.7777777777777778,
              "#fb9f3a"
             ],
             [
              0.8888888888888888,
              "#fdca26"
             ],
             [
              1,
              "#f0f921"
             ]
            ],
            "type": "histogram2d"
           }
          ],
          "histogram2dcontour": [
           {
            "colorbar": {
             "outlinewidth": 0,
             "ticks": ""
            },
            "colorscale": [
             [
              0,
              "#0d0887"
             ],
             [
              0.1111111111111111,
              "#46039f"
             ],
             [
              0.2222222222222222,
              "#7201a8"
             ],
             [
              0.3333333333333333,
              "#9c179e"
             ],
             [
              0.4444444444444444,
              "#bd3786"
             ],
             [
              0.5555555555555556,
              "#d8576b"
             ],
             [
              0.6666666666666666,
              "#ed7953"
             ],
             [
              0.7777777777777778,
              "#fb9f3a"
             ],
             [
              0.8888888888888888,
              "#fdca26"
             ],
             [
              1,
              "#f0f921"
             ]
            ],
            "type": "histogram2dcontour"
           }
          ],
          "mesh3d": [
           {
            "colorbar": {
             "outlinewidth": 0,
             "ticks": ""
            },
            "type": "mesh3d"
           }
          ],
          "parcoords": [
           {
            "line": {
             "colorbar": {
              "outlinewidth": 0,
              "ticks": ""
             }
            },
            "type": "parcoords"
           }
          ],
          "pie": [
           {
            "automargin": true,
            "type": "pie"
           }
          ],
          "scatter": [
           {
            "fillpattern": {
             "fillmode": "overlay",
             "size": 10,
             "solidity": 0.2
            },
            "type": "scatter"
           }
          ],
          "scatter3d": [
           {
            "line": {
             "colorbar": {
              "outlinewidth": 0,
              "ticks": ""
             }
            },
            "marker": {
             "colorbar": {
              "outlinewidth": 0,
              "ticks": ""
             }
            },
            "type": "scatter3d"
           }
          ],
          "scattercarpet": [
           {
            "marker": {
             "colorbar": {
              "outlinewidth": 0,
              "ticks": ""
             }
            },
            "type": "scattercarpet"
           }
          ],
          "scattergeo": [
           {
            "marker": {
             "colorbar": {
              "outlinewidth": 0,
              "ticks": ""
             }
            },
            "type": "scattergeo"
           }
          ],
          "scattergl": [
           {
            "marker": {
             "colorbar": {
              "outlinewidth": 0,
              "ticks": ""
             }
            },
            "type": "scattergl"
           }
          ],
          "scattermapbox": [
           {
            "marker": {
             "colorbar": {
              "outlinewidth": 0,
              "ticks": ""
             }
            },
            "type": "scattermapbox"
           }
          ],
          "scatterpolar": [
           {
            "marker": {
             "colorbar": {
              "outlinewidth": 0,
              "ticks": ""
             }
            },
            "type": "scatterpolar"
           }
          ],
          "scatterpolargl": [
           {
            "marker": {
             "colorbar": {
              "outlinewidth": 0,
              "ticks": ""
             }
            },
            "type": "scatterpolargl"
           }
          ],
          "scatterternary": [
           {
            "marker": {
             "colorbar": {
              "outlinewidth": 0,
              "ticks": ""
             }
            },
            "type": "scatterternary"
           }
          ],
          "surface": [
           {
            "colorbar": {
             "outlinewidth": 0,
             "ticks": ""
            },
            "colorscale": [
             [
              0,
              "#0d0887"
             ],
             [
              0.1111111111111111,
              "#46039f"
             ],
             [
              0.2222222222222222,
              "#7201a8"
             ],
             [
              0.3333333333333333,
              "#9c179e"
             ],
             [
              0.4444444444444444,
              "#bd3786"
             ],
             [
              0.5555555555555556,
              "#d8576b"
             ],
             [
              0.6666666666666666,
              "#ed7953"
             ],
             [
              0.7777777777777778,
              "#fb9f3a"
             ],
             [
              0.8888888888888888,
              "#fdca26"
             ],
             [
              1,
              "#f0f921"
             ]
            ],
            "type": "surface"
           }
          ],
          "table": [
           {
            "cells": {
             "fill": {
              "color": "#EBF0F8"
             },
             "line": {
              "color": "white"
             }
            },
            "header": {
             "fill": {
              "color": "#C8D4E3"
             },
             "line": {
              "color": "white"
             }
            },
            "type": "table"
           }
          ]
         },
         "layout": {
          "annotationdefaults": {
           "arrowcolor": "#2a3f5f",
           "arrowhead": 0,
           "arrowwidth": 1
          },
          "autotypenumbers": "strict",
          "coloraxis": {
           "colorbar": {
            "outlinewidth": 0,
            "ticks": ""
           }
          },
          "colorscale": {
           "diverging": [
            [
             0,
             "#8e0152"
            ],
            [
             0.1,
             "#c51b7d"
            ],
            [
             0.2,
             "#de77ae"
            ],
            [
             0.3,
             "#f1b6da"
            ],
            [
             0.4,
             "#fde0ef"
            ],
            [
             0.5,
             "#f7f7f7"
            ],
            [
             0.6,
             "#e6f5d0"
            ],
            [
             0.7,
             "#b8e186"
            ],
            [
             0.8,
             "#7fbc41"
            ],
            [
             0.9,
             "#4d9221"
            ],
            [
             1,
             "#276419"
            ]
           ],
           "sequential": [
            [
             0,
             "#0d0887"
            ],
            [
             0.1111111111111111,
             "#46039f"
            ],
            [
             0.2222222222222222,
             "#7201a8"
            ],
            [
             0.3333333333333333,
             "#9c179e"
            ],
            [
             0.4444444444444444,
             "#bd3786"
            ],
            [
             0.5555555555555556,
             "#d8576b"
            ],
            [
             0.6666666666666666,
             "#ed7953"
            ],
            [
             0.7777777777777778,
             "#fb9f3a"
            ],
            [
             0.8888888888888888,
             "#fdca26"
            ],
            [
             1,
             "#f0f921"
            ]
           ],
           "sequentialminus": [
            [
             0,
             "#0d0887"
            ],
            [
             0.1111111111111111,
             "#46039f"
            ],
            [
             0.2222222222222222,
             "#7201a8"
            ],
            [
             0.3333333333333333,
             "#9c179e"
            ],
            [
             0.4444444444444444,
             "#bd3786"
            ],
            [
             0.5555555555555556,
             "#d8576b"
            ],
            [
             0.6666666666666666,
             "#ed7953"
            ],
            [
             0.7777777777777778,
             "#fb9f3a"
            ],
            [
             0.8888888888888888,
             "#fdca26"
            ],
            [
             1,
             "#f0f921"
            ]
           ]
          },
          "colorway": [
           "#636efa",
           "#EF553B",
           "#00cc96",
           "#ab63fa",
           "#FFA15A",
           "#19d3f3",
           "#FF6692",
           "#B6E880",
           "#FF97FF",
           "#FECB52"
          ],
          "font": {
           "color": "#2a3f5f"
          },
          "geo": {
           "bgcolor": "white",
           "lakecolor": "white",
           "landcolor": "#E5ECF6",
           "showlakes": true,
           "showland": true,
           "subunitcolor": "white"
          },
          "hoverlabel": {
           "align": "left"
          },
          "hovermode": "closest",
          "mapbox": {
           "style": "light"
          },
          "paper_bgcolor": "white",
          "plot_bgcolor": "#E5ECF6",
          "polar": {
           "angularaxis": {
            "gridcolor": "white",
            "linecolor": "white",
            "ticks": ""
           },
           "bgcolor": "#E5ECF6",
           "radialaxis": {
            "gridcolor": "white",
            "linecolor": "white",
            "ticks": ""
           }
          },
          "scene": {
           "xaxis": {
            "backgroundcolor": "#E5ECF6",
            "gridcolor": "white",
            "gridwidth": 2,
            "linecolor": "white",
            "showbackground": true,
            "ticks": "",
            "zerolinecolor": "white"
           },
           "yaxis": {
            "backgroundcolor": "#E5ECF6",
            "gridcolor": "white",
            "gridwidth": 2,
            "linecolor": "white",
            "showbackground": true,
            "ticks": "",
            "zerolinecolor": "white"
           },
           "zaxis": {
            "backgroundcolor": "#E5ECF6",
            "gridcolor": "white",
            "gridwidth": 2,
            "linecolor": "white",
            "showbackground": true,
            "ticks": "",
            "zerolinecolor": "white"
           }
          },
          "shapedefaults": {
           "line": {
            "color": "#2a3f5f"
           }
          },
          "ternary": {
           "aaxis": {
            "gridcolor": "white",
            "linecolor": "white",
            "ticks": ""
           },
           "baxis": {
            "gridcolor": "white",
            "linecolor": "white",
            "ticks": ""
           },
           "bgcolor": "#E5ECF6",
           "caxis": {
            "gridcolor": "white",
            "linecolor": "white",
            "ticks": ""
           }
          },
          "title": {
           "x": 0.05
          },
          "xaxis": {
           "automargin": true,
           "gridcolor": "white",
           "linecolor": "white",
           "ticks": "",
           "title": {
            "standoff": 15
           },
           "zerolinecolor": "white",
           "zerolinewidth": 2
          },
          "yaxis": {
           "automargin": true,
           "gridcolor": "white",
           "linecolor": "white",
           "ticks": "",
           "title": {
            "standoff": 15
           },
           "zerolinecolor": "white",
           "zerolinewidth": 2
          }
         }
        },
        "title": {
         "text": "Valores Empenhados por Empresa"
        },
        "xaxis": {
         "autorange": true,
         "range": [
          0,
          6002880.863157895
         ],
         "showgrid": true,
         "title": {
          "text": "Valor Empenhado (R$)"
         },
         "type": "linear"
        },
        "yaxis": {
         "autorange": true,
         "range": [
          -0.5,
          4.5
         ],
         "showgrid": true,
         "title": {
          "text": "Empresa"
         },
         "type": "category"
        }
       }
      },
      "image/png": "[encoded data removed]",
      "text/html": [
       "<div>                            <div id=\"6163edf4-7027-4069-ac02-8e0cf98b6be7\" class=\"plotly-graph-div\" style=\"height:525px; width:100%;\"></div>            <script type=\"text/javascript\">                require([\"plotly\"], function(Plotly) {                    window.PLOTLYENV=window.PLOTLYENV || {};                                    if (document.getElementById(\"6163edf4-7027-4069-ac02-8e0cf98b6be7\")) {                    Plotly.newPlot(                        \"6163edf4-7027-4069-ac02-8e0cf98b6be7\",                        [{\"orientation\":\"h\",\"x\":[5702736.82,4488532.98,2716029.1,2329243.67,2300020.0],\"y\":[\"TRACADO CONSTRUCOES E SERVICOS LTDA 00472805000138 S\\u00e3o Paulo\\u002fSP\",\"HOSPITAL NOSSA SENHORA DO ROSARIO 90397167000120 Serafina Corr\\u00eaa\\u002fRS\",\"RPPS- DIVERSOS FUNCIONARIOS 14373681000148 Serafina Corr\\u00eaa\\u002fRS\",\"BAGGIO & MARCOLINA SISTEMAS DE LIMPEZA E SEGURANCA 08145249000105 Guapor\\u00e9\\u002fRS\",\"CAIXA ECONOMICA FEDERAL 00360305000104 Bras\\u00edlia\\u002fDF\"],\"type\":\"bar\"}],                        {\"template\":{\"data\":{\"histogram2dcontour\":[{\"type\":\"histogram2dcontour\",\"colorbar\":{\"outlinewidth\":0,\"ticks\":\"\"},\"colorscale\":[[0.0,\"#0d0887\"],[0.1111111111111111,\"#46039f\"],[0.2222222222222222,\"#7201a8\"],[0.3333333333333333,\"#9c179e\"],[0.4444444444444444,\"#bd3786\"],[0.5555555555555556,\"#d8576b\"],[0.6666666666666666,\"#ed7953\"],[0.7777777777777778,\"#fb9f3a\"],[0.8888888888888888,\"#fdca26\"],[1.0,\"#f0f921\"]]}],\"choropleth\":[{\"type\":\"choropleth\",\"colorbar\":{\"outlinewidth\":0,\"ticks\":\"\"}}],\"histogram2d\":[{\"type\":\"histogram2d\",\"colorbar\":{\"outlinewidth\":0,\"ticks\":\"\"},\"colorscale\":[[0.0,\"#0d0887\"],[0.1111111111111111,\"#46039f\"],[0.2222222222222222,\"#7201a8\"],[0.3333333333333333,\"#9c179e\"],[0.4444444444444444,\"#bd3786\"],[0.5555555555555556,\"#d8576b\"],[0.6666666666666666,\"#ed7953\"],[0.7777777777777778,\"#fb9f3a\"],[0.8888888888888888,\"#fdca26\"],[1.0,\"#f0f921\"]]}],\"heatmap\":[{\"type\":\"heatmap\",\"colorbar\":{\"outlinewidth\":0,\"ticks\":\"\"},\"colorscale\":[[0.0,\"#0d0887\"],[0.1111111111111111,\"#46039f\"],[0.2222222222222222,\"#7201a8\"],[0.3333333333333333,\"#9c179e\"],[0.4444444444444444,\"#bd3786\"],[0.5555555555555556,\"#d8576b\"],[0.6666666666666666,\"#ed7953\"],[0.7777777777777778,\"#fb9f3a\"],[0.8888888888888888,\"#fdca26\"],[1.0,\"#f0f921\"]]}],\"heatmapgl\":[{\"type\":\"heatmapgl\",\"colorbar\":{\"outlinewidth\":0,\"ticks\":\"\"},\"colorscale\":[[0.0,\"#0d0887\"],[0.1111111111111111,\"#46039f\"],[0.2222222222222222,\"#7201a8\"],[0.3333333333333333,\"#9c179e\"],[0.4444444444444444,\"#bd3786\"],[0.5555555555555556,\"#d8576b\"],[0.6666666666666666,\"#ed7953\"],[0.7777777777777778,\"#fb9f3a\"],[0.8888888888888888,\"#fdca26\"],[1.0,\"#f0f921\"]]}],\"contourcarpet\":[{\"type\":\"contourcarpet\",\"colorbar\":{\"outlinewidth\":0,\"ticks\":\"\"}}],\"contour\":[{\"type\":\"contour\",\"colorbar\":{\"outlinewidth\":0,\"ticks\":\"\"},\"colorscale\":[[0.0,\"#0d0887\"],[0.1111111111111111,\"#46039f\"],[0.2222222222222222,\"#7201a8\"],[0.3333333333333333,\"#9c179e\"],[0.4444444444444444,\"#bd3786\"],[0.5555555555555556,\"#d8576b\"],[0.6666666666666666,\"#ed7953\"],[0.7777777777777778,\"#fb9f3a\"],[0.8888888888888888,\"#fdca26\"],[1.0,\"#f0f921\"]]}],\"surface\":[{\"type\":\"surface\",\"colorbar\":{\"outlinewidth\":0,\"ticks\":\"\"},\"colorscale\":[[0.0,\"#0d0887\"],[0.1111111111111111,\"#46039f\"],[0.2222222222222222,\"#7201a8\"],[0.3333333333333333,\"#9c179e\"],[0.4444444444444444,\"#bd3786\"],[0.5555555555555556,\"#d8576b\"],[0.6666666666666666,\"#ed7953\"],[0.7777777777777778,\"#fb9f3a\"],[0.8888888888888888,\"#fdca26\"],[1.0,\"#f0f921\"]]}],\"mesh3d\":[{\"type\":\"mesh3d\",\"colorbar\":{\"outlinewidth\":0,\"ticks\":\"\"}}],\"scatter\":[{\"fillpattern\":{\"fillmode\":\"overlay\",\"size\":10,\"solidity\":0.2},\"type\":\"scatter\"}],\"parcoords\":[{\"type\":\"parcoords\",\"line\":{\"colorbar\":{\"outlinewidth\":0,\"ticks\":\"\"}}}],\"scatterpolargl\":[{\"type\":\"scatterpolargl\",\"marker\":{\"colorbar\":{\"outlinewidth\":0,\"ticks\":\"\"}}}],\"bar\":[{\"error_x\":{\"color\":\"#2a3f5f\"},\"error_y\":{\"color\":\"#2a3f5f\"},\"marker\":{\"line\":{\"color\":\"#E5ECF6\",\"width\":0.5},\"pattern\":{\"fillmode\":\"overlay\",\"size\":10,\"solidity\":0.2}},\"type\":\"bar\"}],\"scattergeo\":[{\"type\":\"scattergeo\",\"marker\":{\"colorbar\":{\"outlinewidth\":0,\"ticks\":\"\"}}}],\"scatterpolar\":[{\"type\":\"scatterpolar\",\"marker\":{\"colorbar\":{\"outlinewidth\":0,\"ticks\":\"\"}}}],\"histogram\":[{\"marker\":{\"pattern\":{\"fillmode\":\"overlay\",\"size\":10,\"solidity\":0.2}},\"type\":\"histogram\"}],\"scattergl\":[{\"type\":\"scattergl\",\"marker\":{\"colorbar\":{\"outlinewidth\":0,\"ticks\":\"\"}}}],\"scatter3d\":[{\"type\":\"scatter3d\",\"line\":{\"colorbar\":{\"outlinewidth\":0,\"ticks\":\"\"}},\"marker\":{\"colorbar\":{\"outlinewidth\":0,\"ticks\":\"\"}}}],\"scattermapbox\":[{\"type\":\"scattermapbox\",\"marker\":{\"colorbar\":{\"outlinewidth\":0,\"ticks\":\"\"}}}],\"scatterternary\":[{\"type\":\"scatterternary\",\"marker\":{\"colorbar\":{\"outlinewidth\":0,\"ticks\":\"\"}}}],\"scattercarpet\":[{\"type\":\"scattercarpet\",\"marker\":{\"colorbar\":{\"outlinewidth\":0,\"ticks\":\"\"}}}],\"carpet\":[{\"aaxis\":{\"endlinecolor\":\"#2a3f5f\",\"gridcolor\":\"white\",\"linecolor\":\"white\",\"minorgridcolor\":\"white\",\"startlinecolor\":\"#2a3f5f\"},\"baxis\":{\"endlinecolor\":\"#2a3f5f\",\"gridcolor\":\"white\",\"linecolor\":\"white\",\"minorgridcolor\":\"white\",\"startlinecolor\":\"#2a3f5f\"},\"type\":\"carpet\"}],\"table\":[{\"cells\":{\"fill\":{\"color\":\"#EBF0F8\"},\"line\":{\"color\":\"white\"}},\"header\":{\"fill\":{\"color\":\"#C8D4E3\"},\"line\":{\"color\":\"white\"}},\"type\":\"table\"}],\"barpolar\":[{\"marker\":{\"line\":{\"color\":\"#E5ECF6\",\"width\":0.5},\"pattern\":{\"fillmode\":\"overlay\",\"size\":10,\"solidity\":0.2}},\"type\":\"barpolar\"}],\"pie\":[{\"automargin\":true,\"type\":\"pie\"}]},\"layout\":{\"autotypenumbers\":\"strict\",\"colorway\":[\"#636efa\",\"#EF553B\",\"#00cc96\",\"#ab63fa\",\"#FFA15A\",\"#19d3f3\",\"#FF6692\",\"#B6E880\",\"#FF97FF\",\"#FECB52\"],\"font\":{\"color\":\"#2a3f5f\"},\"hovermode\":\"closest\",\"hoverlabel\":{\"align\":\"left\"},\"paper_bgcolor\":\"white\",\"plot_bgcolor\":\"#E5ECF6\",\"polar\":{\"bgcolor\":\"#E5ECF6\",\"angularaxis\":{\"gridcolor\":\"white\",\"linecolor\":\"white\",\"ticks\":\"\"},\"radialaxis\":{\"gridcolor\":\"white\",\"linecolor\":\"white\",\"ticks\":\"\"}},\"ternary\":{\"bgcolor\":\"#E5ECF6\",\"aaxis\":{\"gridcolor\":\"white\",\"linecolor\":\"white\",\"ticks\":\"\"},\"baxis\":{\"gridcolor\":\"white\",\"linecolor\":\"white\",\"ticks\":\"\"},\"caxis\":{\"gridcolor\":\"white\",\"linecolor\":\"white\",\"ticks\":\"\"}},\"coloraxis\":{\"colorbar\":{\"outlinewidth\":0,\"ticks\":\"\"}},\"colorscale\":{\"sequential\":[[0.0,\"#0d0887\"],[0.1111111111111111,\"#46039f\"],[0.2222222222222222,\"#7201a8\"],[0.3333333333333333,\"#9c179e\"],[0.4444444444444444,\"#bd3786\"],[0.5555555555555556,\"#d8576b\"],[0.6666666666666666,\"#ed7953\"],[0.7777777777777778,\"#fb9f3a\"],[0.8888888888888888,\"#fdca26\"],[1.0,\"#f0f921\"]],\"sequentialminus\":[[0.0,\"#0d0887\"],[0.1111111111111111,\"#46039f\"],[0.2222222222222222,\"#7201a8\"],[0.3333333333333333,\"#9c179e\"],[0.4444444444444444,\"#bd3786\"],[0.5555555555555556,\"#d8576b\"],[0.6666666666666666,\"#ed7953\"],[0.7777777777777778,\"#fb9f3a\"],[0.8888888888888888,\"#fdca26\"],[1.0,\"#f0f921\"]],\"diverging\":[[0,\"#8e0152\"],[0.1,\"#c51b7d\"],[0.2,\"#de77ae\"],[0.3,\"#f1b6da\"],[0.4,\"#fde0ef\"],[0.5,\"#f7f7f7\"],[0.6,\"#e6f5d0\"],[0.7,\"#b8e186\"],[0.8,\"#7fbc41\"],[0.9,\"#4d9221\"],[1,\"#276419\"]]},\"xaxis\":{\"gridcolor\":\"white\",\"linecolor\":\"white\",\"ticks\":\"\",\"title\":{\"standoff\":15},\"zerolinecolor\":\"white\",\"automargin\":true,\"zerolinewidth\":2},\"yaxis\":{\"gridcolor\":\"white\",\"linecolor\":\"white\",\"ticks\":\"\",\"title\":{\"standoff\":15},\"zerolinecolor\":\"white\",\"automargin\":true,\"zerolinewidth\":2},\"scene\":{\"xaxis\":{\"backgroundcolor\":\"#E5ECF6\",\"gridcolor\":\"white\",\"linecolor\":\"white\",\"showbackground\":true,\"ticks\":\"\",\"zerolinecolor\":\"white\",\"gridwidth\":2},\"yaxis\":{\"backgroundcolor\":\"#E5ECF6\",\"gridcolor\":\"white\",\"linecolor\":\"white\",\"showbackground\":true,\"ticks\":\"\",\"zerolinecolor\":\"white\",\"gridwidth\":2},\"zaxis\":{\"backgroundcolor\":\"#E5ECF6\",\"gridcolor\":\"white\",\"linecolor\":\"white\",\"showbackground\":true,\"ticks\":\"\",\"zerolinecolor\":\"white\",\"gridwidth\":2}},\"shapedefaults\":{\"line\":{\"color\":\"#2a3f5f\"}},\"annotationdefaults\":{\"arrowcolor\":\"#2a3f5f\",\"arrowhead\":0,\"arrowwidth\":1},\"geo\":{\"bgcolor\":\"white\",\"landcolor\":\"#E5ECF6\",\"subunitcolor\":\"white\",\"showland\":true,\"showlakes\":true,\"lakecolor\":\"white\"},\"title\":{\"x\":0.05},\"mapbox\":{\"style\":\"light\"}}},\"xaxis\":{\"title\":{\"text\":\"Valor Empenhado (R$)\"},\"showgrid\":true},\"yaxis\":{\"title\":{\"text\":\"Empresa\"},\"showgrid\":true},\"title\":{\"text\":\"Valores Empenhados por Empresa\"},\"bargap\":0.2,\"barmode\":\"group\"},                        {\"responsive\": true}                    ).then(function(){\n",
       "                            \n",
       "var gd = document.getElementById('6163edf4-7027-4069-ac02-8e0cf98b6be7');\n",
       "var x = new MutationObserver(function (mutations, observer) {{\n",
       "        var display = window.getComputedStyle(gd).display;\n",
       "        if (!display || display === 'none') {{\n",
       "            console.log([gd, 'removed!']);\n",
       "            Plotly.purge(gd);\n",
       "            observer.disconnect();\n",
       "        }}\n",
       "}});\n",
       "\n",
       "// Listen for the removal of the full notebook cells\n",
       "var notebookContainer = gd.closest('#notebook-container');\n",
       "if (notebookContainer) {{\n",
       "    x.observe(notebookContainer, {childList: true});\n",
       "}}\n",
       "\n",
       "// Listen for the clearing of the current output cell\n",
       "var outputEl = gd.closest('.output');\n",
       "if (outputEl) {{\n",
       "    x.observe(outputEl, {childList: true});\n",
       "}}\n",
       "\n",
       "                        })                };                });            </script>        </div>"
      ]
     },
     "metadata": {},
     "output_type": "display_data"
    }
   ],
   "source": [
    "df = despesas_fornecedor_com_municipios.sort_values(by= 'valor_empenhado', ascending=False)[0:5]\n",
    "\n",
    "df = df[~df['Código'].isna()]\n",
    "df = df[~df['CNPJ/CPF'].isna()]\n",
    "\n",
    "\n",
    "fig = go.Figure(data=[go.Bar(x=df[\"valor_empenhado\"], y=df[\"Descrição\"] + ' ' + df[\"cnpj\"] + ' ' + df[\"municipio\"] + '/' + df[\"uf\"], orientation='h')])\n",
    "\n",
    "fig.update_layout(title=\"Valores Empenhados por Empresa\",\n",
    "                  xaxis_title=\"Valor Empenhado (R$)\",\n",
    "                  yaxis_title=\"Empresa\",\n",
    "                  bargap=0.2,\n",
    "                  barmode='group',\n",
    "                  xaxis_showgrid=True,\n",
    "                  yaxis_showgrid=True)\n",
    "\n",
    "fig.show()\n",
    "\n",
    "\n"
   ]
  },
  {
   "cell_type": "code",
   "execution_count": null,
   "id": "ec554563-fe3a-4ba5-a285-6cfda190926f",
   "metadata": {},
   "outputs": [],
   "source": [
    "#top 5\n",
    "df[['Descrição', 'cnpj', 'municipio', 'uf', 'valor_empenhado']]"
   ]
  },
  {
   "cell_type": "code",
   "execution_count": 170,
   "id": "be1cd37f-1a49-4e22-bccd-8775d40c0179",
   "metadata": {},
   "outputs": [],
   "source": [
    "dados_agrupados_meses = despesas_fornecedor_com_municipios.groupby(['mes', 'mes_int']).agg(\n",
    "    {'valor_empenhado': 'sum', 'valor_liquidado': 'sum', 'valor_pago': 'sum', 'cnpj':'count'}\n",
    "    ).sort_values(by='valor_empenhado', ascending=False)\n",
    "\n",
    "dados_agrupados_meses.reset_index(inplace=True)\n"
   ]
  },
  {
   "cell_type": "code",
   "execution_count": 204,
   "id": "119f9c36-6db1-46d6-9044-95049417ff2a",
   "metadata": {},
   "outputs": [],
   "source": [
    "dados_agrupados_meses.to_csv('data/dados_agrupados_meses')"
   ]
  },
  {
   "cell_type": "code",
   "execution_count": 201,
   "id": "5692764e-4dc1-443b-9d72-a23d035fb61a",
   "metadata": {},
   "outputs": [
    {
     "data": {
      "application/vnd.plotly.v1+json": {
       "config": {
        "plotlyServerURL": "https://plot.ly"
       },
       "data": [
        {
         "marker": {
          "color": "indianred"
         },
         "name": "Valor empenhado",
         "text": [
          25767670.71,
          10222003.42,
          5379808.56
         ],
         "type": "bar",
         "x": [
          "janeiro",
          "fevereiro",
          "março"
         ],
         "y": [
          25767670.71,
          10222003.42,
          5379808.56
         ]
        },
        {
         "marker": {
          "color": "lightsalmon"
         },
         "name": "Valor Liquidado",
         "text": [
          3287758.88,
          4849767.7,
          7670447.9
         ],
         "type": "bar",
         "x": [
          "janeiro",
          "fevereiro",
          "março"
         ],
         "y": [
          3287758.88,
          4849767.7,
          7670447.9
         ]
        }
       ],
       "layout": {
        "autosize": true,
        "bargap": 0.2,
        "barmode": "group",
        "template": {
         "data": {
          "bar": [
           {
            "error_x": {
             "color": "#2a3f5f"
            },
            "error_y": {
             "color": "#2a3f5f"
            },
            "marker": {
             "line": {
              "color": "#E5ECF6",
              "width": 0.5
             },
             "pattern": {
              "fillmode": "overlay",
              "size": 10,
              "solidity": 0.2
             }
            },
            "type": "bar"
           }
          ],
          "barpolar": [
           {
            "marker": {
             "line": {
              "color": "#E5ECF6",
              "width": 0.5
             },
             "pattern": {
              "fillmode": "overlay",
              "size": 10,
              "solidity": 0.2
             }
            },
            "type": "barpolar"
           }
          ],
          "carpet": [
           {
            "aaxis": {
             "endlinecolor": "#2a3f5f",
             "gridcolor": "white",
             "linecolor": "white",
             "minorgridcolor": "white",
             "startlinecolor": "#2a3f5f"
            },
            "baxis": {
             "endlinecolor": "#2a3f5f",
             "gridcolor": "white",
             "linecolor": "white",
             "minorgridcolor": "white",
             "startlinecolor": "#2a3f5f"
            },
            "type": "carpet"
           }
          ],
          "choropleth": [
           {
            "colorbar": {
             "outlinewidth": 0,
             "ticks": ""
            },
            "type": "choropleth"
           }
          ],
          "contour": [
           {
            "colorbar": {
             "outlinewidth": 0,
             "ticks": ""
            },
            "colorscale": [
             [
              0,
              "#0d0887"
             ],
             [
              0.1111111111111111,
              "#46039f"
             ],
             [
              0.2222222222222222,
              "#7201a8"
             ],
             [
              0.3333333333333333,
              "#9c179e"
             ],
             [
              0.4444444444444444,
              "#bd3786"
             ],
             [
              0.5555555555555556,
              "#d8576b"
             ],
             [
              0.6666666666666666,
              "#ed7953"
             ],
             [
              0.7777777777777778,
              "#fb9f3a"
             ],
             [
              0.8888888888888888,
              "#fdca26"
             ],
             [
              1,
              "#f0f921"
             ]
            ],
            "type": "contour"
           }
          ],
          "contourcarpet": [
           {
            "colorbar": {
             "outlinewidth": 0,
             "ticks": ""
            },
            "type": "contourcarpet"
           }
          ],
          "heatmap": [
           {
            "colorbar": {
             "outlinewidth": 0,
             "ticks": ""
            },
            "colorscale": [
             [
              0,
              "#0d0887"
             ],
             [
              0.1111111111111111,
              "#46039f"
             ],
             [
              0.2222222222222222,
              "#7201a8"
             ],
             [
              0.3333333333333333,
              "#9c179e"
             ],
             [
              0.4444444444444444,
              "#bd3786"
             ],
             [
              0.5555555555555556,
              "#d8576b"
             ],
             [
              0.6666666666666666,
              "#ed7953"
             ],
             [
              0.7777777777777778,
              "#fb9f3a"
             ],
             [
              0.8888888888888888,
              "#fdca26"
             ],
             [
              1,
              "#f0f921"
             ]
            ],
            "type": "heatmap"
           }
          ],
          "heatmapgl": [
           {
            "colorbar": {
             "outlinewidth": 0,
             "ticks": ""
            },
            "colorscale": [
             [
              0,
              "#0d0887"
             ],
             [
              0.1111111111111111,
              "#46039f"
             ],
             [
              0.2222222222222222,
              "#7201a8"
             ],
             [
              0.3333333333333333,
              "#9c179e"
             ],
             [
              0.4444444444444444,
              "#bd3786"
             ],
             [
              0.5555555555555556,
              "#d8576b"
             ],
             [
              0.6666666666666666,
              "#ed7953"
             ],
             [
              0.7777777777777778,
              "#fb9f3a"
             ],
             [
              0.8888888888888888,
              "#fdca26"
             ],
             [
              1,
              "#f0f921"
             ]
            ],
            "type": "heatmapgl"
           }
          ],
          "histogram": [
           {
            "marker": {
             "pattern": {
              "fillmode": "overlay",
              "size": 10,
              "solidity": 0.2
             }
            },
            "type": "histogram"
           }
          ],
          "histogram2d": [
           {
            "colorbar": {
             "outlinewidth": 0,
             "ticks": ""
            },
            "colorscale": [
             [
              0,
              "#0d0887"
             ],
             [
              0.1111111111111111,
              "#46039f"
             ],
             [
              0.2222222222222222,
              "#7201a8"
             ],
             [
              0.3333333333333333,
              "#9c179e"
             ],
             [
              0.4444444444444444,
              "#bd3786"
             ],
             [
              0.5555555555555556,
              "#d8576b"
             ],
             [
              0.6666666666666666,
              "#ed7953"
             ],
             [
              0.7777777777777778,
              "#fb9f3a"
             ],
             [
              0.8888888888888888,
              "#fdca26"
             ],
             [
              1,
              "#f0f921"
             ]
            ],
            "type": "histogram2d"
           }
          ],
          "histogram2dcontour": [
           {
            "colorbar": {
             "outlinewidth": 0,
             "ticks": ""
            },
            "colorscale": [
             [
              0,
              "#0d0887"
             ],
             [
              0.1111111111111111,
              "#46039f"
             ],
             [
              0.2222222222222222,
              "#7201a8"
             ],
             [
              0.3333333333333333,
              "#9c179e"
             ],
             [
              0.4444444444444444,
              "#bd3786"
             ],
             [
              0.5555555555555556,
              "#d8576b"
             ],
             [
              0.6666666666666666,
              "#ed7953"
             ],
             [
              0.7777777777777778,
              "#fb9f3a"
             ],
             [
              0.8888888888888888,
              "#fdca26"
             ],
             [
              1,
              "#f0f921"
             ]
            ],
            "type": "histogram2dcontour"
           }
          ],
          "mesh3d": [
           {
            "colorbar": {
             "outlinewidth": 0,
             "ticks": ""
            },
            "type": "mesh3d"
           }
          ],
          "parcoords": [
           {
            "line": {
             "colorbar": {
              "outlinewidth": 0,
              "ticks": ""
             }
            },
            "type": "parcoords"
           }
          ],
          "pie": [
           {
            "automargin": true,
            "type": "pie"
           }
          ],
          "scatter": [
           {
            "fillpattern": {
             "fillmode": "overlay",
             "size": 10,
             "solidity": 0.2
            },
            "type": "scatter"
           }
          ],
          "scatter3d": [
           {
            "line": {
             "colorbar": {
              "outlinewidth": 0,
              "ticks": ""
             }
            },
            "marker": {
             "colorbar": {
              "outlinewidth": 0,
              "ticks": ""
             }
            },
            "type": "scatter3d"
           }
          ],
          "scattercarpet": [
           {
            "marker": {
             "colorbar": {
              "outlinewidth": 0,
              "ticks": ""
             }
            },
            "type": "scattercarpet"
           }
          ],
          "scattergeo": [
           {
            "marker": {
             "colorbar": {
              "outlinewidth": 0,
              "ticks": ""
             }
            },
            "type": "scattergeo"
           }
          ],
          "scattergl": [
           {
            "marker": {
             "colorbar": {
              "outlinewidth": 0,
              "ticks": ""
             }
            },
            "type": "scattergl"
           }
          ],
          "scattermapbox": [
           {
            "marker": {
             "colorbar": {
              "outlinewidth": 0,
              "ticks": ""
             }
            },
            "type": "scattermapbox"
           }
          ],
          "scatterpolar": [
           {
            "marker": {
             "colorbar": {
              "outlinewidth": 0,
              "ticks": ""
             }
            },
            "type": "scatterpolar"
           }
          ],
          "scatterpolargl": [
           {
            "marker": {
             "colorbar": {
              "outlinewidth": 0,
              "ticks": ""
             }
            },
            "type": "scatterpolargl"
           }
          ],
          "scatterternary": [
           {
            "marker": {
             "colorbar": {
              "outlinewidth": 0,
              "ticks": ""
             }
            },
            "type": "scatterternary"
           }
          ],
          "surface": [
           {
            "colorbar": {
             "outlinewidth": 0,
             "ticks": ""
            },
            "colorscale": [
             [
              0,
              "#0d0887"
             ],
             [
              0.1111111111111111,
              "#46039f"
             ],
             [
              0.2222222222222222,
              "#7201a8"
             ],
             [
              0.3333333333333333,
              "#9c179e"
             ],
             [
              0.4444444444444444,
              "#bd3786"
             ],
             [
              0.5555555555555556,
              "#d8576b"
             ],
             [
              0.6666666666666666,
              "#ed7953"
             ],
             [
              0.7777777777777778,
              "#fb9f3a"
             ],
             [
              0.8888888888888888,
              "#fdca26"
             ],
             [
              1,
              "#f0f921"
             ]
            ],
            "type": "surface"
           }
          ],
          "table": [
           {
            "cells": {
             "fill": {
              "color": "#EBF0F8"
             },
             "line": {
              "color": "white"
             }
            },
            "header": {
             "fill": {
              "color": "#C8D4E3"
             },
             "line": {
              "color": "white"
             }
            },
            "type": "table"
           }
          ]
         },
         "layout": {
          "annotationdefaults": {
           "arrowcolor": "#2a3f5f",
           "arrowhead": 0,
           "arrowwidth": 1
          },
          "autotypenumbers": "strict",
          "coloraxis": {
           "colorbar": {
            "outlinewidth": 0,
            "ticks": ""
           }
          },
          "colorscale": {
           "diverging": [
            [
             0,
             "#8e0152"
            ],
            [
             0.1,
             "#c51b7d"
            ],
            [
             0.2,
             "#de77ae"
            ],
            [
             0.3,
             "#f1b6da"
            ],
            [
             0.4,
             "#fde0ef"
            ],
            [
             0.5,
             "#f7f7f7"
            ],
            [
             0.6,
             "#e6f5d0"
            ],
            [
             0.7,
             "#b8e186"
            ],
            [
             0.8,
             "#7fbc41"
            ],
            [
             0.9,
             "#4d9221"
            ],
            [
             1,
             "#276419"
            ]
           ],
           "sequential": [
            [
             0,
             "#0d0887"
            ],
            [
             0.1111111111111111,
             "#46039f"
            ],
            [
             0.2222222222222222,
             "#7201a8"
            ],
            [
             0.3333333333333333,
             "#9c179e"
            ],
            [
             0.4444444444444444,
             "#bd3786"
            ],
            [
             0.5555555555555556,
             "#d8576b"
            ],
            [
             0.6666666666666666,
             "#ed7953"
            ],
            [
             0.7777777777777778,
             "#fb9f3a"
            ],
            [
             0.8888888888888888,
             "#fdca26"
            ],
            [
             1,
             "#f0f921"
            ]
           ],
           "sequentialminus": [
            [
             0,
             "#0d0887"
            ],
            [
             0.1111111111111111,
             "#46039f"
            ],
            [
             0.2222222222222222,
             "#7201a8"
            ],
            [
             0.3333333333333333,
             "#9c179e"
            ],
            [
             0.4444444444444444,
             "#bd3786"
            ],
            [
             0.5555555555555556,
             "#d8576b"
            ],
            [
             0.6666666666666666,
             "#ed7953"
            ],
            [
             0.7777777777777778,
             "#fb9f3a"
            ],
            [
             0.8888888888888888,
             "#fdca26"
            ],
            [
             1,
             "#f0f921"
            ]
           ]
          },
          "colorway": [
           "#636efa",
           "#EF553B",
           "#00cc96",
           "#ab63fa",
           "#FFA15A",
           "#19d3f3",
           "#FF6692",
           "#B6E880",
           "#FF97FF",
           "#FECB52"
          ],
          "font": {
           "color": "#2a3f5f"
          },
          "geo": {
           "bgcolor": "white",
           "lakecolor": "white",
           "landcolor": "#E5ECF6",
           "showlakes": true,
           "showland": true,
           "subunitcolor": "white"
          },
          "hoverlabel": {
           "align": "left"
          },
          "hovermode": "closest",
          "mapbox": {
           "style": "light"
          },
          "paper_bgcolor": "white",
          "plot_bgcolor": "#E5ECF6",
          "polar": {
           "angularaxis": {
            "gridcolor": "white",
            "linecolor": "white",
            "ticks": ""
           },
           "bgcolor": "#E5ECF6",
           "radialaxis": {
            "gridcolor": "white",
            "linecolor": "white",
            "ticks": ""
           }
          },
          "scene": {
           "xaxis": {
            "backgroundcolor": "#E5ECF6",
            "gridcolor": "white",
            "gridwidth": 2,
            "linecolor": "white",
            "showbackground": true,
            "ticks": "",
            "zerolinecolor": "white"
           },
           "yaxis": {
            "backgroundcolor": "#E5ECF6",
            "gridcolor": "white",
            "gridwidth": 2,
            "linecolor": "white",
            "showbackground": true,
            "ticks": "",
            "zerolinecolor": "white"
           },
           "zaxis": {
            "backgroundcolor": "#E5ECF6",
            "gridcolor": "white",
            "gridwidth": 2,
            "linecolor": "white",
            "showbackground": true,
            "ticks": "",
            "zerolinecolor": "white"
           }
          },
          "shapedefaults": {
           "line": {
            "color": "#2a3f5f"
           }
          },
          "ternary": {
           "aaxis": {
            "gridcolor": "white",
            "linecolor": "white",
            "ticks": ""
           },
           "baxis": {
            "gridcolor": "white",
            "linecolor": "white",
            "ticks": ""
           },
           "bgcolor": "#E5ECF6",
           "caxis": {
            "gridcolor": "white",
            "linecolor": "white",
            "ticks": ""
           }
          },
          "title": {
           "x": 0.05
          },
          "xaxis": {
           "automargin": true,
           "gridcolor": "white",
           "linecolor": "white",
           "ticks": "",
           "title": {
            "standoff": 15
           },
           "zerolinecolor": "white",
           "zerolinewidth": 2
          },
          "yaxis": {
           "automargin": true,
           "gridcolor": "white",
           "linecolor": "white",
           "ticks": "",
           "title": {
            "standoff": 15
           },
           "zerolinecolor": "white",
           "zerolinewidth": 2
          }
         }
        },
        "title": {
         "text": "Comparativo de valores empenhado e liquidado 2024T1"
        },
        "xaxis": {
         "autorange": true,
         "range": [
          -0.5,
          2.5
         ],
         "showgrid": true,
         "title": {
          "text": "Mês"
         },
         "type": "category"
        },
        "yaxis": {
         "autorange": true,
         "range": [
          0,
          27123863.90526316
         ],
         "showgrid": true,
         "title": {
          "text": "Valor"
         },
         "type": "linear"
        }
       }
      },
      "image/png": "[encoded data removed]",
      "text/html": [
       "<div>                            <div id=\"4e44cee2-1e15-47fd-bd36-b5063b75c239\" class=\"plotly-graph-div\" style=\"height:525px; width:100%;\"></div>            <script type=\"text/javascript\">                require([\"plotly\"], function(Plotly) {                    window.PLOTLYENV=window.PLOTLYENV || {};                                    if (document.getElementById(\"4e44cee2-1e15-47fd-bd36-b5063b75c239\")) {                    Plotly.newPlot(                        \"4e44cee2-1e15-47fd-bd36-b5063b75c239\",                        [{\"marker\":{\"color\":\"indianred\"},\"name\":\"Valor empenhado\",\"text\":[25767670.71,10222003.42,5379808.56],\"x\":[\"janeiro\",\"fevereiro\",\"mar\\u00e7o\"],\"y\":[25767670.71,10222003.42,5379808.56],\"type\":\"bar\"},{\"marker\":{\"color\":\"lightsalmon\"},\"name\":\"Valor Liquidado\",\"text\":[3287758.88,4849767.7,7670447.9],\"x\":[\"janeiro\",\"fevereiro\",\"mar\\u00e7o\"],\"y\":[3287758.88,4849767.7,7670447.9],\"type\":\"bar\"}],                        {\"template\":{\"data\":{\"histogram2dcontour\":[{\"type\":\"histogram2dcontour\",\"colorbar\":{\"outlinewidth\":0,\"ticks\":\"\"},\"colorscale\":[[0.0,\"#0d0887\"],[0.1111111111111111,\"#46039f\"],[0.2222222222222222,\"#7201a8\"],[0.3333333333333333,\"#9c179e\"],[0.4444444444444444,\"#bd3786\"],[0.5555555555555556,\"#d8576b\"],[0.6666666666666666,\"#ed7953\"],[0.7777777777777778,\"#fb9f3a\"],[0.8888888888888888,\"#fdca26\"],[1.0,\"#f0f921\"]]}],\"choropleth\":[{\"type\":\"choropleth\",\"colorbar\":{\"outlinewidth\":0,\"ticks\":\"\"}}],\"histogram2d\":[{\"type\":\"histogram2d\",\"colorbar\":{\"outlinewidth\":0,\"ticks\":\"\"},\"colorscale\":[[0.0,\"#0d0887\"],[0.1111111111111111,\"#46039f\"],[0.2222222222222222,\"#7201a8\"],[0.3333333333333333,\"#9c179e\"],[0.4444444444444444,\"#bd3786\"],[0.5555555555555556,\"#d8576b\"],[0.6666666666666666,\"#ed7953\"],[0.7777777777777778,\"#fb9f3a\"],[0.8888888888888888,\"#fdca26\"],[1.0,\"#f0f921\"]]}],\"heatmap\":[{\"type\":\"heatmap\",\"colorbar\":{\"outlinewidth\":0,\"ticks\":\"\"},\"colorscale\":[[0.0,\"#0d0887\"],[0.1111111111111111,\"#46039f\"],[0.2222222222222222,\"#7201a8\"],[0.3333333333333333,\"#9c179e\"],[0.4444444444444444,\"#bd3786\"],[0.5555555555555556,\"#d8576b\"],[0.6666666666666666,\"#ed7953\"],[0.7777777777777778,\"#fb9f3a\"],[0.8888888888888888,\"#fdca26\"],[1.0,\"#f0f921\"]]}],\"heatmapgl\":[{\"type\":\"heatmapgl\",\"colorbar\":{\"outlinewidth\":0,\"ticks\":\"\"},\"colorscale\":[[0.0,\"#0d0887\"],[0.1111111111111111,\"#46039f\"],[0.2222222222222222,\"#7201a8\"],[0.3333333333333333,\"#9c179e\"],[0.4444444444444444,\"#bd3786\"],[0.5555555555555556,\"#d8576b\"],[0.6666666666666666,\"#ed7953\"],[0.7777777777777778,\"#fb9f3a\"],[0.8888888888888888,\"#fdca26\"],[1.0,\"#f0f921\"]]}],\"contourcarpet\":[{\"type\":\"contourcarpet\",\"colorbar\":{\"outlinewidth\":0,\"ticks\":\"\"}}],\"contour\":[{\"type\":\"contour\",\"colorbar\":{\"outlinewidth\":0,\"ticks\":\"\"},\"colorscale\":[[0.0,\"#0d0887\"],[0.1111111111111111,\"#46039f\"],[0.2222222222222222,\"#7201a8\"],[0.3333333333333333,\"#9c179e\"],[0.4444444444444444,\"#bd3786\"],[0.5555555555555556,\"#d8576b\"],[0.6666666666666666,\"#ed7953\"],[0.7777777777777778,\"#fb9f3a\"],[0.8888888888888888,\"#fdca26\"],[1.0,\"#f0f921\"]]}],\"surface\":[{\"type\":\"surface\",\"colorbar\":{\"outlinewidth\":0,\"ticks\":\"\"},\"colorscale\":[[0.0,\"#0d0887\"],[0.1111111111111111,\"#46039f\"],[0.2222222222222222,\"#7201a8\"],[0.3333333333333333,\"#9c179e\"],[0.4444444444444444,\"#bd3786\"],[0.5555555555555556,\"#d8576b\"],[0.6666666666666666,\"#ed7953\"],[0.7777777777777778,\"#fb9f3a\"],[0.8888888888888888,\"#fdca26\"],[1.0,\"#f0f921\"]]}],\"mesh3d\":[{\"type\":\"mesh3d\",\"colorbar\":{\"outlinewidth\":0,\"ticks\":\"\"}}],\"scatter\":[{\"fillpattern\":{\"fillmode\":\"overlay\",\"size\":10,\"solidity\":0.2},\"type\":\"scatter\"}],\"parcoords\":[{\"type\":\"parcoords\",\"line\":{\"colorbar\":{\"outlinewidth\":0,\"ticks\":\"\"}}}],\"scatterpolargl\":[{\"type\":\"scatterpolargl\",\"marker\":{\"colorbar\":{\"outlinewidth\":0,\"ticks\":\"\"}}}],\"bar\":[{\"error_x\":{\"color\":\"#2a3f5f\"},\"error_y\":{\"color\":\"#2a3f5f\"},\"marker\":{\"line\":{\"color\":\"#E5ECF6\",\"width\":0.5},\"pattern\":{\"fillmode\":\"overlay\",\"size\":10,\"solidity\":0.2}},\"type\":\"bar\"}],\"scattergeo\":[{\"type\":\"scattergeo\",\"marker\":{\"colorbar\":{\"outlinewidth\":0,\"ticks\":\"\"}}}],\"scatterpolar\":[{\"type\":\"scatterpolar\",\"marker\":{\"colorbar\":{\"outlinewidth\":0,\"ticks\":\"\"}}}],\"histogram\":[{\"marker\":{\"pattern\":{\"fillmode\":\"overlay\",\"size\":10,\"solidity\":0.2}},\"type\":\"histogram\"}],\"scattergl\":[{\"type\":\"scattergl\",\"marker\":{\"colorbar\":{\"outlinewidth\":0,\"ticks\":\"\"}}}],\"scatter3d\":[{\"type\":\"scatter3d\",\"line\":{\"colorbar\":{\"outlinewidth\":0,\"ticks\":\"\"}},\"marker\":{\"colorbar\":{\"outlinewidth\":0,\"ticks\":\"\"}}}],\"scattermapbox\":[{\"type\":\"scattermapbox\",\"marker\":{\"colorbar\":{\"outlinewidth\":0,\"ticks\":\"\"}}}],\"scatterternary\":[{\"type\":\"scatterternary\",\"marker\":{\"colorbar\":{\"outlinewidth\":0,\"ticks\":\"\"}}}],\"scattercarpet\":[{\"type\":\"scattercarpet\",\"marker\":{\"colorbar\":{\"outlinewidth\":0,\"ticks\":\"\"}}}],\"carpet\":[{\"aaxis\":{\"endlinecolor\":\"#2a3f5f\",\"gridcolor\":\"white\",\"linecolor\":\"white\",\"minorgridcolor\":\"white\",\"startlinecolor\":\"#2a3f5f\"},\"baxis\":{\"endlinecolor\":\"#2a3f5f\",\"gridcolor\":\"white\",\"linecolor\":\"white\",\"minorgridcolor\":\"white\",\"startlinecolor\":\"#2a3f5f\"},\"type\":\"carpet\"}],\"table\":[{\"cells\":{\"fill\":{\"color\":\"#EBF0F8\"},\"line\":{\"color\":\"white\"}},\"header\":{\"fill\":{\"color\":\"#C8D4E3\"},\"line\":{\"color\":\"white\"}},\"type\":\"table\"}],\"barpolar\":[{\"marker\":{\"line\":{\"color\":\"#E5ECF6\",\"width\":0.5},\"pattern\":{\"fillmode\":\"overlay\",\"size\":10,\"solidity\":0.2}},\"type\":\"barpolar\"}],\"pie\":[{\"automargin\":true,\"type\":\"pie\"}]},\"layout\":{\"autotypenumbers\":\"strict\",\"colorway\":[\"#636efa\",\"#EF553B\",\"#00cc96\",\"#ab63fa\",\"#FFA15A\",\"#19d3f3\",\"#FF6692\",\"#B6E880\",\"#FF97FF\",\"#FECB52\"],\"font\":{\"color\":\"#2a3f5f\"},\"hovermode\":\"closest\",\"hoverlabel\":{\"align\":\"left\"},\"paper_bgcolor\":\"white\",\"plot_bgcolor\":\"#E5ECF6\",\"polar\":{\"bgcolor\":\"#E5ECF6\",\"angularaxis\":{\"gridcolor\":\"white\",\"linecolor\":\"white\",\"ticks\":\"\"},\"radialaxis\":{\"gridcolor\":\"white\",\"linecolor\":\"white\",\"ticks\":\"\"}},\"ternary\":{\"bgcolor\":\"#E5ECF6\",\"aaxis\":{\"gridcolor\":\"white\",\"linecolor\":\"white\",\"ticks\":\"\"},\"baxis\":{\"gridcolor\":\"white\",\"linecolor\":\"white\",\"ticks\":\"\"},\"caxis\":{\"gridcolor\":\"white\",\"linecolor\":\"white\",\"ticks\":\"\"}},\"coloraxis\":{\"colorbar\":{\"outlinewidth\":0,\"ticks\":\"\"}},\"colorscale\":{\"sequential\":[[0.0,\"#0d0887\"],[0.1111111111111111,\"#46039f\"],[0.2222222222222222,\"#7201a8\"],[0.3333333333333333,\"#9c179e\"],[0.4444444444444444,\"#bd3786\"],[0.5555555555555556,\"#d8576b\"],[0.6666666666666666,\"#ed7953\"],[0.7777777777777778,\"#fb9f3a\"],[0.8888888888888888,\"#fdca26\"],[1.0,\"#f0f921\"]],\"sequentialminus\":[[0.0,\"#0d0887\"],[0.1111111111111111,\"#46039f\"],[0.2222222222222222,\"#7201a8\"],[0.3333333333333333,\"#9c179e\"],[0.4444444444444444,\"#bd3786\"],[0.5555555555555556,\"#d8576b\"],[0.6666666666666666,\"#ed7953\"],[0.7777777777777778,\"#fb9f3a\"],[0.8888888888888888,\"#fdca26\"],[1.0,\"#f0f921\"]],\"diverging\":[[0,\"#8e0152\"],[0.1,\"#c51b7d\"],[0.2,\"#de77ae\"],[0.3,\"#f1b6da\"],[0.4,\"#fde0ef\"],[0.5,\"#f7f7f7\"],[0.6,\"#e6f5d0\"],[0.7,\"#b8e186\"],[0.8,\"#7fbc41\"],[0.9,\"#4d9221\"],[1,\"#276419\"]]},\"xaxis\":{\"gridcolor\":\"white\",\"linecolor\":\"white\",\"ticks\":\"\",\"title\":{\"standoff\":15},\"zerolinecolor\":\"white\",\"automargin\":true,\"zerolinewidth\":2},\"yaxis\":{\"gridcolor\":\"white\",\"linecolor\":\"white\",\"ticks\":\"\",\"title\":{\"standoff\":15},\"zerolinecolor\":\"white\",\"automargin\":true,\"zerolinewidth\":2},\"scene\":{\"xaxis\":{\"backgroundcolor\":\"#E5ECF6\",\"gridcolor\":\"white\",\"linecolor\":\"white\",\"showbackground\":true,\"ticks\":\"\",\"zerolinecolor\":\"white\",\"gridwidth\":2},\"yaxis\":{\"backgroundcolor\":\"#E5ECF6\",\"gridcolor\":\"white\",\"linecolor\":\"white\",\"showbackground\":true,\"ticks\":\"\",\"zerolinecolor\":\"white\",\"gridwidth\":2},\"zaxis\":{\"backgroundcolor\":\"#E5ECF6\",\"gridcolor\":\"white\",\"linecolor\":\"white\",\"showbackground\":true,\"ticks\":\"\",\"zerolinecolor\":\"white\",\"gridwidth\":2}},\"shapedefaults\":{\"line\":{\"color\":\"#2a3f5f\"}},\"annotationdefaults\":{\"arrowcolor\":\"#2a3f5f\",\"arrowhead\":0,\"arrowwidth\":1},\"geo\":{\"bgcolor\":\"white\",\"landcolor\":\"#E5ECF6\",\"subunitcolor\":\"white\",\"showland\":true,\"showlakes\":true,\"lakecolor\":\"white\"},\"title\":{\"x\":0.05},\"mapbox\":{\"style\":\"light\"}}},\"xaxis\":{\"title\":{\"text\":\"M\\u00eas\"},\"showgrid\":true},\"yaxis\":{\"title\":{\"text\":\"Valor\"},\"showgrid\":true},\"title\":{\"text\":\"Comparativo de valores empenhado e liquidado 2024T1\"},\"bargap\":0.2,\"barmode\":\"group\"},                        {\"responsive\": true}                    ).then(function(){\n",
       "                            \n",
       "var gd = document.getElementById('4e44cee2-1e15-47fd-bd36-b5063b75c239');\n",
       "var x = new MutationObserver(function (mutations, observer) {{\n",
       "        var display = window.getComputedStyle(gd).display;\n",
       "        if (!display || display === 'none') {{\n",
       "            console.log([gd, 'removed!']);\n",
       "            Plotly.purge(gd);\n",
       "            observer.disconnect();\n",
       "        }}\n",
       "}});\n",
       "\n",
       "// Listen for the removal of the full notebook cells\n",
       "var notebookContainer = gd.closest('#notebook-container');\n",
       "if (notebookContainer) {{\n",
       "    x.observe(notebookContainer, {childList: true});\n",
       "}}\n",
       "\n",
       "// Listen for the clearing of the current output cell\n",
       "var outputEl = gd.closest('.output');\n",
       "if (outputEl) {{\n",
       "    x.observe(outputEl, {childList: true});\n",
       "}}\n",
       "\n",
       "                        })                };                });            </script>        </div>"
      ]
     },
     "metadata": {},
     "output_type": "display_data"
    }
   ],
   "source": [
    "\n",
    "\n",
    "fig = go.Figure()\n",
    "fig.add_trace(go.Bar(\n",
    "    x=dados_agrupados_meses['mes'],\n",
    "    y=dados_agrupados_meses['valor_empenhado'],\n",
    "    name='Valor empenhado',\n",
    "    marker_color='indianred',   \n",
    "    text=dados_agrupados_meses['valor_empenhado']\n",
    "))\n",
    "fig.add_trace(go.Bar(\n",
    "    x=dados_agrupados_meses['mes'],\n",
    "    y=dados_agrupados_meses['valor_liquidado'],\n",
    "    name='Valor Liquidado',\n",
    "    marker_color='lightsalmon',\n",
    "    text=dados_agrupados_meses['valor_liquidado']\n",
    "))\n",
    "\n",
    "# Here we modify the tickangle of the xaxis, resulting in rotated labels.\n",
    "#fig.update_layout(barmode='group', xaxis_tickangle=0)\n",
    "\n",
    "fig.update_layout(title=\"Comparativo de valores empenhado e liquidado 2024T1\",\n",
    "                  xaxis_title=\"Mês\",\n",
    "                  yaxis_title=\"Valor\",\n",
    "                  bargap=0.2,\n",
    "                  barmode='group',\n",
    "                  xaxis_showgrid=True,\n",
    "                  yaxis_showgrid=True\n",
    "                  )\n",
    "\n",
    "fig.show()"
   ]
  }
 ],
 "metadata": {
  "kernelspec": {
   "display_name": "Python 3 (ipykernel)",
   "language": "python",
   "name": "python3"
  },
  "language_info": {
   "codemirror_mode": {
    "name": "ipython",
    "version": 3
   },
   "file_extension": ".py",
   "mimetype": "text/x-python",
   "name": "python",
   "nbconvert_exporter": "python",
   "pygments_lexer": "ipython3",
   "version": "3.12.2"
  }
 },
 "nbformat": 4,
 "nbformat_minor": 5
}
