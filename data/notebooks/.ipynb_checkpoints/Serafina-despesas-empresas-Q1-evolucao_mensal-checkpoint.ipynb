{
 "cells": [
  {
   "cell_type": "markdown",
   "id": "2a610f2e-bff5-44f3-b897-2d18d8702dcb",
   "metadata": {},
   "source": [
    "# Analisando as despesas por fornecedor do mes de Fevereiro de 2024\n",
    "\n",
    "Fonte: https://sistemas.serafinacorrea.rs.gov.br/transparencia/?AcessoIndividual=lnkDespesasPor_Fornecedor\n"
   ]
  },
  {
   "cell_type": "code",
   "execution_count": 60,
   "id": "ab6a5c76-0375-4fda-a74a-127a7d503b48",
   "metadata": {},
   "outputs": [],
   "source": [
    "import pandas as pd\n",
    "import time\n",
    "import requests\n",
    "import re\n",
    "import folium\n",
    "import math\n",
    "import plotly.graph_objects as go"
   ]
  },
  {
   "cell_type": "code",
   "execution_count": 16,
   "id": "04ad8922-f48e-4e39-81b5-6b077d303fd3",
   "metadata": {},
   "outputs": [
    {
     "name": "stdout",
     "output_type": "stream",
     "text": [
      "WARNING *** file size (100607) not 512 + multiple of sector size (512)\n",
      "WARNING *** file size (113037) not 512 + multiple of sector size (512)\n",
      "WARNING *** file size (124997) not 512 + multiple of sector size (512)\n"
     ]
    }
   ],
   "source": [
    "# Carregar o arquivo CSV em um DataFrame\n",
    "\n",
    "df_jan = pd.read_excel('despesas_fornecedor_jan.xls')\n",
    "df_fev = pd.read_excel('despesas_fornecedor_fev.xls')\n",
    "df_mar = pd.read_excel('despesas_fornecedor_mar.xls')"
   ]
  },
  {
   "cell_type": "code",
   "execution_count": 17,
   "id": "4c5bc7c4-a65e-49e8-a515-897606d4bef4",
   "metadata": {},
   "outputs": [
    {
     "data": {
      "text/html": [
       "<div>\n",
       "<style scoped>\n",
       "    .dataframe tbody tr th:only-of-type {\n",
       "        vertical-align: middle;\n",
       "    }\n",
       "\n",
       "    .dataframe tbody tr th {\n",
       "        vertical-align: top;\n",
       "    }\n",
       "\n",
       "    .dataframe thead th {\n",
       "        text-align: right;\n",
       "    }\n",
       "</style>\n",
       "<table border=\"1\" class=\"dataframe\">\n",
       "  <thead>\n",
       "    <tr style=\"text-align: right;\">\n",
       "      <th></th>\n",
       "      <th>Código</th>\n",
       "      <th>CNPJ/CPF</th>\n",
       "      <th>Descrição</th>\n",
       "      <th>Município</th>\n",
       "      <th>Valor Empenhado</th>\n",
       "      <th>Valor Liquidado</th>\n",
       "      <th>Valor Pago</th>\n",
       "    </tr>\n",
       "  </thead>\n",
       "  <tbody>\n",
       "    <tr>\n",
       "      <th>0</th>\n",
       "      <td>359277.0</td>\n",
       "      <td>29.043.834/0001-66</td>\n",
       "      <td>3MED DISTRIBUIDORA DE MEDICAMENTOS LTDA.</td>\n",
       "      <td>Erechim</td>\n",
       "      <td>5507.88</td>\n",
       "      <td>0</td>\n",
       "      <td>0</td>\n",
       "    </tr>\n",
       "  </tbody>\n",
       "</table>\n",
       "</div>"
      ],
      "text/plain": [
       "     Código            CNPJ/CPF                                 Descrição  \\\n",
       "0  359277.0  29.043.834/0001-66  3MED DISTRIBUIDORA DE MEDICAMENTOS LTDA.   \n",
       "\n",
       "  Município Valor Empenhado Valor Liquidado Valor Pago  \n",
       "0   Erechim         5507.88               0          0  "
      ]
     },
     "execution_count": 17,
     "metadata": {},
     "output_type": "execute_result"
    }
   ],
   "source": [
    "df_jan.head(1)\n"
   ]
  },
  {
   "cell_type": "code",
   "execution_count": 18,
   "id": "5bc81ec5-ec52-432a-99bf-4279f4e4befc",
   "metadata": {},
   "outputs": [
    {
     "data": {
      "text/html": [
       "<div>\n",
       "<style scoped>\n",
       "    .dataframe tbody tr th:only-of-type {\n",
       "        vertical-align: middle;\n",
       "    }\n",
       "\n",
       "    .dataframe tbody tr th {\n",
       "        vertical-align: top;\n",
       "    }\n",
       "\n",
       "    .dataframe thead th {\n",
       "        text-align: right;\n",
       "    }\n",
       "</style>\n",
       "<table border=\"1\" class=\"dataframe\">\n",
       "  <thead>\n",
       "    <tr style=\"text-align: right;\">\n",
       "      <th></th>\n",
       "      <th>Código</th>\n",
       "      <th>CNPJ/CPF</th>\n",
       "      <th>Descrição</th>\n",
       "      <th>Município</th>\n",
       "      <th>Valor Empenhado</th>\n",
       "      <th>Valor Liquidado</th>\n",
       "      <th>Valor Pago</th>\n",
       "    </tr>\n",
       "  </thead>\n",
       "  <tbody>\n",
       "    <tr>\n",
       "      <th>0</th>\n",
       "      <td>359277.0</td>\n",
       "      <td>29.043.834/0001-66</td>\n",
       "      <td>3MED DISTRIBUIDORA DE MEDICAMENTOS LTDA.</td>\n",
       "      <td>Erechim</td>\n",
       "      <td>-67</td>\n",
       "      <td>5440.88</td>\n",
       "      <td>5440.88</td>\n",
       "    </tr>\n",
       "  </tbody>\n",
       "</table>\n",
       "</div>"
      ],
      "text/plain": [
       "     Código            CNPJ/CPF                                 Descrição  \\\n",
       "0  359277.0  29.043.834/0001-66  3MED DISTRIBUIDORA DE MEDICAMENTOS LTDA.   \n",
       "\n",
       "  Município Valor Empenhado Valor Liquidado Valor Pago  \n",
       "0   Erechim             -67         5440.88    5440.88  "
      ]
     },
     "execution_count": 18,
     "metadata": {},
     "output_type": "execute_result"
    }
   ],
   "source": [
    "df_fev.head(1)"
   ]
  },
  {
   "cell_type": "code",
   "execution_count": 19,
   "id": "ad25cf0f-006c-40ec-b414-600dbb12a242",
   "metadata": {},
   "outputs": [
    {
     "data": {
      "text/html": [
       "<div>\n",
       "<style scoped>\n",
       "    .dataframe tbody tr th:only-of-type {\n",
       "        vertical-align: middle;\n",
       "    }\n",
       "\n",
       "    .dataframe tbody tr th {\n",
       "        vertical-align: top;\n",
       "    }\n",
       "\n",
       "    .dataframe thead th {\n",
       "        text-align: right;\n",
       "    }\n",
       "</style>\n",
       "<table border=\"1\" class=\"dataframe\">\n",
       "  <thead>\n",
       "    <tr style=\"text-align: right;\">\n",
       "      <th></th>\n",
       "      <th>Código</th>\n",
       "      <th>CNPJ/CPF</th>\n",
       "      <th>Descrição</th>\n",
       "      <th>Município</th>\n",
       "      <th>Valor Empenhado</th>\n",
       "      <th>Valor Liquidado</th>\n",
       "      <th>Valor Pago</th>\n",
       "    </tr>\n",
       "  </thead>\n",
       "  <tbody>\n",
       "    <tr>\n",
       "      <th>0</th>\n",
       "      <td>359277.0</td>\n",
       "      <td>29.043.834/0001-66</td>\n",
       "      <td>3MED DISTRIBUIDORA DE MEDICAMENTOS LTDA.</td>\n",
       "      <td>Erechim</td>\n",
       "      <td>7250.76</td>\n",
       "      <td>0</td>\n",
       "      <td>0</td>\n",
       "    </tr>\n",
       "  </tbody>\n",
       "</table>\n",
       "</div>"
      ],
      "text/plain": [
       "     Código            CNPJ/CPF                                 Descrição  \\\n",
       "0  359277.0  29.043.834/0001-66  3MED DISTRIBUIDORA DE MEDICAMENTOS LTDA.   \n",
       "\n",
       "  Município Valor Empenhado Valor Liquidado Valor Pago  \n",
       "0   Erechim         7250.76               0          0  "
      ]
     },
     "execution_count": 19,
     "metadata": {},
     "output_type": "execute_result"
    }
   ],
   "source": [
    "df_mar.head(1)"
   ]
  },
  {
   "cell_type": "code",
   "execution_count": 20,
   "id": "72e2844b-a23b-420d-8a27-891f24d6a711",
   "metadata": {},
   "outputs": [
    {
     "name": "stdout",
     "output_type": "stream",
     "text": [
      "<class 'pandas.core.frame.DataFrame'>\n",
      "RangeIndex: 359 entries, 0 to 358\n",
      "Data columns (total 7 columns):\n",
      " #   Column           Non-Null Count  Dtype  \n",
      "---  ------           --------------  -----  \n",
      " 0   Código           358 non-null    float64\n",
      " 1   CNPJ/CPF         355 non-null    object \n",
      " 2   Descrição        358 non-null    object \n",
      " 3   Município        358 non-null    object \n",
      " 4   Valor Empenhado  359 non-null    object \n",
      " 5   Valor Liquidado  359 non-null    object \n",
      " 6   Valor Pago       359 non-null    object \n",
      "dtypes: float64(1), object(6)\n",
      "memory usage: 19.8+ KB\n"
     ]
    }
   ],
   "source": [
    "df_jan.info()"
   ]
  },
  {
   "cell_type": "code",
   "execution_count": 21,
   "id": "b808a18d-ccfc-4333-b724-739a8d631769",
   "metadata": {},
   "outputs": [],
   "source": [
    "# remove despesas sem código\n",
    "df_jan = df_jan[~df_jan['Código'].isna()]\n",
    "df_fev = df_fev[~df_fev['Código'].isna()]\n",
    "df_mar = df_mar[~df_mar['Código'].isna()]"
   ]
  },
  {
   "cell_type": "code",
   "execution_count": 22,
   "id": "6abfbb63-b9f6-4577-97e6-aee0dbcb4cbb",
   "metadata": {},
   "outputs": [],
   "source": [
    "# remover as despesas sem CNPJ/CPF\n",
    "df_jan = df_jan[~df_jan['CNPJ/CPF'].isna()]\n",
    "df_fev = df_fev[~df_fev['CNPJ/CPF'].isna()]\n",
    "df_mar = df_mar[~df_mar['CNPJ/CPF'].isna()]"
   ]
  },
  {
   "cell_type": "code",
   "execution_count": 23,
   "id": "7792a493-eced-432d-badd-45ab5c66b76a",
   "metadata": {},
   "outputs": [],
   "source": [
    "#cria novas colunas de valores no formato numérico\n",
    "df_jan['valor_empenhado'] = pd.to_numeric(df_jan['Valor Empenhado'])\n",
    "df_fev['valor_empenhado'] = pd.to_numeric(df_fev['Valor Empenhado'])\n",
    "df_mar['valor_empenhado'] = pd.to_numeric(df_mar['Valor Empenhado'])\n",
    "\n",
    "df_jan['valor_liquidado'] = pd.to_numeric(df_jan['Valor Liquidado'])\n",
    "df_fev['valor_liquidado'] = pd.to_numeric(df_fev['Valor Liquidado'])\n",
    "df_mar['valor_liquidado'] = pd.to_numeric(df_mar['Valor Liquidado'])\n",
    "\n",
    "df_jan['valor_pago'] = pd.to_numeric(df_jan['Valor Pago'])\n",
    "df_fev['valor_pago'] = pd.to_numeric(df_fev['Valor Pago'])\n",
    "df_mar['valor_pago'] = pd.to_numeric(df_mar['Valor Pago'])"
   ]
  },
  {
   "cell_type": "code",
   "execution_count": 24,
   "id": "03355710-7c18-475d-84f9-b0f0671d50dc",
   "metadata": {},
   "outputs": [
    {
     "name": "stdout",
     "output_type": "stream",
     "text": [
      "<class 'pandas.core.frame.DataFrame'>\n",
      "Index: 355 entries, 0 to 357\n",
      "Data columns (total 10 columns):\n",
      " #   Column           Non-Null Count  Dtype  \n",
      "---  ------           --------------  -----  \n",
      " 0   Código           355 non-null    float64\n",
      " 1   CNPJ/CPF         355 non-null    object \n",
      " 2   Descrição        355 non-null    object \n",
      " 3   Município        355 non-null    object \n",
      " 4   Valor Empenhado  355 non-null    object \n",
      " 5   Valor Liquidado  355 non-null    object \n",
      " 6   Valor Pago       355 non-null    object \n",
      " 7   valor_empenhado  355 non-null    float64\n",
      " 8   valor_liquidado  355 non-null    float64\n",
      " 9   valor_pago       355 non-null    float64\n",
      "dtypes: float64(4), object(6)\n",
      "memory usage: 30.5+ KB\n"
     ]
    }
   ],
   "source": [
    "df_jan.info()"
   ]
  },
  {
   "cell_type": "code",
   "execution_count": 26,
   "id": "417e0b3f-85a3-4453-9321-168b66845c11",
   "metadata": {},
   "outputs": [],
   "source": [
    "# Cria a coluna cnpj e copia o valor de CNPJ/CPF removendo os caracteres especiais\n",
    "\n",
    "df_jan['cnpj'] = df_jan['CNPJ/CPF'].apply(lambda x: re.sub('[^0-9]', '', x))\n",
    "df_fev['cnpj'] = df_fev['CNPJ/CPF'].apply(lambda x: re.sub('[^0-9]', '', x))\n",
    "df_mar['cnpj'] = df_mar['CNPJ/CPF'].apply(lambda x: re.sub('[^0-9]', '', x))"
   ]
  },
  {
   "cell_type": "code",
   "execution_count": 28,
   "id": "452b528f-5778-430c-a920-9f4022b01391",
   "metadata": {},
   "outputs": [],
   "source": [
    "#Limpa as colunas não usadas nos dataframes\n",
    "\n",
    "df_jan = df_jan[['Código', 'Descrição', 'CNPJ/CPF', 'valor_empenhado', 'valor_liquidado', 'valor_pago', 'cnpj']]\n",
    "df_fev = df_fev[['Código', 'Descrição', 'CNPJ/CPF', 'valor_empenhado', 'valor_liquidado', 'valor_pago', 'cnpj']]\n",
    "df_mar = df_mar[['Código', 'Descrição', 'CNPJ/CPF', 'valor_empenhado', 'valor_liquidado', 'valor_pago', 'cnpj']]"
   ]
  },
  {
   "cell_type": "code",
   "execution_count": 29,
   "id": "e4cccc51-cdb5-4ae3-959f-3e66e98b02a2",
   "metadata": {},
   "outputs": [],
   "source": [
    "#cria uma coluna com o mes informado de cada dataframe\n",
    "\n",
    "df_jan = df_jan.assign(mes = 'janeiro')\n",
    "df_fev = df_fev.assign(mes = 'fevereiro')\n",
    "df_mar = df_mar.assign(mes = 'março')\n",
    "\n",
    "df_jan = df_jan.assign(mes_int = 1)\n",
    "df_fev = df_fev.assign(mes_int = 2)\n",
    "df_mar = df_mar.assign(mes_int = 3)"
   ]
  },
  {
   "cell_type": "markdown",
   "id": "6e5afe58-75cb-4344-a777-b3077793db98",
   "metadata": {},
   "source": [
    "## Criando o dataframe com todos os dados do trimestre\n",
    "\n",
    "Na célula a seguir, eu concateno os dataframes dos meses para trabalhar apenas com um a partir de agora.\n",
    "Foi nessário criar os três anteriormente pq o portal da transparencia não exporta coluna de data no arquivo."
   ]
  },
  {
   "cell_type": "code",
   "execution_count": 30,
   "id": "e772f6cb-43b9-4ebc-999e-099b4841ea37",
   "metadata": {},
   "outputs": [],
   "source": [
    "df_trimestre = pd.concat([df_jan, df_fev, df_mar], ignore_index=True)"
   ]
  },
  {
   "cell_type": "code",
   "execution_count": 31,
   "id": "de87283a-c158-4af9-8863-715a123a977a",
   "metadata": {},
   "outputs": [
    {
     "data": {
      "text/plain": [
       "array(['janeiro', 'fevereiro', 'março'], dtype=object)"
      ]
     },
     "execution_count": 31,
     "metadata": {},
     "output_type": "execute_result"
    }
   ],
   "source": [
    "df_trimestre.mes.unique()"
   ]
  },
  {
   "cell_type": "markdown",
   "id": "d63c1509-bdf7-47ce-b76c-9c764f770577",
   "metadata": {},
   "source": [
    "## Tratamento para mostrar os dados levantados em um mapa interativo\n",
    "\n",
    "Para plotar o mapa, preciso do municipio e uf, porém, existem municípios com o mesmo nome quando se tira o acento, exemplo:\n",
    "\n",
    "Marau/RS\n",
    "Maraú/BA\n",
    "\n",
    "Para garantir que a marcação seja feita nas coordenadas corretas, preciso buscar a UF em algum lugar. \n",
    "\n",
    "Encontrei a api https://publica.cnpj.ws/cnpj/{cnpj-sem-mascara} que retorna diversos dados, inclusive o endereço que eu preciso.\n",
    "\n",
    "Solução: criar a coluna uf no df e popular com os dados encontrados na api"
   ]
  },
  {
   "cell_type": "markdown",
   "id": "024a8356-8d4e-4f9f-b3d0-6448f89c7de4",
   "metadata": {},
   "source": [
    "a api bem legal não deixa eu fazer mais que três requisições por minuto =/"
   ]
  },
  {
   "cell_type": "code",
   "execution_count": 32,
   "id": "381dda01-1079-4cb3-ac2b-dd02d3c97e48",
   "metadata": {},
   "outputs": [],
   "source": [
    "#para cada linha do dataframe eu quero fazer uma requisição à uma api para buscar a uf passando a coluna cnpj como parametro na requisicao\n",
    "\n",
    "#aqui, crio a funcao para fazer o get na api\n",
    "\n",
    "def get_uf_from_cnpj(cnpj):    \n",
    "    cnpj= re.sub('[^0-9]', '', cnpj) # 123\n",
    "    url = f\"https://publica.cnpj.ws/cnpj/{cnpj}\"\n",
    "    response = requests.get(url)\n",
    "    if response.status_code == 200:\n",
    "        data = response.json()\n",
    "        empresa =  {\n",
    "                        'cnpj': data['estabelecimento']['cnpj'],\n",
    "                        'razao_social': data['razao_social'],\n",
    "                        'uf': data['estabelecimento']['estado']['sigla'],\n",
    "                        'cidade': data['estabelecimento']['cidade']['nome'],\n",
    "                        'cidade_ibge_id': data['estabelecimento']['cidade']['ibge_id']\n",
    "                }\n",
    "        print(empresa['cnpj'], empresa['razao_social'], empresa['cidade'])\n",
    "        return empresa\n",
    "    else:\n",
    "        return None"
   ]
  },
  {
   "cell_type": "code",
   "execution_count": 33,
   "id": "2ba65bf9-b029-4b3d-9501-fcc9f45a1b7d",
   "metadata": {},
   "outputs": [
    {
     "name": "stdout",
     "output_type": "stream",
     "text": [
      "Total de linhas antigas: 450\n"
     ]
    }
   ],
   "source": [
    "#carregando os cnpjs que eu teinho na manga\n",
    "cnpjs_df = pd.read_csv('empresas.csv', dtype={'cnpj': str})\n",
    "\n",
    "print(f\"Total de linhas antigas: {cnpjs_df.shape[0]}\")"
   ]
  },
  {
   "cell_type": "code",
   "execution_count": 34,
   "id": "3c7db06e-bfac-4bbd-afcc-a716dae1d84d",
   "metadata": {},
   "outputs": [
    {
     "name": "stdout",
     "output_type": "stream",
     "text": [
      "Total de linhas a buscar: 81\n"
     ]
    }
   ],
   "source": [
    "# aqui, busco só os novos na api\n",
    "cnpj_novos = df_trimestre[~df_trimestre['cnpj'].isin(cnpjs_df['cnpj'])]['cnpj'].unique() \n",
    "print(f\"Total de linhas a buscar: {cnpj_novos.shape[0]}\")        "
   ]
  },
  {
   "cell_type": "code",
   "execution_count": 35,
   "id": "bc923c14-1e51-4a6b-ac18-72926f40b5c2",
   "metadata": {},
   "outputs": [],
   "source": [
    "#antes de buscar, eu verifico o tamanho para garantir que seja cnpj. existem cpfs na base, que não quero agora \n",
    "\n",
    "cnpjs = []\n",
    "for i in cnpj_novos:\n",
    "    if len(i) == 14:\n",
    "         cnpjs.append(get_uf_from_cnpj(i))\n",
    "         time.sleep(21)\n",
    "    #else:\n",
    "        #print(i)"
   ]
  },
  {
   "cell_type": "code",
   "execution_count": 36,
   "id": "4e921d37-756a-4969-9fe7-20324ed0ca37",
   "metadata": {},
   "outputs": [
    {
     "name": "stdout",
     "output_type": "stream",
     "text": [
      "Total de linhas novas: 0\n"
     ]
    }
   ],
   "source": [
    "# criar um dataframe \n",
    "cnpjs_novos_df = pd.DataFrame(cnpjs)\n",
    "print(f\"Total de linhas novas: {cnpjs_novos_df.shape[0]}\")"
   ]
  },
  {
   "cell_type": "code",
   "execution_count": 37,
   "id": "6936c6cf-5217-4320-b3c9-5d86f105f610",
   "metadata": {},
   "outputs": [],
   "source": [
    "# unindo os dataframes de cnpjs que eu já tinha com os novos\n",
    "cnpjs_df_atualizado = cnpjs_df\n",
    "if cnpjs_novos_df.shape[0] > 0:\n",
    "    cnpjs_df_atualizado = pd.concat([cnpjs_df, cnpjs_novos_df], ignore_index=True)"
   ]
  },
  {
   "cell_type": "code",
   "execution_count": 38,
   "id": "d0a51b18-f97a-4c6f-bd20-b5e045d6569a",
   "metadata": {},
   "outputs": [
    {
     "name": "stdout",
     "output_type": "stream",
     "text": [
      "Total de linhas atualizado: 450\n"
     ]
    }
   ],
   "source": [
    "print(f\"Total de linhas atualizado: {cnpjs_df_atualizado.shape[0]}\")"
   ]
  },
  {
   "cell_type": "code",
   "execution_count": 43,
   "id": "6ea61e4a-aa2d-4bfa-b782-0b82c08f69b5",
   "metadata": {},
   "outputs": [],
   "source": [
    "cnpjs_df_atualizado.to_csv('empresas.csv')"
   ]
  },
  {
   "cell_type": "code",
   "execution_count": 44,
   "id": "f67ac742-8af7-4679-a3ff-9c142eaa53ce",
   "metadata": {
    "scrolled": true
   },
   "outputs": [],
   "source": [
    "cnpjs_nao_encontrados = df_trimestre[~df_trimestre['cnpj'].isin(cnpjs_df['cnpj'])]"
   ]
  },
  {
   "cell_type": "code",
   "execution_count": 45,
   "id": "fd867f2b-d0e5-46d2-b8d5-29fd80a8768d",
   "metadata": {},
   "outputs": [
    {
     "data": {
      "text/html": [
       "<div>\n",
       "<style scoped>\n",
       "    .dataframe tbody tr th:only-of-type {\n",
       "        vertical-align: middle;\n",
       "    }\n",
       "\n",
       "    .dataframe tbody tr th {\n",
       "        vertical-align: top;\n",
       "    }\n",
       "\n",
       "    .dataframe thead th {\n",
       "        text-align: right;\n",
       "    }\n",
       "</style>\n",
       "<table border=\"1\" class=\"dataframe\">\n",
       "  <thead>\n",
       "    <tr style=\"text-align: right;\">\n",
       "      <th></th>\n",
       "      <th>CNPJ/CPF</th>\n",
       "    </tr>\n",
       "  </thead>\n",
       "  <tbody>\n",
       "    <tr>\n",
       "      <th>13</th>\n",
       "      <td>008.XXX.130-03</td>\n",
       "    </tr>\n",
       "    <tr>\n",
       "      <th>15</th>\n",
       "      <td>753.XXX.730-04</td>\n",
       "    </tr>\n",
       "    <tr>\n",
       "      <th>18</th>\n",
       "      <td>577.XXX.620-72</td>\n",
       "    </tr>\n",
       "    <tr>\n",
       "      <th>27</th>\n",
       "      <td>438.XXX.470-53</td>\n",
       "    </tr>\n",
       "    <tr>\n",
       "      <th>28</th>\n",
       "      <td>905.XXX.090-72</td>\n",
       "    </tr>\n",
       "    <tr>\n",
       "      <th>...</th>\n",
       "      <td>...</td>\n",
       "    </tr>\n",
       "    <tr>\n",
       "      <th>1145</th>\n",
       "      <td>034.XXX.160-08</td>\n",
       "    </tr>\n",
       "    <tr>\n",
       "      <th>1147</th>\n",
       "      <td>687.XXX.400-53</td>\n",
       "    </tr>\n",
       "    <tr>\n",
       "      <th>1151</th>\n",
       "      <td>412.XXX.970-20</td>\n",
       "    </tr>\n",
       "    <tr>\n",
       "      <th>1188</th>\n",
       "      <td>412.XXX.340-20</td>\n",
       "    </tr>\n",
       "    <tr>\n",
       "      <th>1191</th>\n",
       "      <td>705.XXX.480-87</td>\n",
       "    </tr>\n",
       "  </tbody>\n",
       "</table>\n",
       "<p>157 rows × 1 columns</p>\n",
       "</div>"
      ],
      "text/plain": [
       "            CNPJ/CPF\n",
       "13    008.XXX.130-03\n",
       "15    753.XXX.730-04\n",
       "18    577.XXX.620-72\n",
       "27    438.XXX.470-53\n",
       "28    905.XXX.090-72\n",
       "...              ...\n",
       "1145  034.XXX.160-08\n",
       "1147  687.XXX.400-53\n",
       "1151  412.XXX.970-20\n",
       "1188  412.XXX.340-20\n",
       "1191  705.XXX.480-87\n",
       "\n",
       "[157 rows x 1 columns]"
      ]
     },
     "execution_count": 45,
     "metadata": {},
     "output_type": "execute_result"
    }
   ],
   "source": [
    "cnpjs_nao_encontrados[['CNPJ/CPF']]"
   ]
  },
  {
   "cell_type": "code",
   "execution_count": 46,
   "id": "40084b2a-711e-4601-988c-444116c8c566",
   "metadata": {},
   "outputs": [
    {
     "data": {
      "text/plain": [
       "450"
      ]
     },
     "execution_count": 46,
     "metadata": {},
     "output_type": "execute_result"
    }
   ],
   "source": [
    "df_trimestre[df_trimestre['cnpj'].str.len() == 14]['cnpj'].unique().size"
   ]
  },
  {
   "cell_type": "markdown",
   "id": "ac958d84-05f7-4a81-a7ff-45abb5ddd4b6",
   "metadata": {},
   "source": [
    "### Agora, vou fazer o merge com o dataframe de empresas para pegar o endereço correto\n",
    "\n",
    "A partir de agora, passo a usar o dataframe `despesas_fornecedor`\n"
   ]
  },
  {
   "cell_type": "code",
   "execution_count": 47,
   "id": "79f16ede-f11c-4efe-a571-4e692d6ad50f",
   "metadata": {},
   "outputs": [],
   "source": [
    "despesas_fornecedor = pd.merge(df_trimestre, cnpjs_df, on='cnpj', how='left')"
   ]
  },
  {
   "cell_type": "code",
   "execution_count": 48,
   "id": "f2300a43-6c50-4578-a297-d4a022923dec",
   "metadata": {},
   "outputs": [
    {
     "data": {
      "text/plain": [
       "array(['janeiro', 'fevereiro', 'março'], dtype=object)"
      ]
     },
     "execution_count": 48,
     "metadata": {},
     "output_type": "execute_result"
    }
   ],
   "source": [
    "despesas_fornecedor.mes.unique()"
   ]
  },
  {
   "cell_type": "markdown",
   "id": "0ee50e09-eb26-4df5-b277-0b15688ec370",
   "metadata": {},
   "source": [
    "que coisa linda!!! S2\n",
    "Agora vou criar um novo df com as coordenadas de municipios. Estou usando uma base que encontrei no github."
   ]
  },
  {
   "cell_type": "code",
   "execution_count": 50,
   "id": "e69d3cf9-9ee7-4a89-8a90-afc67ef9c078",
   "metadata": {},
   "outputs": [],
   "source": [
    "df_municipios = pd.read_csv('https://raw.githubusercontent.com/kelvins/municipios-brasileiros/194cfcc3062dfc8a8f55bfdc9a630b3aee1f59f4/csv/municipios.csv')"
   ]
  },
  {
   "cell_type": "markdown",
   "id": "6bc6b6f2-7199-4abd-964f-7a5cb841f509",
   "metadata": {},
   "source": [
    "dá pra usar o codigo ibge para o merge. maravilha! \n",
    "só tem que tratar o codigo pq estão com tipos diferentes em cada dataframe"
   ]
  },
  {
   "cell_type": "code",
   "execution_count": 52,
   "id": "95b30f1f-493f-43c9-8b63-ed539428e536",
   "metadata": {},
   "outputs": [],
   "source": [
    "despesas_fornecedor_com_municipios = pd.merge(\n",
    "    despesas_fornecedor, \n",
    "    df_municipios, \n",
    "    left_on='cidade_ibge_id', \n",
    "    right_on='codigo_ibge', \n",
    "    suffixes=('_despesas_fornecedor', '__municipios'), how='left'\n",
    ")"
   ]
  },
  {
   "cell_type": "code",
   "execution_count": 53,
   "id": "d547278d-8ee2-4481-9932-8d52430d15ee",
   "metadata": {},
   "outputs": [],
   "source": [
    "despesas_fornecedor_com_municipios.rename(columns={'nome': 'municipio'}, inplace=True)"
   ]
  },
  {
   "cell_type": "code",
   "execution_count": 54,
   "id": "dcca44e1-58fa-4c24-8568-050ed1018054",
   "metadata": {},
   "outputs": [
    {
     "data": {
      "text/html": [
       "<div>\n",
       "<style scoped>\n",
       "    .dataframe tbody tr th:only-of-type {\n",
       "        vertical-align: middle;\n",
       "    }\n",
       "\n",
       "    .dataframe tbody tr th {\n",
       "        vertical-align: top;\n",
       "    }\n",
       "\n",
       "    .dataframe thead th {\n",
       "        text-align: right;\n",
       "    }\n",
       "</style>\n",
       "<table border=\"1\" class=\"dataframe\">\n",
       "  <thead>\n",
       "    <tr style=\"text-align: right;\">\n",
       "      <th></th>\n",
       "      <th>Código</th>\n",
       "      <th>Descrição</th>\n",
       "      <th>CNPJ/CPF</th>\n",
       "      <th>valor_empenhado</th>\n",
       "      <th>valor_liquidado</th>\n",
       "      <th>valor_pago</th>\n",
       "      <th>cnpj</th>\n",
       "      <th>mes</th>\n",
       "      <th>mes_int</th>\n",
       "      <th>Unnamed: 0.10</th>\n",
       "      <th>...</th>\n",
       "      <th>cidade_ibge_id</th>\n",
       "      <th>codigo_ibge</th>\n",
       "      <th>municipio</th>\n",
       "      <th>latitude</th>\n",
       "      <th>longitude</th>\n",
       "      <th>capital</th>\n",
       "      <th>codigo_uf</th>\n",
       "      <th>siafi_id</th>\n",
       "      <th>ddd</th>\n",
       "      <th>fuso_horario</th>\n",
       "    </tr>\n",
       "  </thead>\n",
       "  <tbody>\n",
       "    <tr>\n",
       "      <th>0</th>\n",
       "      <td>359277.0</td>\n",
       "      <td>3MED DISTRIBUIDORA DE MEDICAMENTOS LTDA.</td>\n",
       "      <td>29.043.834/0001-66</td>\n",
       "      <td>5507.88</td>\n",
       "      <td>0.0</td>\n",
       "      <td>0.0</td>\n",
       "      <td>29043834000166</td>\n",
       "      <td>janeiro</td>\n",
       "      <td>1</td>\n",
       "      <td>0.0</td>\n",
       "      <td>...</td>\n",
       "      <td>4307005.0</td>\n",
       "      <td>4307005.0</td>\n",
       "      <td>Erechim</td>\n",
       "      <td>-27.6364</td>\n",
       "      <td>-52.2697</td>\n",
       "      <td>0.0</td>\n",
       "      <td>43.0</td>\n",
       "      <td>8637.0</td>\n",
       "      <td>54.0</td>\n",
       "      <td>America/Sao_Paulo</td>\n",
       "    </tr>\n",
       "    <tr>\n",
       "      <th>1</th>\n",
       "      <td>359612.0</td>\n",
       "      <td>51.140.560 IVANETE TERESINHA LUFT BALDISSERA</td>\n",
       "      <td>51.140.560/0001-82</td>\n",
       "      <td>5980.00</td>\n",
       "      <td>0.0</td>\n",
       "      <td>0.0</td>\n",
       "      <td>51140560000182</td>\n",
       "      <td>janeiro</td>\n",
       "      <td>1</td>\n",
       "      <td>2.0</td>\n",
       "      <td>...</td>\n",
       "      <td>4309407.0</td>\n",
       "      <td>4309407.0</td>\n",
       "      <td>Guaporé</td>\n",
       "      <td>-28.8399</td>\n",
       "      <td>-51.8895</td>\n",
       "      <td>0.0</td>\n",
       "      <td>43.0</td>\n",
       "      <td>8687.0</td>\n",
       "      <td>54.0</td>\n",
       "      <td>America/Sao_Paulo</td>\n",
       "    </tr>\n",
       "    <tr>\n",
       "      <th>2</th>\n",
       "      <td>359175.0</td>\n",
       "      <td>A M COMERCIO DE PRODUTOS DE LIMPEZA LTDA</td>\n",
       "      <td>45.212.009/0001-02</td>\n",
       "      <td>2352.64</td>\n",
       "      <td>0.0</td>\n",
       "      <td>0.0</td>\n",
       "      <td>45212009000102</td>\n",
       "      <td>janeiro</td>\n",
       "      <td>1</td>\n",
       "      <td>3.0</td>\n",
       "      <td>...</td>\n",
       "      <td>4320503.0</td>\n",
       "      <td>4320503.0</td>\n",
       "      <td>Sertão</td>\n",
       "      <td>-27.9798</td>\n",
       "      <td>-52.2588</td>\n",
       "      <td>0.0</td>\n",
       "      <td>43.0</td>\n",
       "      <td>8911.0</td>\n",
       "      <td>54.0</td>\n",
       "      <td>America/Sao_Paulo</td>\n",
       "    </tr>\n",
       "    <tr>\n",
       "      <th>3</th>\n",
       "      <td>326093.0</td>\n",
       "      <td>A. ROSSATTO FONOAUDIOLOGIA</td>\n",
       "      <td>33.811.873/0001-33</td>\n",
       "      <td>4944.60</td>\n",
       "      <td>0.0</td>\n",
       "      <td>0.0</td>\n",
       "      <td>33811873000133</td>\n",
       "      <td>janeiro</td>\n",
       "      <td>1</td>\n",
       "      <td>4.0</td>\n",
       "      <td>...</td>\n",
       "      <td>4320404.0</td>\n",
       "      <td>4320404.0</td>\n",
       "      <td>Serafina Corrêa</td>\n",
       "      <td>-28.7126</td>\n",
       "      <td>-51.9352</td>\n",
       "      <td>0.0</td>\n",
       "      <td>43.0</td>\n",
       "      <td>8909.0</td>\n",
       "      <td>54.0</td>\n",
       "      <td>America/Sao_Paulo</td>\n",
       "    </tr>\n",
       "    <tr>\n",
       "      <th>4</th>\n",
       "      <td>4204.0</td>\n",
       "      <td>A.A.F. LABORATÓRIO DE ANÁLISES CLÍNICAS LTDA</td>\n",
       "      <td>04.567.872/0001-97</td>\n",
       "      <td>80000.00</td>\n",
       "      <td>0.0</td>\n",
       "      <td>0.0</td>\n",
       "      <td>04567872000197</td>\n",
       "      <td>janeiro</td>\n",
       "      <td>1</td>\n",
       "      <td>5.0</td>\n",
       "      <td>...</td>\n",
       "      <td>4320404.0</td>\n",
       "      <td>4320404.0</td>\n",
       "      <td>Serafina Corrêa</td>\n",
       "      <td>-28.7126</td>\n",
       "      <td>-51.9352</td>\n",
       "      <td>0.0</td>\n",
       "      <td>43.0</td>\n",
       "      <td>8909.0</td>\n",
       "      <td>54.0</td>\n",
       "      <td>America/Sao_Paulo</td>\n",
       "    </tr>\n",
       "  </tbody>\n",
       "</table>\n",
       "<p>5 rows × 33 columns</p>\n",
       "</div>"
      ],
      "text/plain": [
       "     Código                                     Descrição            CNPJ/CPF  \\\n",
       "0  359277.0      3MED DISTRIBUIDORA DE MEDICAMENTOS LTDA.  29.043.834/0001-66   \n",
       "1  359612.0  51.140.560 IVANETE TERESINHA LUFT BALDISSERA  51.140.560/0001-82   \n",
       "2  359175.0      A M COMERCIO DE PRODUTOS DE LIMPEZA LTDA  45.212.009/0001-02   \n",
       "3  326093.0                    A. ROSSATTO FONOAUDIOLOGIA  33.811.873/0001-33   \n",
       "4    4204.0  A.A.F. LABORATÓRIO DE ANÁLISES CLÍNICAS LTDA  04.567.872/0001-97   \n",
       "\n",
       "   valor_empenhado  valor_liquidado  valor_pago            cnpj      mes  \\\n",
       "0          5507.88              0.0         0.0  29043834000166  janeiro   \n",
       "1          5980.00              0.0         0.0  51140560000182  janeiro   \n",
       "2          2352.64              0.0         0.0  45212009000102  janeiro   \n",
       "3          4944.60              0.0         0.0  33811873000133  janeiro   \n",
       "4         80000.00              0.0         0.0  04567872000197  janeiro   \n",
       "\n",
       "   mes_int  Unnamed: 0.10  ...  cidade_ibge_id  codigo_ibge        municipio  \\\n",
       "0        1            0.0  ...       4307005.0    4307005.0          Erechim   \n",
       "1        1            2.0  ...       4309407.0    4309407.0          Guaporé   \n",
       "2        1            3.0  ...       4320503.0    4320503.0           Sertão   \n",
       "3        1            4.0  ...       4320404.0    4320404.0  Serafina Corrêa   \n",
       "4        1            5.0  ...       4320404.0    4320404.0  Serafina Corrêa   \n",
       "\n",
       "   latitude  longitude  capital  codigo_uf  siafi_id   ddd       fuso_horario  \n",
       "0  -27.6364   -52.2697      0.0       43.0    8637.0  54.0  America/Sao_Paulo  \n",
       "1  -28.8399   -51.8895      0.0       43.0    8687.0  54.0  America/Sao_Paulo  \n",
       "2  -27.9798   -52.2588      0.0       43.0    8911.0  54.0  America/Sao_Paulo  \n",
       "3  -28.7126   -51.9352      0.0       43.0    8909.0  54.0  America/Sao_Paulo  \n",
       "4  -28.7126   -51.9352      0.0       43.0    8909.0  54.0  America/Sao_Paulo  \n",
       "\n",
       "[5 rows x 33 columns]"
      ]
     },
     "execution_count": 54,
     "metadata": {},
     "output_type": "execute_result"
    }
   ],
   "source": [
    "despesas_fornecedor_com_municipios.head()"
   ]
  },
  {
   "cell_type": "markdown",
   "id": "4c0f70ce-9711-43d6-b75e-e51c9246d482",
   "metadata": {},
   "source": [
    "### **Pronto!!!**\n",
    "Agora tenho os dados tratados incluindo todas as informações do município em que a empresa é sediada. As informações estão no data frame `despesas_fornecedor_com_municipios`"
   ]
  },
  {
   "cell_type": "markdown",
   "id": "81c147a3-6d6f-434d-88bb-de73c195e180",
   "metadata": {},
   "source": [
    "## Mapa de distribuição dos fornecedores\n",
    "A seguir, incializo o dataframe `dados_agrupados` para posteriormente plotar no mapa.\n",
    "\n",
    "Quero exibir um ponto para cada cidade e mais alguma infos..."
   ]
  },
  {
   "cell_type": "code",
   "execution_count": 56,
   "id": "b325fff8-6f7d-4a04-9cf4-aec6c46bfdbd",
   "metadata": {},
   "outputs": [],
   "source": [
    "dados_agrupados = despesas_fornecedor_com_municipios.groupby(['municipio', 'uf', 'latitude', 'longitude']).agg(\n",
    "    {'valor_empenhado': 'sum', 'valor_liquidado': 'sum', 'valor_pago': 'sum', 'cnpj':'count'}\n",
    "    ).sort_values(by='valor_empenhado', ascending=False)"
   ]
  },
  {
   "cell_type": "code",
   "execution_count": 57,
   "id": "90274370-2e12-4a4f-aa27-4d6f0da10514",
   "metadata": {},
   "outputs": [],
   "source": [
    "dados_agrupados.reset_index(inplace=True)"
   ]
  },
  {
   "cell_type": "code",
   "execution_count": 58,
   "id": "f72230b6-ed5a-44c5-99b9-3fab5ef76d85",
   "metadata": {},
   "outputs": [],
   "source": [
    "dados_agrupados.to_excel('dados_agrupados-q1.xlsx')"
   ]
  },
  {
   "cell_type": "code",
   "execution_count": 59,
   "id": "1e6a731b-a01e-4c2e-b8e7-2b983dd588b1",
   "metadata": {},
   "outputs": [
    {
     "name": "stdout",
     "output_type": "stream",
     "text": [
      "15110359.94 75.65\n"
     ]
    },
    {
     "data": {
      "text/html": [
       "<div style=\"width:100%;\"><div style=\"position:relative;width:100%;height:0;padding-bottom:60%;\"><span style=\"color:#565656\">Make this Notebook Trusted to load map: File -> Trust Notebook</span><iframe srcdoc=\"&lt;!DOCTYPE html&gt;\n",
       "&lt;html&gt;\n",
       "&lt;head&gt;\n",
       "    \n",
       "    &lt;meta http-equiv=&quot;content-type&quot; content=&quot;text/html; charset=UTF-8&quot; /&gt;\n",
       "    \n",
       "        &lt;script&gt;\n",
       "            L_NO_TOUCH = false;\n",
       "            L_DISABLE_3D = false;\n",
       "        &lt;/script&gt;\n",
       "    \n",
       "    &lt;style&gt;html, body {width: 100%;height: 100%;margin: 0;padding: 0;}&lt;/style&gt;\n",
       "    &lt;style&gt;#map {position:absolute;top:0;bottom:0;right:0;left:0;}&lt;/style&gt;\n",
       "    &lt;script src=&quot;https://cdn.jsdelivr.net/npm/leaflet@1.9.3/dist/leaflet.js&quot;&gt;&lt;/script&gt;\n",
       "    &lt;script src=&quot;https://code.jquery.com/jquery-3.7.1.min.js&quot;&gt;&lt;/script&gt;\n",
       "    &lt;script src=&quot;https://cdn.jsdelivr.net/npm/bootstrap@5.2.2/dist/js/bootstrap.bundle.min.js&quot;&gt;&lt;/script&gt;\n",
       "    &lt;script src=&quot;https://cdnjs.cloudflare.com/ajax/libs/Leaflet.awesome-markers/2.0.2/leaflet.awesome-markers.js&quot;&gt;&lt;/script&gt;\n",
       "    &lt;link rel=&quot;stylesheet&quot; href=&quot;https://cdn.jsdelivr.net/npm/leaflet@1.9.3/dist/leaflet.css&quot;/&gt;\n",
       "    &lt;link rel=&quot;stylesheet&quot; href=&quot;https://cdn.jsdelivr.net/npm/bootstrap@5.2.2/dist/css/bootstrap.min.css&quot;/&gt;\n",
       "    &lt;link rel=&quot;stylesheet&quot; href=&quot;https://netdna.bootstrapcdn.com/bootstrap/3.0.0/css/bootstrap.min.css&quot;/&gt;\n",
       "    &lt;link rel=&quot;stylesheet&quot; href=&quot;https://cdn.jsdelivr.net/npm/@fortawesome/fontawesome-free@6.2.0/css/all.min.css&quot;/&gt;\n",
       "    &lt;link rel=&quot;stylesheet&quot; href=&quot;https://cdnjs.cloudflare.com/ajax/libs/Leaflet.awesome-markers/2.0.2/leaflet.awesome-markers.css&quot;/&gt;\n",
       "    &lt;link rel=&quot;stylesheet&quot; href=&quot;https://cdn.jsdelivr.net/gh/python-visualization/folium/folium/templates/leaflet.awesome.rotate.min.css&quot;/&gt;\n",
       "    \n",
       "            &lt;meta name=&quot;viewport&quot; content=&quot;width=device-width,\n",
       "                initial-scale=1.0, maximum-scale=1.0, user-scalable=no&quot; /&gt;\n",
       "            &lt;style&gt;\n",
       "                #map_72f736ba9fb575b0e7fdd036178bb489 {\n",
       "                    position: relative;\n",
       "                    width: 100.0%;\n",
       "                    height: 100.0%;\n",
       "                    left: 0.0%;\n",
       "                    top: 0.0%;\n",
       "                }\n",
       "                .leaflet-container { font-size: 1rem; }\n",
       "            &lt;/style&gt;\n",
       "        \n",
       "&lt;/head&gt;\n",
       "&lt;body&gt;\n",
       "    \n",
       "    \n",
       "            &lt;div class=&quot;folium-map&quot; id=&quot;map_72f736ba9fb575b0e7fdd036178bb489&quot; &gt;&lt;/div&gt;\n",
       "        \n",
       "&lt;/body&gt;\n",
       "&lt;script&gt;\n",
       "    \n",
       "    \n",
       "            var map_72f736ba9fb575b0e7fdd036178bb489 = L.map(\n",
       "                &quot;map_72f736ba9fb575b0e7fdd036178bb489&quot;,\n",
       "                {\n",
       "                    center: [-28.710129, -51.932609],\n",
       "                    crs: L.CRS.EPSG3857,\n",
       "                    zoom: 4,\n",
       "                    zoomControl: true,\n",
       "                    preferCanvas: false,\n",
       "                }\n",
       "            );\n",
       "\n",
       "            \n",
       "\n",
       "        \n",
       "    \n",
       "            var tile_layer_dee9d4ffe987ce7e3e6e0edcabc1de82 = L.tileLayer(\n",
       "                &quot;https://{s}.basemaps.cartocdn.com/dark_all/{z}/{x}/{y}{r}.png&quot;,\n",
       "                {&quot;attribution&quot;: &quot;\\u0026copy; \\u003ca href=\\&quot;https://www.openstreetmap.org/copyright\\&quot;\\u003eOpenStreetMap\\u003c/a\\u003e contributors \\u0026copy; \\u003ca href=\\&quot;https://carto.com/attributions\\&quot;\\u003eCARTO\\u003c/a\\u003e&quot;, &quot;detectRetina&quot;: false, &quot;maxNativeZoom&quot;: 20, &quot;maxZoom&quot;: 20, &quot;minZoom&quot;: 0, &quot;noWrap&quot;: false, &quot;opacity&quot;: 1, &quot;subdomains&quot;: &quot;abcd&quot;, &quot;tms&quot;: false}\n",
       "            );\n",
       "        \n",
       "    \n",
       "            tile_layer_dee9d4ffe987ce7e3e6e0edcabc1de82.addTo(map_72f736ba9fb575b0e7fdd036178bb489);\n",
       "        \n",
       "    \n",
       "            var circle_marker_fa06a12fa93f748a6eff9ba2acbe30b1 = L.circleMarker(\n",
       "                [-28.7126, -51.9352],\n",
       "                {&quot;bubblingMouseEvents&quot;: true, &quot;color&quot;: &quot;red&quot;, &quot;dashArray&quot;: null, &quot;dashOffset&quot;: null, &quot;fill&quot;: true, &quot;fillColor&quot;: &quot;#E8710A&quot;, &quot;fillOpacity&quot;: 0.6, &quot;fillRule&quot;: &quot;evenodd&quot;, &quot;lineCap&quot;: &quot;round&quot;, &quot;lineJoin&quot;: &quot;round&quot;, &quot;opacity&quot;: 1, &quot;radius&quot;: 10.0, &quot;stroke&quot;: true, &quot;weight&quot;: 5}\n",
       "            ).addTo(map_72f736ba9fb575b0e7fdd036178bb489);\n",
       "        \n",
       "    \n",
       "        var popup_4203c957754a2d849b3cdadd888d254a = L.popup({&quot;maxWidth&quot;: &quot;100%&quot;});\n",
       "\n",
       "        \n",
       "            \n",
       "                var html_3843105811918188788b7ae5da96c83b = $(`&lt;div id=&quot;html_3843105811918188788b7ae5da96c83b&quot; style=&quot;width: 100.0%; height: 100.0%;&quot;&gt;Valor Empenhado R$15110359.94&lt;/div&gt;`)[0];\n",
       "                popup_4203c957754a2d849b3cdadd888d254a.setContent(html_3843105811918188788b7ae5da96c83b);\n",
       "            \n",
       "        \n",
       "\n",
       "        circle_marker_fa06a12fa93f748a6eff9ba2acbe30b1.bindPopup(popup_4203c957754a2d849b3cdadd888d254a)\n",
       "        ;\n",
       "\n",
       "        \n",
       "    \n",
       "    \n",
       "            circle_marker_fa06a12fa93f748a6eff9ba2acbe30b1.bindTooltip(\n",
       "                `&lt;div&gt;\n",
       "                     Serafina Corrêa\n",
       "                 &lt;/div&gt;`,\n",
       "                {&quot;sticky&quot;: true}\n",
       "            );\n",
       "        \n",
       "    \n",
       "            var circle_marker_606bacab3d66f2c8c27dc4deb801b1a1 = L.circleMarker(\n",
       "                [-23.5329, -46.6395],\n",
       "                {&quot;bubblingMouseEvents&quot;: true, &quot;color&quot;: &quot;red&quot;, &quot;dashArray&quot;: null, &quot;dashOffset&quot;: null, &quot;fill&quot;: true, &quot;fillColor&quot;: &quot;#E8710A&quot;, &quot;fillOpacity&quot;: 0.6, &quot;fillRule&quot;: &quot;evenodd&quot;, &quot;lineCap&quot;: &quot;round&quot;, &quot;lineJoin&quot;: &quot;round&quot;, &quot;opacity&quot;: 1, &quot;radius&quot;: 3.883074985174708, &quot;stroke&quot;: true, &quot;weight&quot;: 5}\n",
       "            ).addTo(map_72f736ba9fb575b0e7fdd036178bb489);\n",
       "        \n",
       "    \n",
       "        var popup_ab3ed6cf035698a126737c3bb08c14d4 = L.popup({&quot;maxWidth&quot;: &quot;100%&quot;});\n",
       "\n",
       "        \n",
       "            \n",
       "                var html_2e66293414a5998c215b369ec0b6139a = $(`&lt;div id=&quot;html_2e66293414a5998c215b369ec0b6139a&quot; style=&quot;width: 100.0%; height: 100.0%;&quot;&gt;Valor Empenhado R$5867466.07&lt;/div&gt;`)[0];\n",
       "                popup_ab3ed6cf035698a126737c3bb08c14d4.setContent(html_2e66293414a5998c215b369ec0b6139a);\n",
       "            \n",
       "        \n",
       "\n",
       "        circle_marker_606bacab3d66f2c8c27dc4deb801b1a1.bindPopup(popup_ab3ed6cf035698a126737c3bb08c14d4)\n",
       "        ;\n",
       "\n",
       "        \n",
       "    \n",
       "    \n",
       "            circle_marker_606bacab3d66f2c8c27dc4deb801b1a1.bindTooltip(\n",
       "                `&lt;div&gt;\n",
       "                     São Paulo\n",
       "                 &lt;/div&gt;`,\n",
       "                {&quot;sticky&quot;: true}\n",
       "            );\n",
       "        \n",
       "    \n",
       "            var circle_marker_7c80c9ca4c1c1013d4d753e5b5ff8f0f = L.circleMarker(\n",
       "                [-28.8399, -51.8895],\n",
       "                {&quot;bubblingMouseEvents&quot;: true, &quot;color&quot;: &quot;red&quot;, &quot;dashArray&quot;: null, &quot;dashOffset&quot;: null, &quot;fill&quot;: true, &quot;fillColor&quot;: &quot;#E8710A&quot;, &quot;fillOpacity&quot;: 0.6, &quot;fillRule&quot;: &quot;evenodd&quot;, &quot;lineCap&quot;: &quot;round&quot;, &quot;lineJoin&quot;: &quot;round&quot;, &quot;opacity&quot;: 1, &quot;radius&quot;: 2.7852138511003597, &quot;stroke&quot;: true, &quot;weight&quot;: 5}\n",
       "            ).addTo(map_72f736ba9fb575b0e7fdd036178bb489);\n",
       "        \n",
       "    \n",
       "        var popup_dc174aa0f0e9c46895936461d1e32443 = L.popup({&quot;maxWidth&quot;: &quot;100%&quot;});\n",
       "\n",
       "        \n",
       "            \n",
       "                var html_d5d00d88743880685bea951c5d53ecbe = $(`&lt;div id=&quot;html_d5d00d88743880685bea951c5d53ecbe&quot; style=&quot;width: 100.0%; height: 100.0%;&quot;&gt;Valor Empenhado R$4208558.38&lt;/div&gt;`)[0];\n",
       "                popup_dc174aa0f0e9c46895936461d1e32443.setContent(html_d5d00d88743880685bea951c5d53ecbe);\n",
       "            \n",
       "        \n",
       "\n",
       "        circle_marker_7c80c9ca4c1c1013d4d753e5b5ff8f0f.bindPopup(popup_dc174aa0f0e9c46895936461d1e32443)\n",
       "        ;\n",
       "\n",
       "        \n",
       "    \n",
       "    \n",
       "            circle_marker_7c80c9ca4c1c1013d4d753e5b5ff8f0f.bindTooltip(\n",
       "                `&lt;div&gt;\n",
       "                     Guaporé\n",
       "                 &lt;/div&gt;`,\n",
       "                {&quot;sticky&quot;: true}\n",
       "            );\n",
       "        \n",
       "    \n",
       "            var circle_marker_65651d08e40f240b8005c60a277ed370 = L.circleMarker(\n",
       "                [-15.7795, -47.9297],\n",
       "                {&quot;bubblingMouseEvents&quot;: true, &quot;color&quot;: &quot;red&quot;, &quot;dashArray&quot;: null, &quot;dashOffset&quot;: null, &quot;fill&quot;: true, &quot;fillColor&quot;: &quot;#E8710A&quot;, &quot;fillOpacity&quot;: 0.6, &quot;fillRule&quot;: &quot;evenodd&quot;, &quot;lineCap&quot;: &quot;round&quot;, &quot;lineJoin&quot;: &quot;round&quot;, &quot;opacity&quot;: 1, &quot;radius&quot;: 2.5442509015440433, &quot;stroke&quot;: true, &quot;weight&quot;: 5}\n",
       "            ).addTo(map_72f736ba9fb575b0e7fdd036178bb489);\n",
       "        \n",
       "    \n",
       "        var popup_43a251252ae5a868be6ca79d677056fc = L.popup({&quot;maxWidth&quot;: &quot;100%&quot;});\n",
       "\n",
       "        \n",
       "            \n",
       "                var html_08250de21167833f1a4e46ad6b304fe3 = $(`&lt;div id=&quot;html_08250de21167833f1a4e46ad6b304fe3&quot; style=&quot;width: 100.0%; height: 100.0%;&quot;&gt;Valor Empenhado R$3844454.69&lt;/div&gt;`)[0];\n",
       "                popup_43a251252ae5a868be6ca79d677056fc.setContent(html_08250de21167833f1a4e46ad6b304fe3);\n",
       "            \n",
       "        \n",
       "\n",
       "        circle_marker_65651d08e40f240b8005c60a277ed370.bindPopup(popup_43a251252ae5a868be6ca79d677056fc)\n",
       "        ;\n",
       "\n",
       "        \n",
       "    \n",
       "    \n",
       "            circle_marker_65651d08e40f240b8005c60a277ed370.bindTooltip(\n",
       "                `&lt;div&gt;\n",
       "                     Brasília\n",
       "                 &lt;/div&gt;`,\n",
       "                {&quot;sticky&quot;: true}\n",
       "            );\n",
       "        \n",
       "    \n",
       "            var circle_marker_cb6d105e163f28d935445b24bc6729d8 = L.circleMarker(\n",
       "                [-28.2576, -52.4091],\n",
       "                {&quot;bubblingMouseEvents&quot;: true, &quot;color&quot;: &quot;red&quot;, &quot;dashArray&quot;: null, &quot;dashOffset&quot;: null, &quot;fill&quot;: true, &quot;fillColor&quot;: &quot;#E8710A&quot;, &quot;fillOpacity&quot;: 0.6, &quot;fillRule&quot;: &quot;evenodd&quot;, &quot;lineCap&quot;: &quot;round&quot;, &quot;lineJoin&quot;: &quot;round&quot;, &quot;opacity&quot;: 1, &quot;radius&quot;: 1.2889959191799372, &quot;stroke&quot;: true, &quot;weight&quot;: 5}\n",
       "            ).addTo(map_72f736ba9fb575b0e7fdd036178bb489);\n",
       "        \n",
       "    \n",
       "        var popup_80940e882fd0a45442eac0ced87c95e4 = L.popup({&quot;maxWidth&quot;: &quot;100%&quot;});\n",
       "\n",
       "        \n",
       "            \n",
       "                var html_086ea63dc38d64a4d289ce48dbc60715 = $(`&lt;div id=&quot;html_086ea63dc38d64a4d289ce48dbc60715&quot; style=&quot;width: 100.0%; height: 100.0%;&quot;&gt;Valor Empenhado R$1947719.23&lt;/div&gt;`)[0];\n",
       "                popup_80940e882fd0a45442eac0ced87c95e4.setContent(html_086ea63dc38d64a4d289ce48dbc60715);\n",
       "            \n",
       "        \n",
       "\n",
       "        circle_marker_cb6d105e163f28d935445b24bc6729d8.bindPopup(popup_80940e882fd0a45442eac0ced87c95e4)\n",
       "        ;\n",
       "\n",
       "        \n",
       "    \n",
       "    \n",
       "            circle_marker_cb6d105e163f28d935445b24bc6729d8.bindTooltip(\n",
       "                `&lt;div&gt;\n",
       "                     Passo Fundo\n",
       "                 &lt;/div&gt;`,\n",
       "                {&quot;sticky&quot;: true}\n",
       "            );\n",
       "        \n",
       "    \n",
       "            var circle_marker_205ac909eb722ecde5982c70094e4001 = L.circleMarker(\n",
       "                [-29.1629, -51.1792],\n",
       "                {&quot;bubblingMouseEvents&quot;: true, &quot;color&quot;: &quot;red&quot;, &quot;dashArray&quot;: null, &quot;dashOffset&quot;: null, &quot;fill&quot;: true, &quot;fillColor&quot;: &quot;#E8710A&quot;, &quot;fillOpacity&quot;: 0.6, &quot;fillRule&quot;: &quot;evenodd&quot;, &quot;lineCap&quot;: &quot;round&quot;, &quot;lineJoin&quot;: &quot;round&quot;, &quot;opacity&quot;: 1, &quot;radius&quot;: 1.085058447654689, &quot;stroke&quot;: true, &quot;weight&quot;: 5}\n",
       "            ).addTo(map_72f736ba9fb575b0e7fdd036178bb489);\n",
       "        \n",
       "    \n",
       "        var popup_e3210325ded64a96bb08c9b4f3a0edb8 = L.popup({&quot;maxWidth&quot;: &quot;100%&quot;});\n",
       "\n",
       "        \n",
       "            \n",
       "                var html_f7283c4db601bcd896fc9caa94575bb3 = $(`&lt;div id=&quot;html_f7283c4db601bcd896fc9caa94575bb3&quot; style=&quot;width: 100.0%; height: 100.0%;&quot;&gt;Valor Empenhado R$1639562.3699999999&lt;/div&gt;`)[0];\n",
       "                popup_e3210325ded64a96bb08c9b4f3a0edb8.setContent(html_f7283c4db601bcd896fc9caa94575bb3);\n",
       "            \n",
       "        \n",
       "\n",
       "        circle_marker_205ac909eb722ecde5982c70094e4001.bindPopup(popup_e3210325ded64a96bb08c9b4f3a0edb8)\n",
       "        ;\n",
       "\n",
       "        \n",
       "    \n",
       "    \n",
       "            circle_marker_205ac909eb722ecde5982c70094e4001.bindTooltip(\n",
       "                `&lt;div&gt;\n",
       "                     Caxias do Sul\n",
       "                 &lt;/div&gt;`,\n",
       "                {&quot;sticky&quot;: true}\n",
       "            );\n",
       "        \n",
       "    \n",
       "            var circle_marker_6c9fa94006c320ff50be1160c75e3040 = L.circleMarker(\n",
       "                [-30.0318, -51.2065],\n",
       "                {&quot;bubblingMouseEvents&quot;: true, &quot;color&quot;: &quot;red&quot;, &quot;dashArray&quot;: null, &quot;dashOffset&quot;: null, &quot;fill&quot;: true, &quot;fillColor&quot;: &quot;#E8710A&quot;, &quot;fillOpacity&quot;: 0.6, &quot;fillRule&quot;: &quot;evenodd&quot;, &quot;lineCap&quot;: &quot;round&quot;, &quot;lineJoin&quot;: &quot;round&quot;, &quot;opacity&quot;: 1, &quot;radius&quot;: 0.9706381818989284, &quot;stroke&quot;: true, &quot;weight&quot;: 5}\n",
       "            ).addTo(map_72f736ba9fb575b0e7fdd036178bb489);\n",
       "        \n",
       "    \n",
       "        var popup_8f13dc1ab46171c62afd00e322526772 = L.popup({&quot;maxWidth&quot;: &quot;100%&quot;});\n",
       "\n",
       "        \n",
       "            \n",
       "                var html_33d65ff7180857a10f87ba553e19631a = $(`&lt;div id=&quot;html_33d65ff7180857a10f87ba553e19631a&quot; style=&quot;width: 100.0%; height: 100.0%;&quot;&gt;Valor Empenhado R$1466669.23&lt;/div&gt;`)[0];\n",
       "                popup_8f13dc1ab46171c62afd00e322526772.setContent(html_33d65ff7180857a10f87ba553e19631a);\n",
       "            \n",
       "        \n",
       "\n",
       "        circle_marker_6c9fa94006c320ff50be1160c75e3040.bindPopup(popup_8f13dc1ab46171c62afd00e322526772)\n",
       "        ;\n",
       "\n",
       "        \n",
       "    \n",
       "    \n",
       "            circle_marker_6c9fa94006c320ff50be1160c75e3040.bindTooltip(\n",
       "                `&lt;div&gt;\n",
       "                     Porto Alegre\n",
       "                 &lt;/div&gt;`,\n",
       "                {&quot;sticky&quot;: true}\n",
       "            );\n",
       "        \n",
       "    \n",
       "            var circle_marker_7203d4d35e672615ddaf713b64f5de4d = L.circleMarker(\n",
       "                [-28.5964, -51.7896],\n",
       "                {&quot;bubblingMouseEvents&quot;: true, &quot;color&quot;: &quot;red&quot;, &quot;dashArray&quot;: null, &quot;dashOffset&quot;: null, &quot;fill&quot;: true, &quot;fillColor&quot;: &quot;#E8710A&quot;, &quot;fillOpacity&quot;: 0.6, &quot;fillRule&quot;: &quot;evenodd&quot;, &quot;lineCap&quot;: &quot;round&quot;, &quot;lineJoin&quot;: &quot;round&quot;, &quot;opacity&quot;: 1, &quot;radius&quot;: 0.6413447090923501, &quot;stroke&quot;: true, &quot;weight&quot;: 5}\n",
       "            ).addTo(map_72f736ba9fb575b0e7fdd036178bb489);\n",
       "        \n",
       "    \n",
       "        var popup_3a66136bd35cf7985dc4df2c63f9bbcf = L.popup({&quot;maxWidth&quot;: &quot;100%&quot;});\n",
       "\n",
       "        \n",
       "            \n",
       "                var html_b4d3705c035be8182152e4e2f7ca22ee = $(`&lt;div id=&quot;html_b4d3705c035be8182152e4e2f7ca22ee&quot; style=&quot;width: 100.0%; height: 100.0%;&quot;&gt;Valor Empenhado R$969094.94&lt;/div&gt;`)[0];\n",
       "                popup_3a66136bd35cf7985dc4df2c63f9bbcf.setContent(html_b4d3705c035be8182152e4e2f7ca22ee);\n",
       "            \n",
       "        \n",
       "\n",
       "        circle_marker_7203d4d35e672615ddaf713b64f5de4d.bindPopup(popup_3a66136bd35cf7985dc4df2c63f9bbcf)\n",
       "        ;\n",
       "\n",
       "        \n",
       "    \n",
       "    \n",
       "            circle_marker_7203d4d35e672615ddaf713b64f5de4d.bindTooltip(\n",
       "                `&lt;div&gt;\n",
       "                     Paraí\n",
       "                 &lt;/div&gt;`,\n",
       "                {&quot;sticky&quot;: true}\n",
       "            );\n",
       "        \n",
       "    \n",
       "            var circle_marker_f4b6bd2fbd35f33228f715cb0a3a4d11 = L.circleMarker(\n",
       "                [-28.6537, -51.7458],\n",
       "                {&quot;bubblingMouseEvents&quot;: true, &quot;color&quot;: &quot;red&quot;, &quot;dashArray&quot;: null, &quot;dashOffset&quot;: null, &quot;fill&quot;: true, &quot;fillColor&quot;: &quot;#E8710A&quot;, &quot;fillOpacity&quot;: 0.6, &quot;fillRule&quot;: &quot;evenodd&quot;, &quot;lineCap&quot;: &quot;round&quot;, &quot;lineJoin&quot;: &quot;round&quot;, &quot;opacity&quot;: 1, &quot;radius&quot;: 0.451672648904484, &quot;stroke&quot;: true, &quot;weight&quot;: 5}\n",
       "            ).addTo(map_72f736ba9fb575b0e7fdd036178bb489);\n",
       "        \n",
       "    \n",
       "        var popup_d9a3b3786b74b3459cff75e584ce1756 = L.popup({&quot;maxWidth&quot;: &quot;100%&quot;});\n",
       "\n",
       "        \n",
       "            \n",
       "                var html_8bac87761676f26aae879489b76f82c0 = $(`&lt;div id=&quot;html_8bac87761676f26aae879489b76f82c0&quot; style=&quot;width: 100.0%; height: 100.0%;&quot;&gt;Valor Empenhado R$682493.63&lt;/div&gt;`)[0];\n",
       "                popup_d9a3b3786b74b3459cff75e584ce1756.setContent(html_8bac87761676f26aae879489b76f82c0);\n",
       "            \n",
       "        \n",
       "\n",
       "        circle_marker_f4b6bd2fbd35f33228f715cb0a3a4d11.bindPopup(popup_d9a3b3786b74b3459cff75e584ce1756)\n",
       "        ;\n",
       "\n",
       "        \n",
       "    \n",
       "    \n",
       "            circle_marker_f4b6bd2fbd35f33228f715cb0a3a4d11.bindTooltip(\n",
       "                `&lt;div&gt;\n",
       "                     Nova Araçá\n",
       "                 &lt;/div&gt;`,\n",
       "                {&quot;sticky&quot;: true}\n",
       "            );\n",
       "        \n",
       "    \n",
       "            var circle_marker_1a005cb933a6b86189fd3a27610b8378 = L.circleMarker(\n",
       "                [-28.7291, -51.7072],\n",
       "                {&quot;bubblingMouseEvents&quot;: true, &quot;color&quot;: &quot;red&quot;, &quot;dashArray&quot;: null, &quot;dashOffset&quot;: null, &quot;fill&quot;: true, &quot;fillColor&quot;: &quot;#E8710A&quot;, &quot;fillOpacity&quot;: 0.6, &quot;fillRule&quot;: &quot;evenodd&quot;, &quot;lineCap&quot;: &quot;round&quot;, &quot;lineJoin&quot;: &quot;round&quot;, &quot;opacity&quot;: 1, &quot;radius&quot;: 0.4473679930089078, &quot;stroke&quot;: true, &quot;weight&quot;: 5}\n",
       "            ).addTo(map_72f736ba9fb575b0e7fdd036178bb489);\n",
       "        \n",
       "    \n",
       "        var popup_2ac61924fabac22833f102172032dbbc = L.popup({&quot;maxWidth&quot;: &quot;100%&quot;});\n",
       "\n",
       "        \n",
       "            \n",
       "                var html_86af3620c9b557605f56956b34525558 = $(`&lt;div id=&quot;html_86af3620c9b557605f56956b34525558&quot; style=&quot;width: 100.0%; height: 100.0%;&quot;&gt;Valor Empenhado R$675989.14&lt;/div&gt;`)[0];\n",
       "                popup_2ac61924fabac22833f102172032dbbc.setContent(html_86af3620c9b557605f56956b34525558);\n",
       "            \n",
       "        \n",
       "\n",
       "        circle_marker_1a005cb933a6b86189fd3a27610b8378.bindPopup(popup_2ac61924fabac22833f102172032dbbc)\n",
       "        ;\n",
       "\n",
       "        \n",
       "    \n",
       "    \n",
       "            circle_marker_1a005cb933a6b86189fd3a27610b8378.bindTooltip(\n",
       "                `&lt;div&gt;\n",
       "                     Nova Bassano\n",
       "                 &lt;/div&gt;`,\n",
       "                {&quot;sticky&quot;: true}\n",
       "            );\n",
       "        \n",
       "    \n",
       "            var circle_marker_3bc0fc2c03f6df796e6ac24443f0117d = L.circleMarker(\n",
       "                [-28.5605, -51.9815],\n",
       "                {&quot;bubblingMouseEvents&quot;: true, &quot;color&quot;: &quot;red&quot;, &quot;dashArray&quot;: null, &quot;dashOffset&quot;: null, &quot;fill&quot;: true, &quot;fillColor&quot;: &quot;#E8710A&quot;, &quot;fillOpacity&quot;: 0.6, &quot;fillRule&quot;: &quot;evenodd&quot;, &quot;lineCap&quot;: &quot;round&quot;, &quot;lineJoin&quot;: &quot;round&quot;, &quot;opacity&quot;: 1, &quot;radius&quot;: 0.25668354131873844, &quot;stroke&quot;: true, &quot;weight&quot;: 5}\n",
       "            ).addTo(map_72f736ba9fb575b0e7fdd036178bb489);\n",
       "        \n",
       "    \n",
       "        var popup_6ae2456be833dd60b234f3cc371563ad = L.popup({&quot;maxWidth&quot;: &quot;100%&quot;});\n",
       "\n",
       "        \n",
       "            \n",
       "                var html_93a6e00757dc7b13ce75070fe7b9e07a = $(`&lt;div id=&quot;html_93a6e00757dc7b13ce75070fe7b9e07a&quot; style=&quot;width: 100.0%; height: 100.0%;&quot;&gt;Valor Empenhado R$387858.07&lt;/div&gt;`)[0];\n",
       "                popup_6ae2456be833dd60b234f3cc371563ad.setContent(html_93a6e00757dc7b13ce75070fe7b9e07a);\n",
       "            \n",
       "        \n",
       "\n",
       "        circle_marker_3bc0fc2c03f6df796e6ac24443f0117d.bindPopup(popup_6ae2456be833dd60b234f3cc371563ad)\n",
       "        ;\n",
       "\n",
       "        \n",
       "    \n",
       "    \n",
       "            circle_marker_3bc0fc2c03f6df796e6ac24443f0117d.bindTooltip(\n",
       "                `&lt;div&gt;\n",
       "                     Casca\n",
       "                 &lt;/div&gt;`,\n",
       "                {&quot;sticky&quot;: true}\n",
       "            );\n",
       "        \n",
       "    \n",
       "            var circle_marker_581151e173b1579721d1b9601e4d4fa3 = L.circleMarker(\n",
       "                [-29.722, -52.4343],\n",
       "                {&quot;bubblingMouseEvents&quot;: true, &quot;color&quot;: &quot;red&quot;, &quot;dashArray&quot;: null, &quot;dashOffset&quot;: null, &quot;fill&quot;: true, &quot;fillColor&quot;: &quot;#E8710A&quot;, &quot;fillOpacity&quot;: 0.6, &quot;fillRule&quot;: &quot;evenodd&quot;, &quot;lineCap&quot;: &quot;round&quot;, &quot;lineJoin&quot;: &quot;round&quot;, &quot;opacity&quot;: 1, &quot;radius&quot;: 0.2498032220931992, &quot;stroke&quot;: true, &quot;weight&quot;: 5}\n",
       "            ).addTo(map_72f736ba9fb575b0e7fdd036178bb489);\n",
       "        \n",
       "    \n",
       "        var popup_2f8133ae8c06ddfacc02491b1874b5cd = L.popup({&quot;maxWidth&quot;: &quot;100%&quot;});\n",
       "\n",
       "        \n",
       "            \n",
       "                var html_ab87436db4a45476e89e39805dd1c229 = $(`&lt;div id=&quot;html_ab87436db4a45476e89e39805dd1c229&quot; style=&quot;width: 100.0%; height: 100.0%;&quot;&gt;Valor Empenhado R$377461.66&lt;/div&gt;`)[0];\n",
       "                popup_2f8133ae8c06ddfacc02491b1874b5cd.setContent(html_ab87436db4a45476e89e39805dd1c229);\n",
       "            \n",
       "        \n",
       "\n",
       "        circle_marker_581151e173b1579721d1b9601e4d4fa3.bindPopup(popup_2f8133ae8c06ddfacc02491b1874b5cd)\n",
       "        ;\n",
       "\n",
       "        \n",
       "    \n",
       "    \n",
       "            circle_marker_581151e173b1579721d1b9601e4d4fa3.bindTooltip(\n",
       "                `&lt;div&gt;\n",
       "                     Santa Cruz do Sul\n",
       "                 &lt;/div&gt;`,\n",
       "                {&quot;sticky&quot;: true}\n",
       "            );\n",
       "        \n",
       "    \n",
       "            var circle_marker_d20376b773121f48a1f7795d641eb002 = L.circleMarker(\n",
       "                [-28.4498, -52.1986],\n",
       "                {&quot;bubblingMouseEvents&quot;: true, &quot;color&quot;: &quot;red&quot;, &quot;dashArray&quot;: null, &quot;dashOffset&quot;: null, &quot;fill&quot;: true, &quot;fillColor&quot;: &quot;#E8710A&quot;, &quot;fillOpacity&quot;: 0.6, &quot;fillRule&quot;: &quot;evenodd&quot;, &quot;lineCap&quot;: &quot;round&quot;, &quot;lineJoin&quot;: &quot;round&quot;, &quot;opacity&quot;: 1, &quot;radius&quot;: 0.2228982375915527, &quot;stroke&quot;: true, &quot;weight&quot;: 5}\n",
       "            ).addTo(map_72f736ba9fb575b0e7fdd036178bb489);\n",
       "        \n",
       "    \n",
       "        var popup_5927a1f72e8aac39472eb6935f14d4f8 = L.popup({&quot;maxWidth&quot;: &quot;100%&quot;});\n",
       "\n",
       "        \n",
       "            \n",
       "                var html_57028799498aeecde0892341bea8441d = $(`&lt;div id=&quot;html_57028799498aeecde0892341bea8441d&quot; style=&quot;width: 100.0%; height: 100.0%;&quot;&gt;Valor Empenhado R$336807.26&lt;/div&gt;`)[0];\n",
       "                popup_5927a1f72e8aac39472eb6935f14d4f8.setContent(html_57028799498aeecde0892341bea8441d);\n",
       "            \n",
       "        \n",
       "\n",
       "        circle_marker_d20376b773121f48a1f7795d641eb002.bindPopup(popup_5927a1f72e8aac39472eb6935f14d4f8)\n",
       "        ;\n",
       "\n",
       "        \n",
       "    \n",
       "    \n",
       "            circle_marker_d20376b773121f48a1f7795d641eb002.bindTooltip(\n",
       "                `&lt;div&gt;\n",
       "                     Marau\n",
       "                 &lt;/div&gt;`,\n",
       "                {&quot;sticky&quot;: true}\n",
       "            );\n",
       "        \n",
       "    \n",
       "            var circle_marker_730569aa81f77aea0370ac7ce216a7c5 = L.circleMarker(\n",
       "                [-28.5359, -52.1486],\n",
       "                {&quot;bubblingMouseEvents&quot;: true, &quot;color&quot;: &quot;red&quot;, &quot;dashArray&quot;: null, &quot;dashOffset&quot;: null, &quot;fill&quot;: true, &quot;fillColor&quot;: &quot;#E8710A&quot;, &quot;fillOpacity&quot;: 0.6, &quot;fillRule&quot;: &quot;evenodd&quot;, &quot;lineCap&quot;: &quot;round&quot;, &quot;lineJoin&quot;: &quot;round&quot;, &quot;opacity&quot;: 1, &quot;radius&quot;: 0.20712706463827626, &quot;stroke&quot;: true, &quot;weight&quot;: 5}\n",
       "            ).addTo(map_72f736ba9fb575b0e7fdd036178bb489);\n",
       "        \n",
       "    \n",
       "        var popup_fdc398bb47d8e0ada8dc68f3051e4b27 = L.popup({&quot;maxWidth&quot;: &quot;100%&quot;});\n",
       "\n",
       "        \n",
       "            \n",
       "                var html_27878d88f45af1ae91ce2414f4d23be0 = $(`&lt;div id=&quot;html_27878d88f45af1ae91ce2414f4d23be0&quot; style=&quot;width: 100.0%; height: 100.0%;&quot;&gt;Valor Empenhado R$312976.45&lt;/div&gt;`)[0];\n",
       "                popup_fdc398bb47d8e0ada8dc68f3051e4b27.setContent(html_27878d88f45af1ae91ce2414f4d23be0);\n",
       "            \n",
       "        \n",
       "\n",
       "        circle_marker_730569aa81f77aea0370ac7ce216a7c5.bindPopup(popup_fdc398bb47d8e0ada8dc68f3051e4b27)\n",
       "        ;\n",
       "\n",
       "        \n",
       "    \n",
       "    \n",
       "            circle_marker_730569aa81f77aea0370ac7ce216a7c5.bindTooltip(\n",
       "                `&lt;div&gt;\n",
       "                     Vila Maria\n",
       "                 &lt;/div&gt;`,\n",
       "                {&quot;sticky&quot;: true}\n",
       "            );\n",
       "        \n",
       "    \n",
       "            var circle_marker_9b368184e44e6388502991d01034d6c0 = L.circleMarker(\n",
       "                [-28.7799, -51.6113],\n",
       "                {&quot;bubblingMouseEvents&quot;: true, &quot;color&quot;: &quot;red&quot;, &quot;dashArray&quot;: null, &quot;dashOffset&quot;: null, &quot;fill&quot;: true, &quot;fillColor&quot;: &quot;#E8710A&quot;, &quot;fillOpacity&quot;: 0.6, &quot;fillRule&quot;: &quot;evenodd&quot;, &quot;lineCap&quot;: &quot;round&quot;, &quot;lineJoin&quot;: &quot;round&quot;, &quot;opacity&quot;: 1, &quot;radius&quot;: 0.2032485336017747, &quot;stroke&quot;: true, &quot;weight&quot;: 5}\n",
       "            ).addTo(map_72f736ba9fb575b0e7fdd036178bb489);\n",
       "        \n",
       "    \n",
       "        var popup_eb257c51d9f0f6c72e1410820061d638 = L.popup({&quot;maxWidth&quot;: &quot;100%&quot;});\n",
       "\n",
       "        \n",
       "            \n",
       "                var html_6dba4606740c071a50470374d1e525e5 = $(`&lt;div id=&quot;html_6dba4606740c071a50470374d1e525e5&quot; style=&quot;width: 100.0%; height: 100.0%;&quot;&gt;Valor Empenhado R$307115.85&lt;/div&gt;`)[0];\n",
       "                popup_eb257c51d9f0f6c72e1410820061d638.setContent(html_6dba4606740c071a50470374d1e525e5);\n",
       "            \n",
       "        \n",
       "\n",
       "        circle_marker_9b368184e44e6388502991d01034d6c0.bindPopup(popup_eb257c51d9f0f6c72e1410820061d638)\n",
       "        ;\n",
       "\n",
       "        \n",
       "    \n",
       "    \n",
       "            circle_marker_9b368184e44e6388502991d01034d6c0.bindTooltip(\n",
       "                `&lt;div&gt;\n",
       "                     Nova Prata\n",
       "                 &lt;/div&gt;`,\n",
       "                {&quot;sticky&quot;: true}\n",
       "            );\n",
       "        \n",
       "    \n",
       "            var circle_marker_c41af3ec49653425018c83b7e32f07bb = L.circleMarker(\n",
       "                [-28.5312, -51.886],\n",
       "                {&quot;bubblingMouseEvents&quot;: true, &quot;color&quot;: &quot;red&quot;, &quot;dashArray&quot;: null, &quot;dashOffset&quot;: null, &quot;fill&quot;: true, &quot;fillColor&quot;: &quot;#E8710A&quot;, &quot;fillOpacity&quot;: 0.6, &quot;fillRule&quot;: &quot;evenodd&quot;, &quot;lineCap&quot;: &quot;round&quot;, &quot;lineJoin&quot;: &quot;round&quot;, &quot;opacity&quot;: 1, &quot;radius&quot;: 0.19959316071725558, &quot;stroke&quot;: true, &quot;weight&quot;: 5}\n",
       "            ).addTo(map_72f736ba9fb575b0e7fdd036178bb489);\n",
       "        \n",
       "    \n",
       "        var popup_581c7452f0ef197adafe2f72445d96c3 = L.popup({&quot;maxWidth&quot;: &quot;100%&quot;});\n",
       "\n",
       "        \n",
       "            \n",
       "                var html_7138cbe1925cef5aa3c34a03d447dcf5 = $(`&lt;div id=&quot;html_7138cbe1925cef5aa3c34a03d447dcf5&quot; style=&quot;width: 100.0%; height: 100.0%;&quot;&gt;Valor Empenhado R$301592.45&lt;/div&gt;`)[0];\n",
       "                popup_581c7452f0ef197adafe2f72445d96c3.setContent(html_7138cbe1925cef5aa3c34a03d447dcf5);\n",
       "            \n",
       "        \n",
       "\n",
       "        circle_marker_c41af3ec49653425018c83b7e32f07bb.bindPopup(popup_581c7452f0ef197adafe2f72445d96c3)\n",
       "        ;\n",
       "\n",
       "        \n",
       "    \n",
       "    \n",
       "            circle_marker_c41af3ec49653425018c83b7e32f07bb.bindTooltip(\n",
       "                `&lt;div&gt;\n",
       "                     São Domingos do Sul\n",
       "                 &lt;/div&gt;`,\n",
       "                {&quot;sticky&quot;: true}\n",
       "            );\n",
       "        \n",
       "    \n",
       "            var circle_marker_802c0e0e7b52f67a372d4b189e1ac48b = L.circleMarker(\n",
       "                [-29.1662, -51.5165],\n",
       "                {&quot;bubblingMouseEvents&quot;: true, &quot;color&quot;: &quot;red&quot;, &quot;dashArray&quot;: null, &quot;dashOffset&quot;: null, &quot;fill&quot;: true, &quot;fillColor&quot;: &quot;#E8710A&quot;, &quot;fillOpacity&quot;: 0.6, &quot;fillRule&quot;: &quot;evenodd&quot;, &quot;lineCap&quot;: &quot;round&quot;, &quot;lineJoin&quot;: &quot;round&quot;, &quot;opacity&quot;: 1, &quot;radius&quot;: 0.1626848010081221, &quot;stroke&quot;: true, &quot;weight&quot;: 5}\n",
       "            ).addTo(map_72f736ba9fb575b0e7fdd036178bb489);\n",
       "        \n",
       "    \n",
       "        var popup_921cca596680cdd994b6ed06162bac2d = L.popup({&quot;maxWidth&quot;: &quot;100%&quot;});\n",
       "\n",
       "        \n",
       "            \n",
       "                var html_7b2f3a9a16b243ca1d2d2b08fc614b43 = $(`&lt;div id=&quot;html_7b2f3a9a16b243ca1d2d2b08fc614b43&quot; style=&quot;width: 100.0%; height: 100.0%;&quot;&gt;Valor Empenhado R$245822.58999999997&lt;/div&gt;`)[0];\n",
       "                popup_921cca596680cdd994b6ed06162bac2d.setContent(html_7b2f3a9a16b243ca1d2d2b08fc614b43);\n",
       "            \n",
       "        \n",
       "\n",
       "        circle_marker_802c0e0e7b52f67a372d4b189e1ac48b.bindPopup(popup_921cca596680cdd994b6ed06162bac2d)\n",
       "        ;\n",
       "\n",
       "        \n",
       "    \n",
       "    \n",
       "            circle_marker_802c0e0e7b52f67a372d4b189e1ac48b.bindTooltip(\n",
       "                `&lt;div&gt;\n",
       "                     Bento Gonçalves\n",
       "                 &lt;/div&gt;`,\n",
       "                {&quot;sticky&quot;: true}\n",
       "            );\n",
       "        \n",
       "    \n",
       "            var circle_marker_d1b7fe7a36ecc659591efe2f962a23aa = L.circleMarker(\n",
       "                [-29.9128, -51.1857],\n",
       "                {&quot;bubblingMouseEvents&quot;: true, &quot;color&quot;: &quot;red&quot;, &quot;dashArray&quot;: null, &quot;dashOffset&quot;: null, &quot;fill&quot;: true, &quot;fillColor&quot;: &quot;#E8710A&quot;, &quot;fillOpacity&quot;: 0.6, &quot;fillRule&quot;: &quot;evenodd&quot;, &quot;lineCap&quot;: &quot;round&quot;, &quot;lineJoin&quot;: &quot;round&quot;, &quot;opacity&quot;: 1, &quot;radius&quot;: 0.1185517755442694, &quot;stroke&quot;: true, &quot;weight&quot;: 5}\n",
       "            ).addTo(map_72f736ba9fb575b0e7fdd036178bb489);\n",
       "        \n",
       "    \n",
       "        var popup_c9531516b238463b35084039a028340b = L.popup({&quot;maxWidth&quot;: &quot;100%&quot;});\n",
       "\n",
       "        \n",
       "            \n",
       "                var html_795c822276007eaa0f24495ae8c48767 = $(`&lt;div id=&quot;html_795c822276007eaa0f24495ae8c48767&quot; style=&quot;width: 100.0%; height: 100.0%;&quot;&gt;Valor Empenhado R$179136.0&lt;/div&gt;`)[0];\n",
       "                popup_c9531516b238463b35084039a028340b.setContent(html_795c822276007eaa0f24495ae8c48767);\n",
       "            \n",
       "        \n",
       "\n",
       "        circle_marker_d1b7fe7a36ecc659591efe2f962a23aa.bindPopup(popup_c9531516b238463b35084039a028340b)\n",
       "        ;\n",
       "\n",
       "        \n",
       "    \n",
       "    \n",
       "            circle_marker_d1b7fe7a36ecc659591efe2f962a23aa.bindTooltip(\n",
       "                `&lt;div&gt;\n",
       "                     Canoas\n",
       "                 &lt;/div&gt;`,\n",
       "                {&quot;sticky&quot;: true}\n",
       "            );\n",
       "        \n",
       "    \n",
       "            var circle_marker_37da33b9f97c5848fed374371823195a = L.circleMarker(\n",
       "                [-28.6294, -52.9498],\n",
       "                {&quot;bubblingMouseEvents&quot;: true, &quot;color&quot;: &quot;red&quot;, &quot;dashArray&quot;: null, &quot;dashOffset&quot;: null, &quot;fill&quot;: true, &quot;fillColor&quot;: &quot;#E8710A&quot;, &quot;fillOpacity&quot;: 0.6, &quot;fillRule&quot;: &quot;evenodd&quot;, &quot;lineCap&quot;: &quot;round&quot;, &quot;lineJoin&quot;: &quot;round&quot;, &quot;opacity&quot;: 1, &quot;radius&quot;: 0.10382432359185746, &quot;stroke&quot;: true, &quot;weight&quot;: 5}\n",
       "            ).addTo(map_72f736ba9fb575b0e7fdd036178bb489);\n",
       "        \n",
       "    \n",
       "        var popup_57527614f73b8999a210f07060a2acc1 = L.popup({&quot;maxWidth&quot;: &quot;100%&quot;});\n",
       "\n",
       "        \n",
       "            \n",
       "                var html_4ee5168ed9fa28e03cd0b4a4d0e2aa07 = $(`&lt;div id=&quot;html_4ee5168ed9fa28e03cd0b4a4d0e2aa07&quot; style=&quot;width: 100.0%; height: 100.0%;&quot;&gt;Valor Empenhado R$156882.28999999998&lt;/div&gt;`)[0];\n",
       "                popup_57527614f73b8999a210f07060a2acc1.setContent(html_4ee5168ed9fa28e03cd0b4a4d0e2aa07);\n",
       "            \n",
       "        \n",
       "\n",
       "        circle_marker_37da33b9f97c5848fed374371823195a.bindPopup(popup_57527614f73b8999a210f07060a2acc1)\n",
       "        ;\n",
       "\n",
       "        \n",
       "    \n",
       "    \n",
       "            circle_marker_37da33b9f97c5848fed374371823195a.bindTooltip(\n",
       "                `&lt;div&gt;\n",
       "                     Selbach\n",
       "                 &lt;/div&gt;`,\n",
       "                {&quot;sticky&quot;: true}\n",
       "            );\n",
       "        \n",
       "    \n",
       "            var circle_marker_b725cc51c3168b200fb8e5172c4d346e = L.circleMarker(\n",
       "                [-26.8747, -52.4036],\n",
       "                {&quot;bubblingMouseEvents&quot;: true, &quot;color&quot;: &quot;red&quot;, &quot;dashArray&quot;: null, &quot;dashOffset&quot;: null, &quot;fill&quot;: true, &quot;fillColor&quot;: &quot;#E8710A&quot;, &quot;fillOpacity&quot;: 0.6, &quot;fillRule&quot;: &quot;evenodd&quot;, &quot;lineCap&quot;: &quot;round&quot;, &quot;lineJoin&quot;: &quot;round&quot;, &quot;opacity&quot;: 1, &quot;radius&quot;: 0.0643862888682452, &quot;stroke&quot;: true, &quot;weight&quot;: 5}\n",
       "            ).addTo(map_72f736ba9fb575b0e7fdd036178bb489);\n",
       "        \n",
       "    \n",
       "        var popup_279b5edc149f02dea4d277669bb1ab73 = L.popup({&quot;maxWidth&quot;: &quot;100%&quot;});\n",
       "\n",
       "        \n",
       "            \n",
       "                var html_b953411b96fa772ec5709b0fe54871d7 = $(`&lt;div id=&quot;html_b953411b96fa772ec5709b0fe54871d7&quot; style=&quot;width: 100.0%; height: 100.0%;&quot;&gt;Valor Empenhado R$97290.0&lt;/div&gt;`)[0];\n",
       "                popup_279b5edc149f02dea4d277669bb1ab73.setContent(html_b953411b96fa772ec5709b0fe54871d7);\n",
       "            \n",
       "        \n",
       "\n",
       "        circle_marker_b725cc51c3168b200fb8e5172c4d346e.bindPopup(popup_279b5edc149f02dea4d277669bb1ab73)\n",
       "        ;\n",
       "\n",
       "        \n",
       "    \n",
       "    \n",
       "            circle_marker_b725cc51c3168b200fb8e5172c4d346e.bindTooltip(\n",
       "                `&lt;div&gt;\n",
       "                     Xanxerê\n",
       "                 &lt;/div&gt;`,\n",
       "                {&quot;sticky&quot;: true}\n",
       "            );\n",
       "        \n",
       "    \n",
       "            var circle_marker_bc5f00b4f7533a636e585eab769a55a5 = L.circleMarker(\n",
       "                [-29.4591, -51.9644],\n",
       "                {&quot;bubblingMouseEvents&quot;: true, &quot;color&quot;: &quot;red&quot;, &quot;dashArray&quot;: null, &quot;dashOffset&quot;: null, &quot;fill&quot;: true, &quot;fillColor&quot;: &quot;#E8710A&quot;, &quot;fillOpacity&quot;: 0.6, &quot;fillRule&quot;: &quot;evenodd&quot;, &quot;lineCap&quot;: &quot;round&quot;, &quot;lineJoin&quot;: &quot;round&quot;, &quot;opacity&quot;: 1, &quot;radius&quot;: 0.06150672146066695, &quot;stroke&quot;: true, &quot;weight&quot;: 5}\n",
       "            ).addTo(map_72f736ba9fb575b0e7fdd036178bb489);\n",
       "        \n",
       "    \n",
       "        var popup_c79a4d326ae53e765b66cd499e3b723e = L.popup({&quot;maxWidth&quot;: &quot;100%&quot;});\n",
       "\n",
       "        \n",
       "            \n",
       "                var html_4f5b85b73baf459232e9ffcfef3cecf3 = $(`&lt;div id=&quot;html_4f5b85b73baf459232e9ffcfef3cecf3&quot; style=&quot;width: 100.0%; height: 100.0%;&quot;&gt;Valor Empenhado R$92938.87000000001&lt;/div&gt;`)[0];\n",
       "                popup_c79a4d326ae53e765b66cd499e3b723e.setContent(html_4f5b85b73baf459232e9ffcfef3cecf3);\n",
       "            \n",
       "        \n",
       "\n",
       "        circle_marker_bc5f00b4f7533a636e585eab769a55a5.bindPopup(popup_c79a4d326ae53e765b66cd499e3b723e)\n",
       "        ;\n",
       "\n",
       "        \n",
       "    \n",
       "    \n",
       "            circle_marker_bc5f00b4f7533a636e585eab769a55a5.bindTooltip(\n",
       "                `&lt;div&gt;\n",
       "                     Lajeado\n",
       "                 &lt;/div&gt;`,\n",
       "                {&quot;sticky&quot;: true}\n",
       "            );\n",
       "        \n",
       "    \n",
       "            var circle_marker_54e63009fdfa0d83c968f8686ca49929 = L.circleMarker(\n",
       "                [-20.121, -40.3074],\n",
       "                {&quot;bubblingMouseEvents&quot;: true, &quot;color&quot;: &quot;red&quot;, &quot;dashArray&quot;: null, &quot;dashOffset&quot;: null, &quot;fill&quot;: true, &quot;fillColor&quot;: &quot;#E8710A&quot;, &quot;fillOpacity&quot;: 0.6, &quot;fillRule&quot;: &quot;evenodd&quot;, &quot;lineCap&quot;: &quot;round&quot;, &quot;lineJoin&quot;: &quot;round&quot;, &quot;opacity&quot;: 1, &quot;radius&quot;: 0.05982938881600196, &quot;stroke&quot;: true, &quot;weight&quot;: 5}\n",
       "            ).addTo(map_72f736ba9fb575b0e7fdd036178bb489);\n",
       "        \n",
       "    \n",
       "        var popup_8135d50b3fe3ef3b0986a388e1255411 = L.popup({&quot;maxWidth&quot;: &quot;100%&quot;});\n",
       "\n",
       "        \n",
       "            \n",
       "                var html_3f6ab478de148bf5cac8dca7298d79fb = $(`&lt;div id=&quot;html_3f6ab478de148bf5cac8dca7298d79fb&quot; style=&quot;width: 100.0%; height: 100.0%;&quot;&gt;Valor Empenhado R$90404.36&lt;/div&gt;`)[0];\n",
       "                popup_8135d50b3fe3ef3b0986a388e1255411.setContent(html_3f6ab478de148bf5cac8dca7298d79fb);\n",
       "            \n",
       "        \n",
       "\n",
       "        circle_marker_54e63009fdfa0d83c968f8686ca49929.bindPopup(popup_8135d50b3fe3ef3b0986a388e1255411)\n",
       "        ;\n",
       "\n",
       "        \n",
       "    \n",
       "    \n",
       "            circle_marker_54e63009fdfa0d83c968f8686ca49929.bindTooltip(\n",
       "                `&lt;div&gt;\n",
       "                     Serra\n",
       "                 &lt;/div&gt;`,\n",
       "                {&quot;sticky&quot;: true}\n",
       "            );\n",
       "        \n",
       "    \n",
       "            var circle_marker_f6fc7be72d20fcb232a6f150ebc7b286 = L.circleMarker(\n",
       "                [-27.6364, -52.2697],\n",
       "                {&quot;bubblingMouseEvents&quot;: true, &quot;color&quot;: &quot;red&quot;, &quot;dashArray&quot;: null, &quot;dashOffset&quot;: null, &quot;fill&quot;: true, &quot;fillColor&quot;: &quot;#E8710A&quot;, &quot;fillOpacity&quot;: 0.6, &quot;fillRule&quot;: &quot;evenodd&quot;, &quot;lineCap&quot;: &quot;round&quot;, &quot;lineJoin&quot;: &quot;round&quot;, &quot;opacity&quot;: 1, &quot;radius&quot;: 0.055574612605819904, &quot;stroke&quot;: true, &quot;weight&quot;: 5}\n",
       "            ).addTo(map_72f736ba9fb575b0e7fdd036178bb489);\n",
       "        \n",
       "    \n",
       "        var popup_1b22b7074e48976268171aa26cb8661e = L.popup({&quot;maxWidth&quot;: &quot;100%&quot;});\n",
       "\n",
       "        \n",
       "            \n",
       "                var html_7abbd9acabd097c5b4847d9e8501a575 = $(`&lt;div id=&quot;html_7abbd9acabd097c5b4847d9e8501a575&quot; style=&quot;width: 100.0%; height: 100.0%;&quot;&gt;Valor Empenhado R$83975.24&lt;/div&gt;`)[0];\n",
       "                popup_1b22b7074e48976268171aa26cb8661e.setContent(html_7abbd9acabd097c5b4847d9e8501a575);\n",
       "            \n",
       "        \n",
       "\n",
       "        circle_marker_f6fc7be72d20fcb232a6f150ebc7b286.bindPopup(popup_1b22b7074e48976268171aa26cb8661e)\n",
       "        ;\n",
       "\n",
       "        \n",
       "    \n",
       "    \n",
       "            circle_marker_f6fc7be72d20fcb232a6f150ebc7b286.bindTooltip(\n",
       "                `&lt;div&gt;\n",
       "                     Erechim\n",
       "                 &lt;/div&gt;`,\n",
       "                {&quot;sticky&quot;: true}\n",
       "            );\n",
       "        \n",
       "    \n",
       "            var circle_marker_7bf443cebe1d3a3062cd26cbb8f09eb3 = L.circleMarker(\n",
       "                [-26.2292, -52.6706],\n",
       "                {&quot;bubblingMouseEvents&quot;: true, &quot;color&quot;: &quot;red&quot;, &quot;dashArray&quot;: null, &quot;dashOffset&quot;: null, &quot;fill&quot;: true, &quot;fillColor&quot;: &quot;#E8710A&quot;, &quot;fillOpacity&quot;: 0.6, &quot;fillRule&quot;: &quot;evenodd&quot;, &quot;lineCap&quot;: &quot;round&quot;, &quot;lineJoin&quot;: &quot;round&quot;, &quot;opacity&quot;: 1, &quot;radius&quot;: 0.052973020045742204, &quot;stroke&quot;: true, &quot;weight&quot;: 5}\n",
       "            ).addTo(map_72f736ba9fb575b0e7fdd036178bb489);\n",
       "        \n",
       "    \n",
       "        var popup_726257aa404f935a083658143fb24b6f = L.popup({&quot;maxWidth&quot;: &quot;100%&quot;});\n",
       "\n",
       "        \n",
       "            \n",
       "                var html_4325e3743a7ce730e67205e36c09925d = $(`&lt;div id=&quot;html_4325e3743a7ce730e67205e36c09925d&quot; style=&quot;width: 100.0%; height: 100.0%;&quot;&gt;Valor Empenhado R$80044.14&lt;/div&gt;`)[0];\n",
       "                popup_726257aa404f935a083658143fb24b6f.setContent(html_4325e3743a7ce730e67205e36c09925d);\n",
       "            \n",
       "        \n",
       "\n",
       "        circle_marker_7bf443cebe1d3a3062cd26cbb8f09eb3.bindPopup(popup_726257aa404f935a083658143fb24b6f)\n",
       "        ;\n",
       "\n",
       "        \n",
       "    \n",
       "    \n",
       "            circle_marker_7bf443cebe1d3a3062cd26cbb8f09eb3.bindTooltip(\n",
       "                `&lt;div&gt;\n",
       "                     Pato Branco\n",
       "                 &lt;/div&gt;`,\n",
       "                {&quot;sticky&quot;: true}\n",
       "            );\n",
       "        \n",
       "    \n",
       "            var circle_marker_59150ea45eec9bc690fc106cfa4c9606 = L.circleMarker(\n",
       "                [-24.7246, -53.7412],\n",
       "                {&quot;bubblingMouseEvents&quot;: true, &quot;color&quot;: &quot;red&quot;, &quot;dashArray&quot;: null, &quot;dashOffset&quot;: null, &quot;fill&quot;: true, &quot;fillColor&quot;: &quot;#E8710A&quot;, &quot;fillOpacity&quot;: 0.6, &quot;fillRule&quot;: &quot;evenodd&quot;, &quot;lineCap&quot;: &quot;round&quot;, &quot;lineJoin&quot;: &quot;round&quot;, &quot;opacity&quot;: 1, &quot;radius&quot;: 0.04931953990236979, &quot;stroke&quot;: true, &quot;weight&quot;: 5}\n",
       "            ).addTo(map_72f736ba9fb575b0e7fdd036178bb489);\n",
       "        \n",
       "    \n",
       "        var popup_88635bd09e80bca4efcac6e7faf04e04 = L.popup({&quot;maxWidth&quot;: &quot;100%&quot;});\n",
       "\n",
       "        \n",
       "            \n",
       "                var html_ef6ba9711022750d24ff3b19907841de = $(`&lt;div id=&quot;html_ef6ba9711022750d24ff3b19907841de&quot; style=&quot;width: 100.0%; height: 100.0%;&quot;&gt;Valor Empenhado R$74523.6&lt;/div&gt;`)[0];\n",
       "                popup_88635bd09e80bca4efcac6e7faf04e04.setContent(html_ef6ba9711022750d24ff3b19907841de);\n",
       "            \n",
       "        \n",
       "\n",
       "        circle_marker_59150ea45eec9bc690fc106cfa4c9606.bindPopup(popup_88635bd09e80bca4efcac6e7faf04e04)\n",
       "        ;\n",
       "\n",
       "        \n",
       "    \n",
       "    \n",
       "            circle_marker_59150ea45eec9bc690fc106cfa4c9606.bindTooltip(\n",
       "                `&lt;div&gt;\n",
       "                     Toledo\n",
       "                 &lt;/div&gt;`,\n",
       "                {&quot;sticky&quot;: true}\n",
       "            );\n",
       "        \n",
       "    \n",
       "            var circle_marker_b437111faac26da1a81fa02adbfa0ff6 = L.circleMarker(\n",
       "                [-27.7051, -52.4169],\n",
       "                {&quot;bubblingMouseEvents&quot;: true, &quot;color&quot;: &quot;red&quot;, &quot;dashArray&quot;: null, &quot;dashOffset&quot;: null, &quot;fill&quot;: true, &quot;fillColor&quot;: &quot;#E8710A&quot;, &quot;fillOpacity&quot;: 0.6, &quot;fillRule&quot;: &quot;evenodd&quot;, &quot;lineCap&quot;: &quot;round&quot;, &quot;lineJoin&quot;: &quot;round&quot;, &quot;opacity&quot;: 1, &quot;radius&quot;: 0.04094762814763234, &quot;stroke&quot;: true, &quot;weight&quot;: 5}\n",
       "            ).addTo(map_72f736ba9fb575b0e7fdd036178bb489);\n",
       "        \n",
       "    \n",
       "        var popup_5a10a3642d4f864bcc56e2cae57c045e = L.popup({&quot;maxWidth&quot;: &quot;100%&quot;});\n",
       "\n",
       "        \n",
       "            \n",
       "                var html_1ff9a28e9b89eb9666d9bf20c7e10f0d = $(`&lt;div id=&quot;html_1ff9a28e9b89eb9666d9bf20c7e10f0d&quot; style=&quot;width: 100.0%; height: 100.0%;&quot;&gt;Valor Empenhado R$61873.34&lt;/div&gt;`)[0];\n",
       "                popup_5a10a3642d4f864bcc56e2cae57c045e.setContent(html_1ff9a28e9b89eb9666d9bf20c7e10f0d);\n",
       "            \n",
       "        \n",
       "\n",
       "        circle_marker_b437111faac26da1a81fa02adbfa0ff6.bindPopup(popup_5a10a3642d4f864bcc56e2cae57c045e)\n",
       "        ;\n",
       "\n",
       "        \n",
       "    \n",
       "    \n",
       "            circle_marker_b437111faac26da1a81fa02adbfa0ff6.bindTooltip(\n",
       "                `&lt;div&gt;\n",
       "                     Paulo Bento\n",
       "                 &lt;/div&gt;`,\n",
       "                {&quot;sticky&quot;: true}\n",
       "            );\n",
       "        \n",
       "    \n",
       "            var circle_marker_113c81ed039c5f4c8836d9f9e6d8edc7 = L.circleMarker(\n",
       "                [-29.4856, -51.3548],\n",
       "                {&quot;bubblingMouseEvents&quot;: true, &quot;color&quot;: &quot;red&quot;, &quot;dashArray&quot;: null, &quot;dashOffset&quot;: null, &quot;fill&quot;: true, &quot;fillColor&quot;: &quot;#E8710A&quot;, &quot;fillOpacity&quot;: 0.6, &quot;fillRule&quot;: &quot;evenodd&quot;, &quot;lineCap&quot;: &quot;round&quot;, &quot;lineJoin&quot;: &quot;round&quot;, &quot;opacity&quot;: 1, &quot;radius&quot;: 0.04008161303932513, &quot;stroke&quot;: true, &quot;weight&quot;: 5}\n",
       "            ).addTo(map_72f736ba9fb575b0e7fdd036178bb489);\n",
       "        \n",
       "    \n",
       "        var popup_a764d0c1b8b2ad74242cce1099697fd1 = L.popup({&quot;maxWidth&quot;: &quot;100%&quot;});\n",
       "\n",
       "        \n",
       "            \n",
       "                var html_a1d4228f2b96a766489f93dae80800f2 = $(`&lt;div id=&quot;html_a1d4228f2b96a766489f93dae80800f2&quot; style=&quot;width: 100.0%; height: 100.0%;&quot;&gt;Valor Empenhado R$60564.759999999995&lt;/div&gt;`)[0];\n",
       "                popup_a764d0c1b8b2ad74242cce1099697fd1.setContent(html_a1d4228f2b96a766489f93dae80800f2);\n",
       "            \n",
       "        \n",
       "\n",
       "        circle_marker_113c81ed039c5f4c8836d9f9e6d8edc7.bindPopup(popup_a764d0c1b8b2ad74242cce1099697fd1)\n",
       "        ;\n",
       "\n",
       "        \n",
       "    \n",
       "    \n",
       "            circle_marker_113c81ed039c5f4c8836d9f9e6d8edc7.bindTooltip(\n",
       "                `&lt;div&gt;\n",
       "                     Bom Princípio\n",
       "                 &lt;/div&gt;`,\n",
       "                {&quot;sticky&quot;: true}\n",
       "            );\n",
       "        \n",
       "    \n",
       "            var circle_marker_6d824951c916957521c3df113c74a86a = L.circleMarker(\n",
       "                [-27.5003, -52.1448],\n",
       "                {&quot;bubblingMouseEvents&quot;: true, &quot;color&quot;: &quot;red&quot;, &quot;dashArray&quot;: null, &quot;dashOffset&quot;: null, &quot;fill&quot;: true, &quot;fillColor&quot;: &quot;#E8710A&quot;, &quot;fillOpacity&quot;: 0.6, &quot;fillRule&quot;: &quot;evenodd&quot;, &quot;lineCap&quot;: &quot;round&quot;, &quot;lineJoin&quot;: &quot;round&quot;, &quot;opacity&quot;: 1, &quot;radius&quot;: 0.037926879457247396, &quot;stroke&quot;: true, &quot;weight&quot;: 5}\n",
       "            ).addTo(map_72f736ba9fb575b0e7fdd036178bb489);\n",
       "        \n",
       "    \n",
       "        var popup_0398b109a07b01c14a65a944ab4ca764 = L.popup({&quot;maxWidth&quot;: &quot;100%&quot;});\n",
       "\n",
       "        \n",
       "            \n",
       "                var html_6b7b6751f8fb4f407ab053e8c35dbca7 = $(`&lt;div id=&quot;html_6b7b6751f8fb4f407ab053e8c35dbca7&quot; style=&quot;width: 100.0%; height: 100.0%;&quot;&gt;Valor Empenhado R$57308.88&lt;/div&gt;`)[0];\n",
       "                popup_0398b109a07b01c14a65a944ab4ca764.setContent(html_6b7b6751f8fb4f407ab053e8c35dbca7);\n",
       "            \n",
       "        \n",
       "\n",
       "        circle_marker_6d824951c916957521c3df113c74a86a.bindPopup(popup_0398b109a07b01c14a65a944ab4ca764)\n",
       "        ;\n",
       "\n",
       "        \n",
       "    \n",
       "    \n",
       "            circle_marker_6d824951c916957521c3df113c74a86a.bindTooltip(\n",
       "                `&lt;div&gt;\n",
       "                     Três Arroios\n",
       "                 &lt;/div&gt;`,\n",
       "                {&quot;sticky&quot;: true}\n",
       "            );\n",
       "        \n",
       "    \n",
       "            var circle_marker_d7c94e5ddaeed6dbea43071dcfc809d5 = L.circleMarker(\n",
       "                [-28.5632, -52.7495],\n",
       "                {&quot;bubblingMouseEvents&quot;: true, &quot;color&quot;: &quot;red&quot;, &quot;dashArray&quot;: null, &quot;dashOffset&quot;: null, &quot;fill&quot;: true, &quot;fillColor&quot;: &quot;#E8710A&quot;, &quot;fillOpacity&quot;: 0.6, &quot;fillRule&quot;: &quot;evenodd&quot;, &quot;lineCap&quot;: &quot;round&quot;, &quot;lineJoin&quot;: &quot;round&quot;, &quot;opacity&quot;: 1, &quot;radius&quot;: 0.034512745035245006, &quot;stroke&quot;: true, &quot;weight&quot;: 5}\n",
       "            ).addTo(map_72f736ba9fb575b0e7fdd036178bb489);\n",
       "        \n",
       "    \n",
       "        var popup_64afc08e5fbd067d2ba3de5a582ef20c = L.popup({&quot;maxWidth&quot;: &quot;100%&quot;});\n",
       "\n",
       "        \n",
       "            \n",
       "                var html_81e124947e0664448f158b7822ed5653 = $(`&lt;div id=&quot;html_81e124947e0664448f158b7822ed5653&quot; style=&quot;width: 100.0%; height: 100.0%;&quot;&gt;Valor Empenhado R$52150.0&lt;/div&gt;`)[0];\n",
       "                popup_64afc08e5fbd067d2ba3de5a582ef20c.setContent(html_81e124947e0664448f158b7822ed5653);\n",
       "            \n",
       "        \n",
       "\n",
       "        circle_marker_d7c94e5ddaeed6dbea43071dcfc809d5.bindPopup(popup_64afc08e5fbd067d2ba3de5a582ef20c)\n",
       "        ;\n",
       "\n",
       "        \n",
       "    \n",
       "    \n",
       "            circle_marker_d7c94e5ddaeed6dbea43071dcfc809d5.bindTooltip(\n",
       "                `&lt;div&gt;\n",
       "                     Victor Graeff\n",
       "                 &lt;/div&gt;`,\n",
       "                {&quot;sticky&quot;: true}\n",
       "            );\n",
       "        \n",
       "    \n",
       "            var circle_marker_2bfbf8fcbde7e1fabb47ee3be934c55c = L.circleMarker(\n",
       "                [-27.6208, -52.3798],\n",
       "                {&quot;bubblingMouseEvents&quot;: true, &quot;color&quot;: &quot;red&quot;, &quot;dashArray&quot;: null, &quot;dashOffset&quot;: null, &quot;fill&quot;: true, &quot;fillColor&quot;: &quot;#E8710A&quot;, &quot;fillOpacity&quot;: 0.6, &quot;fillRule&quot;: &quot;evenodd&quot;, &quot;lineCap&quot;: &quot;round&quot;, &quot;lineJoin&quot;: &quot;round&quot;, &quot;opacity&quot;: 1, &quot;radius&quot;: 0.0317348959193622, &quot;stroke&quot;: true, &quot;weight&quot;: 5}\n",
       "            ).addTo(map_72f736ba9fb575b0e7fdd036178bb489);\n",
       "        \n",
       "    \n",
       "        var popup_e7d482528687d2f888a559e7fe322dfb = L.popup({&quot;maxWidth&quot;: &quot;100%&quot;});\n",
       "\n",
       "        \n",
       "            \n",
       "                var html_97358085d89bc6afcd84c2dc6355a714 = $(`&lt;div id=&quot;html_97358085d89bc6afcd84c2dc6355a714&quot; style=&quot;width: 100.0%; height: 100.0%;&quot;&gt;Valor Empenhado R$47952.57&lt;/div&gt;`)[0];\n",
       "                popup_e7d482528687d2f888a559e7fe322dfb.setContent(html_97358085d89bc6afcd84c2dc6355a714);\n",
       "            \n",
       "        \n",
       "\n",
       "        circle_marker_2bfbf8fcbde7e1fabb47ee3be934c55c.bindPopup(popup_e7d482528687d2f888a559e7fe322dfb)\n",
       "        ;\n",
       "\n",
       "        \n",
       "    \n",
       "    \n",
       "            circle_marker_2bfbf8fcbde7e1fabb47ee3be934c55c.bindTooltip(\n",
       "                `&lt;div&gt;\n",
       "                     Barão de Cotegipe\n",
       "                 &lt;/div&gt;`,\n",
       "                {&quot;sticky&quot;: true}\n",
       "            );\n",
       "        \n",
       "    \n",
       "            var circle_marker_4a99c1b6455d7c4d450f1e040d8fb378 = L.circleMarker(\n",
       "                [-27.0704, -52.867],\n",
       "                {&quot;bubblingMouseEvents&quot;: true, &quot;color&quot;: &quot;red&quot;, &quot;dashArray&quot;: null, &quot;dashOffset&quot;: null, &quot;fill&quot;: true, &quot;fillColor&quot;: &quot;#E8710A&quot;, &quot;fillOpacity&quot;: 0.6, &quot;fillRule&quot;: &quot;evenodd&quot;, &quot;lineCap&quot;: &quot;round&quot;, &quot;lineJoin&quot;: &quot;round&quot;, &quot;opacity&quot;: 1, &quot;radius&quot;: 0.028386517707267803, &quot;stroke&quot;: true, &quot;weight&quot;: 5}\n",
       "            ).addTo(map_72f736ba9fb575b0e7fdd036178bb489);\n",
       "        \n",
       "    \n",
       "        var popup_44cf9deb170539115e04d73a93a1f867 = L.popup({&quot;maxWidth&quot;: &quot;100%&quot;});\n",
       "\n",
       "        \n",
       "            \n",
       "                var html_275640e96e832d0ebd0772403ab065ba = $(`&lt;div id=&quot;html_275640e96e832d0ebd0772403ab065ba&quot; style=&quot;width: 100.0%; height: 100.0%;&quot;&gt;Valor Empenhado R$42893.05&lt;/div&gt;`)[0];\n",
       "                popup_44cf9deb170539115e04d73a93a1f867.setContent(html_275640e96e832d0ebd0772403ab065ba);\n",
       "            \n",
       "        \n",
       "\n",
       "        circle_marker_4a99c1b6455d7c4d450f1e040d8fb378.bindPopup(popup_44cf9deb170539115e04d73a93a1f867)\n",
       "        ;\n",
       "\n",
       "        \n",
       "    \n",
       "    \n",
       "            circle_marker_4a99c1b6455d7c4d450f1e040d8fb378.bindTooltip(\n",
       "                `&lt;div&gt;\n",
       "                     Planalto Alegre\n",
       "                 &lt;/div&gt;`,\n",
       "                {&quot;sticky&quot;: true}\n",
       "            );\n",
       "        \n",
       "    \n",
       "            var circle_marker_d50bde2951b21f5fc84ec19a47ce66fc = L.circleMarker(\n",
       "                [-29.4527, -51.3032],\n",
       "                {&quot;bubblingMouseEvents&quot;: true, &quot;color&quot;: &quot;red&quot;, &quot;dashArray&quot;: null, &quot;dashOffset&quot;: null, &quot;fill&quot;: true, &quot;fillColor&quot;: &quot;#E8710A&quot;, &quot;fillOpacity&quot;: 0.6, &quot;fillRule&quot;: &quot;evenodd&quot;, &quot;lineCap&quot;: &quot;round&quot;, &quot;lineJoin&quot;: &quot;round&quot;, &quot;opacity&quot;: 1, &quot;radius&quot;: 0.02335312999830499, &quot;stroke&quot;: true, &quot;weight&quot;: 5}\n",
       "            ).addTo(map_72f736ba9fb575b0e7fdd036178bb489);\n",
       "        \n",
       "    \n",
       "        var popup_8ba11118b6d8724b6e144e518b8ff5ba = L.popup({&quot;maxWidth&quot;: &quot;100%&quot;});\n",
       "\n",
       "        \n",
       "            \n",
       "                var html_015a2e4b84b56edfafae262eb3279dbd = $(`&lt;div id=&quot;html_015a2e4b84b56edfafae262eb3279dbd&quot; style=&quot;width: 100.0%; height: 100.0%;&quot;&gt;Valor Empenhado R$35287.42&lt;/div&gt;`)[0];\n",
       "                popup_8ba11118b6d8724b6e144e518b8ff5ba.setContent(html_015a2e4b84b56edfafae262eb3279dbd);\n",
       "            \n",
       "        \n",
       "\n",
       "        circle_marker_d50bde2951b21f5fc84ec19a47ce66fc.bindPopup(popup_8ba11118b6d8724b6e144e518b8ff5ba)\n",
       "        ;\n",
       "\n",
       "        \n",
       "    \n",
       "    \n",
       "            circle_marker_d50bde2951b21f5fc84ec19a47ce66fc.bindTooltip(\n",
       "                `&lt;div&gt;\n",
       "                     Feliz\n",
       "                 &lt;/div&gt;`,\n",
       "                {&quot;sticky&quot;: true}\n",
       "            );\n",
       "        \n",
       "    \n",
       "            var circle_marker_7647b175a551c827bf4b3867b65d878f = L.circleMarker(\n",
       "                [-29.4482, -51.8044],\n",
       "                {&quot;bubblingMouseEvents&quot;: true, &quot;color&quot;: &quot;red&quot;, &quot;dashArray&quot;: null, &quot;dashOffset&quot;: null, &quot;fill&quot;: true, &quot;fillColor&quot;: &quot;#E8710A&quot;, &quot;fillOpacity&quot;: 0.6, &quot;fillRule&quot;: &quot;evenodd&quot;, &quot;lineCap&quot;: &quot;round&quot;, &quot;lineJoin&quot;: &quot;round&quot;, &quot;opacity&quot;: 1, &quot;radius&quot;: 0.022944516303825387, &quot;stroke&quot;: true, &quot;weight&quot;: 5}\n",
       "            ).addTo(map_72f736ba9fb575b0e7fdd036178bb489);\n",
       "        \n",
       "    \n",
       "        var popup_b7adca6ad79785f8a57b57ce9b52c3d7 = L.popup({&quot;maxWidth&quot;: &quot;100%&quot;});\n",
       "\n",
       "        \n",
       "            \n",
       "                var html_aa63d4d8df90dc56e7a493c414e047c8 = $(`&lt;div id=&quot;html_aa63d4d8df90dc56e7a493c414e047c8&quot; style=&quot;width: 100.0%; height: 100.0%;&quot;&gt;Valor Empenhado R$34669.99&lt;/div&gt;`)[0];\n",
       "                popup_b7adca6ad79785f8a57b57ce9b52c3d7.setContent(html_aa63d4d8df90dc56e7a493c414e047c8);\n",
       "            \n",
       "        \n",
       "\n",
       "        circle_marker_7647b175a551c827bf4b3867b65d878f.bindPopup(popup_b7adca6ad79785f8a57b57ce9b52c3d7)\n",
       "        ;\n",
       "\n",
       "        \n",
       "    \n",
       "    \n",
       "            circle_marker_7647b175a551c827bf4b3867b65d878f.bindTooltip(\n",
       "                `&lt;div&gt;\n",
       "                     Teutônia\n",
       "                 &lt;/div&gt;`,\n",
       "                {&quot;sticky&quot;: true}\n",
       "            );\n",
       "        \n",
       "    \n",
       "            var circle_marker_b9ed6fdd93cba51a548fb89e414864f5 = L.circleMarker(\n",
       "                [-27.7707, -51.5966],\n",
       "                {&quot;bubblingMouseEvents&quot;: true, &quot;color&quot;: &quot;red&quot;, &quot;dashArray&quot;: null, &quot;dashOffset&quot;: null, &quot;fill&quot;: true, &quot;fillColor&quot;: &quot;#E8710A&quot;, &quot;fillOpacity&quot;: 0.6, &quot;fillRule&quot;: &quot;evenodd&quot;, &quot;lineCap&quot;: &quot;round&quot;, &quot;lineJoin&quot;: &quot;round&quot;, &quot;opacity&quot;: 1, &quot;radius&quot;: 0.022898197089539354, &quot;stroke&quot;: true, &quot;weight&quot;: 5}\n",
       "            ).addTo(map_72f736ba9fb575b0e7fdd036178bb489);\n",
       "        \n",
       "    \n",
       "        var popup_05e3d01b03d0b4999fada27aae031566 = L.popup({&quot;maxWidth&quot;: &quot;100%&quot;});\n",
       "\n",
       "        \n",
       "            \n",
       "                var html_94de59a005245b2b9f4002ff53722b2b = $(`&lt;div id=&quot;html_94de59a005245b2b9f4002ff53722b2b&quot; style=&quot;width: 100.0%; height: 100.0%;&quot;&gt;Valor Empenhado R$34600.0&lt;/div&gt;`)[0];\n",
       "                popup_05e3d01b03d0b4999fada27aae031566.setContent(html_94de59a005245b2b9f4002ff53722b2b);\n",
       "            \n",
       "        \n",
       "\n",
       "        circle_marker_b9ed6fdd93cba51a548fb89e414864f5.bindPopup(popup_05e3d01b03d0b4999fada27aae031566)\n",
       "        ;\n",
       "\n",
       "        \n",
       "    \n",
       "    \n",
       "            circle_marker_b9ed6fdd93cba51a548fb89e414864f5.bindTooltip(\n",
       "                `&lt;div&gt;\n",
       "                     São José do Ouro\n",
       "                 &lt;/div&gt;`,\n",
       "                {&quot;sticky&quot;: true}\n",
       "            );\n",
       "        \n",
       "    \n",
       "            var circle_marker_75f74ebcc11fe0eb5c9dcc785106a8e8 = L.circleMarker(\n",
       "                [-29.0451, -51.7684],\n",
       "                {&quot;bubblingMouseEvents&quot;: true, &quot;color&quot;: &quot;red&quot;, &quot;dashArray&quot;: null, &quot;dashOffset&quot;: null, &quot;fill&quot;: true, &quot;fillColor&quot;: &quot;#E8710A&quot;, &quot;fillOpacity&quot;: 0.6, &quot;fillRule&quot;: &quot;evenodd&quot;, &quot;lineCap&quot;: &quot;round&quot;, &quot;lineJoin&quot;: &quot;round&quot;, &quot;opacity&quot;: 1, &quot;radius&quot;: 0.021474855747215246, &quot;stroke&quot;: true, &quot;weight&quot;: 5}\n",
       "            ).addTo(map_72f736ba9fb575b0e7fdd036178bb489);\n",
       "        \n",
       "    \n",
       "        var popup_008214db77b0443d2614ca4b883a56db = L.popup({&quot;maxWidth&quot;: &quot;100%&quot;});\n",
       "\n",
       "        \n",
       "            \n",
       "                var html_b28ecde492ba27df101dea741d334bfb = $(`&lt;div id=&quot;html_b28ecde492ba27df101dea741d334bfb&quot; style=&quot;width: 100.0%; height: 100.0%;&quot;&gt;Valor Empenhado R$32449.28&lt;/div&gt;`)[0];\n",
       "                popup_008214db77b0443d2614ca4b883a56db.setContent(html_b28ecde492ba27df101dea741d334bfb);\n",
       "            \n",
       "        \n",
       "\n",
       "        circle_marker_75f74ebcc11fe0eb5c9dcc785106a8e8.bindPopup(popup_008214db77b0443d2614ca4b883a56db)\n",
       "        ;\n",
       "\n",
       "        \n",
       "    \n",
       "    \n",
       "            circle_marker_75f74ebcc11fe0eb5c9dcc785106a8e8.bindTooltip(\n",
       "                `&lt;div&gt;\n",
       "                     São Valentim do Sul\n",
       "                 &lt;/div&gt;`,\n",
       "                {&quot;sticky&quot;: true}\n",
       "            );\n",
       "        \n",
       "    \n",
       "            var circle_marker_9d6a3be8bd82d2977617cf1a6c890881 = L.circleMarker(\n",
       "                [-26.9155, -49.0709],\n",
       "                {&quot;bubblingMouseEvents&quot;: true, &quot;color&quot;: &quot;red&quot;, &quot;dashArray&quot;: null, &quot;dashOffset&quot;: null, &quot;fill&quot;: true, &quot;fillColor&quot;: &quot;#E8710A&quot;, &quot;fillOpacity&quot;: 0.6, &quot;fillRule&quot;: &quot;evenodd&quot;, &quot;lineCap&quot;: &quot;round&quot;, &quot;lineJoin&quot;: &quot;round&quot;, &quot;opacity&quot;: 1, &quot;radius&quot;: 0.019787655700278444, &quot;stroke&quot;: true, &quot;weight&quot;: 5}\n",
       "            ).addTo(map_72f736ba9fb575b0e7fdd036178bb489);\n",
       "        \n",
       "    \n",
       "        var popup_6ba32d99de69b0c1f45492c3c03f63b2 = L.popup({&quot;maxWidth&quot;: &quot;100%&quot;});\n",
       "\n",
       "        \n",
       "            \n",
       "                var html_db952d459bb80268fd70ef487580b255 = $(`&lt;div id=&quot;html_db952d459bb80268fd70ef487580b255&quot; style=&quot;width: 100.0%; height: 100.0%;&quot;&gt;Valor Empenhado R$29899.86&lt;/div&gt;`)[0];\n",
       "                popup_6ba32d99de69b0c1f45492c3c03f63b2.setContent(html_db952d459bb80268fd70ef487580b255);\n",
       "            \n",
       "        \n",
       "\n",
       "        circle_marker_9d6a3be8bd82d2977617cf1a6c890881.bindPopup(popup_6ba32d99de69b0c1f45492c3c03f63b2)\n",
       "        ;\n",
       "\n",
       "        \n",
       "    \n",
       "    \n",
       "            circle_marker_9d6a3be8bd82d2977617cf1a6c890881.bindTooltip(\n",
       "                `&lt;div&gt;\n",
       "                     Blumenau\n",
       "                 &lt;/div&gt;`,\n",
       "                {&quot;sticky&quot;: true}\n",
       "            );\n",
       "        \n",
       "    \n",
       "            var circle_marker_bdd6f3d108c4e0e93b44b417da47e846 = L.circleMarker(\n",
       "                [-28.2958, -52.7933],\n",
       "                {&quot;bubblingMouseEvents&quot;: true, &quot;color&quot;: &quot;red&quot;, &quot;dashArray&quot;: null, &quot;dashOffset&quot;: null, &quot;fill&quot;: true, &quot;fillColor&quot;: &quot;#E8710A&quot;, &quot;fillOpacity&quot;: 0.6, &quot;fillRule&quot;: &quot;evenodd&quot;, &quot;lineCap&quot;: &quot;round&quot;, &quot;lineJoin&quot;: &quot;round&quot;, &quot;opacity&quot;: 1, &quot;radius&quot;: 0.019356256314301934, &quot;stroke&quot;: true, &quot;weight&quot;: 5}\n",
       "            ).addTo(map_72f736ba9fb575b0e7fdd036178bb489);\n",
       "        \n",
       "    \n",
       "        var popup_d5583fb5877dcc1ddbe018bba8e03b0d = L.popup({&quot;maxWidth&quot;: &quot;100%&quot;});\n",
       "\n",
       "        \n",
       "            \n",
       "                var html_249f40442c55d5e02efb3cf0de3e3ebe = $(`&lt;div id=&quot;html_249f40442c55d5e02efb3cf0de3e3ebe&quot; style=&quot;width: 100.0%; height: 100.0%;&quot;&gt;Valor Empenhado R$29248.0&lt;/div&gt;`)[0];\n",
       "                popup_d5583fb5877dcc1ddbe018bba8e03b0d.setContent(html_249f40442c55d5e02efb3cf0de3e3ebe);\n",
       "            \n",
       "        \n",
       "\n",
       "        circle_marker_bdd6f3d108c4e0e93b44b417da47e846.bindPopup(popup_d5583fb5877dcc1ddbe018bba8e03b0d)\n",
       "        ;\n",
       "\n",
       "        \n",
       "    \n",
       "    \n",
       "            circle_marker_bdd6f3d108c4e0e93b44b417da47e846.bindTooltip(\n",
       "                `&lt;div&gt;\n",
       "                     Carazinho\n",
       "                 &lt;/div&gt;`,\n",
       "                {&quot;sticky&quot;: true}\n",
       "            );\n",
       "        \n",
       "    \n",
       "            var circle_marker_dfd27091fe0a6ce13dbecbf6aa0ed763 = L.circleMarker(\n",
       "                [-28.0566, -51.8599],\n",
       "                {&quot;bubblingMouseEvents&quot;: true, &quot;color&quot;: &quot;red&quot;, &quot;dashArray&quot;: null, &quot;dashOffset&quot;: null, &quot;fill&quot;: true, &quot;fillColor&quot;: &quot;#E8710A&quot;, &quot;fillOpacity&quot;: 0.6, &quot;fillRule&quot;: &quot;evenodd&quot;, &quot;lineCap&quot;: &quot;round&quot;, &quot;lineJoin&quot;: &quot;round&quot;, &quot;opacity&quot;: 1, &quot;radius&quot;: 0.018481459151793046, &quot;stroke&quot;: true, &quot;weight&quot;: 5}\n",
       "            ).addTo(map_72f736ba9fb575b0e7fdd036178bb489);\n",
       "        \n",
       "    \n",
       "        var popup_ab54442e8a09a252e8f22d8ce964e1cd = L.popup({&quot;maxWidth&quot;: &quot;100%&quot;});\n",
       "\n",
       "        \n",
       "            \n",
       "                var html_b254e94329913e613d5ad12f0d765566 = $(`&lt;div id=&quot;html_b254e94329913e613d5ad12f0d765566&quot; style=&quot;width: 100.0%; height: 100.0%;&quot;&gt;Valor Empenhado R$27926.15&lt;/div&gt;`)[0];\n",
       "                popup_ab54442e8a09a252e8f22d8ce964e1cd.setContent(html_b254e94329913e613d5ad12f0d765566);\n",
       "            \n",
       "        \n",
       "\n",
       "        circle_marker_dfd27091fe0a6ce13dbecbf6aa0ed763.bindPopup(popup_ab54442e8a09a252e8f22d8ce964e1cd)\n",
       "        ;\n",
       "\n",
       "        \n",
       "    \n",
       "    \n",
       "            circle_marker_dfd27091fe0a6ce13dbecbf6aa0ed763.bindTooltip(\n",
       "                `&lt;div&gt;\n",
       "                     Ibiaçá\n",
       "                 &lt;/div&gt;`,\n",
       "                {&quot;sticky&quot;: true}\n",
       "            );\n",
       "        \n",
       "    \n",
       "            var circle_marker_67564c4a0751dfa544c64124d519b1f6 = L.circleMarker(\n",
       "                [-28.1463, -54.7428],\n",
       "                {&quot;bubblingMouseEvents&quot;: true, &quot;color&quot;: &quot;red&quot;, &quot;dashArray&quot;: null, &quot;dashOffset&quot;: null, &quot;fill&quot;: true, &quot;fillColor&quot;: &quot;#E8710A&quot;, &quot;fillOpacity&quot;: 0.6, &quot;fillRule&quot;: &quot;evenodd&quot;, &quot;lineCap&quot;: &quot;round&quot;, &quot;lineJoin&quot;: &quot;round&quot;, &quot;opacity&quot;: 1, &quot;radius&quot;: 0.017646171306227667, &quot;stroke&quot;: true, &quot;weight&quot;: 5}\n",
       "            ).addTo(map_72f736ba9fb575b0e7fdd036178bb489);\n",
       "        \n",
       "    \n",
       "        var popup_52d541fe84e7b8239c96351b2b810da0 = L.popup({&quot;maxWidth&quot;: &quot;100%&quot;});\n",
       "\n",
       "        \n",
       "            \n",
       "                var html_fa53715218974689a5043d12e0431389 = $(`&lt;div id=&quot;html_fa53715218974689a5043d12e0431389&quot; style=&quot;width: 100.0%; height: 100.0%;&quot;&gt;Valor Empenhado R$26664.0&lt;/div&gt;`)[0];\n",
       "                popup_52d541fe84e7b8239c96351b2b810da0.setContent(html_fa53715218974689a5043d12e0431389);\n",
       "            \n",
       "        \n",
       "\n",
       "        circle_marker_67564c4a0751dfa544c64124d519b1f6.bindPopup(popup_52d541fe84e7b8239c96351b2b810da0)\n",
       "        ;\n",
       "\n",
       "        \n",
       "    \n",
       "    \n",
       "            circle_marker_67564c4a0751dfa544c64124d519b1f6.bindTooltip(\n",
       "                `&lt;div&gt;\n",
       "                     Cerro Largo\n",
       "                 &lt;/div&gt;`,\n",
       "                {&quot;sticky&quot;: true}\n",
       "            );\n",
       "        \n",
       "    \n",
       "            var circle_marker_320b42636497e1e727452be493bebc95 = L.circleMarker(\n",
       "                [-29.8268, -50.5175],\n",
       "                {&quot;bubblingMouseEvents&quot;: true, &quot;color&quot;: &quot;red&quot;, &quot;dashArray&quot;: null, &quot;dashOffset&quot;: null, &quot;fill&quot;: true, &quot;fillColor&quot;: &quot;#E8710A&quot;, &quot;fillOpacity&quot;: 0.6, &quot;fillRule&quot;: &quot;evenodd&quot;, &quot;lineCap&quot;: &quot;round&quot;, &quot;lineJoin&quot;: &quot;round&quot;, &quot;opacity&quot;: 1, &quot;radius&quot;: 0.01707496717646026, &quot;stroke&quot;: true, &quot;weight&quot;: 5}\n",
       "            ).addTo(map_72f736ba9fb575b0e7fdd036178bb489);\n",
       "        \n",
       "    \n",
       "        var popup_854d6dd057ea5cc2cc40b3e812a30404 = L.popup({&quot;maxWidth&quot;: &quot;100%&quot;});\n",
       "\n",
       "        \n",
       "            \n",
       "                var html_ac10601027db6b50b7054ca7b971037b = $(`&lt;div id=&quot;html_ac10601027db6b50b7054ca7b971037b&quot; style=&quot;width: 100.0%; height: 100.0%;&quot;&gt;Valor Empenhado R$25800.89&lt;/div&gt;`)[0];\n",
       "                popup_854d6dd057ea5cc2cc40b3e812a30404.setContent(html_ac10601027db6b50b7054ca7b971037b);\n",
       "            \n",
       "        \n",
       "\n",
       "        circle_marker_320b42636497e1e727452be493bebc95.bindPopup(popup_854d6dd057ea5cc2cc40b3e812a30404)\n",
       "        ;\n",
       "\n",
       "        \n",
       "    \n",
       "    \n",
       "            circle_marker_320b42636497e1e727452be493bebc95.bindTooltip(\n",
       "                `&lt;div&gt;\n",
       "                     Santo Antônio da Patrulha\n",
       "                 &lt;/div&gt;`,\n",
       "                {&quot;sticky&quot;: true}\n",
       "            );\n",
       "        \n",
       "    \n",
       "            var circle_marker_a621b8e6a849425f76fc2f9021a0a371 = L.circleMarker(\n",
       "                [-31.7649, -52.3371],\n",
       "                {&quot;bubblingMouseEvents&quot;: true, &quot;color&quot;: &quot;red&quot;, &quot;dashArray&quot;: null, &quot;dashOffset&quot;: null, &quot;fill&quot;: true, &quot;fillColor&quot;: &quot;#E8710A&quot;, &quot;fillOpacity&quot;: 0.6, &quot;fillRule&quot;: &quot;evenodd&quot;, &quot;lineCap&quot;: &quot;round&quot;, &quot;lineJoin&quot;: &quot;round&quot;, &quot;opacity&quot;: 1, &quot;radius&quot;: 0.014559547282366062, &quot;stroke&quot;: true, &quot;weight&quot;: 5}\n",
       "            ).addTo(map_72f736ba9fb575b0e7fdd036178bb489);\n",
       "        \n",
       "    \n",
       "        var popup_d649afcca6afbb2aa531fda8788ce16e = L.popup({&quot;maxWidth&quot;: &quot;100%&quot;});\n",
       "\n",
       "        \n",
       "            \n",
       "                var html_bc486963c660e9e4031ec7128fe0ca97 = $(`&lt;div id=&quot;html_bc486963c660e9e4031ec7128fe0ca97&quot; style=&quot;width: 100.0%; height: 100.0%;&quot;&gt;Valor Empenhado R$22000.0&lt;/div&gt;`)[0];\n",
       "                popup_d649afcca6afbb2aa531fda8788ce16e.setContent(html_bc486963c660e9e4031ec7128fe0ca97);\n",
       "            \n",
       "        \n",
       "\n",
       "        circle_marker_a621b8e6a849425f76fc2f9021a0a371.bindPopup(popup_d649afcca6afbb2aa531fda8788ce16e)\n",
       "        ;\n",
       "\n",
       "        \n",
       "    \n",
       "    \n",
       "            circle_marker_a621b8e6a849425f76fc2f9021a0a371.bindTooltip(\n",
       "                `&lt;div&gt;\n",
       "                     Pelotas\n",
       "                 &lt;/div&gt;`,\n",
       "                {&quot;sticky&quot;: true}\n",
       "            );\n",
       "        \n",
       "    \n",
       "            var circle_marker_f7395cfd2654bb2f61b8bb3e93959263 = L.circleMarker(\n",
       "                [-29.6143, -52.1932],\n",
       "                {&quot;bubblingMouseEvents&quot;: true, &quot;color&quot;: &quot;red&quot;, &quot;dashArray&quot;: null, &quot;dashOffset&quot;: null, &quot;fill&quot;: true, &quot;fillColor&quot;: &quot;#E8710A&quot;, &quot;fillOpacity&quot;: 0.6, &quot;fillRule&quot;: &quot;evenodd&quot;, &quot;lineCap&quot;: &quot;round&quot;, &quot;lineJoin&quot;: &quot;round&quot;, &quot;opacity&quot;: 1, &quot;radius&quot;: 0.0138840239963205, &quot;stroke&quot;: true, &quot;weight&quot;: 5}\n",
       "            ).addTo(map_72f736ba9fb575b0e7fdd036178bb489);\n",
       "        \n",
       "    \n",
       "        var popup_acd167edc6c9de9f951fd4b932eb11b0 = L.popup({&quot;maxWidth&quot;: &quot;100%&quot;});\n",
       "\n",
       "        \n",
       "            \n",
       "                var html_0ab33aa72c4f4f22a78dcc0a105811e4 = $(`&lt;div id=&quot;html_0ab33aa72c4f4f22a78dcc0a105811e4&quot; style=&quot;width: 100.0%; height: 100.0%;&quot;&gt;Valor Empenhado R$20979.26&lt;/div&gt;`)[0];\n",
       "                popup_acd167edc6c9de9f951fd4b932eb11b0.setContent(html_0ab33aa72c4f4f22a78dcc0a105811e4);\n",
       "            \n",
       "        \n",
       "\n",
       "        circle_marker_f7395cfd2654bb2f61b8bb3e93959263.bindPopup(popup_acd167edc6c9de9f951fd4b932eb11b0)\n",
       "        ;\n",
       "\n",
       "        \n",
       "    \n",
       "    \n",
       "            circle_marker_f7395cfd2654bb2f61b8bb3e93959263.bindTooltip(\n",
       "                `&lt;div&gt;\n",
       "                     Venâncio Aires\n",
       "                 &lt;/div&gt;`,\n",
       "                {&quot;sticky&quot;: true}\n",
       "            );\n",
       "        \n",
       "    \n",
       "            var circle_marker_92dee847792adee5b95e288ca3c1df50 = L.circleMarker(\n",
       "                [-28.0652, -52.0097],\n",
       "                {&quot;bubblingMouseEvents&quot;: true, &quot;color&quot;: &quot;red&quot;, &quot;dashArray&quot;: null, &quot;dashOffset&quot;: null, &quot;fill&quot;: true, &quot;fillColor&quot;: &quot;#E8710A&quot;, &quot;fillOpacity&quot;: 0.6, &quot;fillRule&quot;: &quot;evenodd&quot;, &quot;lineCap&quot;: &quot;round&quot;, &quot;lineJoin&quot;: &quot;round&quot;, &quot;opacity&quot;: 1, &quot;radius&quot;: 0.01270651399188311, &quot;stroke&quot;: true, &quot;weight&quot;: 5}\n",
       "            ).addTo(map_72f736ba9fb575b0e7fdd036178bb489);\n",
       "        \n",
       "    \n",
       "        var popup_81e8feb5cf8ac1d79741904099f6504f = L.popup({&quot;maxWidth&quot;: &quot;100%&quot;});\n",
       "\n",
       "        \n",
       "            \n",
       "                var html_30e5f8e7f2df303114ed09f845809135 = $(`&lt;div id=&quot;html_30e5f8e7f2df303114ed09f845809135&quot; style=&quot;width: 100.0%; height: 100.0%;&quot;&gt;Valor Empenhado R$19200.0&lt;/div&gt;`)[0];\n",
       "                popup_81e8feb5cf8ac1d79741904099f6504f.setContent(html_30e5f8e7f2df303114ed09f845809135);\n",
       "            \n",
       "        \n",
       "\n",
       "        circle_marker_92dee847792adee5b95e288ca3c1df50.bindPopup(popup_81e8feb5cf8ac1d79741904099f6504f)\n",
       "        ;\n",
       "\n",
       "        \n",
       "    \n",
       "    \n",
       "            circle_marker_92dee847792adee5b95e288ca3c1df50.bindTooltip(\n",
       "                `&lt;div&gt;\n",
       "                     Tapejara\n",
       "                 &lt;/div&gt;`,\n",
       "                {&quot;sticky&quot;: true}\n",
       "            );\n",
       "        \n",
       "    \n",
       "            var circle_marker_ce1afc25f18de23c68e53c3d40d29971 = L.circleMarker(\n",
       "                [-26.9101, -48.6705],\n",
       "                {&quot;bubblingMouseEvents&quot;: true, &quot;color&quot;: &quot;red&quot;, &quot;dashArray&quot;: null, &quot;dashOffset&quot;: null, &quot;fill&quot;: true, &quot;fillColor&quot;: &quot;#E8710A&quot;, &quot;fillOpacity&quot;: 0.6, &quot;fillRule&quot;: &quot;evenodd&quot;, &quot;lineCap&quot;: &quot;round&quot;, &quot;lineJoin&quot;: &quot;round&quot;, &quot;opacity&quot;: 1, &quot;radius&quot;: 0.010979209010159422, &quot;stroke&quot;: true, &quot;weight&quot;: 5}\n",
       "            ).addTo(map_72f736ba9fb575b0e7fdd036178bb489);\n",
       "        \n",
       "    \n",
       "        var popup_043c550051f7931906de7dca7229750a = L.popup({&quot;maxWidth&quot;: &quot;100%&quot;});\n",
       "\n",
       "        \n",
       "            \n",
       "                var html_eb50302f9ab98c5d12c26ffd61eae1bf = $(`&lt;div id=&quot;html_eb50302f9ab98c5d12c26ffd61eae1bf&quot; style=&quot;width: 100.0%; height: 100.0%;&quot;&gt;Valor Empenhado R$16589.98&lt;/div&gt;`)[0];\n",
       "                popup_043c550051f7931906de7dca7229750a.setContent(html_eb50302f9ab98c5d12c26ffd61eae1bf);\n",
       "            \n",
       "        \n",
       "\n",
       "        circle_marker_ce1afc25f18de23c68e53c3d40d29971.bindPopup(popup_043c550051f7931906de7dca7229750a)\n",
       "        ;\n",
       "\n",
       "        \n",
       "    \n",
       "    \n",
       "            circle_marker_ce1afc25f18de23c68e53c3d40d29971.bindTooltip(\n",
       "                `&lt;div&gt;\n",
       "                     Itajaí\n",
       "                 &lt;/div&gt;`,\n",
       "                {&quot;sticky&quot;: true}\n",
       "            );\n",
       "        \n",
       "    \n",
       "            var circle_marker_f0b49dc26abfc76663af1b67967b75e4 = L.circleMarker(\n",
       "                [-28.5079, -50.9418],\n",
       "                {&quot;bubblingMouseEvents&quot;: true, &quot;color&quot;: &quot;red&quot;, &quot;dashArray&quot;: null, &quot;dashOffset&quot;: null, &quot;fill&quot;: true, &quot;fillColor&quot;: &quot;#E8710A&quot;, &quot;fillOpacity&quot;: 0.6, &quot;fillRule&quot;: &quot;evenodd&quot;, &quot;lineCap&quot;: &quot;round&quot;, &quot;lineJoin&quot;: &quot;round&quot;, &quot;opacity&quot;: 1, &quot;radius&quot;: 0.010562289755752833, &quot;stroke&quot;: true, &quot;weight&quot;: 5}\n",
       "            ).addTo(map_72f736ba9fb575b0e7fdd036178bb489);\n",
       "        \n",
       "    \n",
       "        var popup_25a54704a3d0f8fb76aca4a1848ab231 = L.popup({&quot;maxWidth&quot;: &quot;100%&quot;});\n",
       "\n",
       "        \n",
       "            \n",
       "                var html_bd2bccf9c23b5dd22f9bac78b3c54208 = $(`&lt;div id=&quot;html_bd2bccf9c23b5dd22f9bac78b3c54208&quot; style=&quot;width: 100.0%; height: 100.0%;&quot;&gt;Valor Empenhado R$15960.0&lt;/div&gt;`)[0];\n",
       "                popup_25a54704a3d0f8fb76aca4a1848ab231.setContent(html_bd2bccf9c23b5dd22f9bac78b3c54208);\n",
       "            \n",
       "        \n",
       "\n",
       "        circle_marker_f0b49dc26abfc76663af1b67967b75e4.bindPopup(popup_25a54704a3d0f8fb76aca4a1848ab231)\n",
       "        ;\n",
       "\n",
       "        \n",
       "    \n",
       "    \n",
       "            circle_marker_f0b49dc26abfc76663af1b67967b75e4.bindTooltip(\n",
       "                `&lt;div&gt;\n",
       "                     Vacaria\n",
       "                 &lt;/div&gt;`,\n",
       "                {&quot;sticky&quot;: true}\n",
       "            );\n",
       "        \n",
       "    \n",
       "            var circle_marker_3883519479d90010e9fa6dcf9264adea = L.circleMarker(\n",
       "                [-29.4014, -51.9557],\n",
       "                {&quot;bubblingMouseEvents&quot;: true, &quot;color&quot;: &quot;red&quot;, &quot;dashArray&quot;: null, &quot;dashOffset&quot;: null, &quot;fill&quot;: true, &quot;fillColor&quot;: &quot;#E8710A&quot;, &quot;fillOpacity&quot;: 0.6, &quot;fillRule&quot;: &quot;evenodd&quot;, &quot;lineCap&quot;: &quot;round&quot;, &quot;lineJoin&quot;: &quot;round&quot;, &quot;opacity&quot;: 1, &quot;radius&quot;: 0.010249921286785708, &quot;stroke&quot;: true, &quot;weight&quot;: 5}\n",
       "            ).addTo(map_72f736ba9fb575b0e7fdd036178bb489);\n",
       "        \n",
       "    \n",
       "        var popup_e112a9aef3759dab169e4cf3d27e66ad = L.popup({&quot;maxWidth&quot;: &quot;100%&quot;});\n",
       "\n",
       "        \n",
       "            \n",
       "                var html_e67a2f743f0408aa0a18d4e3562713d2 = $(`&lt;div id=&quot;html_e67a2f743f0408aa0a18d4e3562713d2&quot; style=&quot;width: 100.0%; height: 100.0%;&quot;&gt;Valor Empenhado R$15488.0&lt;/div&gt;`)[0];\n",
       "                popup_e112a9aef3759dab169e4cf3d27e66ad.setContent(html_e67a2f743f0408aa0a18d4e3562713d2);\n",
       "            \n",
       "        \n",
       "\n",
       "        circle_marker_3883519479d90010e9fa6dcf9264adea.bindPopup(popup_e112a9aef3759dab169e4cf3d27e66ad)\n",
       "        ;\n",
       "\n",
       "        \n",
       "    \n",
       "    \n",
       "            circle_marker_3883519479d90010e9fa6dcf9264adea.bindTooltip(\n",
       "                `&lt;div&gt;\n",
       "                     Arroio do Meio\n",
       "                 &lt;/div&gt;`,\n",
       "                {&quot;sticky&quot;: true}\n",
       "            );\n",
       "        \n",
       "    \n",
       "            var circle_marker_8ad0906b5ec177b167a5c5609396f166 = L.circleMarker(\n",
       "                [-29.9413, -50.9869],\n",
       "                {&quot;bubblingMouseEvents&quot;: true, &quot;color&quot;: &quot;red&quot;, &quot;dashArray&quot;: null, &quot;dashOffset&quot;: null, &quot;fill&quot;: true, &quot;fillColor&quot;: &quot;#E8710A&quot;, &quot;fillOpacity&quot;: 0.6, &quot;fillRule&quot;: &quot;evenodd&quot;, &quot;lineCap&quot;: &quot;round&quot;, &quot;lineJoin&quot;: &quot;round&quot;, &quot;opacity&quot;: 1, &quot;radius&quot;: 0.009397525973163548, &quot;stroke&quot;: true, &quot;weight&quot;: 5}\n",
       "            ).addTo(map_72f736ba9fb575b0e7fdd036178bb489);\n",
       "        \n",
       "    \n",
       "        var popup_608c4c3a8fd197bd4609dac69d8df1c9 = L.popup({&quot;maxWidth&quot;: &quot;100%&quot;});\n",
       "\n",
       "        \n",
       "            \n",
       "                var html_4f5993465629642801b5045cda74c3f9 = $(`&lt;div id=&quot;html_4f5993465629642801b5045cda74c3f9&quot; style=&quot;width: 100.0%; height: 100.0%;&quot;&gt;Valor Empenhado R$14200.0&lt;/div&gt;`)[0];\n",
       "                popup_608c4c3a8fd197bd4609dac69d8df1c9.setContent(html_4f5993465629642801b5045cda74c3f9);\n",
       "            \n",
       "        \n",
       "\n",
       "        circle_marker_8ad0906b5ec177b167a5c5609396f166.bindPopup(popup_608c4c3a8fd197bd4609dac69d8df1c9)\n",
       "        ;\n",
       "\n",
       "        \n",
       "    \n",
       "    \n",
       "            circle_marker_8ad0906b5ec177b167a5c5609396f166.bindTooltip(\n",
       "                `&lt;div&gt;\n",
       "                     Gravataí\n",
       "                 &lt;/div&gt;`,\n",
       "                {&quot;sticky&quot;: true}\n",
       "            );\n",
       "        \n",
       "    \n",
       "            var circle_marker_a813be1905bb89bcec84d42f04f782b8 = L.circleMarker(\n",
       "                [-27.7291, -52.5372],\n",
       "                {&quot;bubblingMouseEvents&quot;: true, &quot;color&quot;: &quot;red&quot;, &quot;dashArray&quot;: null, &quot;dashOffset&quot;: null, &quot;fill&quot;: true, &quot;fillColor&quot;: &quot;#E8710A&quot;, &quot;fillOpacity&quot;: 0.6, &quot;fillRule&quot;: &quot;evenodd&quot;, &quot;lineCap&quot;: &quot;round&quot;, &quot;lineJoin&quot;: &quot;round&quot;, &quot;opacity&quot;: 1, &quot;radius&quot;: 0.00930004318613207, &quot;stroke&quot;: true, &quot;weight&quot;: 5}\n",
       "            ).addTo(map_72f736ba9fb575b0e7fdd036178bb489);\n",
       "        \n",
       "    \n",
       "        var popup_3353bf95466b6f06fd4f6f67a9a89946 = L.popup({&quot;maxWidth&quot;: &quot;100%&quot;});\n",
       "\n",
       "        \n",
       "            \n",
       "                var html_c9cc690e3462d80668d9cd72029b42aa = $(`&lt;div id=&quot;html_c9cc690e3462d80668d9cd72029b42aa&quot; style=&quot;width: 100.0%; height: 100.0%;&quot;&gt;Valor Empenhado R$14052.7&lt;/div&gt;`)[0];\n",
       "                popup_3353bf95466b6f06fd4f6f67a9a89946.setContent(html_c9cc690e3462d80668d9cd72029b42aa);\n",
       "            \n",
       "        \n",
       "\n",
       "        circle_marker_a813be1905bb89bcec84d42f04f782b8.bindPopup(popup_3353bf95466b6f06fd4f6f67a9a89946)\n",
       "        ;\n",
       "\n",
       "        \n",
       "    \n",
       "    \n",
       "            circle_marker_a813be1905bb89bcec84d42f04f782b8.bindTooltip(\n",
       "                `&lt;div&gt;\n",
       "                     Jacutinga\n",
       "                 &lt;/div&gt;`,\n",
       "                {&quot;sticky&quot;: true}\n",
       "            );\n",
       "        \n",
       "    \n",
       "            var circle_marker_b02532313ff97a104b4362c8ca2d774e = L.circleMarker(\n",
       "                [-27.815, -50.3259],\n",
       "                {&quot;bubblingMouseEvents&quot;: true, &quot;color&quot;: &quot;red&quot;, &quot;dashArray&quot;: null, &quot;dashOffset&quot;: null, &quot;fill&quot;: true, &quot;fillColor&quot;: &quot;#E8710A&quot;, &quot;fillOpacity&quot;: 0.6, &quot;fillRule&quot;: &quot;evenodd&quot;, &quot;lineCap&quot;: &quot;round&quot;, &quot;lineJoin&quot;: &quot;round&quot;, &quot;opacity&quot;: 1, &quot;radius&quot;: 0.007792071166241193, &quot;stroke&quot;: true, &quot;weight&quot;: 5}\n",
       "            ).addTo(map_72f736ba9fb575b0e7fdd036178bb489);\n",
       "        \n",
       "    \n",
       "        var popup_82d7ae81c34dd1253f39fbff46ad6844 = L.popup({&quot;maxWidth&quot;: &quot;100%&quot;});\n",
       "\n",
       "        \n",
       "            \n",
       "                var html_c373f11dc7e6368f2eb34b0bfe90717c = $(`&lt;div id=&quot;html_c373f11dc7e6368f2eb34b0bfe90717c&quot; style=&quot;width: 100.0%; height: 100.0%;&quot;&gt;Valor Empenhado R$11774.1&lt;/div&gt;`)[0];\n",
       "                popup_82d7ae81c34dd1253f39fbff46ad6844.setContent(html_c373f11dc7e6368f2eb34b0bfe90717c);\n",
       "            \n",
       "        \n",
       "\n",
       "        circle_marker_b02532313ff97a104b4362c8ca2d774e.bindPopup(popup_82d7ae81c34dd1253f39fbff46ad6844)\n",
       "        ;\n",
       "\n",
       "        \n",
       "    \n",
       "    \n",
       "            circle_marker_b02532313ff97a104b4362c8ca2d774e.bindTooltip(\n",
       "                `&lt;div&gt;\n",
       "                     Lages\n",
       "                 &lt;/div&gt;`,\n",
       "                {&quot;sticky&quot;: true}\n",
       "            );\n",
       "        \n",
       "    \n",
       "            var circle_marker_20d62ae663bf3bb60e785b75aff0af48 = L.circleMarker(\n",
       "                [-27.9798, -52.2588],\n",
       "                {&quot;bubblingMouseEvents&quot;: true, &quot;color&quot;: &quot;red&quot;, &quot;dashArray&quot;: null, &quot;dashOffset&quot;: null, &quot;fill&quot;: true, &quot;fillColor&quot;: &quot;#E8710A&quot;, &quot;fillOpacity&quot;: 0.6, &quot;fillRule&quot;: &quot;evenodd&quot;, &quot;lineCap&quot;: &quot;round&quot;, &quot;lineJoin&quot;: &quot;round&quot;, &quot;opacity&quot;: 1, &quot;radius&quot;: 0.007256253354345972, &quot;stroke&quot;: true, &quot;weight&quot;: 5}\n",
       "            ).addTo(map_72f736ba9fb575b0e7fdd036178bb489);\n",
       "        \n",
       "    \n",
       "        var popup_ad0293b14c28f09763e0e788893de7ab = L.popup({&quot;maxWidth&quot;: &quot;100%&quot;});\n",
       "\n",
       "        \n",
       "            \n",
       "                var html_1b12e28a0a76ec1798a3c1ca2a4ad015 = $(`&lt;div id=&quot;html_1b12e28a0a76ec1798a3c1ca2a4ad015&quot; style=&quot;width: 100.0%; height: 100.0%;&quot;&gt;Valor Empenhado R$10964.46&lt;/div&gt;`)[0];\n",
       "                popup_ad0293b14c28f09763e0e788893de7ab.setContent(html_1b12e28a0a76ec1798a3c1ca2a4ad015);\n",
       "            \n",
       "        \n",
       "\n",
       "        circle_marker_20d62ae663bf3bb60e785b75aff0af48.bindPopup(popup_ad0293b14c28f09763e0e788893de7ab)\n",
       "        ;\n",
       "\n",
       "        \n",
       "    \n",
       "    \n",
       "            circle_marker_20d62ae663bf3bb60e785b75aff0af48.bindTooltip(\n",
       "                `&lt;div&gt;\n",
       "                     Sertão\n",
       "                 &lt;/div&gt;`,\n",
       "                {&quot;sticky&quot;: true}\n",
       "            );\n",
       "        \n",
       "    \n",
       "            var circle_marker_da625da910976f86219e0230b973a0e0 = L.circleMarker(\n",
       "                [-16.6864, -49.2643],\n",
       "                {&quot;bubblingMouseEvents&quot;: true, &quot;color&quot;: &quot;red&quot;, &quot;dashArray&quot;: null, &quot;dashOffset&quot;: null, &quot;fill&quot;: true, &quot;fillColor&quot;: &quot;#E8710A&quot;, &quot;fillOpacity&quot;: 0.6, &quot;fillRule&quot;: &quot;evenodd&quot;, &quot;lineCap&quot;: &quot;round&quot;, &quot;lineJoin&quot;: &quot;round&quot;, &quot;opacity&quot;: 1, &quot;radius&quot;: 0.006971554643191379, &quot;stroke&quot;: true, &quot;weight&quot;: 5}\n",
       "            ).addTo(map_72f736ba9fb575b0e7fdd036178bb489);\n",
       "        \n",
       "    \n",
       "        var popup_4aa77b2d524ee9e50f5270c6bfecafb0 = L.popup({&quot;maxWidth&quot;: &quot;100%&quot;});\n",
       "\n",
       "        \n",
       "            \n",
       "                var html_7016c7764b9f0752291c7adcb3a276f1 = $(`&lt;div id=&quot;html_7016c7764b9f0752291c7adcb3a276f1&quot; style=&quot;width: 100.0%; height: 100.0%;&quot;&gt;Valor Empenhado R$10534.27&lt;/div&gt;`)[0];\n",
       "                popup_4aa77b2d524ee9e50f5270c6bfecafb0.setContent(html_7016c7764b9f0752291c7adcb3a276f1);\n",
       "            \n",
       "        \n",
       "\n",
       "        circle_marker_da625da910976f86219e0230b973a0e0.bindPopup(popup_4aa77b2d524ee9e50f5270c6bfecafb0)\n",
       "        ;\n",
       "\n",
       "        \n",
       "    \n",
       "    \n",
       "            circle_marker_da625da910976f86219e0230b973a0e0.bindTooltip(\n",
       "                `&lt;div&gt;\n",
       "                     Goiânia\n",
       "                 &lt;/div&gt;`,\n",
       "                {&quot;sticky&quot;: true}\n",
       "            );\n",
       "        \n",
       "    \n",
       "            var circle_marker_4de92bb7258c8b430f620374debca5a4 = L.circleMarker(\n",
       "                [-29.4193, -51.5134],\n",
       "                {&quot;bubblingMouseEvents&quot;: true, &quot;color&quot;: &quot;red&quot;, &quot;dashArray&quot;: null, &quot;dashOffset&quot;: null, &quot;fill&quot;: true, &quot;fillColor&quot;: &quot;#E8710A&quot;, &quot;fillOpacity&quot;: 0.6, &quot;fillRule&quot;: &quot;evenodd&quot;, &quot;lineCap&quot;: &quot;round&quot;, &quot;lineJoin&quot;: &quot;round&quot;, &quot;opacity&quot;: 1, &quot;radius&quot;: 0.006514338532692823, &quot;stroke&quot;: true, &quot;weight&quot;: 5}\n",
       "            ).addTo(map_72f736ba9fb575b0e7fdd036178bb489);\n",
       "        \n",
       "    \n",
       "        var popup_20c6ae5655a278fc9330fff06cc60976 = L.popup({&quot;maxWidth&quot;: &quot;100%&quot;});\n",
       "\n",
       "        \n",
       "            \n",
       "                var html_f6892a8671df4f0a4a6669e5c44dbf02 = $(`&lt;div id=&quot;html_f6892a8671df4f0a4a6669e5c44dbf02&quot; style=&quot;width: 100.0%; height: 100.0%;&quot;&gt;Valor Empenhado R$9843.4&lt;/div&gt;`)[0];\n",
       "                popup_20c6ae5655a278fc9330fff06cc60976.setContent(html_f6892a8671df4f0a4a6669e5c44dbf02);\n",
       "            \n",
       "        \n",
       "\n",
       "        circle_marker_4de92bb7258c8b430f620374debca5a4.bindPopup(popup_20c6ae5655a278fc9330fff06cc60976)\n",
       "        ;\n",
       "\n",
       "        \n",
       "    \n",
       "    \n",
       "            circle_marker_4de92bb7258c8b430f620374debca5a4.bindTooltip(\n",
       "                `&lt;div&gt;\n",
       "                     São Pedro da Serra\n",
       "                 &lt;/div&gt;`,\n",
       "                {&quot;sticky&quot;: true}\n",
       "            );\n",
       "        \n",
       "    \n",
       "            var circle_marker_22360b4e4706cb1faf8cd837338a3e7f = L.circleMarker(\n",
       "                [-29.9914, -51.0809],\n",
       "                {&quot;bubblingMouseEvents&quot;: true, &quot;color&quot;: &quot;red&quot;, &quot;dashArray&quot;: null, &quot;dashOffset&quot;: null, &quot;fill&quot;: true, &quot;fillColor&quot;: &quot;#E8710A&quot;, &quot;fillOpacity&quot;: 0.6, &quot;fillRule&quot;: &quot;evenodd&quot;, &quot;lineCap&quot;: &quot;round&quot;, &quot;lineJoin&quot;: &quot;round&quot;, &quot;opacity&quot;: 1, &quot;radius&quot;: 0.006276382586290661, &quot;stroke&quot;: true, &quot;weight&quot;: 5}\n",
       "            ).addTo(map_72f736ba9fb575b0e7fdd036178bb489);\n",
       "        \n",
       "    \n",
       "        var popup_fd35e79fb9470dd310a8c1cd1a955965 = L.popup({&quot;maxWidth&quot;: &quot;100%&quot;});\n",
       "\n",
       "        \n",
       "            \n",
       "                var html_a4d4128b888bb0af3b1a685f7ad1aa61 = $(`&lt;div id=&quot;html_a4d4128b888bb0af3b1a685f7ad1aa61&quot; style=&quot;width: 100.0%; height: 100.0%;&quot;&gt;Valor Empenhado R$9483.84&lt;/div&gt;`)[0];\n",
       "                popup_fd35e79fb9470dd310a8c1cd1a955965.setContent(html_a4d4128b888bb0af3b1a685f7ad1aa61);\n",
       "            \n",
       "        \n",
       "\n",
       "        circle_marker_22360b4e4706cb1faf8cd837338a3e7f.bindPopup(popup_fd35e79fb9470dd310a8c1cd1a955965)\n",
       "        ;\n",
       "\n",
       "        \n",
       "    \n",
       "    \n",
       "            circle_marker_22360b4e4706cb1faf8cd837338a3e7f.bindTooltip(\n",
       "                `&lt;div&gt;\n",
       "                     Alvorada\n",
       "                 &lt;/div&gt;`,\n",
       "                {&quot;sticky&quot;: true}\n",
       "            );\n",
       "        \n",
       "    \n",
       "            var circle_marker_811d69f3f608220dcbefca3f226ef25b = L.circleMarker(\n",
       "                [-29.7545, -51.1498],\n",
       "                {&quot;bubblingMouseEvents&quot;: true, &quot;color&quot;: &quot;red&quot;, &quot;dashArray&quot;: null, &quot;dashOffset&quot;: null, &quot;fill&quot;: true, &quot;fillColor&quot;: &quot;#E8710A&quot;, &quot;fillOpacity&quot;: 0.6, &quot;fillRule&quot;: &quot;evenodd&quot;, &quot;lineCap&quot;: &quot;round&quot;, &quot;lineJoin&quot;: &quot;round&quot;, &quot;opacity&quot;: 1, &quot;radius&quot;: 0.00578411105672179, &quot;stroke&quot;: true, &quot;weight&quot;: 5}\n",
       "            ).addTo(map_72f736ba9fb575b0e7fdd036178bb489);\n",
       "        \n",
       "    \n",
       "        var popup_99fccfcc5eb74de350b9546df52b0b9c = L.popup({&quot;maxWidth&quot;: &quot;100%&quot;});\n",
       "\n",
       "        \n",
       "            \n",
       "                var html_142973241090da4753583467802dda9d = $(`&lt;div id=&quot;html_142973241090da4753583467802dda9d&quot; style=&quot;width: 100.0%; height: 100.0%;&quot;&gt;Valor Empenhado R$8740.0&lt;/div&gt;`)[0];\n",
       "                popup_99fccfcc5eb74de350b9546df52b0b9c.setContent(html_142973241090da4753583467802dda9d);\n",
       "            \n",
       "        \n",
       "\n",
       "        circle_marker_811d69f3f608220dcbefca3f226ef25b.bindPopup(popup_99fccfcc5eb74de350b9546df52b0b9c)\n",
       "        ;\n",
       "\n",
       "        \n",
       "    \n",
       "    \n",
       "            circle_marker_811d69f3f608220dcbefca3f226ef25b.bindTooltip(\n",
       "                `&lt;div&gt;\n",
       "                     São Leopoldo\n",
       "                 &lt;/div&gt;`,\n",
       "                {&quot;sticky&quot;: true}\n",
       "            );\n",
       "        \n",
       "    \n",
       "            var circle_marker_390d94721e9c808e7adeb50ed33677cd = L.circleMarker(\n",
       "                [-19.9102, -43.9266],\n",
       "                {&quot;bubblingMouseEvents&quot;: true, &quot;color&quot;: &quot;red&quot;, &quot;dashArray&quot;: null, &quot;dashOffset&quot;: null, &quot;fill&quot;: true, &quot;fillColor&quot;: &quot;#E8710A&quot;, &quot;fillOpacity&quot;: 0.6, &quot;fillRule&quot;: &quot;evenodd&quot;, &quot;lineCap&quot;: &quot;round&quot;, &quot;lineJoin&quot;: &quot;round&quot;, &quot;opacity&quot;: 1, &quot;radius&quot;: 0.005426740350700077, &quot;stroke&quot;: true, &quot;weight&quot;: 5}\n",
       "            ).addTo(map_72f736ba9fb575b0e7fdd036178bb489);\n",
       "        \n",
       "    \n",
       "        var popup_7726de697b2d52c0bcc4dd6dc1528923 = L.popup({&quot;maxWidth&quot;: &quot;100%&quot;});\n",
       "\n",
       "        \n",
       "            \n",
       "                var html_22ef386b8a6f1d070359926f917eda33 = $(`&lt;div id=&quot;html_22ef386b8a6f1d070359926f917eda33&quot; style=&quot;width: 100.0%; height: 100.0%;&quot;&gt;Valor Empenhado R$8200.0&lt;/div&gt;`)[0];\n",
       "                popup_7726de697b2d52c0bcc4dd6dc1528923.setContent(html_22ef386b8a6f1d070359926f917eda33);\n",
       "            \n",
       "        \n",
       "\n",
       "        circle_marker_390d94721e9c808e7adeb50ed33677cd.bindPopup(popup_7726de697b2d52c0bcc4dd6dc1528923)\n",
       "        ;\n",
       "\n",
       "        \n",
       "    \n",
       "    \n",
       "            circle_marker_390d94721e9c808e7adeb50ed33677cd.bindTooltip(\n",
       "                `&lt;div&gt;\n",
       "                     Belo Horizonte\n",
       "                 &lt;/div&gt;`,\n",
       "                {&quot;sticky&quot;: true}\n",
       "            );\n",
       "        \n",
       "    \n",
       "            var circle_marker_fd56f706cae0b1cbe1f2ba7e6e5c4944 = L.circleMarker(\n",
       "                [-27.9007, -53.3134],\n",
       "                {&quot;bubblingMouseEvents&quot;: true, &quot;color&quot;: &quot;red&quot;, &quot;dashArray&quot;: null, &quot;dashOffset&quot;: null, &quot;fill&quot;: true, &quot;fillColor&quot;: &quot;#E8710A&quot;, &quot;fillOpacity&quot;: 0.6, &quot;fillRule&quot;: &quot;evenodd&quot;, &quot;lineCap&quot;: &quot;round&quot;, &quot;lineJoin&quot;: &quot;round&quot;, &quot;opacity&quot;: 1, &quot;radius&quot;: 0.005085914584771963, &quot;stroke&quot;: true, &quot;weight&quot;: 5}\n",
       "            ).addTo(map_72f736ba9fb575b0e7fdd036178bb489);\n",
       "        \n",
       "    \n",
       "        var popup_418feaf54bdf55c98762780f1e0a3df8 = L.popup({&quot;maxWidth&quot;: &quot;100%&quot;});\n",
       "\n",
       "        \n",
       "            \n",
       "                var html_29e6c2d52bf154e9448336dd037115c7 = $(`&lt;div id=&quot;html_29e6c2d52bf154e9448336dd037115c7&quot; style=&quot;width: 100.0%; height: 100.0%;&quot;&gt;Valor Empenhado R$7685.0&lt;/div&gt;`)[0];\n",
       "                popup_418feaf54bdf55c98762780f1e0a3df8.setContent(html_29e6c2d52bf154e9448336dd037115c7);\n",
       "            \n",
       "        \n",
       "\n",
       "        circle_marker_fd56f706cae0b1cbe1f2ba7e6e5c4944.bindPopup(popup_418feaf54bdf55c98762780f1e0a3df8)\n",
       "        ;\n",
       "\n",
       "        \n",
       "    \n",
       "    \n",
       "            circle_marker_fd56f706cae0b1cbe1f2ba7e6e5c4944.bindTooltip(\n",
       "                `&lt;div&gt;\n",
       "                     Palmeira das Missões\n",
       "                 &lt;/div&gt;`,\n",
       "                {&quot;sticky&quot;: true}\n",
       "            );\n",
       "        \n",
       "    \n",
       "            var circle_marker_147054ac5e7653dad09b4b43172f0bc4 = L.circleMarker(\n",
       "                [-27.947, -51.8079],\n",
       "                {&quot;bubblingMouseEvents&quot;: true, &quot;color&quot;: &quot;red&quot;, &quot;dashArray&quot;: null, &quot;dashOffset&quot;: null, &quot;fill&quot;: true, &quot;fillColor&quot;: &quot;#E8710A&quot;, &quot;fillOpacity&quot;: 0.6, &quot;fillRule&quot;: &quot;evenodd&quot;, &quot;lineCap&quot;: &quot;round&quot;, &quot;lineJoin&quot;: &quot;round&quot;, &quot;opacity&quot;: 1, &quot;radius&quot;: 0.005016425836378853, &quot;stroke&quot;: true, &quot;weight&quot;: 5}\n",
       "            ).addTo(map_72f736ba9fb575b0e7fdd036178bb489);\n",
       "        \n",
       "    \n",
       "        var popup_c95a67bda408d7cf1155eaa05fb118f1 = L.popup({&quot;maxWidth&quot;: &quot;100%&quot;});\n",
       "\n",
       "        \n",
       "            \n",
       "                var html_55e04b514a7a625e655ef07541d072fa = $(`&lt;div id=&quot;html_55e04b514a7a625e655ef07541d072fa&quot; style=&quot;width: 100.0%; height: 100.0%;&quot;&gt;Valor Empenhado R$7580.0&lt;/div&gt;`)[0];\n",
       "                popup_c95a67bda408d7cf1155eaa05fb118f1.setContent(html_55e04b514a7a625e655ef07541d072fa);\n",
       "            \n",
       "        \n",
       "\n",
       "        circle_marker_147054ac5e7653dad09b4b43172f0bc4.bindPopup(popup_c95a67bda408d7cf1155eaa05fb118f1)\n",
       "        ;\n",
       "\n",
       "        \n",
       "    \n",
       "    \n",
       "            circle_marker_147054ac5e7653dad09b4b43172f0bc4.bindTooltip(\n",
       "                `&lt;div&gt;\n",
       "                     Sananduva\n",
       "                 &lt;/div&gt;`,\n",
       "                {&quot;sticky&quot;: true}\n",
       "            );\n",
       "        \n",
       "    \n",
       "            var circle_marker_a4886cb9ffa3ce3e466767d2d8f8052d = L.circleMarker(\n",
       "                [-29.3948, -51.8556],\n",
       "                {&quot;bubblingMouseEvents&quot;: true, &quot;color&quot;: &quot;red&quot;, &quot;dashArray&quot;: null, &quot;dashOffset&quot;: null, &quot;fill&quot;: true, &quot;fillColor&quot;: &quot;#E8710A&quot;, &quot;fillOpacity&quot;: 0.6, &quot;fillRule&quot;: &quot;evenodd&quot;, &quot;lineCap&quot;: &quot;round&quot;, &quot;lineJoin&quot;: &quot;round&quot;, &quot;opacity&quot;: 1, &quot;radius&quot;: 0.004963482028079339, &quot;stroke&quot;: true, &quot;weight&quot;: 5}\n",
       "            ).addTo(map_72f736ba9fb575b0e7fdd036178bb489);\n",
       "        \n",
       "    \n",
       "        var popup_3b5eed9f2148bf72604886787506e57b = L.popup({&quot;maxWidth&quot;: &quot;100%&quot;});\n",
       "\n",
       "        \n",
       "            \n",
       "                var html_bb4ad0ca8392619cb9eeb726722c1d40 = $(`&lt;div id=&quot;html_bb4ad0ca8392619cb9eeb726722c1d40&quot; style=&quot;width: 100.0%; height: 100.0%;&quot;&gt;Valor Empenhado R$7500.0&lt;/div&gt;`)[0];\n",
       "                popup_3b5eed9f2148bf72604886787506e57b.setContent(html_bb4ad0ca8392619cb9eeb726722c1d40);\n",
       "            \n",
       "        \n",
       "\n",
       "        circle_marker_a4886cb9ffa3ce3e466767d2d8f8052d.bindPopup(popup_3b5eed9f2148bf72604886787506e57b)\n",
       "        ;\n",
       "\n",
       "        \n",
       "    \n",
       "    \n",
       "            circle_marker_a4886cb9ffa3ce3e466767d2d8f8052d.bindTooltip(\n",
       "                `&lt;div&gt;\n",
       "                     Colinas\n",
       "                 &lt;/div&gt;`,\n",
       "                {&quot;sticky&quot;: true}\n",
       "            );\n",
       "        \n",
       "    \n",
       "            var circle_marker_deebe659e5ea42e1349a596d420b7029 = L.circleMarker(\n",
       "                [-27.2335, -52.026],\n",
       "                {&quot;bubblingMouseEvents&quot;: true, &quot;color&quot;: &quot;red&quot;, &quot;dashArray&quot;: null, &quot;dashOffset&quot;: null, &quot;fill&quot;: true, &quot;fillColor&quot;: &quot;#E8710A&quot;, &quot;fillOpacity&quot;: 0.6, &quot;fillRule&quot;: &quot;evenodd&quot;, &quot;lineCap&quot;: &quot;round&quot;, &quot;lineJoin&quot;: &quot;round&quot;, &quot;opacity&quot;: 1, &quot;radius&quot;: 0.004905323254662324, &quot;stroke&quot;: true, &quot;weight&quot;: 5}\n",
       "            ).addTo(map_72f736ba9fb575b0e7fdd036178bb489);\n",
       "        \n",
       "    \n",
       "        var popup_c4f35b8cbfc504327871162792b2889b = L.popup({&quot;maxWidth&quot;: &quot;100%&quot;});\n",
       "\n",
       "        \n",
       "            \n",
       "                var html_ce4e61e1c1baa88c5453f5a0e573dafd = $(`&lt;div id=&quot;html_ce4e61e1c1baa88c5453f5a0e573dafd&quot; style=&quot;width: 100.0%; height: 100.0%;&quot;&gt;Valor Empenhado R$7412.12&lt;/div&gt;`)[0];\n",
       "                popup_c4f35b8cbfc504327871162792b2889b.setContent(html_ce4e61e1c1baa88c5453f5a0e573dafd);\n",
       "            \n",
       "        \n",
       "\n",
       "        circle_marker_deebe659e5ea42e1349a596d420b7029.bindPopup(popup_c4f35b8cbfc504327871162792b2889b)\n",
       "        ;\n",
       "\n",
       "        \n",
       "    \n",
       "    \n",
       "            circle_marker_deebe659e5ea42e1349a596d420b7029.bindTooltip(\n",
       "                `&lt;div&gt;\n",
       "                     Concórdia\n",
       "                 &lt;/div&gt;`,\n",
       "                {&quot;sticky&quot;: true}\n",
       "            );\n",
       "        \n",
       "    \n",
       "            var circle_marker_ceb247bf5e77c91808674cece0fcd8ba = L.circleMarker(\n",
       "                [-26.8992, -49.2354],\n",
       "                {&quot;bubblingMouseEvents&quot;: true, &quot;color&quot;: &quot;red&quot;, &quot;dashArray&quot;: null, &quot;dashOffset&quot;: null, &quot;fill&quot;: true, &quot;fillColor&quot;: &quot;#E8710A&quot;, &quot;fillOpacity&quot;: 0.6, &quot;fillRule&quot;: &quot;evenodd&quot;, &quot;lineCap&quot;: &quot;round&quot;, &quot;lineJoin&quot;: &quot;round&quot;, &quot;opacity&quot;: 1, &quot;radius&quot;: 0.004738470842806409, &quot;stroke&quot;: true, &quot;weight&quot;: 5}\n",
       "            ).addTo(map_72f736ba9fb575b0e7fdd036178bb489);\n",
       "        \n",
       "    \n",
       "        var popup_5e4a9ce81d9cc32785c0a7f6be6f1315 = L.popup({&quot;maxWidth&quot;: &quot;100%&quot;});\n",
       "\n",
       "        \n",
       "            \n",
       "                var html_3edd2ab7d60e7a63f726987d9957f63d = $(`&lt;div id=&quot;html_3edd2ab7d60e7a63f726987d9957f63d&quot; style=&quot;width: 100.0%; height: 100.0%;&quot;&gt;Valor Empenhado R$7160.0&lt;/div&gt;`)[0];\n",
       "                popup_5e4a9ce81d9cc32785c0a7f6be6f1315.setContent(html_3edd2ab7d60e7a63f726987d9957f63d);\n",
       "            \n",
       "        \n",
       "\n",
       "        circle_marker_ceb247bf5e77c91808674cece0fcd8ba.bindPopup(popup_5e4a9ce81d9cc32785c0a7f6be6f1315)\n",
       "        ;\n",
       "\n",
       "        \n",
       "    \n",
       "    \n",
       "            circle_marker_ceb247bf5e77c91808674cece0fcd8ba.bindTooltip(\n",
       "                `&lt;div&gt;\n",
       "                     Indaial\n",
       "                 &lt;/div&gt;`,\n",
       "                {&quot;sticky&quot;: true}\n",
       "            );\n",
       "        \n",
       "    \n",
       "            var circle_marker_6de1d77f7635cd7e261363bb0b01bcaf = L.circleMarker(\n",
       "                [-29.9472, -51.1016],\n",
       "                {&quot;bubblingMouseEvents&quot;: true, &quot;color&quot;: &quot;red&quot;, &quot;dashArray&quot;: null, &quot;dashOffset&quot;: null, &quot;fill&quot;: true, &quot;fillColor&quot;: &quot;#E8710A&quot;, &quot;fillOpacity&quot;: 0.6, &quot;fillRule&quot;: &quot;evenodd&quot;, &quot;lineCap&quot;: &quot;round&quot;, &quot;lineJoin&quot;: &quot;round&quot;, &quot;opacity&quot;: 1, &quot;radius&quot;: 0.004231732417619696, &quot;stroke&quot;: true, &quot;weight&quot;: 5}\n",
       "            ).addTo(map_72f736ba9fb575b0e7fdd036178bb489);\n",
       "        \n",
       "    \n",
       "        var popup_a827fe59adcfd28ff7be58f66d5ebaef = L.popup({&quot;maxWidth&quot;: &quot;100%&quot;});\n",
       "\n",
       "        \n",
       "            \n",
       "                var html_1b4bc6ed0a776fa94dbfbcd39d47eb69 = $(`&lt;div id=&quot;html_1b4bc6ed0a776fa94dbfbcd39d47eb69&quot; style=&quot;width: 100.0%; height: 100.0%;&quot;&gt;Valor Empenhado R$6394.3&lt;/div&gt;`)[0];\n",
       "                popup_a827fe59adcfd28ff7be58f66d5ebaef.setContent(html_1b4bc6ed0a776fa94dbfbcd39d47eb69);\n",
       "            \n",
       "        \n",
       "\n",
       "        circle_marker_6de1d77f7635cd7e261363bb0b01bcaf.bindPopup(popup_a827fe59adcfd28ff7be58f66d5ebaef)\n",
       "        ;\n",
       "\n",
       "        \n",
       "    \n",
       "    \n",
       "            circle_marker_6de1d77f7635cd7e261363bb0b01bcaf.bindTooltip(\n",
       "                `&lt;div&gt;\n",
       "                     Cachoeirinha\n",
       "                 &lt;/div&gt;`,\n",
       "                {&quot;sticky&quot;: true}\n",
       "            );\n",
       "        \n",
       "    \n",
       "            var circle_marker_adcea75398d36b0bc5f6c6dbea061512 = L.circleMarker(\n",
       "                [-27.0861, -48.616],\n",
       "                {&quot;bubblingMouseEvents&quot;: true, &quot;color&quot;: &quot;red&quot;, &quot;dashArray&quot;: null, &quot;dashOffset&quot;: null, &quot;fill&quot;: true, &quot;fillColor&quot;: &quot;#E8710A&quot;, &quot;fillOpacity&quot;: 0.6, &quot;fillRule&quot;: &quot;evenodd&quot;, &quot;lineCap&quot;: &quot;round&quot;, &quot;lineJoin&quot;: &quot;round&quot;, &quot;opacity&quot;: 1, &quot;radius&quot;: 0.004104746693413314, &quot;stroke&quot;: true, &quot;weight&quot;: 5}\n",
       "            ).addTo(map_72f736ba9fb575b0e7fdd036178bb489);\n",
       "        \n",
       "    \n",
       "        var popup_e6f76328ff202263e371dff2b9a8f167 = L.popup({&quot;maxWidth&quot;: &quot;100%&quot;});\n",
       "\n",
       "        \n",
       "            \n",
       "                var html_8c1b1fdd2627067fca397e50f4a53baa = $(`&lt;div id=&quot;html_8c1b1fdd2627067fca397e50f4a53baa&quot; style=&quot;width: 100.0%; height: 100.0%;&quot;&gt;Valor Empenhado R$6202.42&lt;/div&gt;`)[0];\n",
       "                popup_e6f76328ff202263e371dff2b9a8f167.setContent(html_8c1b1fdd2627067fca397e50f4a53baa);\n",
       "            \n",
       "        \n",
       "\n",
       "        circle_marker_adcea75398d36b0bc5f6c6dbea061512.bindPopup(popup_e6f76328ff202263e371dff2b9a8f167)\n",
       "        ;\n",
       "\n",
       "        \n",
       "    \n",
       "    \n",
       "            circle_marker_adcea75398d36b0bc5f6c6dbea061512.bindTooltip(\n",
       "                `&lt;div&gt;\n",
       "                     Itapema\n",
       "                 &lt;/div&gt;`,\n",
       "                {&quot;sticky&quot;: true}\n",
       "            );\n",
       "        \n",
       "    \n",
       "            var circle_marker_3ea1d52905c07a731b28f6aef6aa780a = L.circleMarker(\n",
       "                [-27.4555, -53.9296],\n",
       "                {&quot;bubblingMouseEvents&quot;: true, &quot;color&quot;: &quot;red&quot;, &quot;dashArray&quot;: null, &quot;dashOffset&quot;: null, &quot;fill&quot;: true, &quot;fillColor&quot;: &quot;#E8710A&quot;, &quot;fillOpacity&quot;: 0.6, &quot;fillRule&quot;: &quot;evenodd&quot;, &quot;lineCap&quot;: &quot;round&quot;, &quot;lineJoin&quot;: &quot;round&quot;, &quot;opacity&quot;: 1, &quot;radius&quot;: 0.00407666662108646, &quot;stroke&quot;: true, &quot;weight&quot;: 5}\n",
       "            ).addTo(map_72f736ba9fb575b0e7fdd036178bb489);\n",
       "        \n",
       "    \n",
       "        var popup_74f9a90d92764b15c0f50201f4bedd6d = L.popup({&quot;maxWidth&quot;: &quot;100%&quot;});\n",
       "\n",
       "        \n",
       "            \n",
       "                var html_c85394c388afefaf9b072dd511234a4c = $(`&lt;div id=&quot;html_c85394c388afefaf9b072dd511234a4c&quot; style=&quot;width: 100.0%; height: 100.0%;&quot;&gt;Valor Empenhado R$6159.99&lt;/div&gt;`)[0];\n",
       "                popup_74f9a90d92764b15c0f50201f4bedd6d.setContent(html_c85394c388afefaf9b072dd511234a4c);\n",
       "            \n",
       "        \n",
       "\n",
       "        circle_marker_3ea1d52905c07a731b28f6aef6aa780a.bindPopup(popup_74f9a90d92764b15c0f50201f4bedd6d)\n",
       "        ;\n",
       "\n",
       "        \n",
       "    \n",
       "    \n",
       "            circle_marker_3ea1d52905c07a731b28f6aef6aa780a.bindTooltip(\n",
       "                `&lt;div&gt;\n",
       "                     Três Passos\n",
       "                 &lt;/div&gt;`,\n",
       "                {&quot;sticky&quot;: true}\n",
       "            );\n",
       "        \n",
       "    \n",
       "            var circle_marker_2aebc47de6cdd6b9c9d0a948b894f3ec = L.circleMarker(\n",
       "                [-25.4195, -49.2646],\n",
       "                {&quot;bubblingMouseEvents&quot;: true, &quot;color&quot;: &quot;red&quot;, &quot;dashArray&quot;: null, &quot;dashOffset&quot;: null, &quot;fill&quot;: true, &quot;fillColor&quot;: &quot;#E8710A&quot;, &quot;fillOpacity&quot;: 0.6, &quot;fillRule&quot;: &quot;evenodd&quot;, &quot;lineCap&quot;: &quot;round&quot;, &quot;lineJoin&quot;: &quot;round&quot;, &quot;opacity&quot;: 1, &quot;radius&quot;: 0.003878133957939324, &quot;stroke&quot;: true, &quot;weight&quot;: 5}\n",
       "            ).addTo(map_72f736ba9fb575b0e7fdd036178bb489);\n",
       "        \n",
       "    \n",
       "        var popup_db6f0e0665323e68fc50d0bfa600fea9 = L.popup({&quot;maxWidth&quot;: &quot;100%&quot;});\n",
       "\n",
       "        \n",
       "            \n",
       "                var html_632cee1c4a3f576914dcde018a8bba65 = $(`&lt;div id=&quot;html_632cee1c4a3f576914dcde018a8bba65&quot; style=&quot;width: 100.0%; height: 100.0%;&quot;&gt;Valor Empenhado R$5860.0&lt;/div&gt;`)[0];\n",
       "                popup_db6f0e0665323e68fc50d0bfa600fea9.setContent(html_632cee1c4a3f576914dcde018a8bba65);\n",
       "            \n",
       "        \n",
       "\n",
       "        circle_marker_2aebc47de6cdd6b9c9d0a948b894f3ec.bindPopup(popup_db6f0e0665323e68fc50d0bfa600fea9)\n",
       "        ;\n",
       "\n",
       "        \n",
       "    \n",
       "    \n",
       "            circle_marker_2aebc47de6cdd6b9c9d0a948b894f3ec.bindTooltip(\n",
       "                `&lt;div&gt;\n",
       "                     Curitiba\n",
       "                 &lt;/div&gt;`,\n",
       "                {&quot;sticky&quot;: true}\n",
       "            );\n",
       "        \n",
       "    \n",
       "            var circle_marker_e90875772978e84bbe4bb954ba95737e = L.circleMarker(\n",
       "                [-28.8737, -52.1781],\n",
       "                {&quot;bubblingMouseEvents&quot;: true, &quot;color&quot;: &quot;red&quot;, &quot;dashArray&quot;: null, &quot;dashOffset&quot;: null, &quot;fill&quot;: true, &quot;fillColor&quot;: &quot;#E8710A&quot;, &quot;fillOpacity&quot;: 0.6, &quot;fillRule&quot;: &quot;evenodd&quot;, &quot;lineCap&quot;: &quot;round&quot;, &quot;lineJoin&quot;: &quot;round&quot;, &quot;opacity&quot;: 1, &quot;radius&quot;: 0.0035522648178558216, &quot;stroke&quot;: true, &quot;weight&quot;: 5}\n",
       "            ).addTo(map_72f736ba9fb575b0e7fdd036178bb489);\n",
       "        \n",
       "    \n",
       "        var popup_516c3bf5de6a9fa58c20e2f42dfe1e3e = L.popup({&quot;maxWidth&quot;: &quot;100%&quot;});\n",
       "\n",
       "        \n",
       "            \n",
       "                var html_35f9deeb3895569d85991b80cd883c8b = $(`&lt;div id=&quot;html_35f9deeb3895569d85991b80cd883c8b&quot; style=&quot;width: 100.0%; height: 100.0%;&quot;&gt;Valor Empenhado R$5367.6&lt;/div&gt;`)[0];\n",
       "                popup_516c3bf5de6a9fa58c20e2f42dfe1e3e.setContent(html_35f9deeb3895569d85991b80cd883c8b);\n",
       "            \n",
       "        \n",
       "\n",
       "        circle_marker_e90875772978e84bbe4bb954ba95737e.bindPopup(popup_516c3bf5de6a9fa58c20e2f42dfe1e3e)\n",
       "        ;\n",
       "\n",
       "        \n",
       "    \n",
       "    \n",
       "            circle_marker_e90875772978e84bbe4bb954ba95737e.bindTooltip(\n",
       "                `&lt;div&gt;\n",
       "                     Arvorezinha\n",
       "                 &lt;/div&gt;`,\n",
       "                {&quot;sticky&quot;: true}\n",
       "            );\n",
       "        \n",
       "    \n",
       "            var circle_marker_d1c9db9274bbbd5cab9d7657f868bbf5 = L.circleMarker(\n",
       "                [-29.2351, -51.8703],\n",
       "                {&quot;bubblingMouseEvents&quot;: true, &quot;color&quot;: &quot;red&quot;, &quot;dashArray&quot;: null, &quot;dashOffset&quot;: null, &quot;fill&quot;: true, &quot;fillColor&quot;: &quot;#E8710A&quot;, &quot;fillOpacity&quot;: 0.6, &quot;fillRule&quot;: &quot;evenodd&quot;, &quot;lineCap&quot;: &quot;round&quot;, &quot;lineJoin&quot;: &quot;round&quot;, &quot;opacity&quot;: 1, &quot;radius&quot;: 0.0030811112498224185, &quot;stroke&quot;: true, &quot;weight&quot;: 5}\n",
       "            ).addTo(map_72f736ba9fb575b0e7fdd036178bb489);\n",
       "        \n",
       "    \n",
       "        var popup_3621032838c6e540f00cc1135b1ffd68 = L.popup({&quot;maxWidth&quot;: &quot;100%&quot;});\n",
       "\n",
       "        \n",
       "            \n",
       "                var html_4fb1125c214a38c7264e9f9ca6f81a94 = $(`&lt;div id=&quot;html_4fb1125c214a38c7264e9f9ca6f81a94&quot; style=&quot;width: 100.0%; height: 100.0%;&quot;&gt;Valor Empenhado R$4655.67&lt;/div&gt;`)[0];\n",
       "                popup_3621032838c6e540f00cc1135b1ffd68.setContent(html_4fb1125c214a38c7264e9f9ca6f81a94);\n",
       "            \n",
       "        \n",
       "\n",
       "        circle_marker_d1c9db9274bbbd5cab9d7657f868bbf5.bindPopup(popup_3621032838c6e540f00cc1135b1ffd68)\n",
       "        ;\n",
       "\n",
       "        \n",
       "    \n",
       "    \n",
       "            circle_marker_d1c9db9274bbbd5cab9d7657f868bbf5.bindTooltip(\n",
       "                `&lt;div&gt;\n",
       "                     Encantado\n",
       "                 &lt;/div&gt;`,\n",
       "                {&quot;sticky&quot;: true}\n",
       "            );\n",
       "        \n",
       "    \n",
       "            var circle_marker_9d36058b894661047f2344bc7e9d2f49 = L.circleMarker(\n",
       "                [-27.78, -54.2357],\n",
       "                {&quot;bubblingMouseEvents&quot;: true, &quot;color&quot;: &quot;red&quot;, &quot;dashArray&quot;: null, &quot;dashOffset&quot;: null, &quot;fill&quot;: true, &quot;fillColor&quot;: &quot;#E8710A&quot;, &quot;fillOpacity&quot;: 0.6, &quot;fillRule&quot;: &quot;evenodd&quot;, &quot;lineCap&quot;: &quot;round&quot;, &quot;lineJoin&quot;: &quot;round&quot;, &quot;opacity&quot;: 1, &quot;radius&quot;: 0.0029608824791502618, &quot;stroke&quot;: true, &quot;weight&quot;: 5}\n",
       "            ).addTo(map_72f736ba9fb575b0e7fdd036178bb489);\n",
       "        \n",
       "    \n",
       "        var popup_ee26c922f63163fb4b06042d175cfc3a = L.popup({&quot;maxWidth&quot;: &quot;100%&quot;});\n",
       "\n",
       "        \n",
       "            \n",
       "                var html_be28513ed3a43e26457a514a6e86b416 = $(`&lt;div id=&quot;html_be28513ed3a43e26457a514a6e86b416&quot; style=&quot;width: 100.0%; height: 100.0%;&quot;&gt;Valor Empenhado R$4474.0&lt;/div&gt;`)[0];\n",
       "                popup_ee26c922f63163fb4b06042d175cfc3a.setContent(html_be28513ed3a43e26457a514a6e86b416);\n",
       "            \n",
       "        \n",
       "\n",
       "        circle_marker_9d36058b894661047f2344bc7e9d2f49.bindPopup(popup_ee26c922f63163fb4b06042d175cfc3a)\n",
       "        ;\n",
       "\n",
       "        \n",
       "    \n",
       "    \n",
       "            circle_marker_9d36058b894661047f2344bc7e9d2f49.bindTooltip(\n",
       "                `&lt;div&gt;\n",
       "                     Três de Maio\n",
       "                 &lt;/div&gt;`,\n",
       "                {&quot;sticky&quot;: true}\n",
       "            );\n",
       "        \n",
       "    \n",
       "            var circle_marker_b0dd53770b6c00faf2ee996d01e10631 = L.circleMarker(\n",
       "                [-22.9129, -43.2003],\n",
       "                {&quot;bubblingMouseEvents&quot;: true, &quot;color&quot;: &quot;red&quot;, &quot;dashArray&quot;: null, &quot;dashOffset&quot;: null, &quot;fill&quot;: true, &quot;fillColor&quot;: &quot;#E8710A&quot;, &quot;fillOpacity&quot;: 0.6, &quot;fillRule&quot;: &quot;evenodd&quot;, &quot;lineCap&quot;: &quot;round&quot;, &quot;lineJoin&quot;: &quot;round&quot;, &quot;opacity&quot;: 1, &quot;radius&quot;: 0.0027001342232751604, &quot;stroke&quot;: true, &quot;weight&quot;: 5}\n",
       "            ).addTo(map_72f736ba9fb575b0e7fdd036178bb489);\n",
       "        \n",
       "    \n",
       "        var popup_9ba2519a71936ca59a4d83f8ce39fc86 = L.popup({&quot;maxWidth&quot;: &quot;100%&quot;});\n",
       "\n",
       "        \n",
       "            \n",
       "                var html_3fa7b17d59b739b2df93b448727dd58c = $(`&lt;div id=&quot;html_3fa7b17d59b739b2df93b448727dd58c&quot; style=&quot;width: 100.0%; height: 100.0%;&quot;&gt;Valor Empenhado R$4080.0&lt;/div&gt;`)[0];\n",
       "                popup_9ba2519a71936ca59a4d83f8ce39fc86.setContent(html_3fa7b17d59b739b2df93b448727dd58c);\n",
       "            \n",
       "        \n",
       "\n",
       "        circle_marker_b0dd53770b6c00faf2ee996d01e10631.bindPopup(popup_9ba2519a71936ca59a4d83f8ce39fc86)\n",
       "        ;\n",
       "\n",
       "        \n",
       "    \n",
       "    \n",
       "            circle_marker_b0dd53770b6c00faf2ee996d01e10631.bindTooltip(\n",
       "                `&lt;div&gt;\n",
       "                     Rio de Janeiro\n",
       "                 &lt;/div&gt;`,\n",
       "                {&quot;sticky&quot;: true}\n",
       "            );\n",
       "        \n",
       "    \n",
       "            var circle_marker_e4ca0ffd4cbdc0e664ddb89a69b3c751 = L.circleMarker(\n",
       "                [-29.6505, -50.7753],\n",
       "                {&quot;bubblingMouseEvents&quot;: true, &quot;color&quot;: &quot;red&quot;, &quot;dashArray&quot;: null, &quot;dashOffset&quot;: null, &quot;fill&quot;: true, &quot;fillColor&quot;: &quot;#E8710A&quot;, &quot;fillOpacity&quot;: 0.6, &quot;fillRule&quot;: &quot;evenodd&quot;, &quot;lineCap&quot;: &quot;round&quot;, &quot;lineJoin&quot;: &quot;round&quot;, &quot;opacity&quot;: 1, &quot;radius&quot;: 0.0025507598861341223, &quot;stroke&quot;: true, &quot;weight&quot;: 5}\n",
       "            ).addTo(map_72f736ba9fb575b0e7fdd036178bb489);\n",
       "        \n",
       "    \n",
       "        var popup_554ec4feb6198ed76b9120b15bccfd11 = L.popup({&quot;maxWidth&quot;: &quot;100%&quot;});\n",
       "\n",
       "        \n",
       "            \n",
       "                var html_a4c5f9894c54b32d5da7c0dfbc3822bf = $(`&lt;div id=&quot;html_a4c5f9894c54b32d5da7c0dfbc3822bf&quot; style=&quot;width: 100.0%; height: 100.0%;&quot;&gt;Valor Empenhado R$3854.29&lt;/div&gt;`)[0];\n",
       "                popup_554ec4feb6198ed76b9120b15bccfd11.setContent(html_a4c5f9894c54b32d5da7c0dfbc3822bf);\n",
       "            \n",
       "        \n",
       "\n",
       "        circle_marker_e4ca0ffd4cbdc0e664ddb89a69b3c751.bindPopup(popup_554ec4feb6198ed76b9120b15bccfd11)\n",
       "        ;\n",
       "\n",
       "        \n",
       "    \n",
       "    \n",
       "            circle_marker_e4ca0ffd4cbdc0e664ddb89a69b3c751.bindTooltip(\n",
       "                `&lt;div&gt;\n",
       "                     Taquara\n",
       "                 &lt;/div&gt;`,\n",
       "                {&quot;sticky&quot;: true}\n",
       "            );\n",
       "        \n",
       "    \n",
       "            var circle_marker_3d7cd58c7d0be1653fb6c42a779a9308 = L.circleMarker(\n",
       "                [-29.3334, -49.7333],\n",
       "                {&quot;bubblingMouseEvents&quot;: true, &quot;color&quot;: &quot;red&quot;, &quot;dashArray&quot;: null, &quot;dashOffset&quot;: null, &quot;fill&quot;: true, &quot;fillColor&quot;: &quot;#E8710A&quot;, &quot;fillOpacity&quot;: 0.6, &quot;fillRule&quot;: &quot;evenodd&quot;, &quot;lineCap&quot;: &quot;round&quot;, &quot;lineJoin&quot;: &quot;round&quot;, &quot;opacity&quot;: 1, &quot;radius&quot;: 0.0025035869529392565, &quot;stroke&quot;: true, &quot;weight&quot;: 5}\n",
       "            ).addTo(map_72f736ba9fb575b0e7fdd036178bb489);\n",
       "        \n",
       "    \n",
       "        var popup_87fb707d6c759475a6f06607e528189f = L.popup({&quot;maxWidth&quot;: &quot;100%&quot;});\n",
       "\n",
       "        \n",
       "            \n",
       "                var html_fa79d1a03cc28702d3a796fec4dc69b8 = $(`&lt;div id=&quot;html_fa79d1a03cc28702d3a796fec4dc69b8&quot; style=&quot;width: 100.0%; height: 100.0%;&quot;&gt;Valor Empenhado R$3783.01&lt;/div&gt;`)[0];\n",
       "                popup_87fb707d6c759475a6f06607e528189f.setContent(html_fa79d1a03cc28702d3a796fec4dc69b8);\n",
       "            \n",
       "        \n",
       "\n",
       "        circle_marker_3d7cd58c7d0be1653fb6c42a779a9308.bindPopup(popup_87fb707d6c759475a6f06607e528189f)\n",
       "        ;\n",
       "\n",
       "        \n",
       "    \n",
       "    \n",
       "            circle_marker_3d7cd58c7d0be1653fb6c42a779a9308.bindTooltip(\n",
       "                `&lt;div&gt;\n",
       "                     Torres\n",
       "                 &lt;/div&gt;`,\n",
       "                {&quot;sticky&quot;: true}\n",
       "            );\n",
       "        \n",
       "    \n",
       "            var circle_marker_c9ad0ddb8f37509614bf2cba7c59d91e = L.circleMarker(\n",
       "                [-27.1004, -52.6152],\n",
       "                {&quot;bubblingMouseEvents&quot;: true, &quot;color&quot;: &quot;red&quot;, &quot;dashArray&quot;: null, &quot;dashOffset&quot;: null, &quot;fill&quot;: true, &quot;fillColor&quot;: &quot;#E8710A&quot;, &quot;fillOpacity&quot;: 0.6, &quot;fillRule&quot;: &quot;evenodd&quot;, &quot;lineCap&quot;: &quot;round&quot;, &quot;lineJoin&quot;: &quot;round&quot;, &quot;opacity&quot;: 1, &quot;radius&quot;: 0.0024278045093345407, &quot;stroke&quot;: true, &quot;weight&quot;: 5}\n",
       "            ).addTo(map_72f736ba9fb575b0e7fdd036178bb489);\n",
       "        \n",
       "    \n",
       "        var popup_72b175b9612c8c53c695e0cc2eb9ab05 = L.popup({&quot;maxWidth&quot;: &quot;100%&quot;});\n",
       "\n",
       "        \n",
       "            \n",
       "                var html_58cfd80c3f499282e6750ccdc28c8fc5 = $(`&lt;div id=&quot;html_58cfd80c3f499282e6750ccdc28c8fc5&quot; style=&quot;width: 100.0%; height: 100.0%;&quot;&gt;Valor Empenhado R$3668.5&lt;/div&gt;`)[0];\n",
       "                popup_72b175b9612c8c53c695e0cc2eb9ab05.setContent(html_58cfd80c3f499282e6750ccdc28c8fc5);\n",
       "            \n",
       "        \n",
       "\n",
       "        circle_marker_c9ad0ddb8f37509614bf2cba7c59d91e.bindPopup(popup_72b175b9612c8c53c695e0cc2eb9ab05)\n",
       "        ;\n",
       "\n",
       "        \n",
       "    \n",
       "    \n",
       "            circle_marker_c9ad0ddb8f37509614bf2cba7c59d91e.bindTooltip(\n",
       "                `&lt;div&gt;\n",
       "                     Chapecó\n",
       "                 &lt;/div&gt;`,\n",
       "                {&quot;sticky&quot;: true}\n",
       "            );\n",
       "        \n",
       "    \n",
       "            var circle_marker_8d488214a2c44f028e4ad1e14f90c073 = L.circleMarker(\n",
       "                [-28.4713, -49.0144],\n",
       "                {&quot;bubblingMouseEvents&quot;: true, &quot;color&quot;: &quot;red&quot;, &quot;dashArray&quot;: null, &quot;dashOffset&quot;: null, &quot;fill&quot;: true, &quot;fillColor&quot;: &quot;#E8710A&quot;, &quot;fillOpacity&quot;: 0.6, &quot;fillRule&quot;: &quot;evenodd&quot;, &quot;lineCap&quot;: &quot;round&quot;, &quot;lineJoin&quot;: &quot;round&quot;, &quot;opacity&quot;: 1, &quot;radius&quot;: 0.0023991883809486537, &quot;stroke&quot;: true, &quot;weight&quot;: 5}\n",
       "            ).addTo(map_72f736ba9fb575b0e7fdd036178bb489);\n",
       "        \n",
       "    \n",
       "        var popup_5139913651fcc40f5b882e985a45a30d = L.popup({&quot;maxWidth&quot;: &quot;100%&quot;});\n",
       "\n",
       "        \n",
       "            \n",
       "                var html_1d41c883a8b0da153ac8da736ebcfdbd = $(`&lt;div id=&quot;html_1d41c883a8b0da153ac8da736ebcfdbd&quot; style=&quot;width: 100.0%; height: 100.0%;&quot;&gt;Valor Empenhado R$3625.2599999999998&lt;/div&gt;`)[0];\n",
       "                popup_5139913651fcc40f5b882e985a45a30d.setContent(html_1d41c883a8b0da153ac8da736ebcfdbd);\n",
       "            \n",
       "        \n",
       "\n",
       "        circle_marker_8d488214a2c44f028e4ad1e14f90c073.bindPopup(popup_5139913651fcc40f5b882e985a45a30d)\n",
       "        ;\n",
       "\n",
       "        \n",
       "    \n",
       "    \n",
       "            circle_marker_8d488214a2c44f028e4ad1e14f90c073.bindTooltip(\n",
       "                `&lt;div&gt;\n",
       "                     Tubarão\n",
       "                 &lt;/div&gt;`,\n",
       "                {&quot;sticky&quot;: true}\n",
       "            );\n",
       "        \n",
       "    \n",
       "            var circle_marker_a02aca708039bbd47581e16be341b2b7 = L.circleMarker(\n",
       "                [-29.7184, -52.5152],\n",
       "                {&quot;bubblingMouseEvents&quot;: true, &quot;color&quot;: &quot;red&quot;, &quot;dashArray&quot;: null, &quot;dashOffset&quot;: null, &quot;fill&quot;: true, &quot;fillColor&quot;: &quot;#E8710A&quot;, &quot;fillOpacity&quot;: 0.6, &quot;fillRule&quot;: &quot;evenodd&quot;, &quot;lineCap&quot;: &quot;round&quot;, &quot;lineJoin&quot;: &quot;round&quot;, &quot;opacity&quot;: 1, &quot;radius&quot;: 0.0023626174453657655, &quot;stroke&quot;: true, &quot;weight&quot;: 5}\n",
       "            ).addTo(map_72f736ba9fb575b0e7fdd036178bb489);\n",
       "        \n",
       "    \n",
       "        var popup_bd5d2dbf8e4de713bae043323b72f8d5 = L.popup({&quot;maxWidth&quot;: &quot;100%&quot;});\n",
       "\n",
       "        \n",
       "            \n",
       "                var html_d4569e909c6a865f99e06ab37e3aba1d = $(`&lt;div id=&quot;html_d4569e909c6a865f99e06ab37e3aba1d&quot; style=&quot;width: 100.0%; height: 100.0%;&quot;&gt;Valor Empenhado R$3570.0&lt;/div&gt;`)[0];\n",
       "                popup_bd5d2dbf8e4de713bae043323b72f8d5.setContent(html_d4569e909c6a865f99e06ab37e3aba1d);\n",
       "            \n",
       "        \n",
       "\n",
       "        circle_marker_a02aca708039bbd47581e16be341b2b7.bindPopup(popup_bd5d2dbf8e4de713bae043323b72f8d5)\n",
       "        ;\n",
       "\n",
       "        \n",
       "    \n",
       "    \n",
       "            circle_marker_a02aca708039bbd47581e16be341b2b7.bindTooltip(\n",
       "                `&lt;div&gt;\n",
       "                     Vera Cruz\n",
       "                 &lt;/div&gt;`,\n",
       "                {&quot;sticky&quot;: true}\n",
       "            );\n",
       "        \n",
       "    \n",
       "            var circle_marker_66cf9d0e808e0af1613c420133e7bcb4 = L.circleMarker(\n",
       "                [-19.7472, -47.9381],\n",
       "                {&quot;bubblingMouseEvents&quot;: true, &quot;color&quot;: &quot;red&quot;, &quot;dashArray&quot;: null, &quot;dashOffset&quot;: null, &quot;fill&quot;: true, &quot;fillColor&quot;: &quot;#E8710A&quot;, &quot;fillOpacity&quot;: 0.6, &quot;fillRule&quot;: &quot;evenodd&quot;, &quot;lineCap&quot;: &quot;round&quot;, &quot;lineJoin&quot;: &quot;round&quot;, &quot;opacity&quot;: 1, &quot;radius&quot;: 0.00212242462306295, &quot;stroke&quot;: true, &quot;weight&quot;: 5}\n",
       "            ).addTo(map_72f736ba9fb575b0e7fdd036178bb489);\n",
       "        \n",
       "    \n",
       "        var popup_d814a102a0bd7f26c1aef7a3350d2196 = L.popup({&quot;maxWidth&quot;: &quot;100%&quot;});\n",
       "\n",
       "        \n",
       "            \n",
       "                var html_cf863cfd5e61e7306267f6281f868a71 = $(`&lt;div id=&quot;html_cf863cfd5e61e7306267f6281f868a71&quot; style=&quot;width: 100.0%; height: 100.0%;&quot;&gt;Valor Empenhado R$3207.06&lt;/div&gt;`)[0];\n",
       "                popup_d814a102a0bd7f26c1aef7a3350d2196.setContent(html_cf863cfd5e61e7306267f6281f868a71);\n",
       "            \n",
       "        \n",
       "\n",
       "        circle_marker_66cf9d0e808e0af1613c420133e7bcb4.bindPopup(popup_d814a102a0bd7f26c1aef7a3350d2196)\n",
       "        ;\n",
       "\n",
       "        \n",
       "    \n",
       "    \n",
       "            circle_marker_66cf9d0e808e0af1613c420133e7bcb4.bindTooltip(\n",
       "                `&lt;div&gt;\n",
       "                     Uberaba\n",
       "                 &lt;/div&gt;`,\n",
       "                {&quot;sticky&quot;: true}\n",
       "            );\n",
       "        \n",
       "    \n",
       "            var circle_marker_4d1acbd041752234fe3dcae719b358cc = L.circleMarker(\n",
       "                [-27.8702, -54.4796],\n",
       "                {&quot;bubblingMouseEvents&quot;: true, &quot;color&quot;: &quot;red&quot;, &quot;dashArray&quot;: null, &quot;dashOffset&quot;: null, &quot;fill&quot;: true, &quot;fillColor&quot;: &quot;#E8710A&quot;, &quot;fillOpacity&quot;: 0.6, &quot;fillRule&quot;: &quot;evenodd&quot;, &quot;lineCap&quot;: &quot;round&quot;, &quot;lineJoin&quot;: &quot;round&quot;, &quot;opacity&quot;: 1, &quot;radius&quot;: 0.0020648085236810053, &quot;stroke&quot;: true, &quot;weight&quot;: 5}\n",
       "            ).addTo(map_72f736ba9fb575b0e7fdd036178bb489);\n",
       "        \n",
       "    \n",
       "        var popup_f0819616ea3984cb313a39db4feb7c9d = L.popup({&quot;maxWidth&quot;: &quot;100%&quot;});\n",
       "\n",
       "        \n",
       "            \n",
       "                var html_3b70d6ee82476dd751c18c4c066a59f8 = $(`&lt;div id=&quot;html_3b70d6ee82476dd751c18c4c066a59f8&quot; style=&quot;width: 100.0%; height: 100.0%;&quot;&gt;Valor Empenhado R$3120.0&lt;/div&gt;`)[0];\n",
       "                popup_f0819616ea3984cb313a39db4feb7c9d.setContent(html_3b70d6ee82476dd751c18c4c066a59f8);\n",
       "            \n",
       "        \n",
       "\n",
       "        circle_marker_4d1acbd041752234fe3dcae719b358cc.bindPopup(popup_f0819616ea3984cb313a39db4feb7c9d)\n",
       "        ;\n",
       "\n",
       "        \n",
       "    \n",
       "    \n",
       "            circle_marker_4d1acbd041752234fe3dcae719b358cc.bindTooltip(\n",
       "                `&lt;div&gt;\n",
       "                     Santa Rosa\n",
       "                 &lt;/div&gt;`,\n",
       "                {&quot;sticky&quot;: true}\n",
       "            );\n",
       "        \n",
       "    \n",
       "            var circle_marker_70ada4e8f3704005b9418d693d7fd359 = L.circleMarker(\n",
       "                [-29.6868, -53.8149],\n",
       "                {&quot;bubblingMouseEvents&quot;: true, &quot;color&quot;: &quot;red&quot;, &quot;dashArray&quot;: null, &quot;dashOffset&quot;: null, &quot;fill&quot;: true, &quot;fillColor&quot;: &quot;#E8710A&quot;, &quot;fillOpacity&quot;: 0.6, &quot;fillRule&quot;: &quot;evenodd&quot;, &quot;lineCap&quot;: &quot;round&quot;, &quot;lineJoin&quot;: &quot;round&quot;, &quot;opacity&quot;: 1, &quot;radius&quot;: 0.0018530332904829533, &quot;stroke&quot;: true, &quot;weight&quot;: 5}\n",
       "            ).addTo(map_72f736ba9fb575b0e7fdd036178bb489);\n",
       "        \n",
       "    \n",
       "        var popup_52d6eb56e56b8a9474be7aab1ff6d544 = L.popup({&quot;maxWidth&quot;: &quot;100%&quot;});\n",
       "\n",
       "        \n",
       "            \n",
       "                var html_8d59f5ac3dda7c903a1d52fe499533e3 = $(`&lt;div id=&quot;html_8d59f5ac3dda7c903a1d52fe499533e3&quot; style=&quot;width: 100.0%; height: 100.0%;&quot;&gt;Valor Empenhado R$2800.0&lt;/div&gt;`)[0];\n",
       "                popup_52d6eb56e56b8a9474be7aab1ff6d544.setContent(html_8d59f5ac3dda7c903a1d52fe499533e3);\n",
       "            \n",
       "        \n",
       "\n",
       "        circle_marker_70ada4e8f3704005b9418d693d7fd359.bindPopup(popup_52d6eb56e56b8a9474be7aab1ff6d544)\n",
       "        ;\n",
       "\n",
       "        \n",
       "    \n",
       "    \n",
       "            circle_marker_70ada4e8f3704005b9418d693d7fd359.bindTooltip(\n",
       "                `&lt;div&gt;\n",
       "                     Santa Maria\n",
       "                 &lt;/div&gt;`,\n",
       "                {&quot;sticky&quot;: true}\n",
       "            );\n",
       "        \n",
       "    \n",
       "            var circle_marker_52d65c0abb78e7dbd59f7ddd2242d4b7 = L.circleMarker(\n",
       "                [-30.0847, -51.6187],\n",
       "                {&quot;bubblingMouseEvents&quot;: true, &quot;color&quot;: &quot;red&quot;, &quot;dashArray&quot;: null, &quot;dashOffset&quot;: null, &quot;fill&quot;: true, &quot;fillColor&quot;: &quot;#E8710A&quot;, &quot;fillOpacity&quot;: 0.6, &quot;fillRule&quot;: &quot;evenodd&quot;, &quot;lineCap&quot;: &quot;round&quot;, &quot;lineJoin&quot;: &quot;round&quot;, &quot;opacity&quot;: 1, &quot;radius&quot;: 0.0015113471876699715, &quot;stroke&quot;: true, &quot;weight&quot;: 5}\n",
       "            ).addTo(map_72f736ba9fb575b0e7fdd036178bb489);\n",
       "        \n",
       "    \n",
       "        var popup_a849066926a1febf50d6a0a3756ce731 = L.popup({&quot;maxWidth&quot;: &quot;100%&quot;});\n",
       "\n",
       "        \n",
       "            \n",
       "                var html_199a1abddc0003487bf23eeed0b98240 = $(`&lt;div id=&quot;html_199a1abddc0003487bf23eeed0b98240&quot; style=&quot;width: 100.0%; height: 100.0%;&quot;&gt;Valor Empenhado R$2283.7&lt;/div&gt;`)[0];\n",
       "                popup_a849066926a1febf50d6a0a3756ce731.setContent(html_199a1abddc0003487bf23eeed0b98240);\n",
       "            \n",
       "        \n",
       "\n",
       "        circle_marker_52d65c0abb78e7dbd59f7ddd2242d4b7.bindPopup(popup_a849066926a1febf50d6a0a3756ce731)\n",
       "        ;\n",
       "\n",
       "        \n",
       "    \n",
       "    \n",
       "            circle_marker_52d65c0abb78e7dbd59f7ddd2242d4b7.bindTooltip(\n",
       "                `&lt;div&gt;\n",
       "                     Eldorado do Sul\n",
       "                 &lt;/div&gt;`,\n",
       "                {&quot;sticky&quot;: true}\n",
       "            );\n",
       "        \n",
       "    \n",
       "            var circle_marker_3a3d8382fdc4aaaf8877e70d31118122 = L.circleMarker(\n",
       "                [-29.0261, -51.1875],\n",
       "                {&quot;bubblingMouseEvents&quot;: true, &quot;color&quot;: &quot;red&quot;, &quot;dashArray&quot;: null, &quot;dashOffset&quot;: null, &quot;fill&quot;: true, &quot;fillColor&quot;: &quot;#E8710A&quot;, &quot;fillOpacity&quot;: 0.6, &quot;fillRule&quot;: &quot;evenodd&quot;, &quot;lineCap&quot;: &quot;round&quot;, &quot;lineJoin&quot;: &quot;round&quot;, &quot;opacity&quot;: 1, &quot;radius&quot;: 0.0015049277509136556, &quot;stroke&quot;: true, &quot;weight&quot;: 5}\n",
       "            ).addTo(map_72f736ba9fb575b0e7fdd036178bb489);\n",
       "        \n",
       "    \n",
       "        var popup_3afe470c03fcb2cf7177d2e7d9fc5ff1 = L.popup({&quot;maxWidth&quot;: &quot;100%&quot;});\n",
       "\n",
       "        \n",
       "            \n",
       "                var html_4d7571754be31ead1fa936f926639b9c = $(`&lt;div id=&quot;html_4d7571754be31ead1fa936f926639b9c&quot; style=&quot;width: 100.0%; height: 100.0%;&quot;&gt;Valor Empenhado R$2274.0&lt;/div&gt;`)[0];\n",
       "                popup_3afe470c03fcb2cf7177d2e7d9fc5ff1.setContent(html_4d7571754be31ead1fa936f926639b9c);\n",
       "            \n",
       "        \n",
       "\n",
       "        circle_marker_3a3d8382fdc4aaaf8877e70d31118122.bindPopup(popup_3afe470c03fcb2cf7177d2e7d9fc5ff1)\n",
       "        ;\n",
       "\n",
       "        \n",
       "    \n",
       "    \n",
       "            circle_marker_3a3d8382fdc4aaaf8877e70d31118122.bindTooltip(\n",
       "                `&lt;div&gt;\n",
       "                     Flores da Cunha\n",
       "                 &lt;/div&gt;`,\n",
       "                {&quot;sticky&quot;: true}\n",
       "            );\n",
       "        \n",
       "    \n",
       "            var circle_marker_9b3a48cbe3e94ce6ed62feaa682d5d0d = L.circleMarker(\n",
       "                [-28.9817, -52.3445],\n",
       "                {&quot;bubblingMouseEvents&quot;: true, &quot;color&quot;: &quot;red&quot;, &quot;dashArray&quot;: null, &quot;dashOffset&quot;: null, &quot;fill&quot;: true, &quot;fillColor&quot;: &quot;#E8710A&quot;, &quot;fillOpacity&quot;: 0.6, &quot;fillRule&quot;: &quot;evenodd&quot;, &quot;lineCap&quot;: &quot;round&quot;, &quot;lineJoin&quot;: &quot;round&quot;, &quot;opacity&quot;: 1, &quot;radius&quot;: 0.0014601703789724548, &quot;stroke&quot;: true, &quot;weight&quot;: 5}\n",
       "            ).addTo(map_72f736ba9fb575b0e7fdd036178bb489);\n",
       "        \n",
       "    \n",
       "        var popup_a66d176116fc1e12e3809983572bae81 = L.popup({&quot;maxWidth&quot;: &quot;100%&quot;});\n",
       "\n",
       "        \n",
       "            \n",
       "                var html_06737e32d44e051601898ddc02da2460 = $(`&lt;div id=&quot;html_06737e32d44e051601898ddc02da2460&quot; style=&quot;width: 100.0%; height: 100.0%;&quot;&gt;Valor Empenhado R$2206.37&lt;/div&gt;`)[0];\n",
       "                popup_a66d176116fc1e12e3809983572bae81.setContent(html_06737e32d44e051601898ddc02da2460);\n",
       "            \n",
       "        \n",
       "\n",
       "        circle_marker_9b3a48cbe3e94ce6ed62feaa682d5d0d.bindPopup(popup_a66d176116fc1e12e3809983572bae81)\n",
       "        ;\n",
       "\n",
       "        \n",
       "    \n",
       "    \n",
       "            circle_marker_9b3a48cbe3e94ce6ed62feaa682d5d0d.bindTooltip(\n",
       "                `&lt;div&gt;\n",
       "                     Fontoura Xavier\n",
       "                 &lt;/div&gt;`,\n",
       "                {&quot;sticky&quot;: true}\n",
       "            );\n",
       "        \n",
       "    \n",
       "            var circle_marker_5eb0f8905bac20c87281e8dbf4ce90af = L.circleMarker(\n",
       "                [-26.8246, -49.269],\n",
       "                {&quot;bubblingMouseEvents&quot;: true, &quot;color&quot;: &quot;red&quot;, &quot;dashArray&quot;: null, &quot;dashOffset&quot;: null, &quot;fill&quot;: true, &quot;fillColor&quot;: &quot;#E8710A&quot;, &quot;fillOpacity&quot;: 0.6, &quot;fillRule&quot;: &quot;evenodd&quot;, &quot;lineCap&quot;: &quot;round&quot;, &quot;lineJoin&quot;: &quot;round&quot;, &quot;opacity&quot;: 1, &quot;radius&quot;: 0.001236998991037933, &quot;stroke&quot;: true, &quot;weight&quot;: 5}\n",
       "            ).addTo(map_72f736ba9fb575b0e7fdd036178bb489);\n",
       "        \n",
       "    \n",
       "        var popup_b366ba31f900307f7041872fc79b3a78 = L.popup({&quot;maxWidth&quot;: &quot;100%&quot;});\n",
       "\n",
       "        \n",
       "            \n",
       "                var html_464a14ffebf9fc83713e45619aabe2f5 = $(`&lt;div id=&quot;html_464a14ffebf9fc83713e45619aabe2f5&quot; style=&quot;width: 100.0%; height: 100.0%;&quot;&gt;Valor Empenhado R$1869.15&lt;/div&gt;`)[0];\n",
       "                popup_b366ba31f900307f7041872fc79b3a78.setContent(html_464a14ffebf9fc83713e45619aabe2f5);\n",
       "            \n",
       "        \n",
       "\n",
       "        circle_marker_5eb0f8905bac20c87281e8dbf4ce90af.bindPopup(popup_b366ba31f900307f7041872fc79b3a78)\n",
       "        ;\n",
       "\n",
       "        \n",
       "    \n",
       "    \n",
       "            circle_marker_5eb0f8905bac20c87281e8dbf4ce90af.bindTooltip(\n",
       "                `&lt;div&gt;\n",
       "                     Timbó\n",
       "                 &lt;/div&gt;`,\n",
       "                {&quot;sticky&quot;: true}\n",
       "            );\n",
       "        \n",
       "    \n",
       "            var circle_marker_3613c2e778797440fb3238bec1e939ef = L.circleMarker(\n",
       "                [-23.4205, -51.9333],\n",
       "                {&quot;bubblingMouseEvents&quot;: true, &quot;color&quot;: &quot;red&quot;, &quot;dashArray&quot;: null, &quot;dashOffset&quot;: null, &quot;fill&quot;: true, &quot;fillColor&quot;: &quot;#E8710A&quot;, &quot;fillOpacity&quot;: 0.6, &quot;fillRule&quot;: &quot;evenodd&quot;, &quot;lineCap&quot;: &quot;round&quot;, &quot;lineJoin&quot;: &quot;round&quot;, &quot;opacity&quot;: 1, &quot;radius&quot;: 0.001217707590888798, &quot;stroke&quot;: true, &quot;weight&quot;: 5}\n",
       "            ).addTo(map_72f736ba9fb575b0e7fdd036178bb489);\n",
       "        \n",
       "    \n",
       "        var popup_12952592496ea4163364dcd7ed639761 = L.popup({&quot;maxWidth&quot;: &quot;100%&quot;});\n",
       "\n",
       "        \n",
       "            \n",
       "                var html_6819cab178137d8973ea7f1125a781ea = $(`&lt;div id=&quot;html_6819cab178137d8973ea7f1125a781ea&quot; style=&quot;width: 100.0%; height: 100.0%;&quot;&gt;Valor Empenhado R$1840.0&lt;/div&gt;`)[0];\n",
       "                popup_12952592496ea4163364dcd7ed639761.setContent(html_6819cab178137d8973ea7f1125a781ea);\n",
       "            \n",
       "        \n",
       "\n",
       "        circle_marker_3613c2e778797440fb3238bec1e939ef.bindPopup(popup_12952592496ea4163364dcd7ed639761)\n",
       "        ;\n",
       "\n",
       "        \n",
       "    \n",
       "    \n",
       "            circle_marker_3613c2e778797440fb3238bec1e939ef.bindTooltip(\n",
       "                `&lt;div&gt;\n",
       "                     Maringá\n",
       "                 &lt;/div&gt;`,\n",
       "                {&quot;sticky&quot;: true}\n",
       "            );\n",
       "        \n",
       "    \n",
       "            var circle_marker_ea310d1317b484bf8e3367b1938a99fa = L.circleMarker(\n",
       "                [-27.664, -53.6407],\n",
       "                {&quot;bubblingMouseEvents&quot;: true, &quot;color&quot;: &quot;red&quot;, &quot;dashArray&quot;: null, &quot;dashOffset&quot;: null, &quot;fill&quot;: true, &quot;fillColor&quot;: &quot;#E8710A&quot;, &quot;fillOpacity&quot;: 0.6, &quot;fillRule&quot;: &quot;evenodd&quot;, &quot;lineCap&quot;: &quot;round&quot;, &quot;lineJoin&quot;: &quot;round&quot;, &quot;opacity&quot;: 1, &quot;radius&quot;: 0.0011932012256221608, &quot;stroke&quot;: true, &quot;weight&quot;: 5}\n",
       "            ).addTo(map_72f736ba9fb575b0e7fdd036178bb489);\n",
       "        \n",
       "    \n",
       "        var popup_2c09e670ce748b9e90dc0493e24fc247 = L.popup({&quot;maxWidth&quot;: &quot;100%&quot;});\n",
       "\n",
       "        \n",
       "            \n",
       "                var html_d5a3e46c44826765f19307ce551339f8 = $(`&lt;div id=&quot;html_d5a3e46c44826765f19307ce551339f8&quot; style=&quot;width: 100.0%; height: 100.0%;&quot;&gt;Valor Empenhado R$1802.97&lt;/div&gt;`)[0];\n",
       "                popup_2c09e670ce748b9e90dc0493e24fc247.setContent(html_d5a3e46c44826765f19307ce551339f8);\n",
       "            \n",
       "        \n",
       "\n",
       "        circle_marker_ea310d1317b484bf8e3367b1938a99fa.bindPopup(popup_2c09e670ce748b9e90dc0493e24fc247)\n",
       "        ;\n",
       "\n",
       "        \n",
       "    \n",
       "    \n",
       "            circle_marker_ea310d1317b484bf8e3367b1938a99fa.bindTooltip(\n",
       "                `&lt;div&gt;\n",
       "                     Redentora\n",
       "                 &lt;/div&gt;`,\n",
       "                {&quot;sticky&quot;: true}\n",
       "            );\n",
       "        \n",
       "    \n",
       "            var circle_marker_b286b9710dfd333fc13325382a9a84b4 = L.circleMarker(\n",
       "                [-27.3978, -52.2975],\n",
       "                {&quot;bubblingMouseEvents&quot;: true, &quot;color&quot;: &quot;red&quot;, &quot;dashArray&quot;: null, &quot;dashOffset&quot;: null, &quot;fill&quot;: true, &quot;fillColor&quot;: &quot;#E8710A&quot;, &quot;fillOpacity&quot;: 0.6, &quot;fillRule&quot;: &quot;evenodd&quot;, &quot;lineCap&quot;: &quot;round&quot;, &quot;lineJoin&quot;: &quot;round&quot;, &quot;opacity&quot;: 1, &quot;radius&quot;: 0.0008872058675790883, &quot;stroke&quot;: true, &quot;weight&quot;: 5}\n",
       "            ).addTo(map_72f736ba9fb575b0e7fdd036178bb489);\n",
       "        \n",
       "    \n",
       "        var popup_39a910027d2d3af95f01ac40e690a125 = L.popup({&quot;maxWidth&quot;: &quot;100%&quot;});\n",
       "\n",
       "        \n",
       "            \n",
       "                var html_719427539f3189fb2816f5a826b2a00f = $(`&lt;div id=&quot;html_719427539f3189fb2816f5a826b2a00f&quot; style=&quot;width: 100.0%; height: 100.0%;&quot;&gt;Valor Empenhado R$1340.6&lt;/div&gt;`)[0];\n",
       "                popup_39a910027d2d3af95f01ac40e690a125.setContent(html_719427539f3189fb2816f5a826b2a00f);\n",
       "            \n",
       "        \n",
       "\n",
       "        circle_marker_b286b9710dfd333fc13325382a9a84b4.bindPopup(popup_39a910027d2d3af95f01ac40e690a125)\n",
       "        ;\n",
       "\n",
       "        \n",
       "    \n",
       "    \n",
       "            circle_marker_b286b9710dfd333fc13325382a9a84b4.bindTooltip(\n",
       "                `&lt;div&gt;\n",
       "                     Aratiba\n",
       "                 &lt;/div&gt;`,\n",
       "                {&quot;sticky&quot;: true}\n",
       "            );\n",
       "        \n",
       "    \n",
       "            var circle_marker_3b66844faec7260a8bf37fffa0b5920b = L.circleMarker(\n",
       "                [-28.9312, -51.5516],\n",
       "                {&quot;bubblingMouseEvents&quot;: true, &quot;color&quot;: &quot;red&quot;, &quot;dashArray&quot;: null, &quot;dashOffset&quot;: null, &quot;fill&quot;: true, &quot;fillColor&quot;: &quot;#E8710A&quot;, &quot;fillOpacity&quot;: 0.6, &quot;fillRule&quot;: &quot;evenodd&quot;, &quot;lineCap&quot;: &quot;round&quot;, &quot;lineJoin&quot;: &quot;round&quot;, &quot;opacity&quot;: 1, &quot;radius&quot;: 0.0008702638489232441, &quot;stroke&quot;: true, &quot;weight&quot;: 5}\n",
       "            ).addTo(map_72f736ba9fb575b0e7fdd036178bb489);\n",
       "        \n",
       "    \n",
       "        var popup_3c8ae0aee3cbb79f9f5e35c9a591fcf5 = L.popup({&quot;maxWidth&quot;: &quot;100%&quot;});\n",
       "\n",
       "        \n",
       "            \n",
       "                var html_565e07ac675bd25a4ce4b03752c90018 = $(`&lt;div id=&quot;html_565e07ac675bd25a4ce4b03752c90018&quot; style=&quot;width: 100.0%; height: 100.0%;&quot;&gt;Valor Empenhado R$1315.0&lt;/div&gt;`)[0];\n",
       "                popup_3c8ae0aee3cbb79f9f5e35c9a591fcf5.setContent(html_565e07ac675bd25a4ce4b03752c90018);\n",
       "            \n",
       "        \n",
       "\n",
       "        circle_marker_3b66844faec7260a8bf37fffa0b5920b.bindPopup(popup_3c8ae0aee3cbb79f9f5e35c9a591fcf5)\n",
       "        ;\n",
       "\n",
       "        \n",
       "    \n",
       "    \n",
       "            circle_marker_3b66844faec7260a8bf37fffa0b5920b.bindTooltip(\n",
       "                `&lt;div&gt;\n",
       "                     Veranópolis\n",
       "                 &lt;/div&gt;`,\n",
       "                {&quot;sticky&quot;: true}\n",
       "            );\n",
       "        \n",
       "    \n",
       "            var circle_marker_61882f8e38a7ee282a695fb993f0947e = L.circleMarker(\n",
       "                [-25.0916, -50.1668],\n",
       "                {&quot;bubblingMouseEvents&quot;: true, &quot;color&quot;: &quot;red&quot;, &quot;dashArray&quot;: null, &quot;dashOffset&quot;: null, &quot;fill&quot;: true, &quot;fillColor&quot;: &quot;#E8710A&quot;, &quot;fillOpacity&quot;: 0.6, &quot;fillRule&quot;: &quot;evenodd&quot;, &quot;lineCap&quot;: &quot;round&quot;, &quot;lineJoin&quot;: &quot;round&quot;, &quot;opacity&quot;: 1, &quot;radius&quot;: 0.0008636458728858051, &quot;stroke&quot;: true, &quot;weight&quot;: 5}\n",
       "            ).addTo(map_72f736ba9fb575b0e7fdd036178bb489);\n",
       "        \n",
       "    \n",
       "        var popup_ff98bcd155ea7f27b22abce3bf2c088c = L.popup({&quot;maxWidth&quot;: &quot;100%&quot;});\n",
       "\n",
       "        \n",
       "            \n",
       "                var html_60421257f25ecc7233e05822244e2b12 = $(`&lt;div id=&quot;html_60421257f25ecc7233e05822244e2b12&quot; style=&quot;width: 100.0%; height: 100.0%;&quot;&gt;Valor Empenhado R$1305.0&lt;/div&gt;`)[0];\n",
       "                popup_ff98bcd155ea7f27b22abce3bf2c088c.setContent(html_60421257f25ecc7233e05822244e2b12);\n",
       "            \n",
       "        \n",
       "\n",
       "        circle_marker_61882f8e38a7ee282a695fb993f0947e.bindPopup(popup_ff98bcd155ea7f27b22abce3bf2c088c)\n",
       "        ;\n",
       "\n",
       "        \n",
       "    \n",
       "    \n",
       "            circle_marker_61882f8e38a7ee282a695fb993f0947e.bindTooltip(\n",
       "                `&lt;div&gt;\n",
       "                     Ponta Grossa\n",
       "                 &lt;/div&gt;`,\n",
       "                {&quot;sticky&quot;: true}\n",
       "            );\n",
       "        \n",
       "    \n",
       "            var circle_marker_5840bdbe95dd8f7331a36c82294b2ad9 = L.circleMarker(\n",
       "                [-29.5456, -51.4185],\n",
       "                {&quot;bubblingMouseEvents&quot;: true, &quot;color&quot;: &quot;red&quot;, &quot;dashArray&quot;: null, &quot;dashOffset&quot;: null, &quot;fill&quot;: true, &quot;fillColor&quot;: &quot;#E8710A&quot;, &quot;fillOpacity&quot;: 0.6, &quot;fillRule&quot;: &quot;evenodd&quot;, &quot;lineCap&quot;: &quot;round&quot;, &quot;lineJoin&quot;: &quot;round&quot;, &quot;opacity&quot;: 1, &quot;radius&quot;: 0.0005120460419687395, &quot;stroke&quot;: true, &quot;weight&quot;: 5}\n",
       "            ).addTo(map_72f736ba9fb575b0e7fdd036178bb489);\n",
       "        \n",
       "    \n",
       "        var popup_11094efadc5d4892ad420406f21994b6 = L.popup({&quot;maxWidth&quot;: &quot;100%&quot;});\n",
       "\n",
       "        \n",
       "            \n",
       "                var html_373a1c044110e372893ef99328d3460e = $(`&lt;div id=&quot;html_373a1c044110e372893ef99328d3460e&quot; style=&quot;width: 100.0%; height: 100.0%;&quot;&gt;Valor Empenhado R$773.72&lt;/div&gt;`)[0];\n",
       "                popup_11094efadc5d4892ad420406f21994b6.setContent(html_373a1c044110e372893ef99328d3460e);\n",
       "            \n",
       "        \n",
       "\n",
       "        circle_marker_5840bdbe95dd8f7331a36c82294b2ad9.bindPopup(popup_11094efadc5d4892ad420406f21994b6)\n",
       "        ;\n",
       "\n",
       "        \n",
       "    \n",
       "    \n",
       "            circle_marker_5840bdbe95dd8f7331a36c82294b2ad9.bindTooltip(\n",
       "                `&lt;div&gt;\n",
       "                     Harmonia\n",
       "                 &lt;/div&gt;`,\n",
       "                {&quot;sticky&quot;: true}\n",
       "            );\n",
       "        \n",
       "    \n",
       "            var circle_marker_af21ed7a12194502f2cc2afd48bcad63 = L.circleMarker(\n",
       "                [-27.2156, -49.643],\n",
       "                {&quot;bubblingMouseEvents&quot;: true, &quot;color&quot;: &quot;red&quot;, &quot;dashArray&quot;: null, &quot;dashOffset&quot;: null, &quot;fill&quot;: true, &quot;fillColor&quot;: &quot;#E8710A&quot;, &quot;fillOpacity&quot;: 0.6, &quot;fillRule&quot;: &quot;evenodd&quot;, &quot;lineCap&quot;: &quot;round&quot;, &quot;lineJoin&quot;: &quot;round&quot;, &quot;opacity&quot;: 1, &quot;radius&quot;: 0.00047649427469561656, &quot;stroke&quot;: true, &quot;weight&quot;: 5}\n",
       "            ).addTo(map_72f736ba9fb575b0e7fdd036178bb489);\n",
       "        \n",
       "    \n",
       "        var popup_8fd82060c30bf19d7c3c121d4cdf89d2 = L.popup({&quot;maxWidth&quot;: &quot;100%&quot;});\n",
       "\n",
       "        \n",
       "            \n",
       "                var html_72b25d93abaf8ba52a0eaeff348a3e8b = $(`&lt;div id=&quot;html_72b25d93abaf8ba52a0eaeff348a3e8b&quot; style=&quot;width: 100.0%; height: 100.0%;&quot;&gt;Valor Empenhado R$720.0&lt;/div&gt;`)[0];\n",
       "                popup_8fd82060c30bf19d7c3c121d4cdf89d2.setContent(html_72b25d93abaf8ba52a0eaeff348a3e8b);\n",
       "            \n",
       "        \n",
       "\n",
       "        circle_marker_af21ed7a12194502f2cc2afd48bcad63.bindPopup(popup_8fd82060c30bf19d7c3c121d4cdf89d2)\n",
       "        ;\n",
       "\n",
       "        \n",
       "    \n",
       "    \n",
       "            circle_marker_af21ed7a12194502f2cc2afd48bcad63.bindTooltip(\n",
       "                `&lt;div&gt;\n",
       "                     Rio do Sul\n",
       "                 &lt;/div&gt;`,\n",
       "                {&quot;sticky&quot;: true}\n",
       "            );\n",
       "        \n",
       "    \n",
       "            var circle_marker_7bd5528bedbe48b7a71c9d74e62c7181 = L.circleMarker(\n",
       "                [-27.7758, -52.8056],\n",
       "                {&quot;bubblingMouseEvents&quot;: true, &quot;color&quot;: &quot;red&quot;, &quot;dashArray&quot;: null, &quot;dashOffset&quot;: null, &quot;fill&quot;: true, &quot;fillColor&quot;: &quot;#E8710A&quot;, &quot;fillOpacity&quot;: 0.6, &quot;fillRule&quot;: &quot;evenodd&quot;, &quot;lineCap&quot;: &quot;round&quot;, &quot;lineJoin&quot;: &quot;round&quot;, &quot;opacity&quot;: 1, &quot;radius&quot;: 0.00039707856224634717, &quot;stroke&quot;: true, &quot;weight&quot;: 5}\n",
       "            ).addTo(map_72f736ba9fb575b0e7fdd036178bb489);\n",
       "        \n",
       "    \n",
       "        var popup_6dd14070db2a3752916210f48ee1781a = L.popup({&quot;maxWidth&quot;: &quot;100%&quot;});\n",
       "\n",
       "        \n",
       "            \n",
       "                var html_ac5dc35a29737884eaa082d561d17e13 = $(`&lt;div id=&quot;html_ac5dc35a29737884eaa082d561d17e13&quot; style=&quot;width: 100.0%; height: 100.0%;&quot;&gt;Valor Empenhado R$600.0&lt;/div&gt;`)[0];\n",
       "                popup_6dd14070db2a3752916210f48ee1781a.setContent(html_ac5dc35a29737884eaa082d561d17e13);\n",
       "            \n",
       "        \n",
       "\n",
       "        circle_marker_7bd5528bedbe48b7a71c9d74e62c7181.bindPopup(popup_6dd14070db2a3752916210f48ee1781a)\n",
       "        ;\n",
       "\n",
       "        \n",
       "    \n",
       "    \n",
       "            circle_marker_7bd5528bedbe48b7a71c9d74e62c7181.bindTooltip(\n",
       "                `&lt;div&gt;\n",
       "                     Ronda Alta\n",
       "                 &lt;/div&gt;`,\n",
       "                {&quot;sticky&quot;: true}\n",
       "            );\n",
       "        \n",
       "    \n",
       "            var circle_marker_d305fd80990be52435624a8abe1607bd = L.circleMarker(\n",
       "                [-30.0819, -51.0194],\n",
       "                {&quot;bubblingMouseEvents&quot;: true, &quot;color&quot;: &quot;red&quot;, &quot;dashArray&quot;: null, &quot;dashOffset&quot;: null, &quot;fill&quot;: true, &quot;fillColor&quot;: &quot;#E8710A&quot;, &quot;fillOpacity&quot;: 0.6, &quot;fillRule&quot;: &quot;evenodd&quot;, &quot;lineCap&quot;: &quot;round&quot;, &quot;lineJoin&quot;: &quot;round&quot;, &quot;opacity&quot;: 1, &quot;radius&quot;: 0.00039707856224634717, &quot;stroke&quot;: true, &quot;weight&quot;: 5}\n",
       "            ).addTo(map_72f736ba9fb575b0e7fdd036178bb489);\n",
       "        \n",
       "    \n",
       "        var popup_e60f6751af273f8b44c4eb405d767e5d = L.popup({&quot;maxWidth&quot;: &quot;100%&quot;});\n",
       "\n",
       "        \n",
       "            \n",
       "                var html_0d0670849592f7426808db3053cf158c = $(`&lt;div id=&quot;html_0d0670849592f7426808db3053cf158c&quot; style=&quot;width: 100.0%; height: 100.0%;&quot;&gt;Valor Empenhado R$600.0&lt;/div&gt;`)[0];\n",
       "                popup_e60f6751af273f8b44c4eb405d767e5d.setContent(html_0d0670849592f7426808db3053cf158c);\n",
       "            \n",
       "        \n",
       "\n",
       "        circle_marker_d305fd80990be52435624a8abe1607bd.bindPopup(popup_e60f6751af273f8b44c4eb405d767e5d)\n",
       "        ;\n",
       "\n",
       "        \n",
       "    \n",
       "    \n",
       "            circle_marker_d305fd80990be52435624a8abe1607bd.bindTooltip(\n",
       "                `&lt;div&gt;\n",
       "                     Viamão\n",
       "                 &lt;/div&gt;`,\n",
       "                {&quot;sticky&quot;: true}\n",
       "            );\n",
       "        \n",
       "    \n",
       "            var circle_marker_1666f492c7a8c7a9afe15622e1f5b109 = L.circleMarker(\n",
       "                [-26.7242, -53.5163],\n",
       "                {&quot;bubblingMouseEvents&quot;: true, &quot;color&quot;: &quot;red&quot;, &quot;dashArray&quot;: null, &quot;dashOffset&quot;: null, &quot;fill&quot;: true, &quot;fillColor&quot;: &quot;#E8710A&quot;, &quot;fillOpacity&quot;: 0.6, &quot;fillRule&quot;: &quot;evenodd&quot;, &quot;lineCap&quot;: &quot;round&quot;, &quot;lineJoin&quot;: &quot;round&quot;, &quot;opacity&quot;: 1, &quot;radius&quot;: 0.0003420897993512655, &quot;stroke&quot;: true, &quot;weight&quot;: 5}\n",
       "            ).addTo(map_72f736ba9fb575b0e7fdd036178bb489);\n",
       "        \n",
       "    \n",
       "        var popup_384176771f3d18ee7d43ad0064629452 = L.popup({&quot;maxWidth&quot;: &quot;100%&quot;});\n",
       "\n",
       "        \n",
       "            \n",
       "                var html_d93f2d477b94dedd6d0ca4a2bda32ce6 = $(`&lt;div id=&quot;html_d93f2d477b94dedd6d0ca4a2bda32ce6&quot; style=&quot;width: 100.0%; height: 100.0%;&quot;&gt;Valor Empenhado R$516.91&lt;/div&gt;`)[0];\n",
       "                popup_384176771f3d18ee7d43ad0064629452.setContent(html_d93f2d477b94dedd6d0ca4a2bda32ce6);\n",
       "            \n",
       "        \n",
       "\n",
       "        circle_marker_1666f492c7a8c7a9afe15622e1f5b109.bindPopup(popup_384176771f3d18ee7d43ad0064629452)\n",
       "        ;\n",
       "\n",
       "        \n",
       "    \n",
       "    \n",
       "            circle_marker_1666f492c7a8c7a9afe15622e1f5b109.bindTooltip(\n",
       "                `&lt;div&gt;\n",
       "                     São Miguel do Oeste\n",
       "                 &lt;/div&gt;`,\n",
       "                {&quot;sticky&quot;: true}\n",
       "            );\n",
       "        \n",
       "    \n",
       "            var circle_marker_990a037ebbc12c4c35d5e72262742335 = L.circleMarker(\n",
       "                [-22.4836, -47.211],\n",
       "                {&quot;bubblingMouseEvents&quot;: true, &quot;color&quot;: &quot;red&quot;, &quot;dashArray&quot;: null, &quot;dashOffset&quot;: null, &quot;fill&quot;: true, &quot;fillColor&quot;: &quot;#E8710A&quot;, &quot;fillOpacity&quot;: 0.6, &quot;fillRule&quot;: &quot;evenodd&quot;, &quot;lineCap&quot;: &quot;round&quot;, &quot;lineJoin&quot;: &quot;round&quot;, &quot;opacity&quot;: 1, &quot;radius&quot;: 0.0003176628497970777, &quot;stroke&quot;: true, &quot;weight&quot;: 5}\n",
       "            ).addTo(map_72f736ba9fb575b0e7fdd036178bb489);\n",
       "        \n",
       "    \n",
       "        var popup_7c5215f80e8f526b843f5e0e724185cc = L.popup({&quot;maxWidth&quot;: &quot;100%&quot;});\n",
       "\n",
       "        \n",
       "            \n",
       "                var html_007749c674992080fc8f122d2f830d4f = $(`&lt;div id=&quot;html_007749c674992080fc8f122d2f830d4f&quot; style=&quot;width: 100.0%; height: 100.0%;&quot;&gt;Valor Empenhado R$480.0&lt;/div&gt;`)[0];\n",
       "                popup_7c5215f80e8f526b843f5e0e724185cc.setContent(html_007749c674992080fc8f122d2f830d4f);\n",
       "            \n",
       "        \n",
       "\n",
       "        circle_marker_990a037ebbc12c4c35d5e72262742335.bindPopup(popup_7c5215f80e8f526b843f5e0e724185cc)\n",
       "        ;\n",
       "\n",
       "        \n",
       "    \n",
       "    \n",
       "            circle_marker_990a037ebbc12c4c35d5e72262742335.bindTooltip(\n",
       "                `&lt;div&gt;\n",
       "                     Engenheiro Coelho\n",
       "                 &lt;/div&gt;`,\n",
       "                {&quot;sticky&quot;: true}\n",
       "            );\n",
       "        \n",
       "    \n",
       "            var circle_marker_23cda997619d38ba481b7fe4ab9533e0 = L.circleMarker(\n",
       "                [-23.5057, -46.879],\n",
       "                {&quot;bubblingMouseEvents&quot;: true, &quot;color&quot;: &quot;red&quot;, &quot;dashArray&quot;: null, &quot;dashOffset&quot;: null, &quot;fill&quot;: true, &quot;fillColor&quot;: &quot;#E8710A&quot;, &quot;fillOpacity&quot;: 0.6, &quot;fillRule&quot;: &quot;evenodd&quot;, &quot;lineCap&quot;: &quot;round&quot;, &quot;lineJoin&quot;: &quot;round&quot;, &quot;opacity&quot;: 1, &quot;radius&quot;: 0.00021722844545290164, &quot;stroke&quot;: true, &quot;weight&quot;: 5}\n",
       "            ).addTo(map_72f736ba9fb575b0e7fdd036178bb489);\n",
       "        \n",
       "    \n",
       "        var popup_6b1020bfed2c254c116ff68b5f13db5a = L.popup({&quot;maxWidth&quot;: &quot;100%&quot;});\n",
       "\n",
       "        \n",
       "            \n",
       "                var html_427b5df2638d54bd690e0a6641d21c95 = $(`&lt;div id=&quot;html_427b5df2638d54bd690e0a6641d21c95&quot; style=&quot;width: 100.0%; height: 100.0%;&quot;&gt;Valor Empenhado R$328.24&lt;/div&gt;`)[0];\n",
       "                popup_6b1020bfed2c254c116ff68b5f13db5a.setContent(html_427b5df2638d54bd690e0a6641d21c95);\n",
       "            \n",
       "        \n",
       "\n",
       "        circle_marker_23cda997619d38ba481b7fe4ab9533e0.bindPopup(popup_6b1020bfed2c254c116ff68b5f13db5a)\n",
       "        ;\n",
       "\n",
       "        \n",
       "    \n",
       "    \n",
       "            circle_marker_23cda997619d38ba481b7fe4ab9533e0.bindTooltip(\n",
       "                `&lt;div&gt;\n",
       "                     Barueri\n",
       "                 &lt;/div&gt;`,\n",
       "                {&quot;sticky&quot;: true}\n",
       "            );\n",
       "        \n",
       "    \n",
       "            var circle_marker_3cab256f5439a97b1049208687d4175e = L.circleMarker(\n",
       "                [-22.7858, -43.3049],\n",
       "                {&quot;bubblingMouseEvents&quot;: true, &quot;color&quot;: &quot;red&quot;, &quot;dashArray&quot;: null, &quot;dashOffset&quot;: null, &quot;fill&quot;: true, &quot;fillColor&quot;: &quot;#E8710A&quot;, &quot;fillOpacity&quot;: 0.6, &quot;fillRule&quot;: &quot;evenodd&quot;, &quot;lineCap&quot;: &quot;round&quot;, &quot;lineJoin&quot;: &quot;round&quot;, &quot;opacity&quot;: 1, &quot;radius&quot;: 0.00011924269224257805, &quot;stroke&quot;: true, &quot;weight&quot;: 5}\n",
       "            ).addTo(map_72f736ba9fb575b0e7fdd036178bb489);\n",
       "        \n",
       "    \n",
       "        var popup_c9b42ea23b870f438a3e68c50093eb22 = L.popup({&quot;maxWidth&quot;: &quot;100%&quot;});\n",
       "\n",
       "        \n",
       "            \n",
       "                var html_40c440417c20cd461871dd3bac1ce1d9 = $(`&lt;div id=&quot;html_40c440417c20cd461871dd3bac1ce1d9&quot; style=&quot;width: 100.0%; height: 100.0%;&quot;&gt;Valor Empenhado R$180.18&lt;/div&gt;`)[0];\n",
       "                popup_c9b42ea23b870f438a3e68c50093eb22.setContent(html_40c440417c20cd461871dd3bac1ce1d9);\n",
       "            \n",
       "        \n",
       "\n",
       "        circle_marker_3cab256f5439a97b1049208687d4175e.bindPopup(popup_c9b42ea23b870f438a3e68c50093eb22)\n",
       "        ;\n",
       "\n",
       "        \n",
       "    \n",
       "    \n",
       "            circle_marker_3cab256f5439a97b1049208687d4175e.bindTooltip(\n",
       "                `&lt;div&gt;\n",
       "                     Duque de Caxias\n",
       "                 &lt;/div&gt;`,\n",
       "                {&quot;sticky&quot;: true}\n",
       "            );\n",
       "        \n",
       "    \n",
       "            var circle_marker_deb5491356ecdd0573903830df1e5efa = L.circleMarker(\n",
       "                [-27.4002, -51.2276],\n",
       "                {&quot;bubblingMouseEvents&quot;: true, &quot;color&quot;: &quot;red&quot;, &quot;dashArray&quot;: null, &quot;dashOffset&quot;: null, &quot;fill&quot;: true, &quot;fillColor&quot;: &quot;#E8710A&quot;, &quot;fillOpacity&quot;: 0.6, &quot;fillRule&quot;: &quot;evenodd&quot;, &quot;lineCap&quot;: &quot;round&quot;, &quot;lineJoin&quot;: &quot;round&quot;, &quot;opacity&quot;: 1, &quot;radius&quot;: 6.9733613506496e-05, &quot;stroke&quot;: true, &quot;weight&quot;: 5}\n",
       "            ).addTo(map_72f736ba9fb575b0e7fdd036178bb489);\n",
       "        \n",
       "    \n",
       "        var popup_1c068dead8d173bd25c9e8a3c4607519 = L.popup({&quot;maxWidth&quot;: &quot;100%&quot;});\n",
       "\n",
       "        \n",
       "            \n",
       "                var html_2d354b091e6b3499e8da0c9c5ff78bad = $(`&lt;div id=&quot;html_2d354b091e6b3499e8da0c9c5ff78bad&quot; style=&quot;width: 100.0%; height: 100.0%;&quot;&gt;Valor Empenhado R$105.37&lt;/div&gt;`)[0];\n",
       "                popup_1c068dead8d173bd25c9e8a3c4607519.setContent(html_2d354b091e6b3499e8da0c9c5ff78bad);\n",
       "            \n",
       "        \n",
       "\n",
       "        circle_marker_deb5491356ecdd0573903830df1e5efa.bindPopup(popup_1c068dead8d173bd25c9e8a3c4607519)\n",
       "        ;\n",
       "\n",
       "        \n",
       "    \n",
       "    \n",
       "            circle_marker_deb5491356ecdd0573903830df1e5efa.bindTooltip(\n",
       "                `&lt;div&gt;\n",
       "                     Campos Novos\n",
       "                 &lt;/div&gt;`,\n",
       "                {&quot;sticky&quot;: true}\n",
       "            );\n",
       "        \n",
       "    \n",
       "            var circle_marker_828b76261aab309fa893674fc57ed763 = L.circleMarker(\n",
       "                [-27.5945, -48.5477],\n",
       "                {&quot;bubblingMouseEvents&quot;: true, &quot;color&quot;: &quot;red&quot;, &quot;dashArray&quot;: null, &quot;dashOffset&quot;: null, &quot;fill&quot;: true, &quot;fillColor&quot;: &quot;#E8710A&quot;, &quot;fillOpacity&quot;: 0.6, &quot;fillRule&quot;: &quot;evenodd&quot;, &quot;lineCap&quot;: &quot;round&quot;, &quot;lineJoin&quot;: &quot;round&quot;, &quot;opacity&quot;: 1, &quot;radius&quot;: 5.0064988723226935e-05, &quot;stroke&quot;: true, &quot;weight&quot;: 5}\n",
       "            ).addTo(map_72f736ba9fb575b0e7fdd036178bb489);\n",
       "        \n",
       "    \n",
       "        var popup_5e454ebaa8e0c14db0b8e61e1392acbb = L.popup({&quot;maxWidth&quot;: &quot;100%&quot;});\n",
       "\n",
       "        \n",
       "            \n",
       "                var html_8af42ed56df39885939b38fbccd6f0fe = $(`&lt;div id=&quot;html_8af42ed56df39885939b38fbccd6f0fe&quot; style=&quot;width: 100.0%; height: 100.0%;&quot;&gt;Valor Empenhado R$75.65&lt;/div&gt;`)[0];\n",
       "                popup_5e454ebaa8e0c14db0b8e61e1392acbb.setContent(html_8af42ed56df39885939b38fbccd6f0fe);\n",
       "            \n",
       "        \n",
       "\n",
       "        circle_marker_828b76261aab309fa893674fc57ed763.bindPopup(popup_5e454ebaa8e0c14db0b8e61e1392acbb)\n",
       "        ;\n",
       "\n",
       "        \n",
       "    \n",
       "    \n",
       "            circle_marker_828b76261aab309fa893674fc57ed763.bindTooltip(\n",
       "                `&lt;div&gt;\n",
       "                     Florianópolis\n",
       "                 &lt;/div&gt;`,\n",
       "                {&quot;sticky&quot;: true}\n",
       "            );\n",
       "        \n",
       "    \n",
       "            tile_layer_dee9d4ffe987ce7e3e6e0edcabc1de82.addTo(map_72f736ba9fb575b0e7fdd036178bb489);\n",
       "        \n",
       "&lt;/script&gt;\n",
       "&lt;/html&gt;\" style=\"position:absolute;width:100%;height:100%;left:0;top:0;border:none !important;\" allowfullscreen webkitallowfullscreen mozallowfullscreen></iframe></div></div>"
      ],
      "text/plain": [
       "<folium.folium.Map at 0x1c36355b530>"
      ]
     },
     "execution_count": 59,
     "metadata": {},
     "output_type": "execute_result"
    }
   ],
   "source": [
    "mapa = folium.Map(location=(-28.710129, -51.932609), zoom_start=4,  tiles='cartodbdark_matter')\n",
    "\n",
    "#mapa\n",
    "valor_empenhado_min = dados_agrupados['valor_empenhado'].min()\n",
    "valor_empenhado_max = dados_agrupados['valor_empenhado'].max()\n",
    "\n",
    "print(valor_empenhado_max, valor_empenhado_min)\n",
    "\n",
    "for index, a in dados_agrupados.iterrows():    \n",
    "    municipio = a['municipio']\n",
    "    latitude = a['latitude']\n",
    "    longitude = a['longitude']\n",
    "    valor_empenhado = a['valor_empenhado']\n",
    "        \n",
    "    \n",
    "    radius = valor_empenhado / valor_empenhado_max \n",
    "    if not math.isnan(latitude) and not math.isnan(longitude) and valor_empenhado > 0:\n",
    "        folium.CircleMarker(\n",
    "          location=[latitude, longitude],\n",
    "          radius=radius*10,\n",
    "          color=\"red\",\n",
    "          weight=5,\n",
    "          fill_opacity=0.6,\n",
    "          opacity=1,\n",
    "          fill_color=\"#E8710A\",\n",
    "          fill=False,  # gets overridden by fill_color\n",
    "          popup=\"Valor Empenhado R${}\".format(valor_empenhado),\n",
    "          tooltip=municipio,\n",
    "          zoom_control=False,\n",
    "          scrollWheelZoom=False,\n",
    "        ).add_to(mapa)\n",
    "\n",
    "\n",
    "mapa.save('index.html')\n",
    "\n",
    "mapa\n"
   ]
  },
  {
   "cell_type": "markdown",
   "id": "5229acb4-94e3-4de4-90cc-6800d04e5e2b",
   "metadata": {},
   "source": [
    "#### Tá ai o bichão!"
   ]
  },
  {
   "cell_type": "code",
   "execution_count": 144,
   "id": "06eeaffc-3c7b-4530-a502-902c76daf1a0",
   "metadata": {},
   "outputs": [
    {
     "data": {
      "application/vnd.plotly.v1+json": {
       "config": {
        "plotlyServerURL": "https://plot.ly"
       },
       "data": [
        {
         "orientation": "h",
         "type": "bar",
         "x": [
          15110359.94,
          5867466.07,
          4208558.38,
          3844454.69,
          1947719.23
         ],
         "y": [
          "Serafina Corrêa",
          "São Paulo",
          "Guaporé",
          "Brasília",
          "Passo Fundo"
         ]
        }
       ],
       "layout": {
        "autosize": true,
        "bargap": 0.2,
        "barmode": "group",
        "template": {
         "data": {
          "bar": [
           {
            "error_x": {
             "color": "#2a3f5f"
            },
            "error_y": {
             "color": "#2a3f5f"
            },
            "marker": {
             "line": {
              "color": "#E5ECF6",
              "width": 0.5
             },
             "pattern": {
              "fillmode": "overlay",
              "size": 10,
              "solidity": 0.2
             }
            },
            "type": "bar"
           }
          ],
          "barpolar": [
           {
            "marker": {
             "line": {
              "color": "#E5ECF6",
              "width": 0.5
             },
             "pattern": {
              "fillmode": "overlay",
              "size": 10,
              "solidity": 0.2
             }
            },
            "type": "barpolar"
           }
          ],
          "carpet": [
           {
            "aaxis": {
             "endlinecolor": "#2a3f5f",
             "gridcolor": "white",
             "linecolor": "white",
             "minorgridcolor": "white",
             "startlinecolor": "#2a3f5f"
            },
            "baxis": {
             "endlinecolor": "#2a3f5f",
             "gridcolor": "white",
             "linecolor": "white",
             "minorgridcolor": "white",
             "startlinecolor": "#2a3f5f"
            },
            "type": "carpet"
           }
          ],
          "choropleth": [
           {
            "colorbar": {
             "outlinewidth": 0,
             "ticks": ""
            },
            "type": "choropleth"
           }
          ],
          "contour": [
           {
            "colorbar": {
             "outlinewidth": 0,
             "ticks": ""
            },
            "colorscale": [
             [
              0,
              "#0d0887"
             ],
             [
              0.1111111111111111,
              "#46039f"
             ],
             [
              0.2222222222222222,
              "#7201a8"
             ],
             [
              0.3333333333333333,
              "#9c179e"
             ],
             [
              0.4444444444444444,
              "#bd3786"
             ],
             [
              0.5555555555555556,
              "#d8576b"
             ],
             [
              0.6666666666666666,
              "#ed7953"
             ],
             [
              0.7777777777777778,
              "#fb9f3a"
             ],
             [
              0.8888888888888888,
              "#fdca26"
             ],
             [
              1,
              "#f0f921"
             ]
            ],
            "type": "contour"
           }
          ],
          "contourcarpet": [
           {
            "colorbar": {
             "outlinewidth": 0,
             "ticks": ""
            },
            "type": "contourcarpet"
           }
          ],
          "heatmap": [
           {
            "colorbar": {
             "outlinewidth": 0,
             "ticks": ""
            },
            "colorscale": [
             [
              0,
              "#0d0887"
             ],
             [
              0.1111111111111111,
              "#46039f"
             ],
             [
              0.2222222222222222,
              "#7201a8"
             ],
             [
              0.3333333333333333,
              "#9c179e"
             ],
             [
              0.4444444444444444,
              "#bd3786"
             ],
             [
              0.5555555555555556,
              "#d8576b"
             ],
             [
              0.6666666666666666,
              "#ed7953"
             ],
             [
              0.7777777777777778,
              "#fb9f3a"
             ],
             [
              0.8888888888888888,
              "#fdca26"
             ],
             [
              1,
              "#f0f921"
             ]
            ],
            "type": "heatmap"
           }
          ],
          "heatmapgl": [
           {
            "colorbar": {
             "outlinewidth": 0,
             "ticks": ""
            },
            "colorscale": [
             [
              0,
              "#0d0887"
             ],
             [
              0.1111111111111111,
              "#46039f"
             ],
             [
              0.2222222222222222,
              "#7201a8"
             ],
             [
              0.3333333333333333,
              "#9c179e"
             ],
             [
              0.4444444444444444,
              "#bd3786"
             ],
             [
              0.5555555555555556,
              "#d8576b"
             ],
             [
              0.6666666666666666,
              "#ed7953"
             ],
             [
              0.7777777777777778,
              "#fb9f3a"
             ],
             [
              0.8888888888888888,
              "#fdca26"
             ],
             [
              1,
              "#f0f921"
             ]
            ],
            "type": "heatmapgl"
           }
          ],
          "histogram": [
           {
            "marker": {
             "pattern": {
              "fillmode": "overlay",
              "size": 10,
              "solidity": 0.2
             }
            },
            "type": "histogram"
           }
          ],
          "histogram2d": [
           {
            "colorbar": {
             "outlinewidth": 0,
             "ticks": ""
            },
            "colorscale": [
             [
              0,
              "#0d0887"
             ],
             [
              0.1111111111111111,
              "#46039f"
             ],
             [
              0.2222222222222222,
              "#7201a8"
             ],
             [
              0.3333333333333333,
              "#9c179e"
             ],
             [
              0.4444444444444444,
              "#bd3786"
             ],
             [
              0.5555555555555556,
              "#d8576b"
             ],
             [
              0.6666666666666666,
              "#ed7953"
             ],
             [
              0.7777777777777778,
              "#fb9f3a"
             ],
             [
              0.8888888888888888,
              "#fdca26"
             ],
             [
              1,
              "#f0f921"
             ]
            ],
            "type": "histogram2d"
           }
          ],
          "histogram2dcontour": [
           {
            "colorbar": {
             "outlinewidth": 0,
             "ticks": ""
            },
            "colorscale": [
             [
              0,
              "#0d0887"
             ],
             [
              0.1111111111111111,
              "#46039f"
             ],
             [
              0.2222222222222222,
              "#7201a8"
             ],
             [
              0.3333333333333333,
              "#9c179e"
             ],
             [
              0.4444444444444444,
              "#bd3786"
             ],
             [
              0.5555555555555556,
              "#d8576b"
             ],
             [
              0.6666666666666666,
              "#ed7953"
             ],
             [
              0.7777777777777778,
              "#fb9f3a"
             ],
             [
              0.8888888888888888,
              "#fdca26"
             ],
             [
              1,
              "#f0f921"
             ]
            ],
            "type": "histogram2dcontour"
           }
          ],
          "mesh3d": [
           {
            "colorbar": {
             "outlinewidth": 0,
             "ticks": ""
            },
            "type": "mesh3d"
           }
          ],
          "parcoords": [
           {
            "line": {
             "colorbar": {
              "outlinewidth": 0,
              "ticks": ""
             }
            },
            "type": "parcoords"
           }
          ],
          "pie": [
           {
            "automargin": true,
            "type": "pie"
           }
          ],
          "scatter": [
           {
            "fillpattern": {
             "fillmode": "overlay",
             "size": 10,
             "solidity": 0.2
            },
            "type": "scatter"
           }
          ],
          "scatter3d": [
           {
            "line": {
             "colorbar": {
              "outlinewidth": 0,
              "ticks": ""
             }
            },
            "marker": {
             "colorbar": {
              "outlinewidth": 0,
              "ticks": ""
             }
            },
            "type": "scatter3d"
           }
          ],
          "scattercarpet": [
           {
            "marker": {
             "colorbar": {
              "outlinewidth": 0,
              "ticks": ""
             }
            },
            "type": "scattercarpet"
           }
          ],
          "scattergeo": [
           {
            "marker": {
             "colorbar": {
              "outlinewidth": 0,
              "ticks": ""
             }
            },
            "type": "scattergeo"
           }
          ],
          "scattergl": [
           {
            "marker": {
             "colorbar": {
              "outlinewidth": 0,
              "ticks": ""
             }
            },
            "type": "scattergl"
           }
          ],
          "scattermapbox": [
           {
            "marker": {
             "colorbar": {
              "outlinewidth": 0,
              "ticks": ""
             }
            },
            "type": "scattermapbox"
           }
          ],
          "scatterpolar": [
           {
            "marker": {
             "colorbar": {
              "outlinewidth": 0,
              "ticks": ""
             }
            },
            "type": "scatterpolar"
           }
          ],
          "scatterpolargl": [
           {
            "marker": {
             "colorbar": {
              "outlinewidth": 0,
              "ticks": ""
             }
            },
            "type": "scatterpolargl"
           }
          ],
          "scatterternary": [
           {
            "marker": {
             "colorbar": {
              "outlinewidth": 0,
              "ticks": ""
             }
            },
            "type": "scatterternary"
           }
          ],
          "surface": [
           {
            "colorbar": {
             "outlinewidth": 0,
             "ticks": ""
            },
            "colorscale": [
             [
              0,
              "#0d0887"
             ],
             [
              0.1111111111111111,
              "#46039f"
             ],
             [
              0.2222222222222222,
              "#7201a8"
             ],
             [
              0.3333333333333333,
              "#9c179e"
             ],
             [
              0.4444444444444444,
              "#bd3786"
             ],
             [
              0.5555555555555556,
              "#d8576b"
             ],
             [
              0.6666666666666666,
              "#ed7953"
             ],
             [
              0.7777777777777778,
              "#fb9f3a"
             ],
             [
              0.8888888888888888,
              "#fdca26"
             ],
             [
              1,
              "#f0f921"
             ]
            ],
            "type": "surface"
           }
          ],
          "table": [
           {
            "cells": {
             "fill": {
              "color": "#EBF0F8"
             },
             "line": {
              "color": "white"
             }
            },
            "header": {
             "fill": {
              "color": "#C8D4E3"
             },
             "line": {
              "color": "white"
             }
            },
            "type": "table"
           }
          ]
         },
         "layout": {
          "annotationdefaults": {
           "arrowcolor": "#2a3f5f",
           "arrowhead": 0,
           "arrowwidth": 1
          },
          "autotypenumbers": "strict",
          "coloraxis": {
           "colorbar": {
            "outlinewidth": 0,
            "ticks": ""
           }
          },
          "colorscale": {
           "diverging": [
            [
             0,
             "#8e0152"
            ],
            [
             0.1,
             "#c51b7d"
            ],
            [
             0.2,
             "#de77ae"
            ],
            [
             0.3,
             "#f1b6da"
            ],
            [
             0.4,
             "#fde0ef"
            ],
            [
             0.5,
             "#f7f7f7"
            ],
            [
             0.6,
             "#e6f5d0"
            ],
            [
             0.7,
             "#b8e186"
            ],
            [
             0.8,
             "#7fbc41"
            ],
            [
             0.9,
             "#4d9221"
            ],
            [
             1,
             "#276419"
            ]
           ],
           "sequential": [
            [
             0,
             "#0d0887"
            ],
            [
             0.1111111111111111,
             "#46039f"
            ],
            [
             0.2222222222222222,
             "#7201a8"
            ],
            [
             0.3333333333333333,
             "#9c179e"
            ],
            [
             0.4444444444444444,
             "#bd3786"
            ],
            [
             0.5555555555555556,
             "#d8576b"
            ],
            [
             0.6666666666666666,
             "#ed7953"
            ],
            [
             0.7777777777777778,
             "#fb9f3a"
            ],
            [
             0.8888888888888888,
             "#fdca26"
            ],
            [
             1,
             "#f0f921"
            ]
           ],
           "sequentialminus": [
            [
             0,
             "#0d0887"
            ],
            [
             0.1111111111111111,
             "#46039f"
            ],
            [
             0.2222222222222222,
             "#7201a8"
            ],
            [
             0.3333333333333333,
             "#9c179e"
            ],
            [
             0.4444444444444444,
             "#bd3786"
            ],
            [
             0.5555555555555556,
             "#d8576b"
            ],
            [
             0.6666666666666666,
             "#ed7953"
            ],
            [
             0.7777777777777778,
             "#fb9f3a"
            ],
            [
             0.8888888888888888,
             "#fdca26"
            ],
            [
             1,
             "#f0f921"
            ]
           ]
          },
          "colorway": [
           "#636efa",
           "#EF553B",
           "#00cc96",
           "#ab63fa",
           "#FFA15A",
           "#19d3f3",
           "#FF6692",
           "#B6E880",
           "#FF97FF",
           "#FECB52"
          ],
          "font": {
           "color": "#2a3f5f"
          },
          "geo": {
           "bgcolor": "white",
           "lakecolor": "white",
           "landcolor": "#E5ECF6",
           "showlakes": true,
           "showland": true,
           "subunitcolor": "white"
          },
          "hoverlabel": {
           "align": "left"
          },
          "hovermode": "closest",
          "mapbox": {
           "style": "light"
          },
          "paper_bgcolor": "white",
          "plot_bgcolor": "#E5ECF6",
          "polar": {
           "angularaxis": {
            "gridcolor": "white",
            "linecolor": "white",
            "ticks": ""
           },
           "bgcolor": "#E5ECF6",
           "radialaxis": {
            "gridcolor": "white",
            "linecolor": "white",
            "ticks": ""
           }
          },
          "scene": {
           "xaxis": {
            "backgroundcolor": "#E5ECF6",
            "gridcolor": "white",
            "gridwidth": 2,
            "linecolor": "white",
            "showbackground": true,
            "ticks": "",
            "zerolinecolor": "white"
           },
           "yaxis": {
            "backgroundcolor": "#E5ECF6",
            "gridcolor": "white",
            "gridwidth": 2,
            "linecolor": "white",
            "showbackground": true,
            "ticks": "",
            "zerolinecolor": "white"
           },
           "zaxis": {
            "backgroundcolor": "#E5ECF6",
            "gridcolor": "white",
            "gridwidth": 2,
            "linecolor": "white",
            "showbackground": true,
            "ticks": "",
            "zerolinecolor": "white"
           }
          },
          "shapedefaults": {
           "line": {
            "color": "#2a3f5f"
           }
          },
          "ternary": {
           "aaxis": {
            "gridcolor": "white",
            "linecolor": "white",
            "ticks": ""
           },
           "baxis": {
            "gridcolor": "white",
            "linecolor": "white",
            "ticks": ""
           },
           "bgcolor": "#E5ECF6",
           "caxis": {
            "gridcolor": "white",
            "linecolor": "white",
            "ticks": ""
           }
          },
          "title": {
           "x": 0.05
          },
          "xaxis": {
           "automargin": true,
           "gridcolor": "white",
           "linecolor": "white",
           "ticks": "",
           "title": {
            "standoff": 15
           },
           "zerolinecolor": "white",
           "zerolinewidth": 2
          },
          "yaxis": {
           "automargin": true,
           "gridcolor": "white",
           "linecolor": "white",
           "ticks": "",
           "title": {
            "standoff": 15
           },
           "zerolinecolor": "white",
           "zerolinewidth": 2
          }
         }
        },
        "title": {
         "text": "Valores Empenhados por Cidade"
        },
        "xaxis": {
         "autorange": true,
         "range": [
          0,
          15905642.042105263
         ],
         "showgrid": true,
         "title": {
          "text": "Cidade"
         },
         "type": "linear"
        },
        "yaxis": {
         "autorange": true,
         "range": [
          -0.5,
          4.5
         ],
         "showgrid": true,
         "title": {
          "text": "Valor Empenhado (R$)"
         },
         "type": "category"
        }
       }
      },
      "image/png": "[encoded data removed]",
      "text/html": [
       "<div>                            <div id=\"4e3ed2b6-92ef-434c-9a32-1af7bedf8a4d\" class=\"plotly-graph-div\" style=\"height:525px; width:100%;\"></div>            <script type=\"text/javascript\">                require([\"plotly\"], function(Plotly) {                    window.PLOTLYENV=window.PLOTLYENV || {};                                    if (document.getElementById(\"4e3ed2b6-92ef-434c-9a32-1af7bedf8a4d\")) {                    Plotly.newPlot(                        \"4e3ed2b6-92ef-434c-9a32-1af7bedf8a4d\",                        [{\"orientation\":\"h\",\"x\":[15110359.94,5867466.07,4208558.38,3844454.69,1947719.23],\"y\":[\"Serafina Corr\\u00eaa\",\"S\\u00e3o Paulo\",\"Guapor\\u00e9\",\"Bras\\u00edlia\",\"Passo Fundo\"],\"type\":\"bar\"}],                        {\"template\":{\"data\":{\"histogram2dcontour\":[{\"type\":\"histogram2dcontour\",\"colorbar\":{\"outlinewidth\":0,\"ticks\":\"\"},\"colorscale\":[[0.0,\"#0d0887\"],[0.1111111111111111,\"#46039f\"],[0.2222222222222222,\"#7201a8\"],[0.3333333333333333,\"#9c179e\"],[0.4444444444444444,\"#bd3786\"],[0.5555555555555556,\"#d8576b\"],[0.6666666666666666,\"#ed7953\"],[0.7777777777777778,\"#fb9f3a\"],[0.8888888888888888,\"#fdca26\"],[1.0,\"#f0f921\"]]}],\"choropleth\":[{\"type\":\"choropleth\",\"colorbar\":{\"outlinewidth\":0,\"ticks\":\"\"}}],\"histogram2d\":[{\"type\":\"histogram2d\",\"colorbar\":{\"outlinewidth\":0,\"ticks\":\"\"},\"colorscale\":[[0.0,\"#0d0887\"],[0.1111111111111111,\"#46039f\"],[0.2222222222222222,\"#7201a8\"],[0.3333333333333333,\"#9c179e\"],[0.4444444444444444,\"#bd3786\"],[0.5555555555555556,\"#d8576b\"],[0.6666666666666666,\"#ed7953\"],[0.7777777777777778,\"#fb9f3a\"],[0.8888888888888888,\"#fdca26\"],[1.0,\"#f0f921\"]]}],\"heatmap\":[{\"type\":\"heatmap\",\"colorbar\":{\"outlinewidth\":0,\"ticks\":\"\"},\"colorscale\":[[0.0,\"#0d0887\"],[0.1111111111111111,\"#46039f\"],[0.2222222222222222,\"#7201a8\"],[0.3333333333333333,\"#9c179e\"],[0.4444444444444444,\"#bd3786\"],[0.5555555555555556,\"#d8576b\"],[0.6666666666666666,\"#ed7953\"],[0.7777777777777778,\"#fb9f3a\"],[0.8888888888888888,\"#fdca26\"],[1.0,\"#f0f921\"]]}],\"heatmapgl\":[{\"type\":\"heatmapgl\",\"colorbar\":{\"outlinewidth\":0,\"ticks\":\"\"},\"colorscale\":[[0.0,\"#0d0887\"],[0.1111111111111111,\"#46039f\"],[0.2222222222222222,\"#7201a8\"],[0.3333333333333333,\"#9c179e\"],[0.4444444444444444,\"#bd3786\"],[0.5555555555555556,\"#d8576b\"],[0.6666666666666666,\"#ed7953\"],[0.7777777777777778,\"#fb9f3a\"],[0.8888888888888888,\"#fdca26\"],[1.0,\"#f0f921\"]]}],\"contourcarpet\":[{\"type\":\"contourcarpet\",\"colorbar\":{\"outlinewidth\":0,\"ticks\":\"\"}}],\"contour\":[{\"type\":\"contour\",\"colorbar\":{\"outlinewidth\":0,\"ticks\":\"\"},\"colorscale\":[[0.0,\"#0d0887\"],[0.1111111111111111,\"#46039f\"],[0.2222222222222222,\"#7201a8\"],[0.3333333333333333,\"#9c179e\"],[0.4444444444444444,\"#bd3786\"],[0.5555555555555556,\"#d8576b\"],[0.6666666666666666,\"#ed7953\"],[0.7777777777777778,\"#fb9f3a\"],[0.8888888888888888,\"#fdca26\"],[1.0,\"#f0f921\"]]}],\"surface\":[{\"type\":\"surface\",\"colorbar\":{\"outlinewidth\":0,\"ticks\":\"\"},\"colorscale\":[[0.0,\"#0d0887\"],[0.1111111111111111,\"#46039f\"],[0.2222222222222222,\"#7201a8\"],[0.3333333333333333,\"#9c179e\"],[0.4444444444444444,\"#bd3786\"],[0.5555555555555556,\"#d8576b\"],[0.6666666666666666,\"#ed7953\"],[0.7777777777777778,\"#fb9f3a\"],[0.8888888888888888,\"#fdca26\"],[1.0,\"#f0f921\"]]}],\"mesh3d\":[{\"type\":\"mesh3d\",\"colorbar\":{\"outlinewidth\":0,\"ticks\":\"\"}}],\"scatter\":[{\"fillpattern\":{\"fillmode\":\"overlay\",\"size\":10,\"solidity\":0.2},\"type\":\"scatter\"}],\"parcoords\":[{\"type\":\"parcoords\",\"line\":{\"colorbar\":{\"outlinewidth\":0,\"ticks\":\"\"}}}],\"scatterpolargl\":[{\"type\":\"scatterpolargl\",\"marker\":{\"colorbar\":{\"outlinewidth\":0,\"ticks\":\"\"}}}],\"bar\":[{\"error_x\":{\"color\":\"#2a3f5f\"},\"error_y\":{\"color\":\"#2a3f5f\"},\"marker\":{\"line\":{\"color\":\"#E5ECF6\",\"width\":0.5},\"pattern\":{\"fillmode\":\"overlay\",\"size\":10,\"solidity\":0.2}},\"type\":\"bar\"}],\"scattergeo\":[{\"type\":\"scattergeo\",\"marker\":{\"colorbar\":{\"outlinewidth\":0,\"ticks\":\"\"}}}],\"scatterpolar\":[{\"type\":\"scatterpolar\",\"marker\":{\"colorbar\":{\"outlinewidth\":0,\"ticks\":\"\"}}}],\"histogram\":[{\"marker\":{\"pattern\":{\"fillmode\":\"overlay\",\"size\":10,\"solidity\":0.2}},\"type\":\"histogram\"}],\"scattergl\":[{\"type\":\"scattergl\",\"marker\":{\"colorbar\":{\"outlinewidth\":0,\"ticks\":\"\"}}}],\"scatter3d\":[{\"type\":\"scatter3d\",\"line\":{\"colorbar\":{\"outlinewidth\":0,\"ticks\":\"\"}},\"marker\":{\"colorbar\":{\"outlinewidth\":0,\"ticks\":\"\"}}}],\"scattermapbox\":[{\"type\":\"scattermapbox\",\"marker\":{\"colorbar\":{\"outlinewidth\":0,\"ticks\":\"\"}}}],\"scatterternary\":[{\"type\":\"scatterternary\",\"marker\":{\"colorbar\":{\"outlinewidth\":0,\"ticks\":\"\"}}}],\"scattercarpet\":[{\"type\":\"scattercarpet\",\"marker\":{\"colorbar\":{\"outlinewidth\":0,\"ticks\":\"\"}}}],\"carpet\":[{\"aaxis\":{\"endlinecolor\":\"#2a3f5f\",\"gridcolor\":\"white\",\"linecolor\":\"white\",\"minorgridcolor\":\"white\",\"startlinecolor\":\"#2a3f5f\"},\"baxis\":{\"endlinecolor\":\"#2a3f5f\",\"gridcolor\":\"white\",\"linecolor\":\"white\",\"minorgridcolor\":\"white\",\"startlinecolor\":\"#2a3f5f\"},\"type\":\"carpet\"}],\"table\":[{\"cells\":{\"fill\":{\"color\":\"#EBF0F8\"},\"line\":{\"color\":\"white\"}},\"header\":{\"fill\":{\"color\":\"#C8D4E3\"},\"line\":{\"color\":\"white\"}},\"type\":\"table\"}],\"barpolar\":[{\"marker\":{\"line\":{\"color\":\"#E5ECF6\",\"width\":0.5},\"pattern\":{\"fillmode\":\"overlay\",\"size\":10,\"solidity\":0.2}},\"type\":\"barpolar\"}],\"pie\":[{\"automargin\":true,\"type\":\"pie\"}]},\"layout\":{\"autotypenumbers\":\"strict\",\"colorway\":[\"#636efa\",\"#EF553B\",\"#00cc96\",\"#ab63fa\",\"#FFA15A\",\"#19d3f3\",\"#FF6692\",\"#B6E880\",\"#FF97FF\",\"#FECB52\"],\"font\":{\"color\":\"#2a3f5f\"},\"hovermode\":\"closest\",\"hoverlabel\":{\"align\":\"left\"},\"paper_bgcolor\":\"white\",\"plot_bgcolor\":\"#E5ECF6\",\"polar\":{\"bgcolor\":\"#E5ECF6\",\"angularaxis\":{\"gridcolor\":\"white\",\"linecolor\":\"white\",\"ticks\":\"\"},\"radialaxis\":{\"gridcolor\":\"white\",\"linecolor\":\"white\",\"ticks\":\"\"}},\"ternary\":{\"bgcolor\":\"#E5ECF6\",\"aaxis\":{\"gridcolor\":\"white\",\"linecolor\":\"white\",\"ticks\":\"\"},\"baxis\":{\"gridcolor\":\"white\",\"linecolor\":\"white\",\"ticks\":\"\"},\"caxis\":{\"gridcolor\":\"white\",\"linecolor\":\"white\",\"ticks\":\"\"}},\"coloraxis\":{\"colorbar\":{\"outlinewidth\":0,\"ticks\":\"\"}},\"colorscale\":{\"sequential\":[[0.0,\"#0d0887\"],[0.1111111111111111,\"#46039f\"],[0.2222222222222222,\"#7201a8\"],[0.3333333333333333,\"#9c179e\"],[0.4444444444444444,\"#bd3786\"],[0.5555555555555556,\"#d8576b\"],[0.6666666666666666,\"#ed7953\"],[0.7777777777777778,\"#fb9f3a\"],[0.8888888888888888,\"#fdca26\"],[1.0,\"#f0f921\"]],\"sequentialminus\":[[0.0,\"#0d0887\"],[0.1111111111111111,\"#46039f\"],[0.2222222222222222,\"#7201a8\"],[0.3333333333333333,\"#9c179e\"],[0.4444444444444444,\"#bd3786\"],[0.5555555555555556,\"#d8576b\"],[0.6666666666666666,\"#ed7953\"],[0.7777777777777778,\"#fb9f3a\"],[0.8888888888888888,\"#fdca26\"],[1.0,\"#f0f921\"]],\"diverging\":[[0,\"#8e0152\"],[0.1,\"#c51b7d\"],[0.2,\"#de77ae\"],[0.3,\"#f1b6da\"],[0.4,\"#fde0ef\"],[0.5,\"#f7f7f7\"],[0.6,\"#e6f5d0\"],[0.7,\"#b8e186\"],[0.8,\"#7fbc41\"],[0.9,\"#4d9221\"],[1,\"#276419\"]]},\"xaxis\":{\"gridcolor\":\"white\",\"linecolor\":\"white\",\"ticks\":\"\",\"title\":{\"standoff\":15},\"zerolinecolor\":\"white\",\"automargin\":true,\"zerolinewidth\":2},\"yaxis\":{\"gridcolor\":\"white\",\"linecolor\":\"white\",\"ticks\":\"\",\"title\":{\"standoff\":15},\"zerolinecolor\":\"white\",\"automargin\":true,\"zerolinewidth\":2},\"scene\":{\"xaxis\":{\"backgroundcolor\":\"#E5ECF6\",\"gridcolor\":\"white\",\"linecolor\":\"white\",\"showbackground\":true,\"ticks\":\"\",\"zerolinecolor\":\"white\",\"gridwidth\":2},\"yaxis\":{\"backgroundcolor\":\"#E5ECF6\",\"gridcolor\":\"white\",\"linecolor\":\"white\",\"showbackground\":true,\"ticks\":\"\",\"zerolinecolor\":\"white\",\"gridwidth\":2},\"zaxis\":{\"backgroundcolor\":\"#E5ECF6\",\"gridcolor\":\"white\",\"linecolor\":\"white\",\"showbackground\":true,\"ticks\":\"\",\"zerolinecolor\":\"white\",\"gridwidth\":2}},\"shapedefaults\":{\"line\":{\"color\":\"#2a3f5f\"}},\"annotationdefaults\":{\"arrowcolor\":\"#2a3f5f\",\"arrowhead\":0,\"arrowwidth\":1},\"geo\":{\"bgcolor\":\"white\",\"landcolor\":\"#E5ECF6\",\"subunitcolor\":\"white\",\"showland\":true,\"showlakes\":true,\"lakecolor\":\"white\"},\"title\":{\"x\":0.05},\"mapbox\":{\"style\":\"light\"}}},\"xaxis\":{\"title\":{\"text\":\"Cidade\"},\"showgrid\":true},\"yaxis\":{\"title\":{\"text\":\"Valor Empenhado (R$)\"},\"showgrid\":true},\"title\":{\"text\":\"Valores Empenhados por Cidade\"},\"bargap\":0.2,\"barmode\":\"group\"},                        {\"responsive\": true}                    ).then(function(){\n",
       "                            \n",
       "var gd = document.getElementById('4e3ed2b6-92ef-434c-9a32-1af7bedf8a4d');\n",
       "var x = new MutationObserver(function (mutations, observer) {{\n",
       "        var display = window.getComputedStyle(gd).display;\n",
       "        if (!display || display === 'none') {{\n",
       "            console.log([gd, 'removed!']);\n",
       "            Plotly.purge(gd);\n",
       "            observer.disconnect();\n",
       "        }}\n",
       "}});\n",
       "\n",
       "// Listen for the removal of the full notebook cells\n",
       "var notebookContainer = gd.closest('#notebook-container');\n",
       "if (notebookContainer) {{\n",
       "    x.observe(notebookContainer, {childList: true});\n",
       "}}\n",
       "\n",
       "// Listen for the clearing of the current output cell\n",
       "var outputEl = gd.closest('.output');\n",
       "if (outputEl) {{\n",
       "    x.observe(outputEl, {childList: true});\n",
       "}}\n",
       "\n",
       "                        })                };                });            </script>        </div>"
      ]
     },
     "metadata": {},
     "output_type": "display_data"
    },
    {
     "data": {
      "text/html": [
       "<div>\n",
       "<style scoped>\n",
       "    .dataframe tbody tr th:only-of-type {\n",
       "        vertical-align: middle;\n",
       "    }\n",
       "\n",
       "    .dataframe tbody tr th {\n",
       "        vertical-align: top;\n",
       "    }\n",
       "\n",
       "    .dataframe thead th {\n",
       "        text-align: right;\n",
       "    }\n",
       "</style>\n",
       "<table border=\"1\" class=\"dataframe\">\n",
       "  <thead>\n",
       "    <tr style=\"text-align: right;\">\n",
       "      <th></th>\n",
       "      <th>municipio</th>\n",
       "      <th>uf</th>\n",
       "      <th>latitude</th>\n",
       "      <th>longitude</th>\n",
       "      <th>valor_empenhado</th>\n",
       "      <th>valor_liquidado</th>\n",
       "      <th>valor_pago</th>\n",
       "      <th>cnpj</th>\n",
       "    </tr>\n",
       "  </thead>\n",
       "  <tbody>\n",
       "    <tr>\n",
       "      <th>0</th>\n",
       "      <td>Serafina Corrêa</td>\n",
       "      <td>RS</td>\n",
       "      <td>-28.7126</td>\n",
       "      <td>-51.9352</td>\n",
       "      <td>15110359.94</td>\n",
       "      <td>5727055.23</td>\n",
       "      <td>5700582.94</td>\n",
       "      <td>391</td>\n",
       "    </tr>\n",
       "    <tr>\n",
       "      <th>1</th>\n",
       "      <td>São Paulo</td>\n",
       "      <td>SP</td>\n",
       "      <td>-23.5329</td>\n",
       "      <td>-46.6395</td>\n",
       "      <td>5867466.07</td>\n",
       "      <td>2126801.54</td>\n",
       "      <td>2126801.54</td>\n",
       "      <td>12</td>\n",
       "    </tr>\n",
       "    <tr>\n",
       "      <th>2</th>\n",
       "      <td>Guaporé</td>\n",
       "      <td>RS</td>\n",
       "      <td>-28.8399</td>\n",
       "      <td>-51.8895</td>\n",
       "      <td>4208558.38</td>\n",
       "      <td>975744.38</td>\n",
       "      <td>897088.38</td>\n",
       "      <td>57</td>\n",
       "    </tr>\n",
       "    <tr>\n",
       "      <th>3</th>\n",
       "      <td>Brasília</td>\n",
       "      <td>DF</td>\n",
       "      <td>-15.7795</td>\n",
       "      <td>-47.9297</td>\n",
       "      <td>3844454.69</td>\n",
       "      <td>1016795.93</td>\n",
       "      <td>949211.30</td>\n",
       "      <td>22</td>\n",
       "    </tr>\n",
       "    <tr>\n",
       "      <th>4</th>\n",
       "      <td>Passo Fundo</td>\n",
       "      <td>RS</td>\n",
       "      <td>-28.2576</td>\n",
       "      <td>-52.4091</td>\n",
       "      <td>1947719.23</td>\n",
       "      <td>597011.47</td>\n",
       "      <td>451679.69</td>\n",
       "      <td>62</td>\n",
       "    </tr>\n",
       "  </tbody>\n",
       "</table>\n",
       "</div>"
      ],
      "text/plain": [
       "         municipio  uf  latitude  longitude  valor_empenhado  valor_liquidado  \\\n",
       "0  Serafina Corrêa  RS  -28.7126   -51.9352      15110359.94       5727055.23   \n",
       "1        São Paulo  SP  -23.5329   -46.6395       5867466.07       2126801.54   \n",
       "2          Guaporé  RS  -28.8399   -51.8895       4208558.38        975744.38   \n",
       "3         Brasília  DF  -15.7795   -47.9297       3844454.69       1016795.93   \n",
       "4      Passo Fundo  RS  -28.2576   -52.4091       1947719.23        597011.47   \n",
       "\n",
       "   valor_pago  cnpj  \n",
       "0  5700582.94   391  \n",
       "1  2126801.54    12  \n",
       "2   897088.38    57  \n",
       "3   949211.30    22  \n",
       "4   451679.69    62  "
      ]
     },
     "execution_count": 144,
     "metadata": {},
     "output_type": "execute_result"
    }
   ],
   "source": [
    "\n",
    "\n",
    "\n",
    "df = dados_agrupados[0:5]\n",
    "\n",
    "fig = go.Figure(data=[go.Bar(x=df[\"valor_empenhado\"], y=df[\"municipio\"], orientation='h')])\n",
    "\n",
    "fig.update_layout(title=\"Valores Empenhados por Cidade\",\n",
    "                  xaxis_title=\"Cidade\",\n",
    "                  yaxis_title=\"Valor Empenhado (R$)\",\n",
    "                  bargap=0.2,\n",
    "                  barmode='group',\n",
    "                  xaxis_showgrid=True,\n",
    "                  yaxis_showgrid=True)\n",
    "\n",
    "fig.show()\n",
    "\n",
    "\n",
    "dados_agrupados[0:5]"
   ]
  },
  {
   "cell_type": "code",
   "execution_count": 145,
   "id": "e7e61fb1-6e54-4e74-983d-9eaef265b99d",
   "metadata": {},
   "outputs": [
    {
     "data": {
      "text/plain": [
       "9"
      ]
     },
     "execution_count": 145,
     "metadata": {},
     "output_type": "execute_result"
    }
   ],
   "source": [
    "# quantos estados?\n",
    "dados_agrupados.uf.unique().size"
   ]
  },
  {
   "cell_type": "code",
   "execution_count": 146,
   "id": "934cdb51-0ed3-46d0-951f-1760666f7704",
   "metadata": {},
   "outputs": [
    {
     "data": {
      "text/plain": [
       "95"
      ]
     },
     "execution_count": 146,
     "metadata": {},
     "output_type": "execute_result"
    }
   ],
   "source": [
    "# quantos municipios?\n",
    "dados_agrupados.municipio.unique().size"
   ]
  },
  {
   "cell_type": "code",
   "execution_count": 147,
   "id": "576e30e3-ab88-42a7-b457-1bf0764455fa",
   "metadata": {},
   "outputs": [
    {
     "data": {
      "text/plain": [
       "1048"
      ]
     },
     "execution_count": 147,
     "metadata": {},
     "output_type": "execute_result"
    }
   ],
   "source": [
    "# quantas empresas?\n",
    "dados_agrupados.cnpj.sum()"
   ]
  },
  {
   "cell_type": "code",
   "execution_count": 148,
   "id": "60eac28d-2b06-434d-9f49-9af0b35a151d",
   "metadata": {},
   "outputs": [],
   "source": [
    "despesas_fornecedor_com_municipios.to_csv('despesas_fornecedor_com_municipios_Q1.csv')"
   ]
  },
  {
   "cell_type": "code",
   "execution_count": 149,
   "id": "ecbb59ec-8145-4eb1-82dc-9c1c7950b1a1",
   "metadata": {},
   "outputs": [
    {
     "data": {
      "text/plain": [
       "array(['janeiro', 'fevereiro', 'março'], dtype=object)"
      ]
     },
     "execution_count": 149,
     "metadata": {},
     "output_type": "execute_result"
    }
   ],
   "source": [
    "despesas_fornecedor_com_municipios.mes.unique()"
   ]
  },
  {
   "cell_type": "code",
   "execution_count": 150,
   "id": "48e9600c-6ce0-4721-81f8-bc1900f74162",
   "metadata": {},
   "outputs": [
    {
     "data": {
      "application/vnd.plotly.v1+json": {
       "config": {
        "plotlyServerURL": "https://plot.ly"
       },
       "data": [
        {
         "orientation": "h",
         "type": "bar",
         "x": [
          5702736.82,
          4488532.98,
          2716029.1,
          2329243.67,
          2300020
         ],
         "y": [
          "TRACADO CONSTRUCOES E SERVICOS LTDA 00472805000138 São Paulo/SP",
          "HOSPITAL NOSSA SENHORA DO ROSARIO 90397167000120 Serafina Corrêa/RS",
          "RPPS- DIVERSOS FUNCIONARIOS 14373681000148 Serafina Corrêa/RS",
          "BAGGIO & MARCOLINA SISTEMAS DE LIMPEZA E SEGURANCA 08145249000105 Guaporé/RS",
          "CAIXA ECONOMICA FEDERAL 00360305000104 Brasília/DF"
         ]
        }
       ],
       "layout": {
        "autosize": true,
        "bargap": 0.2,
        "barmode": "group",
        "template": {
         "data": {
          "bar": [
           {
            "error_x": {
             "color": "#2a3f5f"
            },
            "error_y": {
             "color": "#2a3f5f"
            },
            "marker": {
             "line": {
              "color": "#E5ECF6",
              "width": 0.5
             },
             "pattern": {
              "fillmode": "overlay",
              "size": 10,
              "solidity": 0.2
             }
            },
            "type": "bar"
           }
          ],
          "barpolar": [
           {
            "marker": {
             "line": {
              "color": "#E5ECF6",
              "width": 0.5
             },
             "pattern": {
              "fillmode": "overlay",
              "size": 10,
              "solidity": 0.2
             }
            },
            "type": "barpolar"
           }
          ],
          "carpet": [
           {
            "aaxis": {
             "endlinecolor": "#2a3f5f",
             "gridcolor": "white",
             "linecolor": "white",
             "minorgridcolor": "white",
             "startlinecolor": "#2a3f5f"
            },
            "baxis": {
             "endlinecolor": "#2a3f5f",
             "gridcolor": "white",
             "linecolor": "white",
             "minorgridcolor": "white",
             "startlinecolor": "#2a3f5f"
            },
            "type": "carpet"
           }
          ],
          "choropleth": [
           {
            "colorbar": {
             "outlinewidth": 0,
             "ticks": ""
            },
            "type": "choropleth"
           }
          ],
          "contour": [
           {
            "colorbar": {
             "outlinewidth": 0,
             "ticks": ""
            },
            "colorscale": [
             [
              0,
              "#0d0887"
             ],
             [
              0.1111111111111111,
              "#46039f"
             ],
             [
              0.2222222222222222,
              "#7201a8"
             ],
             [
              0.3333333333333333,
              "#9c179e"
             ],
             [
              0.4444444444444444,
              "#bd3786"
             ],
             [
              0.5555555555555556,
              "#d8576b"
             ],
             [
              0.6666666666666666,
              "#ed7953"
             ],
             [
              0.7777777777777778,
              "#fb9f3a"
             ],
             [
              0.8888888888888888,
              "#fdca26"
             ],
             [
              1,
              "#f0f921"
             ]
            ],
            "type": "contour"
           }
          ],
          "contourcarpet": [
           {
            "colorbar": {
             "outlinewidth": 0,
             "ticks": ""
            },
            "type": "contourcarpet"
           }
          ],
          "heatmap": [
           {
            "colorbar": {
             "outlinewidth": 0,
             "ticks": ""
            },
            "colorscale": [
             [
              0,
              "#0d0887"
             ],
             [
              0.1111111111111111,
              "#46039f"
             ],
             [
              0.2222222222222222,
              "#7201a8"
             ],
             [
              0.3333333333333333,
              "#9c179e"
             ],
             [
              0.4444444444444444,
              "#bd3786"
             ],
             [
              0.5555555555555556,
              "#d8576b"
             ],
             [
              0.6666666666666666,
              "#ed7953"
             ],
             [
              0.7777777777777778,
              "#fb9f3a"
             ],
             [
              0.8888888888888888,
              "#fdca26"
             ],
             [
              1,
              "#f0f921"
             ]
            ],
            "type": "heatmap"
           }
          ],
          "heatmapgl": [
           {
            "colorbar": {
             "outlinewidth": 0,
             "ticks": ""
            },
            "colorscale": [
             [
              0,
              "#0d0887"
             ],
             [
              0.1111111111111111,
              "#46039f"
             ],
             [
              0.2222222222222222,
              "#7201a8"
             ],
             [
              0.3333333333333333,
              "#9c179e"
             ],
             [
              0.4444444444444444,
              "#bd3786"
             ],
             [
              0.5555555555555556,
              "#d8576b"
             ],
             [
              0.6666666666666666,
              "#ed7953"
             ],
             [
              0.7777777777777778,
              "#fb9f3a"
             ],
             [
              0.8888888888888888,
              "#fdca26"
             ],
             [
              1,
              "#f0f921"
             ]
            ],
            "type": "heatmapgl"
           }
          ],
          "histogram": [
           {
            "marker": {
             "pattern": {
              "fillmode": "overlay",
              "size": 10,
              "solidity": 0.2
             }
            },
            "type": "histogram"
           }
          ],
          "histogram2d": [
           {
            "colorbar": {
             "outlinewidth": 0,
             "ticks": ""
            },
            "colorscale": [
             [
              0,
              "#0d0887"
             ],
             [
              0.1111111111111111,
              "#46039f"
             ],
             [
              0.2222222222222222,
              "#7201a8"
             ],
             [
              0.3333333333333333,
              "#9c179e"
             ],
             [
              0.4444444444444444,
              "#bd3786"
             ],
             [
              0.5555555555555556,
              "#d8576b"
             ],
             [
              0.6666666666666666,
              "#ed7953"
             ],
             [
              0.7777777777777778,
              "#fb9f3a"
             ],
             [
              0.8888888888888888,
              "#fdca26"
             ],
             [
              1,
              "#f0f921"
             ]
            ],
            "type": "histogram2d"
           }
          ],
          "histogram2dcontour": [
           {
            "colorbar": {
             "outlinewidth": 0,
             "ticks": ""
            },
            "colorscale": [
             [
              0,
              "#0d0887"
             ],
             [
              0.1111111111111111,
              "#46039f"
             ],
             [
              0.2222222222222222,
              "#7201a8"
             ],
             [
              0.3333333333333333,
              "#9c179e"
             ],
             [
              0.4444444444444444,
              "#bd3786"
             ],
             [
              0.5555555555555556,
              "#d8576b"
             ],
             [
              0.6666666666666666,
              "#ed7953"
             ],
             [
              0.7777777777777778,
              "#fb9f3a"
             ],
             [
              0.8888888888888888,
              "#fdca26"
             ],
             [
              1,
              "#f0f921"
             ]
            ],
            "type": "histogram2dcontour"
           }
          ],
          "mesh3d": [
           {
            "colorbar": {
             "outlinewidth": 0,
             "ticks": ""
            },
            "type": "mesh3d"
           }
          ],
          "parcoords": [
           {
            "line": {
             "colorbar": {
              "outlinewidth": 0,
              "ticks": ""
             }
            },
            "type": "parcoords"
           }
          ],
          "pie": [
           {
            "automargin": true,
            "type": "pie"
           }
          ],
          "scatter": [
           {
            "fillpattern": {
             "fillmode": "overlay",
             "size": 10,
             "solidity": 0.2
            },
            "type": "scatter"
           }
          ],
          "scatter3d": [
           {
            "line": {
             "colorbar": {
              "outlinewidth": 0,
              "ticks": ""
             }
            },
            "marker": {
             "colorbar": {
              "outlinewidth": 0,
              "ticks": ""
             }
            },
            "type": "scatter3d"
           }
          ],
          "scattercarpet": [
           {
            "marker": {
             "colorbar": {
              "outlinewidth": 0,
              "ticks": ""
             }
            },
            "type": "scattercarpet"
           }
          ],
          "scattergeo": [
           {
            "marker": {
             "colorbar": {
              "outlinewidth": 0,
              "ticks": ""
             }
            },
            "type": "scattergeo"
           }
          ],
          "scattergl": [
           {
            "marker": {
             "colorbar": {
              "outlinewidth": 0,
              "ticks": ""
             }
            },
            "type": "scattergl"
           }
          ],
          "scattermapbox": [
           {
            "marker": {
             "colorbar": {
              "outlinewidth": 0,
              "ticks": ""
             }
            },
            "type": "scattermapbox"
           }
          ],
          "scatterpolar": [
           {
            "marker": {
             "colorbar": {
              "outlinewidth": 0,
              "ticks": ""
             }
            },
            "type": "scatterpolar"
           }
          ],
          "scatterpolargl": [
           {
            "marker": {
             "colorbar": {
              "outlinewidth": 0,
              "ticks": ""
             }
            },
            "type": "scatterpolargl"
           }
          ],
          "scatterternary": [
           {
            "marker": {
             "colorbar": {
              "outlinewidth": 0,
              "ticks": ""
             }
            },
            "type": "scatterternary"
           }
          ],
          "surface": [
           {
            "colorbar": {
             "outlinewidth": 0,
             "ticks": ""
            },
            "colorscale": [
             [
              0,
              "#0d0887"
             ],
             [
              0.1111111111111111,
              "#46039f"
             ],
             [
              0.2222222222222222,
              "#7201a8"
             ],
             [
              0.3333333333333333,
              "#9c179e"
             ],
             [
              0.4444444444444444,
              "#bd3786"
             ],
             [
              0.5555555555555556,
              "#d8576b"
             ],
             [
              0.6666666666666666,
              "#ed7953"
             ],
             [
              0.7777777777777778,
              "#fb9f3a"
             ],
             [
              0.8888888888888888,
              "#fdca26"
             ],
             [
              1,
              "#f0f921"
             ]
            ],
            "type": "surface"
           }
          ],
          "table": [
           {
            "cells": {
             "fill": {
              "color": "#EBF0F8"
             },
             "line": {
              "color": "white"
             }
            },
            "header": {
             "fill": {
              "color": "#C8D4E3"
             },
             "line": {
              "color": "white"
             }
            },
            "type": "table"
           }
          ]
         },
         "layout": {
          "annotationdefaults": {
           "arrowcolor": "#2a3f5f",
           "arrowhead": 0,
           "arrowwidth": 1
          },
          "autotypenumbers": "strict",
          "coloraxis": {
           "colorbar": {
            "outlinewidth": 0,
            "ticks": ""
           }
          },
          "colorscale": {
           "diverging": [
            [
             0,
             "#8e0152"
            ],
            [
             0.1,
             "#c51b7d"
            ],
            [
             0.2,
             "#de77ae"
            ],
            [
             0.3,
             "#f1b6da"
            ],
            [
             0.4,
             "#fde0ef"
            ],
            [
             0.5,
             "#f7f7f7"
            ],
            [
             0.6,
             "#e6f5d0"
            ],
            [
             0.7,
             "#b8e186"
            ],
            [
             0.8,
             "#7fbc41"
            ],
            [
             0.9,
             "#4d9221"
            ],
            [
             1,
             "#276419"
            ]
           ],
           "sequential": [
            [
             0,
             "#0d0887"
            ],
            [
             0.1111111111111111,
             "#46039f"
            ],
            [
             0.2222222222222222,
             "#7201a8"
            ],
            [
             0.3333333333333333,
             "#9c179e"
            ],
            [
             0.4444444444444444,
             "#bd3786"
            ],
            [
             0.5555555555555556,
             "#d8576b"
            ],
            [
             0.6666666666666666,
             "#ed7953"
            ],
            [
             0.7777777777777778,
             "#fb9f3a"
            ],
            [
             0.8888888888888888,
             "#fdca26"
            ],
            [
             1,
             "#f0f921"
            ]
           ],
           "sequentialminus": [
            [
             0,
             "#0d0887"
            ],
            [
             0.1111111111111111,
             "#46039f"
            ],
            [
             0.2222222222222222,
             "#7201a8"
            ],
            [
             0.3333333333333333,
             "#9c179e"
            ],
            [
             0.4444444444444444,
             "#bd3786"
            ],
            [
             0.5555555555555556,
             "#d8576b"
            ],
            [
             0.6666666666666666,
             "#ed7953"
            ],
            [
             0.7777777777777778,
             "#fb9f3a"
            ],
            [
             0.8888888888888888,
             "#fdca26"
            ],
            [
             1,
             "#f0f921"
            ]
           ]
          },
          "colorway": [
           "#636efa",
           "#EF553B",
           "#00cc96",
           "#ab63fa",
           "#FFA15A",
           "#19d3f3",
           "#FF6692",
           "#B6E880",
           "#FF97FF",
           "#FECB52"
          ],
          "font": {
           "color": "#2a3f5f"
          },
          "geo": {
           "bgcolor": "white",
           "lakecolor": "white",
           "landcolor": "#E5ECF6",
           "showlakes": true,
           "showland": true,
           "subunitcolor": "white"
          },
          "hoverlabel": {
           "align": "left"
          },
          "hovermode": "closest",
          "mapbox": {
           "style": "light"
          },
          "paper_bgcolor": "white",
          "plot_bgcolor": "#E5ECF6",
          "polar": {
           "angularaxis": {
            "gridcolor": "white",
            "linecolor": "white",
            "ticks": ""
           },
           "bgcolor": "#E5ECF6",
           "radialaxis": {
            "gridcolor": "white",
            "linecolor": "white",
            "ticks": ""
           }
          },
          "scene": {
           "xaxis": {
            "backgroundcolor": "#E5ECF6",
            "gridcolor": "white",
            "gridwidth": 2,
            "linecolor": "white",
            "showbackground": true,
            "ticks": "",
            "zerolinecolor": "white"
           },
           "yaxis": {
            "backgroundcolor": "#E5ECF6",
            "gridcolor": "white",
            "gridwidth": 2,
            "linecolor": "white",
            "showbackground": true,
            "ticks": "",
            "zerolinecolor": "white"
           },
           "zaxis": {
            "backgroundcolor": "#E5ECF6",
            "gridcolor": "white",
            "gridwidth": 2,
            "linecolor": "white",
            "showbackground": true,
            "ticks": "",
            "zerolinecolor": "white"
           }
          },
          "shapedefaults": {
           "line": {
            "color": "#2a3f5f"
           }
          },
          "ternary": {
           "aaxis": {
            "gridcolor": "white",
            "linecolor": "white",
            "ticks": ""
           },
           "baxis": {
            "gridcolor": "white",
            "linecolor": "white",
            "ticks": ""
           },
           "bgcolor": "#E5ECF6",
           "caxis": {
            "gridcolor": "white",
            "linecolor": "white",
            "ticks": ""
           }
          },
          "title": {
           "x": 0.05
          },
          "xaxis": {
           "automargin": true,
           "gridcolor": "white",
           "linecolor": "white",
           "ticks": "",
           "title": {
            "standoff": 15
           },
           "zerolinecolor": "white",
           "zerolinewidth": 2
          },
          "yaxis": {
           "automargin": true,
           "gridcolor": "white",
           "linecolor": "white",
           "ticks": "",
           "title": {
            "standoff": 15
           },
           "zerolinecolor": "white",
           "zerolinewidth": 2
          }
         }
        },
        "title": {
         "text": "Valores Empenhados por Empresa"
        },
        "xaxis": {
         "autorange": true,
         "range": [
          0,
          6002880.863157895
         ],
         "showgrid": true,
         "title": {
          "text": "Valor Empenhado (R$)"
         },
         "type": "linear"
        },
        "yaxis": {
         "autorange": true,
         "range": [
          -0.5,
          4.5
         ],
         "showgrid": true,
         "title": {
          "text": "Empresa"
         },
         "type": "category"
        }
       }
      },
      "image/png": "[encoded data removed]",
      "text/html": [
       "<div>                            <div id=\"6163edf4-7027-4069-ac02-8e0cf98b6be7\" class=\"plotly-graph-div\" style=\"height:525px; width:100%;\"></div>            <script type=\"text/javascript\">                require([\"plotly\"], function(Plotly) {                    window.PLOTLYENV=window.PLOTLYENV || {};                                    if (document.getElementById(\"6163edf4-7027-4069-ac02-8e0cf98b6be7\")) {                    Plotly.newPlot(                        \"6163edf4-7027-4069-ac02-8e0cf98b6be7\",                        [{\"orientation\":\"h\",\"x\":[5702736.82,4488532.98,2716029.1,2329243.67,2300020.0],\"y\":[\"TRACADO CONSTRUCOES E SERVICOS LTDA 00472805000138 S\\u00e3o Paulo\\u002fSP\",\"HOSPITAL NOSSA SENHORA DO ROSARIO 90397167000120 Serafina Corr\\u00eaa\\u002fRS\",\"RPPS- DIVERSOS FUNCIONARIOS 14373681000148 Serafina Corr\\u00eaa\\u002fRS\",\"BAGGIO & MARCOLINA SISTEMAS DE LIMPEZA E SEGURANCA 08145249000105 Guapor\\u00e9\\u002fRS\",\"CAIXA ECONOMICA FEDERAL 00360305000104 Bras\\u00edlia\\u002fDF\"],\"type\":\"bar\"}],                        {\"template\":{\"data\":{\"histogram2dcontour\":[{\"type\":\"histogram2dcontour\",\"colorbar\":{\"outlinewidth\":0,\"ticks\":\"\"},\"colorscale\":[[0.0,\"#0d0887\"],[0.1111111111111111,\"#46039f\"],[0.2222222222222222,\"#7201a8\"],[0.3333333333333333,\"#9c179e\"],[0.4444444444444444,\"#bd3786\"],[0.5555555555555556,\"#d8576b\"],[0.6666666666666666,\"#ed7953\"],[0.7777777777777778,\"#fb9f3a\"],[0.8888888888888888,\"#fdca26\"],[1.0,\"#f0f921\"]]}],\"choropleth\":[{\"type\":\"choropleth\",\"colorbar\":{\"outlinewidth\":0,\"ticks\":\"\"}}],\"histogram2d\":[{\"type\":\"histogram2d\",\"colorbar\":{\"outlinewidth\":0,\"ticks\":\"\"},\"colorscale\":[[0.0,\"#0d0887\"],[0.1111111111111111,\"#46039f\"],[0.2222222222222222,\"#7201a8\"],[0.3333333333333333,\"#9c179e\"],[0.4444444444444444,\"#bd3786\"],[0.5555555555555556,\"#d8576b\"],[0.6666666666666666,\"#ed7953\"],[0.7777777777777778,\"#fb9f3a\"],[0.8888888888888888,\"#fdca26\"],[1.0,\"#f0f921\"]]}],\"heatmap\":[{\"type\":\"heatmap\",\"colorbar\":{\"outlinewidth\":0,\"ticks\":\"\"},\"colorscale\":[[0.0,\"#0d0887\"],[0.1111111111111111,\"#46039f\"],[0.2222222222222222,\"#7201a8\"],[0.3333333333333333,\"#9c179e\"],[0.4444444444444444,\"#bd3786\"],[0.5555555555555556,\"#d8576b\"],[0.6666666666666666,\"#ed7953\"],[0.7777777777777778,\"#fb9f3a\"],[0.8888888888888888,\"#fdca26\"],[1.0,\"#f0f921\"]]}],\"heatmapgl\":[{\"type\":\"heatmapgl\",\"colorbar\":{\"outlinewidth\":0,\"ticks\":\"\"},\"colorscale\":[[0.0,\"#0d0887\"],[0.1111111111111111,\"#46039f\"],[0.2222222222222222,\"#7201a8\"],[0.3333333333333333,\"#9c179e\"],[0.4444444444444444,\"#bd3786\"],[0.5555555555555556,\"#d8576b\"],[0.6666666666666666,\"#ed7953\"],[0.7777777777777778,\"#fb9f3a\"],[0.8888888888888888,\"#fdca26\"],[1.0,\"#f0f921\"]]}],\"contourcarpet\":[{\"type\":\"contourcarpet\",\"colorbar\":{\"outlinewidth\":0,\"ticks\":\"\"}}],\"contour\":[{\"type\":\"contour\",\"colorbar\":{\"outlinewidth\":0,\"ticks\":\"\"},\"colorscale\":[[0.0,\"#0d0887\"],[0.1111111111111111,\"#46039f\"],[0.2222222222222222,\"#7201a8\"],[0.3333333333333333,\"#9c179e\"],[0.4444444444444444,\"#bd3786\"],[0.5555555555555556,\"#d8576b\"],[0.6666666666666666,\"#ed7953\"],[0.7777777777777778,\"#fb9f3a\"],[0.8888888888888888,\"#fdca26\"],[1.0,\"#f0f921\"]]}],\"surface\":[{\"type\":\"surface\",\"colorbar\":{\"outlinewidth\":0,\"ticks\":\"\"},\"colorscale\":[[0.0,\"#0d0887\"],[0.1111111111111111,\"#46039f\"],[0.2222222222222222,\"#7201a8\"],[0.3333333333333333,\"#9c179e\"],[0.4444444444444444,\"#bd3786\"],[0.5555555555555556,\"#d8576b\"],[0.6666666666666666,\"#ed7953\"],[0.7777777777777778,\"#fb9f3a\"],[0.8888888888888888,\"#fdca26\"],[1.0,\"#f0f921\"]]}],\"mesh3d\":[{\"type\":\"mesh3d\",\"colorbar\":{\"outlinewidth\":0,\"ticks\":\"\"}}],\"scatter\":[{\"fillpattern\":{\"fillmode\":\"overlay\",\"size\":10,\"solidity\":0.2},\"type\":\"scatter\"}],\"parcoords\":[{\"type\":\"parcoords\",\"line\":{\"colorbar\":{\"outlinewidth\":0,\"ticks\":\"\"}}}],\"scatterpolargl\":[{\"type\":\"scatterpolargl\",\"marker\":{\"colorbar\":{\"outlinewidth\":0,\"ticks\":\"\"}}}],\"bar\":[{\"error_x\":{\"color\":\"#2a3f5f\"},\"error_y\":{\"color\":\"#2a3f5f\"},\"marker\":{\"line\":{\"color\":\"#E5ECF6\",\"width\":0.5},\"pattern\":{\"fillmode\":\"overlay\",\"size\":10,\"solidity\":0.2}},\"type\":\"bar\"}],\"scattergeo\":[{\"type\":\"scattergeo\",\"marker\":{\"colorbar\":{\"outlinewidth\":0,\"ticks\":\"\"}}}],\"scatterpolar\":[{\"type\":\"scatterpolar\",\"marker\":{\"colorbar\":{\"outlinewidth\":0,\"ticks\":\"\"}}}],\"histogram\":[{\"marker\":{\"pattern\":{\"fillmode\":\"overlay\",\"size\":10,\"solidity\":0.2}},\"type\":\"histogram\"}],\"scattergl\":[{\"type\":\"scattergl\",\"marker\":{\"colorbar\":{\"outlinewidth\":0,\"ticks\":\"\"}}}],\"scatter3d\":[{\"type\":\"scatter3d\",\"line\":{\"colorbar\":{\"outlinewidth\":0,\"ticks\":\"\"}},\"marker\":{\"colorbar\":{\"outlinewidth\":0,\"ticks\":\"\"}}}],\"scattermapbox\":[{\"type\":\"scattermapbox\",\"marker\":{\"colorbar\":{\"outlinewidth\":0,\"ticks\":\"\"}}}],\"scatterternary\":[{\"type\":\"scatterternary\",\"marker\":{\"colorbar\":{\"outlinewidth\":0,\"ticks\":\"\"}}}],\"scattercarpet\":[{\"type\":\"scattercarpet\",\"marker\":{\"colorbar\":{\"outlinewidth\":0,\"ticks\":\"\"}}}],\"carpet\":[{\"aaxis\":{\"endlinecolor\":\"#2a3f5f\",\"gridcolor\":\"white\",\"linecolor\":\"white\",\"minorgridcolor\":\"white\",\"startlinecolor\":\"#2a3f5f\"},\"baxis\":{\"endlinecolor\":\"#2a3f5f\",\"gridcolor\":\"white\",\"linecolor\":\"white\",\"minorgridcolor\":\"white\",\"startlinecolor\":\"#2a3f5f\"},\"type\":\"carpet\"}],\"table\":[{\"cells\":{\"fill\":{\"color\":\"#EBF0F8\"},\"line\":{\"color\":\"white\"}},\"header\":{\"fill\":{\"color\":\"#C8D4E3\"},\"line\":{\"color\":\"white\"}},\"type\":\"table\"}],\"barpolar\":[{\"marker\":{\"line\":{\"color\":\"#E5ECF6\",\"width\":0.5},\"pattern\":{\"fillmode\":\"overlay\",\"size\":10,\"solidity\":0.2}},\"type\":\"barpolar\"}],\"pie\":[{\"automargin\":true,\"type\":\"pie\"}]},\"layout\":{\"autotypenumbers\":\"strict\",\"colorway\":[\"#636efa\",\"#EF553B\",\"#00cc96\",\"#ab63fa\",\"#FFA15A\",\"#19d3f3\",\"#FF6692\",\"#B6E880\",\"#FF97FF\",\"#FECB52\"],\"font\":{\"color\":\"#2a3f5f\"},\"hovermode\":\"closest\",\"hoverlabel\":{\"align\":\"left\"},\"paper_bgcolor\":\"white\",\"plot_bgcolor\":\"#E5ECF6\",\"polar\":{\"bgcolor\":\"#E5ECF6\",\"angularaxis\":{\"gridcolor\":\"white\",\"linecolor\":\"white\",\"ticks\":\"\"},\"radialaxis\":{\"gridcolor\":\"white\",\"linecolor\":\"white\",\"ticks\":\"\"}},\"ternary\":{\"bgcolor\":\"#E5ECF6\",\"aaxis\":{\"gridcolor\":\"white\",\"linecolor\":\"white\",\"ticks\":\"\"},\"baxis\":{\"gridcolor\":\"white\",\"linecolor\":\"white\",\"ticks\":\"\"},\"caxis\":{\"gridcolor\":\"white\",\"linecolor\":\"white\",\"ticks\":\"\"}},\"coloraxis\":{\"colorbar\":{\"outlinewidth\":0,\"ticks\":\"\"}},\"colorscale\":{\"sequential\":[[0.0,\"#0d0887\"],[0.1111111111111111,\"#46039f\"],[0.2222222222222222,\"#7201a8\"],[0.3333333333333333,\"#9c179e\"],[0.4444444444444444,\"#bd3786\"],[0.5555555555555556,\"#d8576b\"],[0.6666666666666666,\"#ed7953\"],[0.7777777777777778,\"#fb9f3a\"],[0.8888888888888888,\"#fdca26\"],[1.0,\"#f0f921\"]],\"sequentialminus\":[[0.0,\"#0d0887\"],[0.1111111111111111,\"#46039f\"],[0.2222222222222222,\"#7201a8\"],[0.3333333333333333,\"#9c179e\"],[0.4444444444444444,\"#bd3786\"],[0.5555555555555556,\"#d8576b\"],[0.6666666666666666,\"#ed7953\"],[0.7777777777777778,\"#fb9f3a\"],[0.8888888888888888,\"#fdca26\"],[1.0,\"#f0f921\"]],\"diverging\":[[0,\"#8e0152\"],[0.1,\"#c51b7d\"],[0.2,\"#de77ae\"],[0.3,\"#f1b6da\"],[0.4,\"#fde0ef\"],[0.5,\"#f7f7f7\"],[0.6,\"#e6f5d0\"],[0.7,\"#b8e186\"],[0.8,\"#7fbc41\"],[0.9,\"#4d9221\"],[1,\"#276419\"]]},\"xaxis\":{\"gridcolor\":\"white\",\"linecolor\":\"white\",\"ticks\":\"\",\"title\":{\"standoff\":15},\"zerolinecolor\":\"white\",\"automargin\":true,\"zerolinewidth\":2},\"yaxis\":{\"gridcolor\":\"white\",\"linecolor\":\"white\",\"ticks\":\"\",\"title\":{\"standoff\":15},\"zerolinecolor\":\"white\",\"automargin\":true,\"zerolinewidth\":2},\"scene\":{\"xaxis\":{\"backgroundcolor\":\"#E5ECF6\",\"gridcolor\":\"white\",\"linecolor\":\"white\",\"showbackground\":true,\"ticks\":\"\",\"zerolinecolor\":\"white\",\"gridwidth\":2},\"yaxis\":{\"backgroundcolor\":\"#E5ECF6\",\"gridcolor\":\"white\",\"linecolor\":\"white\",\"showbackground\":true,\"ticks\":\"\",\"zerolinecolor\":\"white\",\"gridwidth\":2},\"zaxis\":{\"backgroundcolor\":\"#E5ECF6\",\"gridcolor\":\"white\",\"linecolor\":\"white\",\"showbackground\":true,\"ticks\":\"\",\"zerolinecolor\":\"white\",\"gridwidth\":2}},\"shapedefaults\":{\"line\":{\"color\":\"#2a3f5f\"}},\"annotationdefaults\":{\"arrowcolor\":\"#2a3f5f\",\"arrowhead\":0,\"arrowwidth\":1},\"geo\":{\"bgcolor\":\"white\",\"landcolor\":\"#E5ECF6\",\"subunitcolor\":\"white\",\"showland\":true,\"showlakes\":true,\"lakecolor\":\"white\"},\"title\":{\"x\":0.05},\"mapbox\":{\"style\":\"light\"}}},\"xaxis\":{\"title\":{\"text\":\"Valor Empenhado (R$)\"},\"showgrid\":true},\"yaxis\":{\"title\":{\"text\":\"Empresa\"},\"showgrid\":true},\"title\":{\"text\":\"Valores Empenhados por Empresa\"},\"bargap\":0.2,\"barmode\":\"group\"},                        {\"responsive\": true}                    ).then(function(){\n",
       "                            \n",
       "var gd = document.getElementById('6163edf4-7027-4069-ac02-8e0cf98b6be7');\n",
       "var x = new MutationObserver(function (mutations, observer) {{\n",
       "        var display = window.getComputedStyle(gd).display;\n",
       "        if (!display || display === 'none') {{\n",
       "            console.log([gd, 'removed!']);\n",
       "            Plotly.purge(gd);\n",
       "            observer.disconnect();\n",
       "        }}\n",
       "}});\n",
       "\n",
       "// Listen for the removal of the full notebook cells\n",
       "var notebookContainer = gd.closest('#notebook-container');\n",
       "if (notebookContainer) {{\n",
       "    x.observe(notebookContainer, {childList: true});\n",
       "}}\n",
       "\n",
       "// Listen for the clearing of the current output cell\n",
       "var outputEl = gd.closest('.output');\n",
       "if (outputEl) {{\n",
       "    x.observe(outputEl, {childList: true});\n",
       "}}\n",
       "\n",
       "                        })                };                });            </script>        </div>"
      ]
     },
     "metadata": {},
     "output_type": "display_data"
    }
   ],
   "source": [
    "df = despesas_fornecedor_com_municipios.sort_values(by= 'valor_empenhado', ascending=False)[0:5]\n",
    "\n",
    "df = df[~df['Código'].isna()]\n",
    "df = df[~df['CNPJ/CPF'].isna()]\n",
    "\n",
    "\n",
    "fig = go.Figure(data=[go.Bar(x=df[\"valor_empenhado\"], y=df[\"Descrição\"] + ' ' + df[\"cnpj\"] + ' ' + df[\"municipio\"] + '/' + df[\"uf\"], orientation='h')])\n",
    "\n",
    "fig.update_layout(title=\"Valores Empenhados por Empresa\",\n",
    "                  xaxis_title=\"Valor Empenhado (R$)\",\n",
    "                  yaxis_title=\"Empresa\",\n",
    "                  bargap=0.2,\n",
    "                  barmode='group',\n",
    "                  xaxis_showgrid=True,\n",
    "                  yaxis_showgrid=True)\n",
    "\n",
    "fig.show()\n",
    "\n",
    "\n"
   ]
  },
  {
   "cell_type": "code",
   "execution_count": null,
   "id": "ec554563-fe3a-4ba5-a285-6cfda190926f",
   "metadata": {},
   "outputs": [],
   "source": [
    "#top 5\n",
    "df[['Descrição', 'cnpj', 'municipio', 'uf', 'valor_empenhado']]"
   ]
  },
  {
   "cell_type": "code",
   "execution_count": 170,
   "id": "be1cd37f-1a49-4e22-bccd-8775d40c0179",
   "metadata": {},
   "outputs": [],
   "source": [
    "dados_agrupados_meses = despesas_fornecedor_com_municipios.groupby(['mes', 'mes_int']).agg(\n",
    "    {'valor_empenhado': 'sum', 'valor_liquidado': 'sum', 'valor_pago': 'sum', 'cnpj':'count'}\n",
    "    ).sort_values(by='valor_empenhado', ascending=False)\n",
    "\n",
    "dados_agrupados_meses.reset_index(inplace=True)\n"
   ]
  },
  {
   "cell_type": "code",
   "execution_count": 204,
   "id": "119f9c36-6db1-46d6-9044-95049417ff2a",
   "metadata": {},
   "outputs": [],
   "source": [
    "dados_agrupados_meses.to_csv('data/dados_agrupados_meses')"
   ]
  },
  {
   "cell_type": "code",
   "execution_count": 201,
   "id": "5692764e-4dc1-443b-9d72-a23d035fb61a",
   "metadata": {},
   "outputs": [
    {
     "data": {
      "application/vnd.plotly.v1+json": {
       "config": {
        "plotlyServerURL": "https://plot.ly"
       },
       "data": [
        {
         "marker": {
          "color": "indianred"
         },
         "name": "Valor empenhado",
         "text": [
          25767670.71,
          10222003.42,
          5379808.56
         ],
         "type": "bar",
         "x": [
          "janeiro",
          "fevereiro",
          "março"
         ],
         "y": [
          25767670.71,
          10222003.42,
          5379808.56
         ]
        },
        {
         "marker": {
          "color": "lightsalmon"
         },
         "name": "Valor Liquidado",
         "text": [
          3287758.88,
          4849767.7,
          7670447.9
         ],
         "type": "bar",
         "x": [
          "janeiro",
          "fevereiro",
          "março"
         ],
         "y": [
          3287758.88,
          4849767.7,
          7670447.9
         ]
        }
       ],
       "layout": {
        "autosize": true,
        "bargap": 0.2,
        "barmode": "group",
        "template": {
         "data": {
          "bar": [
           {
            "error_x": {
             "color": "#2a3f5f"
            },
            "error_y": {
             "color": "#2a3f5f"
            },
            "marker": {
             "line": {
              "color": "#E5ECF6",
              "width": 0.5
             },
             "pattern": {
              "fillmode": "overlay",
              "size": 10,
              "solidity": 0.2
             }
            },
            "type": "bar"
           }
          ],
          "barpolar": [
           {
            "marker": {
             "line": {
              "color": "#E5ECF6",
              "width": 0.5
             },
             "pattern": {
              "fillmode": "overlay",
              "size": 10,
              "solidity": 0.2
             }
            },
            "type": "barpolar"
           }
          ],
          "carpet": [
           {
            "aaxis": {
             "endlinecolor": "#2a3f5f",
             "gridcolor": "white",
             "linecolor": "white",
             "minorgridcolor": "white",
             "startlinecolor": "#2a3f5f"
            },
            "baxis": {
             "endlinecolor": "#2a3f5f",
             "gridcolor": "white",
             "linecolor": "white",
             "minorgridcolor": "white",
             "startlinecolor": "#2a3f5f"
            },
            "type": "carpet"
           }
          ],
          "choropleth": [
           {
            "colorbar": {
             "outlinewidth": 0,
             "ticks": ""
            },
            "type": "choropleth"
           }
          ],
          "contour": [
           {
            "colorbar": {
             "outlinewidth": 0,
             "ticks": ""
            },
            "colorscale": [
             [
              0,
              "#0d0887"
             ],
             [
              0.1111111111111111,
              "#46039f"
             ],
             [
              0.2222222222222222,
              "#7201a8"
             ],
             [
              0.3333333333333333,
              "#9c179e"
             ],
             [
              0.4444444444444444,
              "#bd3786"
             ],
             [
              0.5555555555555556,
              "#d8576b"
             ],
             [
              0.6666666666666666,
              "#ed7953"
             ],
             [
              0.7777777777777778,
              "#fb9f3a"
             ],
             [
              0.8888888888888888,
              "#fdca26"
             ],
             [
              1,
              "#f0f921"
             ]
            ],
            "type": "contour"
           }
          ],
          "contourcarpet": [
           {
            "colorbar": {
             "outlinewidth": 0,
             "ticks": ""
            },
            "type": "contourcarpet"
           }
          ],
          "heatmap": [
           {
            "colorbar": {
             "outlinewidth": 0,
             "ticks": ""
            },
            "colorscale": [
             [
              0,
              "#0d0887"
             ],
             [
              0.1111111111111111,
              "#46039f"
             ],
             [
              0.2222222222222222,
              "#7201a8"
             ],
             [
              0.3333333333333333,
              "#9c179e"
             ],
             [
              0.4444444444444444,
              "#bd3786"
             ],
             [
              0.5555555555555556,
              "#d8576b"
             ],
             [
              0.6666666666666666,
              "#ed7953"
             ],
             [
              0.7777777777777778,
              "#fb9f3a"
             ],
             [
              0.8888888888888888,
              "#fdca26"
             ],
             [
              1,
              "#f0f921"
             ]
            ],
            "type": "heatmap"
           }
          ],
          "heatmapgl": [
           {
            "colorbar": {
             "outlinewidth": 0,
             "ticks": ""
            },
            "colorscale": [
             [
              0,
              "#0d0887"
             ],
             [
              0.1111111111111111,
              "#46039f"
             ],
             [
              0.2222222222222222,
              "#7201a8"
             ],
             [
              0.3333333333333333,
              "#9c179e"
             ],
             [
              0.4444444444444444,
              "#bd3786"
             ],
             [
              0.5555555555555556,
              "#d8576b"
             ],
             [
              0.6666666666666666,
              "#ed7953"
             ],
             [
              0.7777777777777778,
              "#fb9f3a"
             ],
             [
              0.8888888888888888,
              "#fdca26"
             ],
             [
              1,
              "#f0f921"
             ]
            ],
            "type": "heatmapgl"
           }
          ],
          "histogram": [
           {
            "marker": {
             "pattern": {
              "fillmode": "overlay",
              "size": 10,
              "solidity": 0.2
             }
            },
            "type": "histogram"
           }
          ],
          "histogram2d": [
           {
            "colorbar": {
             "outlinewidth": 0,
             "ticks": ""
            },
            "colorscale": [
             [
              0,
              "#0d0887"
             ],
             [
              0.1111111111111111,
              "#46039f"
             ],
             [
              0.2222222222222222,
              "#7201a8"
             ],
             [
              0.3333333333333333,
              "#9c179e"
             ],
             [
              0.4444444444444444,
              "#bd3786"
             ],
             [
              0.5555555555555556,
              "#d8576b"
             ],
             [
              0.6666666666666666,
              "#ed7953"
             ],
             [
              0.7777777777777778,
              "#fb9f3a"
             ],
             [
              0.8888888888888888,
              "#fdca26"
             ],
             [
              1,
              "#f0f921"
             ]
            ],
            "type": "histogram2d"
           }
          ],
          "histogram2dcontour": [
           {
            "colorbar": {
             "outlinewidth": 0,
             "ticks": ""
            },
            "colorscale": [
             [
              0,
              "#0d0887"
             ],
             [
              0.1111111111111111,
              "#46039f"
             ],
             [
              0.2222222222222222,
              "#7201a8"
             ],
             [
              0.3333333333333333,
              "#9c179e"
             ],
             [
              0.4444444444444444,
              "#bd3786"
             ],
             [
              0.5555555555555556,
              "#d8576b"
             ],
             [
              0.6666666666666666,
              "#ed7953"
             ],
             [
              0.7777777777777778,
              "#fb9f3a"
             ],
             [
              0.8888888888888888,
              "#fdca26"
             ],
             [
              1,
              "#f0f921"
             ]
            ],
            "type": "histogram2dcontour"
           }
          ],
          "mesh3d": [
           {
            "colorbar": {
             "outlinewidth": 0,
             "ticks": ""
            },
            "type": "mesh3d"
           }
          ],
          "parcoords": [
           {
            "line": {
             "colorbar": {
              "outlinewidth": 0,
              "ticks": ""
             }
            },
            "type": "parcoords"
           }
          ],
          "pie": [
           {
            "automargin": true,
            "type": "pie"
           }
          ],
          "scatter": [
           {
            "fillpattern": {
             "fillmode": "overlay",
             "size": 10,
             "solidity": 0.2
            },
            "type": "scatter"
           }
          ],
          "scatter3d": [
           {
            "line": {
             "colorbar": {
              "outlinewidth": 0,
              "ticks": ""
             }
            },
            "marker": {
             "colorbar": {
              "outlinewidth": 0,
              "ticks": ""
             }
            },
            "type": "scatter3d"
           }
          ],
          "scattercarpet": [
           {
            "marker": {
             "colorbar": {
              "outlinewidth": 0,
              "ticks": ""
             }
            },
            "type": "scattercarpet"
           }
          ],
          "scattergeo": [
           {
            "marker": {
             "colorbar": {
              "outlinewidth": 0,
              "ticks": ""
             }
            },
            "type": "scattergeo"
           }
          ],
          "scattergl": [
           {
            "marker": {
             "colorbar": {
              "outlinewidth": 0,
              "ticks": ""
             }
            },
            "type": "scattergl"
           }
          ],
          "scattermapbox": [
           {
            "marker": {
             "colorbar": {
              "outlinewidth": 0,
              "ticks": ""
             }
            },
            "type": "scattermapbox"
           }
          ],
          "scatterpolar": [
           {
            "marker": {
             "colorbar": {
              "outlinewidth": 0,
              "ticks": ""
             }
            },
            "type": "scatterpolar"
           }
          ],
          "scatterpolargl": [
           {
            "marker": {
             "colorbar": {
              "outlinewidth": 0,
              "ticks": ""
             }
            },
            "type": "scatterpolargl"
           }
          ],
          "scatterternary": [
           {
            "marker": {
             "colorbar": {
              "outlinewidth": 0,
              "ticks": ""
             }
            },
            "type": "scatterternary"
           }
          ],
          "surface": [
           {
            "colorbar": {
             "outlinewidth": 0,
             "ticks": ""
            },
            "colorscale": [
             [
              0,
              "#0d0887"
             ],
             [
              0.1111111111111111,
              "#46039f"
             ],
             [
              0.2222222222222222,
              "#7201a8"
             ],
             [
              0.3333333333333333,
              "#9c179e"
             ],
             [
              0.4444444444444444,
              "#bd3786"
             ],
             [
              0.5555555555555556,
              "#d8576b"
             ],
             [
              0.6666666666666666,
              "#ed7953"
             ],
             [
              0.7777777777777778,
              "#fb9f3a"
             ],
             [
              0.8888888888888888,
              "#fdca26"
             ],
             [
              1,
              "#f0f921"
             ]
            ],
            "type": "surface"
           }
          ],
          "table": [
           {
            "cells": {
             "fill": {
              "color": "#EBF0F8"
             },
             "line": {
              "color": "white"
             }
            },
            "header": {
             "fill": {
              "color": "#C8D4E3"
             },
             "line": {
              "color": "white"
             }
            },
            "type": "table"
           }
          ]
         },
         "layout": {
          "annotationdefaults": {
           "arrowcolor": "#2a3f5f",
           "arrowhead": 0,
           "arrowwidth": 1
          },
          "autotypenumbers": "strict",
          "coloraxis": {
           "colorbar": {
            "outlinewidth": 0,
            "ticks": ""
           }
          },
          "colorscale": {
           "diverging": [
            [
             0,
             "#8e0152"
            ],
            [
             0.1,
             "#c51b7d"
            ],
            [
             0.2,
             "#de77ae"
            ],
            [
             0.3,
             "#f1b6da"
            ],
            [
             0.4,
             "#fde0ef"
            ],
            [
             0.5,
             "#f7f7f7"
            ],
            [
             0.6,
             "#e6f5d0"
            ],
            [
             0.7,
             "#b8e186"
            ],
            [
             0.8,
             "#7fbc41"
            ],
            [
             0.9,
             "#4d9221"
            ],
            [
             1,
             "#276419"
            ]
           ],
           "sequential": [
            [
             0,
             "#0d0887"
            ],
            [
             0.1111111111111111,
             "#46039f"
            ],
            [
             0.2222222222222222,
             "#7201a8"
            ],
            [
             0.3333333333333333,
             "#9c179e"
            ],
            [
             0.4444444444444444,
             "#bd3786"
            ],
            [
             0.5555555555555556,
             "#d8576b"
            ],
            [
             0.6666666666666666,
             "#ed7953"
            ],
            [
             0.7777777777777778,
             "#fb9f3a"
            ],
            [
             0.8888888888888888,
             "#fdca26"
            ],
            [
             1,
             "#f0f921"
            ]
           ],
           "sequentialminus": [
            [
             0,
             "#0d0887"
            ],
            [
             0.1111111111111111,
             "#46039f"
            ],
            [
             0.2222222222222222,
             "#7201a8"
            ],
            [
             0.3333333333333333,
             "#9c179e"
            ],
            [
             0.4444444444444444,
             "#bd3786"
            ],
            [
             0.5555555555555556,
             "#d8576b"
            ],
            [
             0.6666666666666666,
             "#ed7953"
            ],
            [
             0.7777777777777778,
             "#fb9f3a"
            ],
            [
             0.8888888888888888,
             "#fdca26"
            ],
            [
             1,
             "#f0f921"
            ]
           ]
          },
          "colorway": [
           "#636efa",
           "#EF553B",
           "#00cc96",
           "#ab63fa",
           "#FFA15A",
           "#19d3f3",
           "#FF6692",
           "#B6E880",
           "#FF97FF",
           "#FECB52"
          ],
          "font": {
           "color": "#2a3f5f"
          },
          "geo": {
           "bgcolor": "white",
           "lakecolor": "white",
           "landcolor": "#E5ECF6",
           "showlakes": true,
           "showland": true,
           "subunitcolor": "white"
          },
          "hoverlabel": {
           "align": "left"
          },
          "hovermode": "closest",
          "mapbox": {
           "style": "light"
          },
          "paper_bgcolor": "white",
          "plot_bgcolor": "#E5ECF6",
          "polar": {
           "angularaxis": {
            "gridcolor": "white",
            "linecolor": "white",
            "ticks": ""
           },
           "bgcolor": "#E5ECF6",
           "radialaxis": {
            "gridcolor": "white",
            "linecolor": "white",
            "ticks": ""
           }
          },
          "scene": {
           "xaxis": {
            "backgroundcolor": "#E5ECF6",
            "gridcolor": "white",
            "gridwidth": 2,
            "linecolor": "white",
            "showbackground": true,
            "ticks": "",
            "zerolinecolor": "white"
           },
           "yaxis": {
            "backgroundcolor": "#E5ECF6",
            "gridcolor": "white",
            "gridwidth": 2,
            "linecolor": "white",
            "showbackground": true,
            "ticks": "",
            "zerolinecolor": "white"
           },
           "zaxis": {
            "backgroundcolor": "#E5ECF6",
            "gridcolor": "white",
            "gridwidth": 2,
            "linecolor": "white",
            "showbackground": true,
            "ticks": "",
            "zerolinecolor": "white"
           }
          },
          "shapedefaults": {
           "line": {
            "color": "#2a3f5f"
           }
          },
          "ternary": {
           "aaxis": {
            "gridcolor": "white",
            "linecolor": "white",
            "ticks": ""
           },
           "baxis": {
            "gridcolor": "white",
            "linecolor": "white",
            "ticks": ""
           },
           "bgcolor": "#E5ECF6",
           "caxis": {
            "gridcolor": "white",
            "linecolor": "white",
            "ticks": ""
           }
          },
          "title": {
           "x": 0.05
          },
          "xaxis": {
           "automargin": true,
           "gridcolor": "white",
           "linecolor": "white",
           "ticks": "",
           "title": {
            "standoff": 15
           },
           "zerolinecolor": "white",
           "zerolinewidth": 2
          },
          "yaxis": {
           "automargin": true,
           "gridcolor": "white",
           "linecolor": "white",
           "ticks": "",
           "title": {
            "standoff": 15
           },
           "zerolinecolor": "white",
           "zerolinewidth": 2
          }
         }
        },
        "title": {
         "text": "Comparativo de valores empenhado e liquidado 2024T1"
        },
        "xaxis": {
         "autorange": true,
         "range": [
          -0.5,
          2.5
         ],
         "showgrid": true,
         "title": {
          "text": "Mês"
         },
         "type": "category"
        },
        "yaxis": {
         "autorange": true,
         "range": [
          0,
          27123863.90526316
         ],
         "showgrid": true,
         "title": {
          "text": "Valor"
         },
         "type": "linear"
        }
       }
      },
      "image/png": "[encoded data removed]",
      "text/html": [
       "<div>                            <div id=\"4e44cee2-1e15-47fd-bd36-b5063b75c239\" class=\"plotly-graph-div\" style=\"height:525px; width:100%;\"></div>            <script type=\"text/javascript\">                require([\"plotly\"], function(Plotly) {                    window.PLOTLYENV=window.PLOTLYENV || {};                                    if (document.getElementById(\"4e44cee2-1e15-47fd-bd36-b5063b75c239\")) {                    Plotly.newPlot(                        \"4e44cee2-1e15-47fd-bd36-b5063b75c239\",                        [{\"marker\":{\"color\":\"indianred\"},\"name\":\"Valor empenhado\",\"text\":[25767670.71,10222003.42,5379808.56],\"x\":[\"janeiro\",\"fevereiro\",\"mar\\u00e7o\"],\"y\":[25767670.71,10222003.42,5379808.56],\"type\":\"bar\"},{\"marker\":{\"color\":\"lightsalmon\"},\"name\":\"Valor Liquidado\",\"text\":[3287758.88,4849767.7,7670447.9],\"x\":[\"janeiro\",\"fevereiro\",\"mar\\u00e7o\"],\"y\":[3287758.88,4849767.7,7670447.9],\"type\":\"bar\"}],                        {\"template\":{\"data\":{\"histogram2dcontour\":[{\"type\":\"histogram2dcontour\",\"colorbar\":{\"outlinewidth\":0,\"ticks\":\"\"},\"colorscale\":[[0.0,\"#0d0887\"],[0.1111111111111111,\"#46039f\"],[0.2222222222222222,\"#7201a8\"],[0.3333333333333333,\"#9c179e\"],[0.4444444444444444,\"#bd3786\"],[0.5555555555555556,\"#d8576b\"],[0.6666666666666666,\"#ed7953\"],[0.7777777777777778,\"#fb9f3a\"],[0.8888888888888888,\"#fdca26\"],[1.0,\"#f0f921\"]]}],\"choropleth\":[{\"type\":\"choropleth\",\"colorbar\":{\"outlinewidth\":0,\"ticks\":\"\"}}],\"histogram2d\":[{\"type\":\"histogram2d\",\"colorbar\":{\"outlinewidth\":0,\"ticks\":\"\"},\"colorscale\":[[0.0,\"#0d0887\"],[0.1111111111111111,\"#46039f\"],[0.2222222222222222,\"#7201a8\"],[0.3333333333333333,\"#9c179e\"],[0.4444444444444444,\"#bd3786\"],[0.5555555555555556,\"#d8576b\"],[0.6666666666666666,\"#ed7953\"],[0.7777777777777778,\"#fb9f3a\"],[0.8888888888888888,\"#fdca26\"],[1.0,\"#f0f921\"]]}],\"heatmap\":[{\"type\":\"heatmap\",\"colorbar\":{\"outlinewidth\":0,\"ticks\":\"\"},\"colorscale\":[[0.0,\"#0d0887\"],[0.1111111111111111,\"#46039f\"],[0.2222222222222222,\"#7201a8\"],[0.3333333333333333,\"#9c179e\"],[0.4444444444444444,\"#bd3786\"],[0.5555555555555556,\"#d8576b\"],[0.6666666666666666,\"#ed7953\"],[0.7777777777777778,\"#fb9f3a\"],[0.8888888888888888,\"#fdca26\"],[1.0,\"#f0f921\"]]}],\"heatmapgl\":[{\"type\":\"heatmapgl\",\"colorbar\":{\"outlinewidth\":0,\"ticks\":\"\"},\"colorscale\":[[0.0,\"#0d0887\"],[0.1111111111111111,\"#46039f\"],[0.2222222222222222,\"#7201a8\"],[0.3333333333333333,\"#9c179e\"],[0.4444444444444444,\"#bd3786\"],[0.5555555555555556,\"#d8576b\"],[0.6666666666666666,\"#ed7953\"],[0.7777777777777778,\"#fb9f3a\"],[0.8888888888888888,\"#fdca26\"],[1.0,\"#f0f921\"]]}],\"contourcarpet\":[{\"type\":\"contourcarpet\",\"colorbar\":{\"outlinewidth\":0,\"ticks\":\"\"}}],\"contour\":[{\"type\":\"contour\",\"colorbar\":{\"outlinewidth\":0,\"ticks\":\"\"},\"colorscale\":[[0.0,\"#0d0887\"],[0.1111111111111111,\"#46039f\"],[0.2222222222222222,\"#7201a8\"],[0.3333333333333333,\"#9c179e\"],[0.4444444444444444,\"#bd3786\"],[0.5555555555555556,\"#d8576b\"],[0.6666666666666666,\"#ed7953\"],[0.7777777777777778,\"#fb9f3a\"],[0.8888888888888888,\"#fdca26\"],[1.0,\"#f0f921\"]]}],\"surface\":[{\"type\":\"surface\",\"colorbar\":{\"outlinewidth\":0,\"ticks\":\"\"},\"colorscale\":[[0.0,\"#0d0887\"],[0.1111111111111111,\"#46039f\"],[0.2222222222222222,\"#7201a8\"],[0.3333333333333333,\"#9c179e\"],[0.4444444444444444,\"#bd3786\"],[0.5555555555555556,\"#d8576b\"],[0.6666666666666666,\"#ed7953\"],[0.7777777777777778,\"#fb9f3a\"],[0.8888888888888888,\"#fdca26\"],[1.0,\"#f0f921\"]]}],\"mesh3d\":[{\"type\":\"mesh3d\",\"colorbar\":{\"outlinewidth\":0,\"ticks\":\"\"}}],\"scatter\":[{\"fillpattern\":{\"fillmode\":\"overlay\",\"size\":10,\"solidity\":0.2},\"type\":\"scatter\"}],\"parcoords\":[{\"type\":\"parcoords\",\"line\":{\"colorbar\":{\"outlinewidth\":0,\"ticks\":\"\"}}}],\"scatterpolargl\":[{\"type\":\"scatterpolargl\",\"marker\":{\"colorbar\":{\"outlinewidth\":0,\"ticks\":\"\"}}}],\"bar\":[{\"error_x\":{\"color\":\"#2a3f5f\"},\"error_y\":{\"color\":\"#2a3f5f\"},\"marker\":{\"line\":{\"color\":\"#E5ECF6\",\"width\":0.5},\"pattern\":{\"fillmode\":\"overlay\",\"size\":10,\"solidity\":0.2}},\"type\":\"bar\"}],\"scattergeo\":[{\"type\":\"scattergeo\",\"marker\":{\"colorbar\":{\"outlinewidth\":0,\"ticks\":\"\"}}}],\"scatterpolar\":[{\"type\":\"scatterpolar\",\"marker\":{\"colorbar\":{\"outlinewidth\":0,\"ticks\":\"\"}}}],\"histogram\":[{\"marker\":{\"pattern\":{\"fillmode\":\"overlay\",\"size\":10,\"solidity\":0.2}},\"type\":\"histogram\"}],\"scattergl\":[{\"type\":\"scattergl\",\"marker\":{\"colorbar\":{\"outlinewidth\":0,\"ticks\":\"\"}}}],\"scatter3d\":[{\"type\":\"scatter3d\",\"line\":{\"colorbar\":{\"outlinewidth\":0,\"ticks\":\"\"}},\"marker\":{\"colorbar\":{\"outlinewidth\":0,\"ticks\":\"\"}}}],\"scattermapbox\":[{\"type\":\"scattermapbox\",\"marker\":{\"colorbar\":{\"outlinewidth\":0,\"ticks\":\"\"}}}],\"scatterternary\":[{\"type\":\"scatterternary\",\"marker\":{\"colorbar\":{\"outlinewidth\":0,\"ticks\":\"\"}}}],\"scattercarpet\":[{\"type\":\"scattercarpet\",\"marker\":{\"colorbar\":{\"outlinewidth\":0,\"ticks\":\"\"}}}],\"carpet\":[{\"aaxis\":{\"endlinecolor\":\"#2a3f5f\",\"gridcolor\":\"white\",\"linecolor\":\"white\",\"minorgridcolor\":\"white\",\"startlinecolor\":\"#2a3f5f\"},\"baxis\":{\"endlinecolor\":\"#2a3f5f\",\"gridcolor\":\"white\",\"linecolor\":\"white\",\"minorgridcolor\":\"white\",\"startlinecolor\":\"#2a3f5f\"},\"type\":\"carpet\"}],\"table\":[{\"cells\":{\"fill\":{\"color\":\"#EBF0F8\"},\"line\":{\"color\":\"white\"}},\"header\":{\"fill\":{\"color\":\"#C8D4E3\"},\"line\":{\"color\":\"white\"}},\"type\":\"table\"}],\"barpolar\":[{\"marker\":{\"line\":{\"color\":\"#E5ECF6\",\"width\":0.5},\"pattern\":{\"fillmode\":\"overlay\",\"size\":10,\"solidity\":0.2}},\"type\":\"barpolar\"}],\"pie\":[{\"automargin\":true,\"type\":\"pie\"}]},\"layout\":{\"autotypenumbers\":\"strict\",\"colorway\":[\"#636efa\",\"#EF553B\",\"#00cc96\",\"#ab63fa\",\"#FFA15A\",\"#19d3f3\",\"#FF6692\",\"#B6E880\",\"#FF97FF\",\"#FECB52\"],\"font\":{\"color\":\"#2a3f5f\"},\"hovermode\":\"closest\",\"hoverlabel\":{\"align\":\"left\"},\"paper_bgcolor\":\"white\",\"plot_bgcolor\":\"#E5ECF6\",\"polar\":{\"bgcolor\":\"#E5ECF6\",\"angularaxis\":{\"gridcolor\":\"white\",\"linecolor\":\"white\",\"ticks\":\"\"},\"radialaxis\":{\"gridcolor\":\"white\",\"linecolor\":\"white\",\"ticks\":\"\"}},\"ternary\":{\"bgcolor\":\"#E5ECF6\",\"aaxis\":{\"gridcolor\":\"white\",\"linecolor\":\"white\",\"ticks\":\"\"},\"baxis\":{\"gridcolor\":\"white\",\"linecolor\":\"white\",\"ticks\":\"\"},\"caxis\":{\"gridcolor\":\"white\",\"linecolor\":\"white\",\"ticks\":\"\"}},\"coloraxis\":{\"colorbar\":{\"outlinewidth\":0,\"ticks\":\"\"}},\"colorscale\":{\"sequential\":[[0.0,\"#0d0887\"],[0.1111111111111111,\"#46039f\"],[0.2222222222222222,\"#7201a8\"],[0.3333333333333333,\"#9c179e\"],[0.4444444444444444,\"#bd3786\"],[0.5555555555555556,\"#d8576b\"],[0.6666666666666666,\"#ed7953\"],[0.7777777777777778,\"#fb9f3a\"],[0.8888888888888888,\"#fdca26\"],[1.0,\"#f0f921\"]],\"sequentialminus\":[[0.0,\"#0d0887\"],[0.1111111111111111,\"#46039f\"],[0.2222222222222222,\"#7201a8\"],[0.3333333333333333,\"#9c179e\"],[0.4444444444444444,\"#bd3786\"],[0.5555555555555556,\"#d8576b\"],[0.6666666666666666,\"#ed7953\"],[0.7777777777777778,\"#fb9f3a\"],[0.8888888888888888,\"#fdca26\"],[1.0,\"#f0f921\"]],\"diverging\":[[0,\"#8e0152\"],[0.1,\"#c51b7d\"],[0.2,\"#de77ae\"],[0.3,\"#f1b6da\"],[0.4,\"#fde0ef\"],[0.5,\"#f7f7f7\"],[0.6,\"#e6f5d0\"],[0.7,\"#b8e186\"],[0.8,\"#7fbc41\"],[0.9,\"#4d9221\"],[1,\"#276419\"]]},\"xaxis\":{\"gridcolor\":\"white\",\"linecolor\":\"white\",\"ticks\":\"\",\"title\":{\"standoff\":15},\"zerolinecolor\":\"white\",\"automargin\":true,\"zerolinewidth\":2},\"yaxis\":{\"gridcolor\":\"white\",\"linecolor\":\"white\",\"ticks\":\"\",\"title\":{\"standoff\":15},\"zerolinecolor\":\"white\",\"automargin\":true,\"zerolinewidth\":2},\"scene\":{\"xaxis\":{\"backgroundcolor\":\"#E5ECF6\",\"gridcolor\":\"white\",\"linecolor\":\"white\",\"showbackground\":true,\"ticks\":\"\",\"zerolinecolor\":\"white\",\"gridwidth\":2},\"yaxis\":{\"backgroundcolor\":\"#E5ECF6\",\"gridcolor\":\"white\",\"linecolor\":\"white\",\"showbackground\":true,\"ticks\":\"\",\"zerolinecolor\":\"white\",\"gridwidth\":2},\"zaxis\":{\"backgroundcolor\":\"#E5ECF6\",\"gridcolor\":\"white\",\"linecolor\":\"white\",\"showbackground\":true,\"ticks\":\"\",\"zerolinecolor\":\"white\",\"gridwidth\":2}},\"shapedefaults\":{\"line\":{\"color\":\"#2a3f5f\"}},\"annotationdefaults\":{\"arrowcolor\":\"#2a3f5f\",\"arrowhead\":0,\"arrowwidth\":1},\"geo\":{\"bgcolor\":\"white\",\"landcolor\":\"#E5ECF6\",\"subunitcolor\":\"white\",\"showland\":true,\"showlakes\":true,\"lakecolor\":\"white\"},\"title\":{\"x\":0.05},\"mapbox\":{\"style\":\"light\"}}},\"xaxis\":{\"title\":{\"text\":\"M\\u00eas\"},\"showgrid\":true},\"yaxis\":{\"title\":{\"text\":\"Valor\"},\"showgrid\":true},\"title\":{\"text\":\"Comparativo de valores empenhado e liquidado 2024T1\"},\"bargap\":0.2,\"barmode\":\"group\"},                        {\"responsive\": true}                    ).then(function(){\n",
       "                            \n",
       "var gd = document.getElementById('4e44cee2-1e15-47fd-bd36-b5063b75c239');\n",
       "var x = new MutationObserver(function (mutations, observer) {{\n",
       "        var display = window.getComputedStyle(gd).display;\n",
       "        if (!display || display === 'none') {{\n",
       "            console.log([gd, 'removed!']);\n",
       "            Plotly.purge(gd);\n",
       "            observer.disconnect();\n",
       "        }}\n",
       "}});\n",
       "\n",
       "// Listen for the removal of the full notebook cells\n",
       "var notebookContainer = gd.closest('#notebook-container');\n",
       "if (notebookContainer) {{\n",
       "    x.observe(notebookContainer, {childList: true});\n",
       "}}\n",
       "\n",
       "// Listen for the clearing of the current output cell\n",
       "var outputEl = gd.closest('.output');\n",
       "if (outputEl) {{\n",
       "    x.observe(outputEl, {childList: true});\n",
       "}}\n",
       "\n",
       "                        })                };                });            </script>        </div>"
      ]
     },
     "metadata": {},
     "output_type": "display_data"
    }
   ],
   "source": [
    "\n",
    "\n",
    "fig = go.Figure()\n",
    "fig.add_trace(go.Bar(\n",
    "    x=dados_agrupados_meses['mes'],\n",
    "    y=dados_agrupados_meses['valor_empenhado'],\n",
    "    name='Valor empenhado',\n",
    "    marker_color='indianred',   \n",
    "    text=dados_agrupados_meses['valor_empenhado']\n",
    "))\n",
    "fig.add_trace(go.Bar(\n",
    "    x=dados_agrupados_meses['mes'],\n",
    "    y=dados_agrupados_meses['valor_liquidado'],\n",
    "    name='Valor Liquidado',\n",
    "    marker_color='lightsalmon',\n",
    "    text=dados_agrupados_meses['valor_liquidado']\n",
    "))\n",
    "\n",
    "# Here we modify the tickangle of the xaxis, resulting in rotated labels.\n",
    "#fig.update_layout(barmode='group', xaxis_tickangle=0)\n",
    "\n",
    "fig.update_layout(title=\"Comparativo de valores empenhado e liquidado 2024T1\",\n",
    "                  xaxis_title=\"Mês\",\n",
    "                  yaxis_title=\"Valor\",\n",
    "                  bargap=0.2,\n",
    "                  barmode='group',\n",
    "                  xaxis_showgrid=True,\n",
    "                  yaxis_showgrid=True\n",
    "                  )\n",
    "\n",
    "fig.show()"
   ]
  }
 ],
 "metadata": {
  "kernelspec": {
   "display_name": "Python 3 (ipykernel)",
   "language": "python",
   "name": "python3"
  },
  "language_info": {
   "codemirror_mode": {
    "name": "ipython",
    "version": 3
   },
   "file_extension": ".py",
   "mimetype": "text/x-python",
   "name": "python",
   "nbconvert_exporter": "python",
   "pygments_lexer": "ipython3",
   "version": "3.12.3"
  }
 },
 "nbformat": 4,
 "nbformat_minor": 5
}
